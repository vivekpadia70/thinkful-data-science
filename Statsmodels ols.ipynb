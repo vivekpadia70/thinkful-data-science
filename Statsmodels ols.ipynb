{
 "cells": [
  {
   "cell_type": "code",
   "execution_count": 28,
   "metadata": {
    "collapsed": true
   },
   "outputs": [],
   "source": [
    "import pandas as pd\n",
    "import numpy as np\n",
    "import matplotlib.pyplot as plt\n",
    "import seaborn as sns\n",
    "from sklearn import linear_model\n",
    "from sklearn.decomposition import PCA\n",
    "from scipy.stats import mstats\n",
    "import statsmodels.formula.api as smf\n",
    "%matplotlib inline"
   ]
  },
  {
   "cell_type": "code",
   "execution_count": 29,
   "metadata": {
    "collapsed": true
   },
   "outputs": [],
   "source": [
    "df = pd.read_excel('/home/vivek/Downloads/table_8_offenses_known_to_law_enforcement_new_york_by_city_2013.xls')\n",
    "df.columns = ['City', 'population', 'violent crime', 'murder', 'rape', 'rape^2', 'robbery', 'aggravated assault', 'property crime', 'burglary', 'larceny-theft', 'motor vehicle theft', 'arson^3']"
   ]
  },
  {
   "cell_type": "code",
   "execution_count": 30,
   "metadata": {},
   "outputs": [
    {
     "data": {
      "text/html": [
       "<div>\n",
       "<style scoped>\n",
       "    .dataframe tbody tr th:only-of-type {\n",
       "        vertical-align: middle;\n",
       "    }\n",
       "\n",
       "    .dataframe tbody tr th {\n",
       "        vertical-align: top;\n",
       "    }\n",
       "\n",
       "    .dataframe thead th {\n",
       "        text-align: right;\n",
       "    }\n",
       "</style>\n",
       "<table border=\"1\" class=\"dataframe\">\n",
       "  <thead>\n",
       "    <tr style=\"text-align: right;\">\n",
       "      <th></th>\n",
       "      <th>City</th>\n",
       "      <th>population</th>\n",
       "      <th>violent crime</th>\n",
       "      <th>murder</th>\n",
       "      <th>rape</th>\n",
       "      <th>rape^2</th>\n",
       "      <th>robbery</th>\n",
       "      <th>aggravated assault</th>\n",
       "      <th>property crime</th>\n",
       "      <th>burglary</th>\n",
       "      <th>larceny-theft</th>\n",
       "      <th>motor vehicle theft</th>\n",
       "      <th>arson^3</th>\n",
       "    </tr>\n",
       "  </thead>\n",
       "  <tbody>\n",
       "    <tr>\n",
       "      <th>0</th>\n",
       "      <td>NEW YORK</td>\n",
       "      <td>NaN</td>\n",
       "      <td>NaN</td>\n",
       "      <td>NaN</td>\n",
       "      <td>NaN</td>\n",
       "      <td>NaN</td>\n",
       "      <td>NaN</td>\n",
       "      <td>NaN</td>\n",
       "      <td>NaN</td>\n",
       "      <td>NaN</td>\n",
       "      <td>NaN</td>\n",
       "      <td>NaN</td>\n",
       "      <td>NaN</td>\n",
       "    </tr>\n",
       "    <tr>\n",
       "      <th>1</th>\n",
       "      <td>Offenses Known to Law Enforcement</td>\n",
       "      <td>NaN</td>\n",
       "      <td>NaN</td>\n",
       "      <td>NaN</td>\n",
       "      <td>NaN</td>\n",
       "      <td></td>\n",
       "      <td>NaN</td>\n",
       "      <td>NaN</td>\n",
       "      <td>NaN</td>\n",
       "      <td>NaN</td>\n",
       "      <td>NaN</td>\n",
       "      <td>NaN</td>\n",
       "      <td>NaN</td>\n",
       "    </tr>\n",
       "    <tr>\n",
       "      <th>2</th>\n",
       "      <td>by City, 2013</td>\n",
       "      <td>NaN</td>\n",
       "      <td>NaN</td>\n",
       "      <td>NaN</td>\n",
       "      <td>NaN</td>\n",
       "      <td>NaN</td>\n",
       "      <td>NaN</td>\n",
       "      <td>NaN</td>\n",
       "      <td>NaN</td>\n",
       "      <td>NaN</td>\n",
       "      <td>NaN</td>\n",
       "      <td>NaN</td>\n",
       "      <td>NaN</td>\n",
       "    </tr>\n",
       "    <tr>\n",
       "      <th>3</th>\n",
       "      <td>City</td>\n",
       "      <td>Population</td>\n",
       "      <td>Violent\\ncrime</td>\n",
       "      <td>Murder and\\nnonnegligent\\nmanslaughter</td>\n",
       "      <td>Rape\\n(revised\\ndefinition)1</td>\n",
       "      <td>Rape\\n(legacy\\ndefinition)2</td>\n",
       "      <td>Robbery</td>\n",
       "      <td>Aggravated\\nassault</td>\n",
       "      <td>Property\\ncrime</td>\n",
       "      <td>Burglary</td>\n",
       "      <td>Larceny-\\ntheft</td>\n",
       "      <td>Motor\\nvehicle\\ntheft</td>\n",
       "      <td>Arson3</td>\n",
       "    </tr>\n",
       "    <tr>\n",
       "      <th>4</th>\n",
       "      <td>Adams Village</td>\n",
       "      <td>1861</td>\n",
       "      <td>0</td>\n",
       "      <td>0</td>\n",
       "      <td>NaN</td>\n",
       "      <td>0</td>\n",
       "      <td>0</td>\n",
       "      <td>0</td>\n",
       "      <td>12</td>\n",
       "      <td>2</td>\n",
       "      <td>10</td>\n",
       "      <td>0</td>\n",
       "      <td>0</td>\n",
       "    </tr>\n",
       "  </tbody>\n",
       "</table>\n",
       "</div>"
      ],
      "text/plain": [
       "                                City  population   violent crime  \\\n",
       "0                           NEW YORK         NaN             NaN   \n",
       "1  Offenses Known to Law Enforcement         NaN             NaN   \n",
       "2                      by City, 2013         NaN             NaN   \n",
       "3                               City  Population  Violent\\ncrime   \n",
       "4                      Adams Village        1861               0   \n",
       "\n",
       "                                   murder                          rape  \\\n",
       "0                                     NaN                           NaN   \n",
       "1                                     NaN                           NaN   \n",
       "2                                     NaN                           NaN   \n",
       "3  Murder and\\nnonnegligent\\nmanslaughter  Rape\\n(revised\\ndefinition)1   \n",
       "4                                       0                           NaN   \n",
       "\n",
       "                        rape^2  robbery   aggravated assault   property crime  \\\n",
       "0                          NaN      NaN                  NaN              NaN   \n",
       "1                                   NaN                  NaN              NaN   \n",
       "2                          NaN      NaN                  NaN              NaN   \n",
       "3  Rape\\n(legacy\\ndefinition)2  Robbery  Aggravated\\nassault  Property\\ncrime   \n",
       "4                            0        0                    0               12   \n",
       "\n",
       "   burglary    larceny-theft    motor vehicle theft arson^3  \n",
       "0       NaN              NaN                    NaN     NaN  \n",
       "1       NaN              NaN                    NaN     NaN  \n",
       "2       NaN              NaN                    NaN     NaN  \n",
       "3  Burglary  Larceny-\\ntheft  Motor\\nvehicle\\ntheft  Arson3  \n",
       "4         2               10                      0       0  "
      ]
     },
     "execution_count": 30,
     "metadata": {},
     "output_type": "execute_result"
    }
   ],
   "source": [
    "df.head()"
   ]
  },
  {
   "cell_type": "code",
   "execution_count": 31,
   "metadata": {
    "collapsed": true
   },
   "outputs": [],
   "source": [
    "df = df.drop(['rape', 'arson^3', 'aggravated assault', 'rape^2', 'larceny-theft', 'motor vehicle theft', 'violent crime'], axis=1)\n",
    "df = df.drop([3])"
   ]
  },
  {
   "cell_type": "code",
   "execution_count": 32,
   "metadata": {},
   "outputs": [
    {
     "name": "stdout",
     "output_type": "stream",
     "text": [
      "(348, 6)\n"
     ]
    }
   ],
   "source": [
    "df = df.dropna()\n",
    "print(df.shape)"
   ]
  },
  {
   "cell_type": "code",
   "execution_count": 33,
   "metadata": {},
   "outputs": [
    {
     "name": "stdout",
     "output_type": "stream",
     "text": [
      "                       City population murder robbery property crime burglary  \\\n",
      "4             Adams Village       1861      0       0             12        2   \n",
      "5  Addison Town and Village       2577      0       0             24        3   \n",
      "6             Akron Village       2846      0       0             16        1   \n",
      "7                    Albany      97956      8     227           4090      705   \n",
      "8            Albion Village       6388      0       4            223       53   \n",
      "\n",
      "  pCrime population^2  \n",
      "4     12      3463321  \n",
      "5     24      6640929  \n",
      "6     16      8099716  \n",
      "7   4090   9595377936  \n",
      "8    223     40806544  \n"
     ]
    }
   ],
   "source": [
    "df['pCrime'] = df['property crime']\n",
    "df['population^2'] = df['population'] * df['population']\n",
    "print(df.head())"
   ]
  },
  {
   "cell_type": "code",
   "execution_count": 34,
   "metadata": {},
   "outputs": [
    {
     "name": "stdout",
     "output_type": "stream",
     "text": [
      "0.9987417422426045\n",
      "[ 1.59234109e-02  2.09186047e+00  1.17559521e+02 -1.01045794e-09]\n"
     ]
    }
   ],
   "source": [
    "df=df.drop(['City', 'property crime'], 1)\n",
    "x=df[['population', 'robbery', 'murder', 'population^2']]\n",
    "y=df['pCrime']\n",
    "reg = linear_model.LinearRegression()\n",
    "reg.fit(x,y)\n",
    "print(reg.score(x,y))\n",
    "print(reg.coef_)\n"
   ]
  },
  {
   "cell_type": "code",
   "execution_count": 35,
   "metadata": {},
   "outputs": [
    {
     "name": "stdout",
     "output_type": "stream",
     "text": [
      "  population murder robbery burglary pCrime population^2\n",
      "4       1861      0       0        2     12      3463321\n",
      "5       2577      0       0        3     24      6640929\n",
      "6       2846      0       0        1     16      8099716\n",
      "7      97956      8     227      705   4090   9595377936\n",
      "8       6388      0       4       53    223     40806544\n"
     ]
    }
   ],
   "source": [
    "print(df.head())\n",
    "df = df.astype(np.float32)"
   ]
  },
  {
   "cell_type": "code",
   "execution_count": 39,
   "metadata": {},
   "outputs": [],
   "source": [
    "linear_formula = 'pCrime ~ population+murder+robbery+burglary'\n",
    "lm = smf.ols(formula=linear_formula, data=df).fit()"
   ]
  },
  {
   "cell_type": "code",
   "execution_count": 40,
   "metadata": {},
   "outputs": [
    {
     "name": "stdout",
     "output_type": "stream",
     "text": [
      "Intercept    -23.523566\n",
      "population     0.012603\n",
      "murder        -8.681119\n",
      "robbery       -0.668695\n",
      "burglary       3.123793\n",
      "dtype: float64\n"
     ]
    }
   ],
   "source": [
    "print(lm.params)"
   ]
  },
  {
   "cell_type": "code",
   "execution_count": 41,
   "metadata": {},
   "outputs": [
    {
     "data": {
      "text/plain": [
       "Intercept      2.762536e-02\n",
       "population     4.229778e-79\n",
       "murder         3.604647e-01\n",
       "robbery        3.029932e-02\n",
       "burglary      2.294671e-104\n",
       "dtype: float64"
      ]
     },
     "execution_count": 41,
     "metadata": {},
     "output_type": "execute_result"
    }
   ],
   "source": [
    "lm.pvalues"
   ]
  },
  {
   "cell_type": "code",
   "execution_count": null,
   "metadata": {
    "collapsed": true
   },
   "outputs": [],
   "source": [
    "lm.rsquared"
   ]
  },
  {
   "cell_type": "code",
   "execution_count": null,
   "metadata": {
    "collapsed": true
   },
   "outputs": [],
   "source": []
  }
 ],
 "metadata": {
  "kernelspec": {
   "display_name": "Python 3",
   "language": "python",
   "name": "python3"
  },
  "language_info": {
   "codemirror_mode": {
    "name": "ipython",
    "version": 3
   },
   "file_extension": ".py",
   "mimetype": "text/x-python",
   "name": "python",
   "nbconvert_exporter": "python",
   "pygments_lexer": "ipython3",
   "version": "3.6.8"
  }
 },
 "nbformat": 4,
 "nbformat_minor": 2
}
