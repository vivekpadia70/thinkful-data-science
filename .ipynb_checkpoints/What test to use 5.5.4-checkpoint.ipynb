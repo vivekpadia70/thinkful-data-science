{
 "cells": [
  {
   "cell_type": "code",
   "execution_count": 1,
   "metadata": {},
   "outputs": [],
   "source": [
    "import pandas as pd\n",
    "import numpy as np\n",
    "import matplotlib.pyplot as plt\n",
    "import seaborn as sns\n",
    "import scipy.stats as stats\n",
    "\n",
    "%matplotlib inline"
   ]
  },
  {
   "cell_type": "code",
   "execution_count": 2,
   "metadata": {},
   "outputs": [],
   "source": [
    "df = pd.read_csv('~/Downloads/ESSdata_Thinkful.csv')"
   ]
  },
  {
   "cell_type": "code",
   "execution_count": 3,
   "metadata": {},
   "outputs": [
    {
     "data": {
      "text/html": [
       "<div>\n",
       "<style scoped>\n",
       "    .dataframe tbody tr th:only-of-type {\n",
       "        vertical-align: middle;\n",
       "    }\n",
       "\n",
       "    .dataframe tbody tr th {\n",
       "        vertical-align: top;\n",
       "    }\n",
       "\n",
       "    .dataframe thead th {\n",
       "        text-align: right;\n",
       "    }\n",
       "</style>\n",
       "<table border=\"1\" class=\"dataframe\">\n",
       "  <thead>\n",
       "    <tr style=\"text-align: right;\">\n",
       "      <th></th>\n",
       "      <th>cntry</th>\n",
       "      <th>idno</th>\n",
       "      <th>year</th>\n",
       "      <th>tvtot</th>\n",
       "      <th>ppltrst</th>\n",
       "      <th>pplfair</th>\n",
       "      <th>pplhlp</th>\n",
       "      <th>happy</th>\n",
       "      <th>sclmeet</th>\n",
       "      <th>sclact</th>\n",
       "      <th>gndr</th>\n",
       "      <th>agea</th>\n",
       "      <th>partner</th>\n",
       "    </tr>\n",
       "  </thead>\n",
       "  <tbody>\n",
       "    <tr>\n",
       "      <th>0</th>\n",
       "      <td>CH</td>\n",
       "      <td>5.0</td>\n",
       "      <td>6</td>\n",
       "      <td>3.0</td>\n",
       "      <td>3.0</td>\n",
       "      <td>10.0</td>\n",
       "      <td>5.0</td>\n",
       "      <td>8.0</td>\n",
       "      <td>5.0</td>\n",
       "      <td>4.0</td>\n",
       "      <td>2.0</td>\n",
       "      <td>60.0</td>\n",
       "      <td>1.0</td>\n",
       "    </tr>\n",
       "    <tr>\n",
       "      <th>1</th>\n",
       "      <td>CH</td>\n",
       "      <td>25.0</td>\n",
       "      <td>6</td>\n",
       "      <td>6.0</td>\n",
       "      <td>5.0</td>\n",
       "      <td>7.0</td>\n",
       "      <td>5.0</td>\n",
       "      <td>9.0</td>\n",
       "      <td>3.0</td>\n",
       "      <td>2.0</td>\n",
       "      <td>2.0</td>\n",
       "      <td>59.0</td>\n",
       "      <td>1.0</td>\n",
       "    </tr>\n",
       "    <tr>\n",
       "      <th>2</th>\n",
       "      <td>CH</td>\n",
       "      <td>26.0</td>\n",
       "      <td>6</td>\n",
       "      <td>1.0</td>\n",
       "      <td>8.0</td>\n",
       "      <td>8.0</td>\n",
       "      <td>8.0</td>\n",
       "      <td>7.0</td>\n",
       "      <td>6.0</td>\n",
       "      <td>3.0</td>\n",
       "      <td>1.0</td>\n",
       "      <td>24.0</td>\n",
       "      <td>2.0</td>\n",
       "    </tr>\n",
       "    <tr>\n",
       "      <th>3</th>\n",
       "      <td>CH</td>\n",
       "      <td>28.0</td>\n",
       "      <td>6</td>\n",
       "      <td>4.0</td>\n",
       "      <td>6.0</td>\n",
       "      <td>6.0</td>\n",
       "      <td>7.0</td>\n",
       "      <td>10.0</td>\n",
       "      <td>6.0</td>\n",
       "      <td>2.0</td>\n",
       "      <td>2.0</td>\n",
       "      <td>64.0</td>\n",
       "      <td>1.0</td>\n",
       "    </tr>\n",
       "    <tr>\n",
       "      <th>4</th>\n",
       "      <td>CH</td>\n",
       "      <td>29.0</td>\n",
       "      <td>6</td>\n",
       "      <td>5.0</td>\n",
       "      <td>6.0</td>\n",
       "      <td>7.0</td>\n",
       "      <td>5.0</td>\n",
       "      <td>8.0</td>\n",
       "      <td>7.0</td>\n",
       "      <td>2.0</td>\n",
       "      <td>2.0</td>\n",
       "      <td>55.0</td>\n",
       "      <td>1.0</td>\n",
       "    </tr>\n",
       "  </tbody>\n",
       "</table>\n",
       "</div>"
      ],
      "text/plain": [
       "  cntry  idno  year  tvtot  ppltrst  pplfair  pplhlp  happy  sclmeet  sclact  \\\n",
       "0    CH   5.0     6    3.0      3.0     10.0     5.0    8.0      5.0     4.0   \n",
       "1    CH  25.0     6    6.0      5.0      7.0     5.0    9.0      3.0     2.0   \n",
       "2    CH  26.0     6    1.0      8.0      8.0     8.0    7.0      6.0     3.0   \n",
       "3    CH  28.0     6    4.0      6.0      6.0     7.0   10.0      6.0     2.0   \n",
       "4    CH  29.0     6    5.0      6.0      7.0     5.0    8.0      7.0     2.0   \n",
       "\n",
       "   gndr  agea  partner  \n",
       "0   2.0  60.0      1.0  \n",
       "1   2.0  59.0      1.0  \n",
       "2   1.0  24.0      2.0  \n",
       "3   2.0  64.0      1.0  \n",
       "4   2.0  55.0      1.0  "
      ]
     },
     "execution_count": 3,
     "metadata": {},
     "output_type": "execute_result"
    }
   ],
   "source": [
    "df.head()"
   ]
  },
  {
   "cell_type": "code",
   "execution_count": 4,
   "metadata": {
    "scrolled": true
   },
   "outputs": [
    {
     "data": {
      "text/html": [
       "<div>\n",
       "<style scoped>\n",
       "    .dataframe tbody tr th:only-of-type {\n",
       "        vertical-align: middle;\n",
       "    }\n",
       "\n",
       "    .dataframe tbody tr th {\n",
       "        vertical-align: top;\n",
       "    }\n",
       "\n",
       "    .dataframe thead th {\n",
       "        text-align: right;\n",
       "    }\n",
       "</style>\n",
       "<table border=\"1\" class=\"dataframe\">\n",
       "  <thead>\n",
       "    <tr style=\"text-align: right;\">\n",
       "      <th></th>\n",
       "      <th>idno</th>\n",
       "      <th>year</th>\n",
       "      <th>tvtot</th>\n",
       "      <th>ppltrst</th>\n",
       "      <th>pplfair</th>\n",
       "      <th>pplhlp</th>\n",
       "      <th>happy</th>\n",
       "      <th>sclmeet</th>\n",
       "      <th>sclact</th>\n",
       "      <th>gndr</th>\n",
       "      <th>agea</th>\n",
       "      <th>partner</th>\n",
       "    </tr>\n",
       "  </thead>\n",
       "  <tbody>\n",
       "    <tr>\n",
       "      <th>count</th>\n",
       "      <td>8.594000e+03</td>\n",
       "      <td>8594.000000</td>\n",
       "      <td>8586.000000</td>\n",
       "      <td>8580.000000</td>\n",
       "      <td>8555.000000</td>\n",
       "      <td>8569.000000</td>\n",
       "      <td>8563.000000</td>\n",
       "      <td>8579.000000</td>\n",
       "      <td>8500.000000</td>\n",
       "      <td>8584.000000</td>\n",
       "      <td>8355.000000</td>\n",
       "      <td>8577.000000</td>\n",
       "    </tr>\n",
       "    <tr>\n",
       "      <th>mean</th>\n",
       "      <td>3.954938e+04</td>\n",
       "      <td>6.500000</td>\n",
       "      <td>3.861985</td>\n",
       "      <td>5.559907</td>\n",
       "      <td>6.005143</td>\n",
       "      <td>5.319874</td>\n",
       "      <td>7.694616</td>\n",
       "      <td>5.192563</td>\n",
       "      <td>2.748941</td>\n",
       "      <td>1.497204</td>\n",
       "      <td>47.470736</td>\n",
       "      <td>1.384867</td>\n",
       "    </tr>\n",
       "    <tr>\n",
       "      <th>std</th>\n",
       "      <td>6.267259e+05</td>\n",
       "      <td>0.500029</td>\n",
       "      <td>2.019689</td>\n",
       "      <td>2.233700</td>\n",
       "      <td>2.129866</td>\n",
       "      <td>2.173449</td>\n",
       "      <td>1.735904</td>\n",
       "      <td>1.457643</td>\n",
       "      <td>0.905477</td>\n",
       "      <td>0.500021</td>\n",
       "      <td>18.397369</td>\n",
       "      <td>0.486592</td>\n",
       "    </tr>\n",
       "    <tr>\n",
       "      <th>min</th>\n",
       "      <td>1.000000e+00</td>\n",
       "      <td>6.000000</td>\n",
       "      <td>0.000000</td>\n",
       "      <td>0.000000</td>\n",
       "      <td>0.000000</td>\n",
       "      <td>0.000000</td>\n",
       "      <td>0.000000</td>\n",
       "      <td>1.000000</td>\n",
       "      <td>1.000000</td>\n",
       "      <td>1.000000</td>\n",
       "      <td>15.000000</td>\n",
       "      <td>1.000000</td>\n",
       "    </tr>\n",
       "    <tr>\n",
       "      <th>25%</th>\n",
       "      <td>1.052000e+03</td>\n",
       "      <td>6.000000</td>\n",
       "      <td>2.000000</td>\n",
       "      <td>4.000000</td>\n",
       "      <td>5.000000</td>\n",
       "      <td>4.000000</td>\n",
       "      <td>7.000000</td>\n",
       "      <td>4.000000</td>\n",
       "      <td>2.000000</td>\n",
       "      <td>1.000000</td>\n",
       "      <td>33.000000</td>\n",
       "      <td>1.000000</td>\n",
       "    </tr>\n",
       "    <tr>\n",
       "      <th>50%</th>\n",
       "      <td>1.714000e+03</td>\n",
       "      <td>6.500000</td>\n",
       "      <td>4.000000</td>\n",
       "      <td>6.000000</td>\n",
       "      <td>6.000000</td>\n",
       "      <td>5.000000</td>\n",
       "      <td>8.000000</td>\n",
       "      <td>6.000000</td>\n",
       "      <td>3.000000</td>\n",
       "      <td>1.000000</td>\n",
       "      <td>47.000000</td>\n",
       "      <td>1.000000</td>\n",
       "    </tr>\n",
       "    <tr>\n",
       "      <th>75%</th>\n",
       "      <td>2.745000e+03</td>\n",
       "      <td>7.000000</td>\n",
       "      <td>5.000000</td>\n",
       "      <td>7.000000</td>\n",
       "      <td>8.000000</td>\n",
       "      <td>7.000000</td>\n",
       "      <td>9.000000</td>\n",
       "      <td>6.000000</td>\n",
       "      <td>3.000000</td>\n",
       "      <td>2.000000</td>\n",
       "      <td>62.000000</td>\n",
       "      <td>2.000000</td>\n",
       "    </tr>\n",
       "    <tr>\n",
       "      <th>max</th>\n",
       "      <td>1.100143e+07</td>\n",
       "      <td>7.000000</td>\n",
       "      <td>7.000000</td>\n",
       "      <td>10.000000</td>\n",
       "      <td>10.000000</td>\n",
       "      <td>10.000000</td>\n",
       "      <td>10.000000</td>\n",
       "      <td>7.000000</td>\n",
       "      <td>5.000000</td>\n",
       "      <td>2.000000</td>\n",
       "      <td>114.000000</td>\n",
       "      <td>2.000000</td>\n",
       "    </tr>\n",
       "  </tbody>\n",
       "</table>\n",
       "</div>"
      ],
      "text/plain": [
       "               idno         year        tvtot      ppltrst      pplfair  \\\n",
       "count  8.594000e+03  8594.000000  8586.000000  8580.000000  8555.000000   \n",
       "mean   3.954938e+04     6.500000     3.861985     5.559907     6.005143   \n",
       "std    6.267259e+05     0.500029     2.019689     2.233700     2.129866   \n",
       "min    1.000000e+00     6.000000     0.000000     0.000000     0.000000   \n",
       "25%    1.052000e+03     6.000000     2.000000     4.000000     5.000000   \n",
       "50%    1.714000e+03     6.500000     4.000000     6.000000     6.000000   \n",
       "75%    2.745000e+03     7.000000     5.000000     7.000000     8.000000   \n",
       "max    1.100143e+07     7.000000     7.000000    10.000000    10.000000   \n",
       "\n",
       "            pplhlp        happy      sclmeet       sclact         gndr  \\\n",
       "count  8569.000000  8563.000000  8579.000000  8500.000000  8584.000000   \n",
       "mean      5.319874     7.694616     5.192563     2.748941     1.497204   \n",
       "std       2.173449     1.735904     1.457643     0.905477     0.500021   \n",
       "min       0.000000     0.000000     1.000000     1.000000     1.000000   \n",
       "25%       4.000000     7.000000     4.000000     2.000000     1.000000   \n",
       "50%       5.000000     8.000000     6.000000     3.000000     1.000000   \n",
       "75%       7.000000     9.000000     6.000000     3.000000     2.000000   \n",
       "max      10.000000    10.000000     7.000000     5.000000     2.000000   \n",
       "\n",
       "              agea      partner  \n",
       "count  8355.000000  8577.000000  \n",
       "mean     47.470736     1.384867  \n",
       "std      18.397369     0.486592  \n",
       "min      15.000000     1.000000  \n",
       "25%      33.000000     1.000000  \n",
       "50%      47.000000     1.000000  \n",
       "75%      62.000000     2.000000  \n",
       "max     114.000000     2.000000  "
      ]
     },
     "execution_count": 4,
     "metadata": {},
     "output_type": "execute_result"
    }
   ],
   "source": [
    "df.describe()"
   ]
  },
  {
   "cell_type": "code",
   "execution_count": 5,
   "metadata": {},
   "outputs": [
    {
     "data": {
      "text/plain": [
       "(8594, 13)"
      ]
     },
     "execution_count": 5,
     "metadata": {},
     "output_type": "execute_result"
    }
   ],
   "source": [
    "df.shape"
   ]
  },
  {
   "cell_type": "code",
   "execution_count": 6,
   "metadata": {},
   "outputs": [],
   "source": [
    "df = df.dropna()"
   ]
  },
  {
   "cell_type": "code",
   "execution_count": 7,
   "metadata": {},
   "outputs": [
    {
     "data": {
      "text/plain": [
       "(8147, 13)"
      ]
     },
     "execution_count": 7,
     "metadata": {},
     "output_type": "execute_result"
    }
   ],
   "source": [
    "df.shape"
   ]
  },
  {
   "cell_type": "code",
   "execution_count": 8,
   "metadata": {},
   "outputs": [
    {
     "data": {
      "text/plain": [
       "ES    2292\n",
       "SE    1726\n",
       "CH    1475\n",
       "NO    1420\n",
       "CZ    1207\n",
       "DE      27\n",
       "Name: cntry, dtype: int64"
      ]
     },
     "execution_count": 8,
     "metadata": {},
     "output_type": "execute_result"
    }
   ],
   "source": [
    "df['cntry'].value_counts()"
   ]
  },
  {
   "cell_type": "code",
   "execution_count": 9,
   "metadata": {},
   "outputs": [],
   "source": [
    "es_df = df[df['cntry'] == \"ES\"]\n",
    "se_df = df[df['cntry'] == \"SE\"]\n",
    "ch_df = df[df['cntry'] == \"CH\"]\n",
    "no_df = df[df['cntry'] == \"NO\"]\n",
    "cz_df = df[df['cntry'] == \"CZ\"]\n",
    "de_df = df[df['cntry'] == \"DE\"]"
   ]
  },
  {
   "cell_type": "code",
   "execution_count": 10,
   "metadata": {},
   "outputs": [
    {
     "data": {
      "text/plain": [
       "<seaborn.axisgrid.PairGrid at 0x1790c2a8b38>"
      ]
     },
     "execution_count": 10,
     "metadata": {},
     "output_type": "execute_result"
    },
    {
     "data": {
      "image/png": "[encoded data removed]",
      "text/plain": [
       "<Figure size 900x900 with 30 Axes>"
      ]
     },
     "metadata": {
      "needs_background": "light"
     },
     "output_type": "display_data"
    }
   ],
   "source": [
    "sns.pairplot(df[['tvtot', 'ppltrst', 'pplhlp', 'pplfair', 'happy']])"
   ]
  },
  {
   "cell_type": "markdown",
   "metadata": {},
   "source": [
    "All the columns looks like they have normal distribution from histograms."
   ]
  },
  {
   "cell_type": "markdown",
   "metadata": {},
   "source": [
    "### Did people become less trusting from 2012 to 2014? Compute results for each country in the sample.\n",
    "\n",
    "If we check histogram for ppltrst then it looks like a normal distribution. So we can do an independent ttest for each country in the dataset."
   ]
  },
  {
   "cell_type": "code",
   "execution_count": 11,
   "metadata": {},
   "outputs": [
    {
     "name": "stderr",
     "output_type": "stream",
     "text": [
      "C:\\Users\\vivek\\Anaconda3\\lib\\site-packages\\scipy\\stats\\stats.py:1713: FutureWarning: Using a non-tuple sequence for multidimensional indexing is deprecated; use `arr[tuple(seq)]` instead of `arr[seq]`. In the future this will be interpreted as an array index, `arr[np.array(seq)]`, which will result either in an error or a different result.\n",
      "  return np.add.reduce(sorted[indexer] * weights, axis=axis) / sumval\n"
     ]
    },
    {
     "data": {
      "text/plain": [
       "<matplotlib.axes._subplots.AxesSubplot at 0x1790fedfda0>"
      ]
     },
     "execution_count": 11,
     "metadata": {},
     "output_type": "execute_result"
    },
    {
     "data": {
      "image/png": "[encoded data removed]",
      "text/plain": [
       "<Figure size 432x288 with 1 Axes>"
      ]
     },
     "metadata": {
      "needs_background": "light"
     },
     "output_type": "display_data"
    }
   ],
   "source": [
    "sns.distplot(df['ppltrst'])"
   ]
  },
  {
   "cell_type": "code",
   "execution_count": 12,
   "metadata": {},
   "outputs": [
    {
     "data": {
      "text/plain": [
       "<matplotlib.axes._subplots.AxesSubplot at 0x1791038ecf8>"
      ]
     },
     "execution_count": 12,
     "metadata": {},
     "output_type": "execute_result"
    },
    {
     "data": {
      "image/png": "[encoded data removed]",
      "text/plain": [
       "<Figure size 432x288 with 1 Axes>"
      ]
     },
     "metadata": {
      "needs_background": "light"
     },
     "output_type": "display_data"
    }
   ],
   "source": [
    "sns.boxplot(x=df['cntry'], y=df['ppltrst'], hue=df['year'])"
   ]
  },
  {
   "cell_type": "markdown",
   "metadata": {},
   "source": [
    "All the countries except Germany and Czech Republic look likes having same mean in both the years. Though percentiles are changing for almost every country. Let's check running ttest on all these countries."
   ]
  },
  {
   "cell_type": "code",
   "execution_count": 13,
   "metadata": {},
   "outputs": [
    {
     "data": {
      "text/plain": [
       "array(['CH', 'CZ', 'DE', 'ES', 'NO', 'SE'], dtype=object)"
      ]
     },
     "execution_count": 13,
     "metadata": {},
     "output_type": "execute_result"
    }
   ],
   "source": [
    "df['cntry'].unique()"
   ]
  },
  {
   "cell_type": "code",
   "execution_count": 14,
   "metadata": {},
   "outputs": [
    {
     "name": "stdout",
     "output_type": "stream",
     "text": [
      "Switzerland:  Ttest_indResult(statistic=-0.7156974792217816, pvalue=0.4742916002909491)\n",
      "Czech Republic Ttest_indResult(statistic=0.34075433231518504, pvalue=0.7333479315909976)\n",
      "Germany:  Ttest_indResult(statistic=-0.3466213170125284, pvalue=0.7317764273785732)\n",
      "Spain:  Ttest_indResult(statistic=2.1000674443244907, pvalue=0.03583204193521363)\n",
      "Norway:  Ttest_indResult(statistic=0.5119224181145228, pvalue=0.6087850218131978)\n",
      "Sweden:  Ttest_indResult(statistic=-2.0268698056063146, pvalue=0.0428293634522298)\n"
     ]
    }
   ],
   "source": [
    "print(\"Switzerland: \", stats.ttest_ind(ch_df[ch_df['year']==6]['ppltrst'], ch_df[ch_df['year']==7]['ppltrst']))\n",
    "print(\"Czech Republic\", stats.ttest_ind(cz_df[cz_df['year']==6]['ppltrst'], cz_df[cz_df['year']==7]['ppltrst']))\n",
    "print(\"Germany: \", stats.ttest_ind(de_df[de_df['year']==6]['ppltrst'], de_df[de_df['year']==7]['ppltrst']))\n",
    "print(\"Spain: \", stats.ttest_ind(es_df[es_df['year']==6]['ppltrst'], es_df[es_df['year']==7]['ppltrst']))\n",
    "print(\"Norway: \", stats.ttest_ind(no_df[no_df['year']==6]['ppltrst'], no_df[no_df['year']==7]['ppltrst']))\n",
    "print(\"Sweden: \", stats.ttest_ind(se_df[se_df['year']==6]['ppltrst'], se_df[se_df['year']==7]['ppltrst']))"
   ]
  },
  {
   "cell_type": "markdown",
   "metadata": {},
   "source": [
    "Spain and Sweden have p-values lower than 5% so there is significant difference between people trusting from year 2012 to 2014."
   ]
  },
  {
   "cell_type": "markdown",
   "metadata": {},
   "source": [
    "### Did people become happier from 2012 to 2014? Compute results for each country in the sample.\n",
    "\n",
    "Unlike previous question our histogram for happy doesn't look like normal distribution so we will be using ttest_rel."
   ]
  },
  {
   "cell_type": "code",
   "execution_count": 15,
   "metadata": {},
   "outputs": [
    {
     "data": {
      "text/plain": [
       "(array([  22.,   21.,   55.,  118.,  166.,  560.,  580., 1453., 2424.,\n",
       "        2748.]),\n",
       " array([ 0.,  1.,  2.,  3.,  4.,  5.,  6.,  7.,  8.,  9., 10.]),\n",
       " <a list of 10 Patch objects>)"
      ]
     },
     "execution_count": 15,
     "metadata": {},
     "output_type": "execute_result"
    },
    {
     "data": {
      "image/png": "[encoded data removed]",
      "text/plain": [
       "<Figure size 432x288 with 1 Axes>"
      ]
     },
     "metadata": {
      "needs_background": "light"
     },
     "output_type": "display_data"
    }
   ],
   "source": [
    "plt.hist(df['happy'])"
   ]
  },
  {
   "cell_type": "code",
   "execution_count": 16,
   "metadata": {},
   "outputs": [
    {
     "data": {
      "text/plain": [
       "<matplotlib.axes._subplots.AxesSubplot at 0x17910545a90>"
      ]
     },
     "execution_count": 16,
     "metadata": {},
     "output_type": "execute_result"
    },
    {
     "data": {
      "image/png": "[encoded data removed]",
      "text/plain": [
       "<Figure size 432x288 with 1 Axes>"
      ]
     },
     "metadata": {
      "needs_background": "light"
     },
     "output_type": "display_data"
    }
   ],
   "source": [
    "sns.boxplot(x=df['cntry'], y=df['happy'], hue=df['year'])"
   ]
  },
  {
   "cell_type": "markdown",
   "metadata": {},
   "source": [
    "It has more outlier than previous example."
   ]
  },
  {
   "cell_type": "code",
   "execution_count": 17,
   "metadata": {},
   "outputs": [
    {
     "name": "stdout",
     "output_type": "stream",
     "text": [
      "732\n",
      "743\n"
     ]
    }
   ],
   "source": [
    "print(len(ch_df[ch_df['year']==6]['happy']))\n",
    "print(len(ch_df[ch_df['year']==7]['happy']))"
   ]
  },
  {
   "cell_type": "code",
   "execution_count": 18,
   "metadata": {},
   "outputs": [
    {
     "name": "stdout",
     "output_type": "stream",
     "text": [
      "601\n",
      "606\n"
     ]
    }
   ],
   "source": [
    "print(len(cz_df[cz_df['year']==6]['happy']))\n",
    "print(len(cz_df[cz_df['year']==7]['happy']))"
   ]
  },
  {
   "cell_type": "code",
   "execution_count": 19,
   "metadata": {},
   "outputs": [
    {
     "name": "stdout",
     "output_type": "stream",
     "text": [
      "13\n",
      "14\n"
     ]
    }
   ],
   "source": [
    "print(len(de_df[de_df['year']==6]['happy']))\n",
    "print(len(de_df[de_df['year']==7]['happy']))"
   ]
  },
  {
   "cell_type": "code",
   "execution_count": 20,
   "metadata": {},
   "outputs": [
    {
     "name": "stdout",
     "output_type": "stream",
     "text": [
      "1158\n",
      "1134\n"
     ]
    }
   ],
   "source": [
    "print(len(es_df[es_df['year']==6]['happy']))\n",
    "print(len(es_df[es_df['year']==7]['happy']))"
   ]
  },
  {
   "cell_type": "code",
   "execution_count": 21,
   "metadata": {},
   "outputs": [
    {
     "name": "stdout",
     "output_type": "stream",
     "text": [
      "708\n",
      "712\n"
     ]
    }
   ],
   "source": [
    "print(len(no_df[no_df['year']==6]['happy']))\n",
    "print(len(no_df[no_df['year']==7]['happy']))"
   ]
  },
  {
   "cell_type": "code",
   "execution_count": 22,
   "metadata": {},
   "outputs": [
    {
     "name": "stdout",
     "output_type": "stream",
     "text": [
      "859\n",
      "867\n"
     ]
    }
   ],
   "source": [
    "print(len(se_df[se_df['year']==6]['happy']))\n",
    "print(len(se_df[se_df['year']==7]['happy']))"
   ]
  },
  {
   "cell_type": "code",
   "execution_count": 23,
   "metadata": {},
   "outputs": [
    {
     "name": "stdout",
     "output_type": "stream",
     "text": [
      "Switzerland:  Ttest_relResult(statistic=-0.7800633792362622, pvalue=0.43560606784786937)\n",
      "Czech Republic Ttest_relResult(statistic=-1.0703576573050146, pvalue=0.2848887319230953)\n",
      "Germany:  Ttest_relResult(statistic=-0.7030499101780563, pvalue=0.49543876166584)\n",
      "Spain:  Ttest_relResult(statistic=1.3860590934427537, pvalue=0.16600158102705556)\n",
      "Norway:  Ttest_relResult(statistic=4.149373860727647, pvalue=3.739949572463859e-05)\n",
      "Sweden:  Ttest_relResult(statistic=-0.48955055558479654, pvalue=0.6245771053748665)\n"
     ]
    }
   ],
   "source": [
    "print(\"Switzerland: \", stats.ttest_rel(ch_df[ch_df['year']==6]['happy'], ch_df[ch_df['year']==7].iloc[:732, :]['happy']))\n",
    "print(\"Czech Republic\", stats.ttest_rel(cz_df[cz_df['year']==6]['happy'], cz_df[cz_df['year']==7].iloc[:601, :]['happy']))\n",
    "print(\"Germany: \", stats.ttest_rel(de_df[de_df['year']==6]['happy'], de_df[de_df['year']==7].iloc[:13, :]['happy']))\n",
    "print(\"Spain: \", stats.ttest_rel(es_df[es_df['year']==6].iloc[:1134, :]['happy'], es_df[es_df['year']==7]['happy']))\n",
    "print(\"Norway: \", stats.ttest_rel(no_df[no_df['year']==6]['happy'], no_df[no_df['year']==7].iloc[:708, :]['happy']))\n",
    "print(\"Sweden: \", stats.ttest_rel(se_df[se_df['year']==6]['happy'], se_df[se_df['year']==7].iloc[:859, :]['happy']))"
   ]
  },
  {
   "cell_type": "markdown",
   "metadata": {},
   "source": [
    "Norway is the only country which has significant difference between happiness data in year 2012 to 2014."
   ]
  },
  {
   "cell_type": "markdown",
   "metadata": {},
   "source": [
    "### Who reported watching more TV in 2012, men or women?\n",
    "\n",
    "Total time watching TV looks normal from the histogram so we can use ttest_ind on different gender on year 2012."
   ]
  },
  {
   "cell_type": "code",
   "execution_count": 24,
   "metadata": {},
   "outputs": [
    {
     "data": {
      "text/plain": [
       "<matplotlib.axes._subplots.AxesSubplot at 0x17911664a90>"
      ]
     },
     "execution_count": 24,
     "metadata": {},
     "output_type": "execute_result"
    },
    {
     "data": {
      "image/png": "[encoded data removed]",
      "text/plain": [
       "<Figure size 432x288 with 1 Axes>"
      ]
     },
     "metadata": {
      "needs_background": "light"
     },
     "output_type": "display_data"
    }
   ],
   "source": [
    "sns.boxplot(x=df['gndr'], y=df['tvtot'])"
   ]
  },
  {
   "cell_type": "markdown",
   "metadata": {},
   "source": [
    "From boxplot data looks to be exactly same without any changes now let's do ttest on it."
   ]
  },
  {
   "cell_type": "code",
   "execution_count": 25,
   "metadata": {},
   "outputs": [
    {
     "name": "stdout",
     "output_type": "stream",
     "text": [
      "Ttest_indResult(statistic=-0.7323552192640558, pvalue=0.4639939646110154)\n"
     ]
    }
   ],
   "source": [
    "twelve_df = df[df['year']==6]\n",
    "print(stats.ttest_ind(twelve_df[twelve_df['gndr']==1]['tvtot'], twelve_df[twelve_df['gndr']==2]['tvtot']))"
   ]
  },
  {
   "cell_type": "markdown",
   "metadata": {},
   "source": [
    "From ttest, our data seems to be of no significance for us to point any difference."
   ]
  },
  {
   "cell_type": "markdown",
   "metadata": {},
   "source": [
    "### Who was more likely to believe people were fair in 2012, people living with a partner or people living alone?\n",
    "\n",
    "From histogram pplfair has normal distribution so we would use ttest_ind."
   ]
  },
  {
   "cell_type": "code",
   "execution_count": 26,
   "metadata": {},
   "outputs": [
    {
     "data": {
      "text/plain": [
       "<matplotlib.axes._subplots.AxesSubplot at 0x179116bd710>"
      ]
     },
     "execution_count": 26,
     "metadata": {},
     "output_type": "execute_result"
    },
    {
     "data": {
      "image/png": "[encoded data removed]",
      "text/plain": [
       "<Figure size 432x288 with 1 Axes>"
      ]
     },
     "metadata": {
      "needs_background": "light"
     },
     "output_type": "display_data"
    }
   ],
   "source": [
    "sns.boxplot(x=twelve_df['partner'], y=twelve_df['pplfair'])"
   ]
  },
  {
   "cell_type": "markdown",
   "metadata": {},
   "source": [
    "We don't need to run any ttest as boxplot makes it clear for us that people with partner believe that people were fair in 2012. Now let's check results from our ttest."
   ]
  },
  {
   "cell_type": "code",
   "execution_count": 27,
   "metadata": {},
   "outputs": [
    {
     "name": "stdout",
     "output_type": "stream",
     "text": [
      "Ttest_indResult(statistic=3.0430439318464235, pvalue=0.002356936676939248)\n"
     ]
    }
   ],
   "source": [
    "print(stats.ttest_ind(twelve_df[twelve_df['partner']==1]['pplfair'], twelve_df[twelve_df['partner']==2]['pplfair']))"
   ]
  },
  {
   "cell_type": "markdown",
   "metadata": {},
   "source": [
    "So as our p-value is less that 0.05 we'll have to say that data has significant difference to conclude that someone with partner is more likely to believe that people were fair in 2012."
   ]
  },
  {
   "cell_type": "markdown",
   "metadata": {},
   "source": [
    "### Pick three or four of the countries in the sample and compare how often people met socially in 2014. Are there differences, and if so, which countries stand out?"
   ]
  },
  {
   "cell_type": "code",
   "execution_count": 28,
   "metadata": {},
   "outputs": [
    {
     "data": {
      "text/plain": [
       "(array([  36.,  177.,    0.,  279.,    0.,  820.,  723.,    0., 1316.,\n",
       "         725.]),\n",
       " array([1. , 1.6, 2.2, 2.8, 3.4, 4. , 4.6, 5.2, 5.8, 6.4, 7. ]),\n",
       " <a list of 10 Patch objects>)"
      ]
     },
     "execution_count": 28,
     "metadata": {},
     "output_type": "execute_result"
    },
    {
     "data": {
      "image/png": "[encoded data removed]",
      "text/plain": [
       "<Figure size 432x288 with 1 Axes>"
      ]
     },
     "metadata": {
      "needs_background": "light"
     },
     "output_type": "display_data"
    }
   ],
   "source": [
    "fourteen_df = df[df['year']==7]\n",
    "plt.hist(fourteen_df['sclmeet'])"
   ]
  },
  {
   "cell_type": "markdown",
   "metadata": {},
   "source": [
    "Here histogram of sclmeet does not looks like a normal distribution so we will be using ttest_rel."
   ]
  },
  {
   "cell_type": "code",
   "execution_count": 29,
   "metadata": {},
   "outputs": [
    {
     "data": {
      "text/plain": [
       "<matplotlib.axes._subplots.AxesSubplot at 0x17911793668>"
      ]
     },
     "execution_count": 29,
     "metadata": {},
     "output_type": "execute_result"
    },
    {
     "data": {
      "image/png": "[encoded data removed]",
      "text/plain": [
       "<Figure size 432x288 with 1 Axes>"
      ]
     },
     "metadata": {
      "needs_background": "light"
     },
     "output_type": "display_data"
    }
   ],
   "source": [
    "sns.boxplot(x=fourteen_df['cntry'], y=fourteen_df['sclmeet'])"
   ]
  },
  {
   "cell_type": "code",
   "execution_count": 30,
   "metadata": {},
   "outputs": [
    {
     "name": "stdout",
     "output_type": "stream",
     "text": [
      "Ttest_relResult(statistic=8.85114147131391, pvalue=9.520906264091427e-18)\n",
      "Ttest_relResult(statistic=-10.370409313737099, pvalue=2.6470765288454566e-23)\n",
      "Ttest_relResult(statistic=2.059927780677965, pvalue=0.03975368419047433)\n"
     ]
    }
   ],
   "source": [
    "print(stats.ttest_rel(fourteen_df[fourteen_df['cntry'] == 'CH'].iloc[:606, :]['sclmeet'], fourteen_df[fourteen_df['cntry'] == 'CZ']['sclmeet']))\n",
    "print(stats.ttest_rel(fourteen_df[fourteen_df['cntry'] == 'CZ']['sclmeet'], fourteen_df[fourteen_df['cntry'] == 'ES'].iloc[:606, :]['sclmeet']))\n",
    "print(stats.ttest_rel(fourteen_df[fourteen_df['cntry'] == 'ES'].iloc[:743, :]['sclmeet'], fourteen_df[fourteen_df['cntry'] == 'CH']['sclmeet']))"
   ]
  },
  {
   "cell_type": "markdown",
   "metadata": {},
   "source": [
    "From these 3 countries, Czech Republic looks to be having highest difference from other countries as it's p-value is too much lower than othes."
   ]
  },
  {
   "cell_type": "markdown",
   "metadata": {},
   "source": [
    "### Pick three or four of the countries in the sample and compare how often people took part in social activities, relative to others their age, in 2014. Are there any differences, and if so, which countries stand out?"
   ]
  },
  {
   "cell_type": "code",
   "execution_count": 31,
   "metadata": {},
   "outputs": [
    {
     "data": {
      "text/plain": [
       "(array([ 348.,    0., 1054.,    0.,    0., 1977.,    0.,  594.,    0.,\n",
       "         103.]),\n",
       " array([1. , 1.4, 1.8, 2.2, 2.6, 3. , 3.4, 3.8, 4.2, 4.6, 5. ]),\n",
       " <a list of 10 Patch objects>)"
      ]
     },
     "execution_count": 31,
     "metadata": {},
     "output_type": "execute_result"
    },
    {
     "data": {
      "image/png": "[encoded data removed]",
      "text/plain": [
       "<Figure size 432x288 with 1 Axes>"
      ]
     },
     "metadata": {
      "needs_background": "light"
     },
     "output_type": "display_data"
    }
   ],
   "source": [
    "plt.hist(fourteen_df['sclact'])"
   ]
  },
  {
   "cell_type": "markdown",
   "metadata": {},
   "source": [
    "Here histogram of sclact looks little like a normal distribution so we can use ttest_ind."
   ]
  },
  {
   "cell_type": "code",
   "execution_count": 32,
   "metadata": {},
   "outputs": [
    {
     "data": {
      "text/plain": [
       "<matplotlib.axes._subplots.AxesSubplot at 0x179118b1c18>"
      ]
     },
     "execution_count": 32,
     "metadata": {},
     "output_type": "execute_result"
    },
    {
     "data": {
      "image/png": "[encoded data removed]",
      "text/plain": [
       "<Figure size 432x288 with 1 Axes>"
      ]
     },
     "metadata": {
      "needs_background": "light"
     },
     "output_type": "display_data"
    }
   ],
   "source": [
    "sns.boxplot(x=fourteen_df['cntry'], y=fourteen_df['sclact'])"
   ]
  },
  {
   "cell_type": "code",
   "execution_count": 33,
   "metadata": {},
   "outputs": [
    {
     "name": "stdout",
     "output_type": "stream",
     "text": [
      "Ttest_indResult(statistic=8.869658327876376, pvalue=2.579368413670872e-18)\n",
      "Ttest_indResult(statistic=-10.265905238304482, pvalue=9.16133649418766e-24)\n",
      "Ttest_indResult(statistic=2.0693904473527027, pvalue=0.03868220597005927)\n"
     ]
    }
   ],
   "source": [
    "print(stats.ttest_ind(fourteen_df[fourteen_df['cntry'] == 'CH'].iloc[:606, :]['sclmeet'], fourteen_df[fourteen_df['cntry'] == 'CZ']['sclmeet']))\n",
    "print(stats.ttest_ind(fourteen_df[fourteen_df['cntry'] == 'CZ']['sclmeet'], fourteen_df[fourteen_df['cntry'] == 'ES'].iloc[:606, :]['sclmeet']))\n",
    "print(stats.ttest_ind(fourteen_df[fourteen_df['cntry'] == 'ES'].iloc[:743, :]['sclmeet'], fourteen_df[fourteen_df['cntry'] == 'CH']['sclmeet']))"
   ]
  },
  {
   "cell_type": "markdown",
   "metadata": {},
   "source": [
    "Same as previous question Czech Republic has significant difference with both the countries."
   ]
  },
  {
   "cell_type": "code",
   "execution_count": null,
   "metadata": {},
   "outputs": [],
   "source": []
  }
 ],
 "metadata": {
  "kernelspec": {
   "display_name": "Python 3",
   "language": "python",
   "name": "python3"
  },
  "language_info": {
   "codemirror_mode": {
    "name": "ipython",
    "version": 3
   },
   "file_extension": ".py",
   "mimetype": "text/x-python",
   "name": "python",
   "nbconvert_exporter": "python",
   "pygments_lexer": "ipython3",
   "version": "3.7.3"
  }
 },
 "nbformat": 4,
 "nbformat_minor": 2
}
