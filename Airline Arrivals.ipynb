{
 "cells": [
  {
   "cell_type": "markdown",
   "metadata": {},
   "source": [
    "# Airline Arrivals\n",
    "\n",
    "We have a dataset with details about flights. We need to predict whether the flight arrive is late or not. Flight could only be late if it's more than 30 minutes delayed. So we first need to check our data to find how we can check this."
   ]
  },
  {
   "cell_type": "code",
   "execution_count": 1,
   "metadata": {},
   "outputs": [],
   "source": [
    "import pandas as pd\n",
    "import numpy as np\n",
    "import matplotlib.pyplot as plt\n",
    "import seaborn as sns\n",
    "from sklearn.model_selection import train_test_split, GridSearchCV, cross_val_score\n",
    "from sklearn.ensemble import RandomForestClassifier\n",
    "from sklearn.decomposition import PCA"
   ]
  },
  {
   "cell_type": "code",
   "execution_count": 2,
   "metadata": {},
   "outputs": [],
   "source": [
    "df = pd.read_csv('C:/Users/vivek/Downloads/2005.csv')"
   ]
  },
  {
   "cell_type": "code",
   "execution_count": 3,
   "metadata": {},
   "outputs": [
    {
     "data": {
      "text/html": [
       "<div>\n",
       "<style scoped>\n",
       "    .dataframe tbody tr th:only-of-type {\n",
       "        vertical-align: middle;\n",
       "    }\n",
       "\n",
       "    .dataframe tbody tr th {\n",
       "        vertical-align: top;\n",
       "    }\n",
       "\n",
       "    .dataframe thead th {\n",
       "        text-align: right;\n",
       "    }\n",
       "</style>\n",
       "<table border=\"1\" class=\"dataframe\">\n",
       "  <thead>\n",
       "    <tr style=\"text-align: right;\">\n",
       "      <th></th>\n",
       "      <th>Year</th>\n",
       "      <th>Month</th>\n",
       "      <th>DayofMonth</th>\n",
       "      <th>DayOfWeek</th>\n",
       "      <th>DepTime</th>\n",
       "      <th>CRSDepTime</th>\n",
       "      <th>ArrTime</th>\n",
       "      <th>CRSArrTime</th>\n",
       "      <th>UniqueCarrier</th>\n",
       "      <th>FlightNum</th>\n",
       "      <th>...</th>\n",
       "      <th>TaxiIn</th>\n",
       "      <th>TaxiOut</th>\n",
       "      <th>Cancelled</th>\n",
       "      <th>CancellationCode</th>\n",
       "      <th>Diverted</th>\n",
       "      <th>CarrierDelay</th>\n",
       "      <th>WeatherDelay</th>\n",
       "      <th>NASDelay</th>\n",
       "      <th>SecurityDelay</th>\n",
       "      <th>LateAircraftDelay</th>\n",
       "    </tr>\n",
       "  </thead>\n",
       "  <tbody>\n",
       "    <tr>\n",
       "      <th>0</th>\n",
       "      <td>2005</td>\n",
       "      <td>1</td>\n",
       "      <td>28</td>\n",
       "      <td>5</td>\n",
       "      <td>1603.0</td>\n",
       "      <td>1605</td>\n",
       "      <td>1741.0</td>\n",
       "      <td>1759</td>\n",
       "      <td>UA</td>\n",
       "      <td>541</td>\n",
       "      <td>...</td>\n",
       "      <td>4</td>\n",
       "      <td>23</td>\n",
       "      <td>0</td>\n",
       "      <td>NaN</td>\n",
       "      <td>0</td>\n",
       "      <td>0</td>\n",
       "      <td>0</td>\n",
       "      <td>0</td>\n",
       "      <td>0</td>\n",
       "      <td>0</td>\n",
       "    </tr>\n",
       "    <tr>\n",
       "      <th>1</th>\n",
       "      <td>2005</td>\n",
       "      <td>1</td>\n",
       "      <td>29</td>\n",
       "      <td>6</td>\n",
       "      <td>1559.0</td>\n",
       "      <td>1605</td>\n",
       "      <td>1736.0</td>\n",
       "      <td>1759</td>\n",
       "      <td>UA</td>\n",
       "      <td>541</td>\n",
       "      <td>...</td>\n",
       "      <td>6</td>\n",
       "      <td>15</td>\n",
       "      <td>0</td>\n",
       "      <td>NaN</td>\n",
       "      <td>0</td>\n",
       "      <td>0</td>\n",
       "      <td>0</td>\n",
       "      <td>0</td>\n",
       "      <td>0</td>\n",
       "      <td>0</td>\n",
       "    </tr>\n",
       "    <tr>\n",
       "      <th>2</th>\n",
       "      <td>2005</td>\n",
       "      <td>1</td>\n",
       "      <td>30</td>\n",
       "      <td>7</td>\n",
       "      <td>1603.0</td>\n",
       "      <td>1610</td>\n",
       "      <td>1741.0</td>\n",
       "      <td>1805</td>\n",
       "      <td>UA</td>\n",
       "      <td>541</td>\n",
       "      <td>...</td>\n",
       "      <td>9</td>\n",
       "      <td>18</td>\n",
       "      <td>0</td>\n",
       "      <td>NaN</td>\n",
       "      <td>0</td>\n",
       "      <td>0</td>\n",
       "      <td>0</td>\n",
       "      <td>0</td>\n",
       "      <td>0</td>\n",
       "      <td>0</td>\n",
       "    </tr>\n",
       "    <tr>\n",
       "      <th>3</th>\n",
       "      <td>2005</td>\n",
       "      <td>1</td>\n",
       "      <td>31</td>\n",
       "      <td>1</td>\n",
       "      <td>1556.0</td>\n",
       "      <td>1605</td>\n",
       "      <td>1726.0</td>\n",
       "      <td>1759</td>\n",
       "      <td>UA</td>\n",
       "      <td>541</td>\n",
       "      <td>...</td>\n",
       "      <td>11</td>\n",
       "      <td>10</td>\n",
       "      <td>0</td>\n",
       "      <td>NaN</td>\n",
       "      <td>0</td>\n",
       "      <td>0</td>\n",
       "      <td>0</td>\n",
       "      <td>0</td>\n",
       "      <td>0</td>\n",
       "      <td>0</td>\n",
       "    </tr>\n",
       "    <tr>\n",
       "      <th>4</th>\n",
       "      <td>2005</td>\n",
       "      <td>1</td>\n",
       "      <td>2</td>\n",
       "      <td>7</td>\n",
       "      <td>1934.0</td>\n",
       "      <td>1900</td>\n",
       "      <td>2235.0</td>\n",
       "      <td>2232</td>\n",
       "      <td>UA</td>\n",
       "      <td>542</td>\n",
       "      <td>...</td>\n",
       "      <td>5</td>\n",
       "      <td>10</td>\n",
       "      <td>0</td>\n",
       "      <td>NaN</td>\n",
       "      <td>0</td>\n",
       "      <td>0</td>\n",
       "      <td>0</td>\n",
       "      <td>0</td>\n",
       "      <td>0</td>\n",
       "      <td>0</td>\n",
       "    </tr>\n",
       "  </tbody>\n",
       "</table>\n",
       "<p>5 rows × 29 columns</p>\n",
       "</div>"
      ],
      "text/plain": [
       "   Year  Month  DayofMonth  DayOfWeek  DepTime  CRSDepTime  ArrTime  \\\n",
       "0  2005      1          28          5   1603.0        1605   1741.0   \n",
       "1  2005      1          29          6   1559.0        1605   1736.0   \n",
       "2  2005      1          30          7   1603.0        1610   1741.0   \n",
       "3  2005      1          31          1   1556.0        1605   1726.0   \n",
       "4  2005      1           2          7   1934.0        1900   2235.0   \n",
       "\n",
       "   CRSArrTime UniqueCarrier  FlightNum  ... TaxiIn  TaxiOut  Cancelled  \\\n",
       "0        1759            UA        541  ...      4       23          0   \n",
       "1        1759            UA        541  ...      6       15          0   \n",
       "2        1805            UA        541  ...      9       18          0   \n",
       "3        1759            UA        541  ...     11       10          0   \n",
       "4        2232            UA        542  ...      5       10          0   \n",
       "\n",
       "   CancellationCode  Diverted  CarrierDelay WeatherDelay NASDelay  \\\n",
       "0               NaN         0             0            0        0   \n",
       "1               NaN         0             0            0        0   \n",
       "2               NaN         0             0            0        0   \n",
       "3               NaN         0             0            0        0   \n",
       "4               NaN         0             0            0        0   \n",
       "\n",
       "   SecurityDelay  LateAircraftDelay  \n",
       "0              0                  0  \n",
       "1              0                  0  \n",
       "2              0                  0  \n",
       "3              0                  0  \n",
       "4              0                  0  \n",
       "\n",
       "[5 rows x 29 columns]"
      ]
     },
     "execution_count": 3,
     "metadata": {},
     "output_type": "execute_result"
    }
   ],
   "source": [
    "df.head()"
   ]
  },
  {
   "cell_type": "markdown",
   "metadata": {},
   "source": [
    "Our data contains a column 'ArrDelay' which shows how much delay did flight took to reach destination. We will simply check whether this column is more than 30 or not and store the result in new column for label."
   ]
  },
  {
   "cell_type": "code",
   "execution_count": 4,
   "metadata": {},
   "outputs": [],
   "source": [
    "df['Delayed'] = 0"
   ]
  },
  {
   "cell_type": "code",
   "execution_count": 5,
   "metadata": {},
   "outputs": [],
   "source": [
    "df.at[df['ArrDelay'] < 30, 'Delayed'] = 0\n",
    "df.at[df['ArrDelay'] > 30, 'Delayed'] = 1"
   ]
  },
  {
   "cell_type": "code",
   "execution_count": 6,
   "metadata": {},
   "outputs": [
    {
     "data": {
      "text/plain": [
       "Index(['Year', 'Month', 'DayofMonth', 'DayOfWeek', 'DepTime', 'CRSDepTime',\n",
       "       'ArrTime', 'CRSArrTime', 'UniqueCarrier', 'FlightNum', 'TailNum',\n",
       "       'ActualElapsedTime', 'CRSElapsedTime', 'AirTime', 'ArrDelay',\n",
       "       'DepDelay', 'Origin', 'Dest', 'Distance', 'TaxiIn', 'TaxiOut',\n",
       "       'Cancelled', 'CancellationCode', 'Diverted', 'CarrierDelay',\n",
       "       'WeatherDelay', 'NASDelay', 'SecurityDelay', 'LateAircraftDelay',\n",
       "       'Delayed'],\n",
       "      dtype='object')"
      ]
     },
     "execution_count": 6,
     "metadata": {},
     "output_type": "execute_result"
    }
   ],
   "source": [
    "df.columns"
   ]
  },
  {
   "cell_type": "markdown",
   "metadata": {},
   "source": [
    "Here we have alot of columns which we don't require so let's get rid of them."
   ]
  },
  {
   "cell_type": "code",
   "execution_count": 7,
   "metadata": {},
   "outputs": [],
   "source": [
    "df = df.drop(['ArrTime', 'TaxiIn', 'TaxiOut', 'CarrierDelay', 'WeatherDelay', 'NASDelay', 'SecurityDelay', 'LateAircraftDelay', 'Origin', 'Dest', 'ActualElapsedTime', 'TailNum', 'CancellationCode', 'ArrDelay', 'UniqueCarrier'],1)"
   ]
  },
  {
   "cell_type": "code",
   "execution_count": 8,
   "metadata": {},
   "outputs": [
    {
     "data": {
      "text/html": [
       "<div>\n",
       "<style scoped>\n",
       "    .dataframe tbody tr th:only-of-type {\n",
       "        vertical-align: middle;\n",
       "    }\n",
       "\n",
       "    .dataframe tbody tr th {\n",
       "        vertical-align: top;\n",
       "    }\n",
       "\n",
       "    .dataframe thead th {\n",
       "        text-align: right;\n",
       "    }\n",
       "</style>\n",
       "<table border=\"1\" class=\"dataframe\">\n",
       "  <thead>\n",
       "    <tr style=\"text-align: right;\">\n",
       "      <th></th>\n",
       "      <th>Year</th>\n",
       "      <th>Month</th>\n",
       "      <th>DayofMonth</th>\n",
       "      <th>DayOfWeek</th>\n",
       "      <th>DepTime</th>\n",
       "      <th>CRSDepTime</th>\n",
       "      <th>CRSArrTime</th>\n",
       "      <th>FlightNum</th>\n",
       "      <th>CRSElapsedTime</th>\n",
       "      <th>AirTime</th>\n",
       "      <th>DepDelay</th>\n",
       "      <th>Distance</th>\n",
       "      <th>Cancelled</th>\n",
       "      <th>Diverted</th>\n",
       "      <th>Delayed</th>\n",
       "    </tr>\n",
       "  </thead>\n",
       "  <tbody>\n",
       "    <tr>\n",
       "      <th>count</th>\n",
       "      <td>7140596.0</td>\n",
       "      <td>7.140596e+06</td>\n",
       "      <td>7.140596e+06</td>\n",
       "      <td>7.140596e+06</td>\n",
       "      <td>7.006866e+06</td>\n",
       "      <td>7.140596e+06</td>\n",
       "      <td>7.140596e+06</td>\n",
       "      <td>7.140596e+06</td>\n",
       "      <td>7.140596e+06</td>\n",
       "      <td>6.992838e+06</td>\n",
       "      <td>7.006866e+06</td>\n",
       "      <td>7.140596e+06</td>\n",
       "      <td>7.140596e+06</td>\n",
       "      <td>7.140596e+06</td>\n",
       "      <td>7.140596e+06</td>\n",
       "    </tr>\n",
       "    <tr>\n",
       "      <th>mean</th>\n",
       "      <td>2005.0</td>\n",
       "      <td>6.481160e+00</td>\n",
       "      <td>1.571931e+01</td>\n",
       "      <td>3.944549e+00</td>\n",
       "      <td>1.344534e+03</td>\n",
       "      <td>1.337973e+03</td>\n",
       "      <td>1.499840e+03</td>\n",
       "      <td>2.042659e+03</td>\n",
       "      <td>1.259049e+02</td>\n",
       "      <td>1.012756e+02</td>\n",
       "      <td>8.674313e+00</td>\n",
       "      <td>7.237402e+02</td>\n",
       "      <td>1.872813e-02</td>\n",
       "      <td>1.964542e-03</td>\n",
       "      <td>1.150949e-01</td>\n",
       "    </tr>\n",
       "    <tr>\n",
       "      <th>std</th>\n",
       "      <td>0.0</td>\n",
       "      <td>3.410521e+00</td>\n",
       "      <td>8.785960e+00</td>\n",
       "      <td>1.989965e+00</td>\n",
       "      <td>4.767736e+02</td>\n",
       "      <td>4.642816e+02</td>\n",
       "      <td>4.804065e+02</td>\n",
       "      <td>1.841605e+03</td>\n",
       "      <td>6.975044e+01</td>\n",
       "      <td>8.246829e+01</td>\n",
       "      <td>3.119505e+01</td>\n",
       "      <td>5.711465e+02</td>\n",
       "      <td>1.355632e-01</td>\n",
       "      <td>4.427960e-02</td>\n",
       "      <td>3.191364e-01</td>\n",
       "    </tr>\n",
       "    <tr>\n",
       "      <th>min</th>\n",
       "      <td>2005.0</td>\n",
       "      <td>1.000000e+00</td>\n",
       "      <td>1.000000e+00</td>\n",
       "      <td>1.000000e+00</td>\n",
       "      <td>1.000000e+00</td>\n",
       "      <td>0.000000e+00</td>\n",
       "      <td>0.000000e+00</td>\n",
       "      <td>1.000000e+00</td>\n",
       "      <td>-4.000000e+01</td>\n",
       "      <td>-1.428000e+03</td>\n",
       "      <td>-1.199000e+03</td>\n",
       "      <td>1.100000e+01</td>\n",
       "      <td>0.000000e+00</td>\n",
       "      <td>0.000000e+00</td>\n",
       "      <td>0.000000e+00</td>\n",
       "    </tr>\n",
       "    <tr>\n",
       "      <th>25%</th>\n",
       "      <td>2005.0</td>\n",
       "      <td>4.000000e+00</td>\n",
       "      <td>8.000000e+00</td>\n",
       "      <td>2.000000e+00</td>\n",
       "      <td>9.330000e+02</td>\n",
       "      <td>9.300000e+02</td>\n",
       "      <td>1.120000e+03</td>\n",
       "      <td>5.840000e+02</td>\n",
       "      <td>7.500000e+01</td>\n",
       "      <td>5.400000e+01</td>\n",
       "      <td>-4.000000e+00</td>\n",
       "      <td>3.160000e+02</td>\n",
       "      <td>0.000000e+00</td>\n",
       "      <td>0.000000e+00</td>\n",
       "      <td>0.000000e+00</td>\n",
       "    </tr>\n",
       "    <tr>\n",
       "      <th>50%</th>\n",
       "      <td>2005.0</td>\n",
       "      <td>6.000000e+00</td>\n",
       "      <td>1.600000e+01</td>\n",
       "      <td>4.000000e+00</td>\n",
       "      <td>1.331000e+03</td>\n",
       "      <td>1.328000e+03</td>\n",
       "      <td>1.523000e+03</td>\n",
       "      <td>1.446000e+03</td>\n",
       "      <td>1.070000e+02</td>\n",
       "      <td>8.300000e+01</td>\n",
       "      <td>0.000000e+00</td>\n",
       "      <td>5.620000e+02</td>\n",
       "      <td>0.000000e+00</td>\n",
       "      <td>0.000000e+00</td>\n",
       "      <td>0.000000e+00</td>\n",
       "    </tr>\n",
       "    <tr>\n",
       "      <th>75%</th>\n",
       "      <td>2005.0</td>\n",
       "      <td>9.000000e+00</td>\n",
       "      <td>2.300000e+01</td>\n",
       "      <td>6.000000e+00</td>\n",
       "      <td>1.735000e+03</td>\n",
       "      <td>1.725000e+03</td>\n",
       "      <td>1.912000e+03</td>\n",
       "      <td>3.172000e+03</td>\n",
       "      <td>1.550000e+02</td>\n",
       "      <td>1.300000e+02</td>\n",
       "      <td>7.000000e+00</td>\n",
       "      <td>9.500000e+02</td>\n",
       "      <td>0.000000e+00</td>\n",
       "      <td>0.000000e+00</td>\n",
       "      <td>0.000000e+00</td>\n",
       "    </tr>\n",
       "    <tr>\n",
       "      <th>max</th>\n",
       "      <td>2005.0</td>\n",
       "      <td>1.200000e+01</td>\n",
       "      <td>3.100000e+01</td>\n",
       "      <td>7.000000e+00</td>\n",
       "      <td>2.805000e+03</td>\n",
       "      <td>2.359000e+03</td>\n",
       "      <td>2.359000e+03</td>\n",
       "      <td>9.584000e+03</td>\n",
       "      <td>6.600000e+02</td>\n",
       "      <td>1.956000e+03</td>\n",
       "      <td>1.930000e+03</td>\n",
       "      <td>4.962000e+03</td>\n",
       "      <td>1.000000e+00</td>\n",
       "      <td>1.000000e+00</td>\n",
       "      <td>1.000000e+00</td>\n",
       "    </tr>\n",
       "  </tbody>\n",
       "</table>\n",
       "</div>"
      ],
      "text/plain": [
       "            Year         Month    DayofMonth     DayOfWeek       DepTime  \\\n",
       "count  7140596.0  7.140596e+06  7.140596e+06  7.140596e+06  7.006866e+06   \n",
       "mean      2005.0  6.481160e+00  1.571931e+01  3.944549e+00  1.344534e+03   \n",
       "std          0.0  3.410521e+00  8.785960e+00  1.989965e+00  4.767736e+02   \n",
       "min       2005.0  1.000000e+00  1.000000e+00  1.000000e+00  1.000000e+00   \n",
       "25%       2005.0  4.000000e+00  8.000000e+00  2.000000e+00  9.330000e+02   \n",
       "50%       2005.0  6.000000e+00  1.600000e+01  4.000000e+00  1.331000e+03   \n",
       "75%       2005.0  9.000000e+00  2.300000e+01  6.000000e+00  1.735000e+03   \n",
       "max       2005.0  1.200000e+01  3.100000e+01  7.000000e+00  2.805000e+03   \n",
       "\n",
       "         CRSDepTime    CRSArrTime     FlightNum  CRSElapsedTime       AirTime  \\\n",
       "count  7.140596e+06  7.140596e+06  7.140596e+06    7.140596e+06  6.992838e+06   \n",
       "mean   1.337973e+03  1.499840e+03  2.042659e+03    1.259049e+02  1.012756e+02   \n",
       "std    4.642816e+02  4.804065e+02  1.841605e+03    6.975044e+01  8.246829e+01   \n",
       "min    0.000000e+00  0.000000e+00  1.000000e+00   -4.000000e+01 -1.428000e+03   \n",
       "25%    9.300000e+02  1.120000e+03  5.840000e+02    7.500000e+01  5.400000e+01   \n",
       "50%    1.328000e+03  1.523000e+03  1.446000e+03    1.070000e+02  8.300000e+01   \n",
       "75%    1.725000e+03  1.912000e+03  3.172000e+03    1.550000e+02  1.300000e+02   \n",
       "max    2.359000e+03  2.359000e+03  9.584000e+03    6.600000e+02  1.956000e+03   \n",
       "\n",
       "           DepDelay      Distance     Cancelled      Diverted       Delayed  \n",
       "count  7.006866e+06  7.140596e+06  7.140596e+06  7.140596e+06  7.140596e+06  \n",
       "mean   8.674313e+00  7.237402e+02  1.872813e-02  1.964542e-03  1.150949e-01  \n",
       "std    3.119505e+01  5.711465e+02  1.355632e-01  4.427960e-02  3.191364e-01  \n",
       "min   -1.199000e+03  1.100000e+01  0.000000e+00  0.000000e+00  0.000000e+00  \n",
       "25%   -4.000000e+00  3.160000e+02  0.000000e+00  0.000000e+00  0.000000e+00  \n",
       "50%    0.000000e+00  5.620000e+02  0.000000e+00  0.000000e+00  0.000000e+00  \n",
       "75%    7.000000e+00  9.500000e+02  0.000000e+00  0.000000e+00  0.000000e+00  \n",
       "max    1.930000e+03  4.962000e+03  1.000000e+00  1.000000e+00  1.000000e+00  "
      ]
     },
     "execution_count": 8,
     "metadata": {},
     "output_type": "execute_result"
    }
   ],
   "source": [
    "df.describe()"
   ]
  },
  {
   "cell_type": "markdown",
   "metadata": {},
   "source": [
    "Dataset used here contains 7140596 rows so it's a huge dataset. For this reason we won't be comparing different machine learning algorithms because of less computational power."
   ]
  },
  {
   "cell_type": "code",
   "execution_count": 9,
   "metadata": {},
   "outputs": [],
   "source": [
    "df = df.dropna()"
   ]
  },
  {
   "cell_type": "code",
   "execution_count": 10,
   "metadata": {},
   "outputs": [],
   "source": [
    "X = df.drop('Delayed', 1)\n",
    "Y = df['Delayed']"
   ]
  },
  {
   "cell_type": "code",
   "execution_count": 11,
   "metadata": {},
   "outputs": [],
   "source": [
    "X_train, X_test, Y_train, Y_test = train_test_split(X, Y)"
   ]
  },
  {
   "cell_type": "code",
   "execution_count": 12,
   "metadata": {},
   "outputs": [
    {
     "name": "stdout",
     "output_type": "stream",
     "text": [
      "Best parameters:  {'max_features': 'sqrt', 'n_estimators': 20}\n",
      "Train data score:  0.9983301008193527\n",
      "Test data score:  0.9661796923710538\n"
     ]
    }
   ],
   "source": [
    "rfc = RandomForestClassifier(n_estimators=10)\n",
    "param_grid = {\n",
    "    'n_estimators': [10, 20],\n",
    "    'max_features': ['auto', 'sqrt']\n",
    "}\n",
    "CV_rfc = GridSearchCV(rfc, param_grid=param_grid, cv=3)\n",
    "CV_rfc.fit(X_train, Y_train)\n",
    "print(\"Best parameters: \", CV_rfc.best_params_)\n",
    "print(\"Train data score: \", CV_rfc.score(X_train, Y_train))\n",
    "print(\"Test data score: \", CV_rfc.score(X_test, Y_test))"
   ]
  },
  {
   "cell_type": "markdown",
   "metadata": {},
   "source": [
    "Model is doing a pretty descent job here with 96% test score accuracy and 99% train score accuracy. May be size of our data is responsible for such successful model. Now let's try decreasing it's dimensionality using PCA and check how score is affected."
   ]
  },
  {
   "cell_type": "markdown",
   "metadata": {},
   "source": [
    "### PCA"
   ]
  },
  {
   "cell_type": "code",
   "execution_count": 13,
   "metadata": {},
   "outputs": [],
   "source": [
    "pca = PCA(.95)\n",
    "pca.fit(X_train)\n",
    "x_pca = pca.transform(X_train)"
   ]
  },
  {
   "cell_type": "code",
   "execution_count": 15,
   "metadata": {},
   "outputs": [
    {
     "data": {
      "text/plain": [
       "RandomForestClassifier(bootstrap=True, class_weight=None, criterion='gini',\n",
       "            max_depth=None, max_features='sqrt', max_leaf_nodes=None,\n",
       "            min_impurity_decrease=0.0, min_impurity_split=None,\n",
       "            min_samples_leaf=1, min_samples_split=2,\n",
       "            min_weight_fraction_leaf=0.0, n_estimators=20, n_jobs=None,\n",
       "            oob_score=False, random_state=None, verbose=0,\n",
       "            warm_start=False)"
      ]
     },
     "execution_count": 15,
     "metadata": {},
     "output_type": "execute_result"
    }
   ],
   "source": [
    "rfc = RandomForestClassifier(n_estimators=20, max_features='sqrt')\n",
    "rfc.fit(x_pca, Y_train)"
   ]
  },
  {
   "cell_type": "code",
   "execution_count": 16,
   "metadata": {},
   "outputs": [
    {
     "name": "stdout",
     "output_type": "stream",
     "text": [
      "Models score on train data:  0.9973039079225448\n",
      "Models score on test data:  0.9334404905589145\n"
     ]
    }
   ],
   "source": [
    "x_test_pca = pca.transform(X_test)\n",
    "print(\"Models score on train data: \", rfc.score(x_pca, Y_train))\n",
    "print(\"Models score on test data: \", rfc.score(x_test_pca, Y_test))"
   ]
  },
  {
   "cell_type": "markdown",
   "metadata": {},
   "source": [
    "So PCA clearly lowered model accuracy on test data by 3% which would not be acceptable in production environment. Though train dataset is still performing similar to previous model."
   ]
  },
  {
   "cell_type": "code",
   "execution_count": null,
   "metadata": {},
   "outputs": [],
   "source": []
  }
 ],
 "metadata": {
  "kernelspec": {
   "display_name": "Python 3",
   "language": "python",
   "name": "python3"
  },
  "language_info": {
   "codemirror_mode": {
    "name": "ipython",
    "version": 3
   },
   "file_extension": ".py",
   "mimetype": "text/x-python",
   "name": "python",
   "nbconvert_exporter": "python",
   "pygments_lexer": "ipython3",
   "version": "3.7.3"
  }
 },
 "nbformat": 4,
 "nbformat_minor": 2
}
