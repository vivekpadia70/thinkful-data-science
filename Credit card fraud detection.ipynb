{
 "cells": [
  {
   "cell_type": "markdown",
   "metadata": {},
   "source": [
    "## Credit Card Fraud Detection\n",
    "\n",
    "### Before we begin\n",
    "\n",
    "We will be using dataset from kaggle. This dataset contains very low ratio of fraud and non-fraud data.\n",
    "\n",
    "This notebook will be using two different methods for solving this same problem. First, we will take dataset as a whole and not change the ratios of data. Second, we'll try to make ratio between both the classes same.\n",
    "\n",
    "Lastly, we will use several models to find the most suitable model for this dataset. Models we would try are\n",
    "\n",
    "    1. Logistic Regression\n",
    "    2. SVC\n",
    "    3. Decision tree\n",
    "    4. Random Forest\n",
    "    5. Gradient Boost\n",
    "    \n",
    "Let's quickly jump into the actual code."
   ]
  },
  {
   "cell_type": "code",
   "execution_count": 1,
   "metadata": {},
   "outputs": [],
   "source": [
    "import pandas as pd\n",
    "import numpy as np\n",
    "import matplotlib.pyplot as plt\n",
    "import seaborn as sns\n",
    "from sklearn.linear_model import LogisticRegression\n",
    "from sklearn.ensemble import RandomForestClassifier, GradientBoostingClassifier\n",
    "from sklearn.tree import DecisionTreeClassifier\n",
    "from sklearn.svm import SVC\n",
    "from sklearn.feature_selection import SelectKBest\n",
    "from sklearn.model_selection import GridSearchCV, cross_val_score, train_test_split\n",
    "from sklearn.metrics import average_precision_score\n",
    "\n",
    "%matplotlib inline"
   ]
  },
  {
   "cell_type": "code",
   "execution_count": 2,
   "metadata": {
    "collapsed": true
   },
   "outputs": [],
   "source": [
    "df=pd.read_csv('~/Downloads/creditcard.csv')"
   ]
  },
  {
   "cell_type": "code",
   "execution_count": 3,
   "metadata": {},
   "outputs": [
    {
     "data": {
      "text/html": [
       "<div>\n",
       "<style scoped>\n",
       "    .dataframe tbody tr th:only-of-type {\n",
       "        vertical-align: middle;\n",
       "    }\n",
       "\n",
       "    .dataframe tbody tr th {\n",
       "        vertical-align: top;\n",
       "    }\n",
       "\n",
       "    .dataframe thead th {\n",
       "        text-align: right;\n",
       "    }\n",
       "</style>\n",
       "<table border=\"1\" class=\"dataframe\">\n",
       "  <thead>\n",
       "    <tr style=\"text-align: right;\">\n",
       "      <th></th>\n",
       "      <th>Time</th>\n",
       "      <th>V1</th>\n",
       "      <th>V2</th>\n",
       "      <th>V3</th>\n",
       "      <th>V4</th>\n",
       "      <th>V5</th>\n",
       "      <th>V6</th>\n",
       "      <th>V7</th>\n",
       "      <th>V8</th>\n",
       "      <th>V9</th>\n",
       "      <th>...</th>\n",
       "      <th>V21</th>\n",
       "      <th>V22</th>\n",
       "      <th>V23</th>\n",
       "      <th>V24</th>\n",
       "      <th>V25</th>\n",
       "      <th>V26</th>\n",
       "      <th>V27</th>\n",
       "      <th>V28</th>\n",
       "      <th>Amount</th>\n",
       "      <th>Class</th>\n",
       "    </tr>\n",
       "  </thead>\n",
       "  <tbody>\n",
       "    <tr>\n",
       "      <th>0</th>\n",
       "      <td>0.0</td>\n",
       "      <td>-1.359807</td>\n",
       "      <td>-0.072781</td>\n",
       "      <td>2.536347</td>\n",
       "      <td>1.378155</td>\n",
       "      <td>-0.338321</td>\n",
       "      <td>0.462388</td>\n",
       "      <td>0.239599</td>\n",
       "      <td>0.098698</td>\n",
       "      <td>0.363787</td>\n",
       "      <td>...</td>\n",
       "      <td>-0.018307</td>\n",
       "      <td>0.277838</td>\n",
       "      <td>-0.110474</td>\n",
       "      <td>0.066928</td>\n",
       "      <td>0.128539</td>\n",
       "      <td>-0.189115</td>\n",
       "      <td>0.133558</td>\n",
       "      <td>-0.021053</td>\n",
       "      <td>149.62</td>\n",
       "      <td>0</td>\n",
       "    </tr>\n",
       "    <tr>\n",
       "      <th>1</th>\n",
       "      <td>0.0</td>\n",
       "      <td>1.191857</td>\n",
       "      <td>0.266151</td>\n",
       "      <td>0.166480</td>\n",
       "      <td>0.448154</td>\n",
       "      <td>0.060018</td>\n",
       "      <td>-0.082361</td>\n",
       "      <td>-0.078803</td>\n",
       "      <td>0.085102</td>\n",
       "      <td>-0.255425</td>\n",
       "      <td>...</td>\n",
       "      <td>-0.225775</td>\n",
       "      <td>-0.638672</td>\n",
       "      <td>0.101288</td>\n",
       "      <td>-0.339846</td>\n",
       "      <td>0.167170</td>\n",
       "      <td>0.125895</td>\n",
       "      <td>-0.008983</td>\n",
       "      <td>0.014724</td>\n",
       "      <td>2.69</td>\n",
       "      <td>0</td>\n",
       "    </tr>\n",
       "    <tr>\n",
       "      <th>2</th>\n",
       "      <td>1.0</td>\n",
       "      <td>-1.358354</td>\n",
       "      <td>-1.340163</td>\n",
       "      <td>1.773209</td>\n",
       "      <td>0.379780</td>\n",
       "      <td>-0.503198</td>\n",
       "      <td>1.800499</td>\n",
       "      <td>0.791461</td>\n",
       "      <td>0.247676</td>\n",
       "      <td>-1.514654</td>\n",
       "      <td>...</td>\n",
       "      <td>0.247998</td>\n",
       "      <td>0.771679</td>\n",
       "      <td>0.909412</td>\n",
       "      <td>-0.689281</td>\n",
       "      <td>-0.327642</td>\n",
       "      <td>-0.139097</td>\n",
       "      <td>-0.055353</td>\n",
       "      <td>-0.059752</td>\n",
       "      <td>378.66</td>\n",
       "      <td>0</td>\n",
       "    </tr>\n",
       "    <tr>\n",
       "      <th>3</th>\n",
       "      <td>1.0</td>\n",
       "      <td>-0.966272</td>\n",
       "      <td>-0.185226</td>\n",
       "      <td>1.792993</td>\n",
       "      <td>-0.863291</td>\n",
       "      <td>-0.010309</td>\n",
       "      <td>1.247203</td>\n",
       "      <td>0.237609</td>\n",
       "      <td>0.377436</td>\n",
       "      <td>-1.387024</td>\n",
       "      <td>...</td>\n",
       "      <td>-0.108300</td>\n",
       "      <td>0.005274</td>\n",
       "      <td>-0.190321</td>\n",
       "      <td>-1.175575</td>\n",
       "      <td>0.647376</td>\n",
       "      <td>-0.221929</td>\n",
       "      <td>0.062723</td>\n",
       "      <td>0.061458</td>\n",
       "      <td>123.50</td>\n",
       "      <td>0</td>\n",
       "    </tr>\n",
       "    <tr>\n",
       "      <th>4</th>\n",
       "      <td>2.0</td>\n",
       "      <td>-1.158233</td>\n",
       "      <td>0.877737</td>\n",
       "      <td>1.548718</td>\n",
       "      <td>0.403034</td>\n",
       "      <td>-0.407193</td>\n",
       "      <td>0.095921</td>\n",
       "      <td>0.592941</td>\n",
       "      <td>-0.270533</td>\n",
       "      <td>0.817739</td>\n",
       "      <td>...</td>\n",
       "      <td>-0.009431</td>\n",
       "      <td>0.798278</td>\n",
       "      <td>-0.137458</td>\n",
       "      <td>0.141267</td>\n",
       "      <td>-0.206010</td>\n",
       "      <td>0.502292</td>\n",
       "      <td>0.219422</td>\n",
       "      <td>0.215153</td>\n",
       "      <td>69.99</td>\n",
       "      <td>0</td>\n",
       "    </tr>\n",
       "  </tbody>\n",
       "</table>\n",
       "<p>5 rows × 31 columns</p>\n",
       "</div>"
      ],
      "text/plain": [
       "   Time        V1        V2        V3        V4        V5        V6        V7  \\\n",
       "0   0.0 -1.359807 -0.072781  2.536347  1.378155 -0.338321  0.462388  0.239599   \n",
       "1   0.0  1.191857  0.266151  0.166480  0.448154  0.060018 -0.082361 -0.078803   \n",
       "2   1.0 -1.358354 -1.340163  1.773209  0.379780 -0.503198  1.800499  0.791461   \n",
       "3   1.0 -0.966272 -0.185226  1.792993 -0.863291 -0.010309  1.247203  0.237609   \n",
       "4   2.0 -1.158233  0.877737  1.548718  0.403034 -0.407193  0.095921  0.592941   \n",
       "\n",
       "         V8        V9  ...         V21       V22       V23       V24  \\\n",
       "0  0.098698  0.363787  ...   -0.018307  0.277838 -0.110474  0.066928   \n",
       "1  0.085102 -0.255425  ...   -0.225775 -0.638672  0.101288 -0.339846   \n",
       "2  0.247676 -1.514654  ...    0.247998  0.771679  0.909412 -0.689281   \n",
       "3  0.377436 -1.387024  ...   -0.108300  0.005274 -0.190321 -1.175575   \n",
       "4 -0.270533  0.817739  ...   -0.009431  0.798278 -0.137458  0.141267   \n",
       "\n",
       "        V25       V26       V27       V28  Amount  Class  \n",
       "0  0.128539 -0.189115  0.133558 -0.021053  149.62      0  \n",
       "1  0.167170  0.125895 -0.008983  0.014724    2.69      0  \n",
       "2 -0.327642 -0.139097 -0.055353 -0.059752  378.66      0  \n",
       "3  0.647376 -0.221929  0.062723  0.061458  123.50      0  \n",
       "4 -0.206010  0.502292  0.219422  0.215153   69.99      0  \n",
       "\n",
       "[5 rows x 31 columns]"
      ]
     },
     "execution_count": 3,
     "metadata": {},
     "output_type": "execute_result"
    }
   ],
   "source": [
    "df.head()"
   ]
  },
  {
   "cell_type": "markdown",
   "metadata": {},
   "source": [
    "Data contains 28 different rows of features which are extracted using PCA and are not explained because of security reasons. What we can understand from data is Class for labels, Amount for transactions and Time for time taken for transaction."
   ]
  },
  {
   "cell_type": "markdown",
   "metadata": {},
   "source": [
    "## EDA"
   ]
  },
  {
   "cell_type": "code",
   "execution_count": 4,
   "metadata": {},
   "outputs": [
    {
     "data": {
      "image/png": "[encoded data removed]",
      "text/plain": [
       "<Figure size 432x288 with 1 Axes>"
      ]
     },
     "metadata": {},
     "output_type": "display_data"
    }
   ],
   "source": [
    "plt.style.use('ggplot')\n",
    "plt.hist(df['Class'])\n",
    "plt.xlabel('Class')\n",
    "plt.ylabel('Count')\n",
    "plt.title('Label histogram')\n",
    "plt.show()"
   ]
  },
  {
   "cell_type": "markdown",
   "metadata": {},
   "source": [
    "As we see number of fraud data looks too small compared to non-fraud. It only contains 0.172% of the data as fraud. Which could be a serious problem for models."
   ]
  },
  {
   "cell_type": "code",
   "execution_count": 5,
   "metadata": {},
   "outputs": [
    {
     "name": "stderr",
     "output_type": "stream",
     "text": [
      "/home/vivek/.local/lib/python3.6/site-packages/matplotlib/axes/_axes.py:6462: UserWarning: The 'normed' kwarg is deprecated, and has been replaced by the 'density' kwarg.\n",
      "  warnings.warn(\"The 'normed' kwarg is deprecated, and has been \"\n"
     ]
    },
    {
     "data": {
      "text/plain": [
       "Text(0.5,1,'Time histogram')"
      ]
     },
     "execution_count": 5,
     "metadata": {},
     "output_type": "execute_result"
    },
    {
     "data": {
      "image/png": "[encoded data removed]",
      "text/plain": [
       "<Figure size 432x288 with 1 Axes>"
      ]
     },
     "metadata": {},
     "output_type": "display_data"
    }
   ],
   "source": [
    "sns.distplot(df['Time'])\n",
    "plt.title('Time histogram')"
   ]
  },
  {
   "cell_type": "code",
   "execution_count": 6,
   "metadata": {},
   "outputs": [
    {
     "data": {
      "text/plain": [
       "<matplotlib.axes._subplots.AxesSubplot at 0x7f728ca5be80>"
      ]
     },
     "execution_count": 6,
     "metadata": {},
     "output_type": "execute_result"
    },
    {
     "data": {
      "image/png": "[encoded data removed]",
      "text/plain": [
       "<Figure size 432x288 with 2 Axes>"
      ]
     },
     "metadata": {},
     "output_type": "display_data"
    }
   ],
   "source": [
    "sns.heatmap(df.corr())\n",
    "# so our data doen't look corelated from heatmap"
   ]
  },
  {
   "cell_type": "markdown",
   "metadata": {},
   "source": [
    "## Creating new_df"
   ]
  },
  {
   "cell_type": "markdown",
   "metadata": {},
   "source": [
    "Now we will have a new df which will contain equal ratio of fraud and nonfraud data. This is much more suitable for the machine learning models."
   ]
  },
  {
   "cell_type": "code",
   "execution_count": 7,
   "metadata": {},
   "outputs": [
    {
     "data": {
      "text/plain": [
       "(492, 31)"
      ]
     },
     "execution_count": 7,
     "metadata": {},
     "output_type": "execute_result"
    }
   ],
   "source": [
    "df[df['Class'] == 1].shape"
   ]
  },
  {
   "cell_type": "code",
   "execution_count": 8,
   "metadata": {},
   "outputs": [
    {
     "name": "stdout",
     "output_type": "stream",
     "text": [
      "(984, 31)\n"
     ]
    }
   ],
   "source": [
    "# Shuffling data before creating new_df\n",
    "df = df.sample(frac=1)\n",
    "\n",
    "# creating 2 seperate dfs\n",
    "fraud_df = df[df['Class'] == 1]\n",
    "nonfraud_df = df[df['Class'] == 0][:492]\n",
    "\n",
    "new_df = pd.concat([fraud_df, nonfraud_df])\n",
    "\n",
    "# Again shuffling \n",
    "new_df = new_df.sample(frac=1, random_state=22)\n",
    "\n",
    "print(new_df.shape)"
   ]
  },
  {
   "cell_type": "code",
   "execution_count": 9,
   "metadata": {},
   "outputs": [
    {
     "data": {
      "text/plain": [
       "<matplotlib.axes._subplots.AxesSubplot at 0x7f728a935358>"
      ]
     },
     "execution_count": 9,
     "metadata": {},
     "output_type": "execute_result"
    },
    {
     "data": {
      "image/png": "[encoded data removed]",
      "text/plain": [
       "<Figure size 432x288 with 2 Axes>"
      ]
     },
     "metadata": {},
     "output_type": "display_data"
    }
   ],
   "source": [
    "sns.heatmap(new_df.corr())"
   ]
  },
  {
   "cell_type": "markdown",
   "metadata": {},
   "source": [
    "Wooww!! This df looks a lot more corelated than previous one."
   ]
  },
  {
   "cell_type": "markdown",
   "metadata": {},
   "source": [
    "## Creating Models"
   ]
  },
  {
   "cell_type": "code",
   "execution_count": 10,
   "metadata": {
    "collapsed": true
   },
   "outputs": [],
   "source": [
    "# Before creating models let's seperate data into X and Y\n",
    "X = df.drop(['Class'], 1)\n",
    "Y = df['Class']\n",
    "\n",
    "X_new = new_df.drop(['Class'], 1)\n",
    "Y_new = new_df['Class']\n",
    "\n",
    "# Now create train_test_split for both dataframes\n",
    "X_train, X_test, Y_train, Y_test = train_test_split(X,Y)\n",
    "X_new_train, X_new_test, Y_new_train, Y_new_test = train_test_split(X_new, Y_new)"
   ]
  },
  {
   "cell_type": "markdown",
   "metadata": {},
   "source": [
    "### Logistic Regression"
   ]
  },
  {
   "cell_type": "code",
   "execution_count": 11,
   "metadata": {},
   "outputs": [
    {
     "name": "stdout",
     "output_type": "stream",
     "text": [
      "Score through AUPRC:  0.39299278409552046\n",
      "R-squared:  0.9989279277170479\n",
      "Test Score through AUPRC:  0.38282938936853156\n",
      "Test score:  0.9987921687593045\n"
     ]
    }
   ],
   "source": [
    "# Unbalanced data\n",
    "lreg = LogisticRegression()\n",
    "lreg.fit(X_train, Y_train)\n",
    "Y_pred = lreg.predict(X_train)\n",
    "print(\"Score through AUPRC: \", average_precision_score(Y_train, Y_pred))\n",
    "print(\"R-squared: \", lreg.score(X_train, Y_train))\n",
    "Y_pred_test = lreg.predict(X_test)\n",
    "print(\"Test Score through AUPRC: \", average_precision_score(Y_test, Y_pred_test))\n",
    "print(\"Test score: \", lreg.score(X_test, Y_test))"
   ]
  },
  {
   "cell_type": "markdown",
   "metadata": {},
   "source": [
    "It clearly looks overfitted by the difference between both the scores. AUPRC gives a better score when data is unbalanced. Confusion matrix can't be used for such data. Let's try Logistic Regression with the small dataset. "
   ]
  },
  {
   "cell_type": "code",
   "execution_count": 12,
   "metadata": {},
   "outputs": [
    {
     "name": "stdout",
     "output_type": "stream",
     "text": [
      "Score through AUPRC:  0.9422874412057869\n",
      "R-squared:  0.9625991900938649\n",
      "Test Score through AUPRC:  0.9146618638680221\n",
      "Test score:  0.9308943089430894\n"
     ]
    }
   ],
   "source": [
    "# Balanced data\n",
    "lreg.fit(X_new_train, Y_new_train)\n",
    "Y_pred = lreg.predict(X_new_train)\n",
    "print(\"Score through AUPRC: \", average_precision_score(Y_new_train, Y_pred))\n",
    "print(\"R-squared: \", lreg.score(X_train, Y_train))\n",
    "Y_pred_test = lreg.predict(X_new_test)\n",
    "print(\"Test Score through AUPRC: \", average_precision_score(Y_new_test, Y_pred_test))\n",
    "print(\"Test score: \", lreg.score(X_new_test, Y_new_test))"
   ]
  },
  {
   "cell_type": "markdown",
   "metadata": {},
   "source": [
    "It is performing alot better than with big dataset as it's labels are balanced."
   ]
  },
  {
   "cell_type": "markdown",
   "metadata": {},
   "source": [
    "**We won't use unbalanced dataset for every model as it's big dataset and it might take hours to fit some models.**"
   ]
  },
  {
   "cell_type": "markdown",
   "metadata": {},
   "source": [
    "### SVC"
   ]
  },
  {
   "cell_type": "code",
   "execution_count": 13,
   "metadata": {},
   "outputs": [
    {
     "name": "stdout",
     "output_type": "stream",
     "text": [
      "Score through AUPRC:  1.0\n",
      "R-squared:  1.0\n",
      "Test Score through AUPRC:  0.5248567239770758\n",
      "Test score:  0.532520325203252\n"
     ]
    }
   ],
   "source": [
    "# Balanced data\n",
    "svc = SVC()\n",
    "svc.fit(X_new_train, Y_new_train)\n",
    "Y_pred = svc.predict(X_new_train)\n",
    "print(\"Score through AUPRC: \", average_precision_score(Y_new_train, Y_pred))\n",
    "print(\"R-squared: \", svc.score(X_new_train, Y_new_train))\n",
    "Y_pred_test = svc.predict(X_new_test)\n",
    "print(\"Test Score through AUPRC: \", average_precision_score(Y_new_test, Y_pred_test))\n",
    "print(\"Test score: \", svc.score(X_new_test, Y_new_test))"
   ]
  },
  {
   "cell_type": "markdown",
   "metadata": {},
   "source": [
    "### Decision Tree"
   ]
  },
  {
   "cell_type": "code",
   "execution_count": 16,
   "metadata": {},
   "outputs": [
    {
     "name": "stdout",
     "output_type": "stream",
     "text": [
      "Score through AUPRC:  1.0\n",
      "Score:  1.0\n",
      "Test Score through AUPRC:  0.5713276676581077\n",
      "Test score:  0.9990730597455127\n"
     ]
    }
   ],
   "source": [
    "# Unbalanced data\n",
    "dtc = DecisionTreeClassifier(random_state=20)\n",
    "dtc.fit(X_train, Y_train)\n",
    "Y_pred = dtc.predict(X_train)\n",
    "print(\"Score through AUPRC: \", average_precision_score(Y_train, Y_pred))\n",
    "print(\"Score: \", dtc.score(X_train, Y_train))\n",
    "Y_pred_test = dtc.predict(X_test)\n",
    "print(\"Test Score through AUPRC: \", average_precision_score(Y_test, Y_pred_test))\n",
    "print(\"Test score: \", dtc.score(X_test, Y_test))"
   ]
  },
  {
   "cell_type": "code",
   "execution_count": 15,
   "metadata": {},
   "outputs": [
    {
     "name": "stdout",
     "output_type": "stream",
     "text": [
      "Score through AUPRC:  1.0\n",
      "Score:  1.0\n",
      "Test Score through AUPRC:  0.8923735103659686\n",
      "Test score:  0.9186991869918699\n"
     ]
    }
   ],
   "source": [
    "# Balanced data\n",
    "dtc.fit(X_new_train, Y_new_train)\n",
    "Y_pred = dtc.predict(X_new_train)\n",
    "print(\"Score through AUPRC: \", average_precision_score(Y_new_train, Y_pred))\n",
    "print(\"Score: \", dtc.score(X_new_train, Y_new_train))\n",
    "Y_pred_test = dtc.predict(X_new_test)\n",
    "print(\"Test Score through AUPRC: \", average_precision_score(Y_new_test, Y_pred_test))\n",
    "print(\"Test score: \", dtc.score(X_new_test, Y_new_test))"
   ]
  },
  {
   "cell_type": "markdown",
   "metadata": {},
   "source": [
    "### Random Forest"
   ]
  },
  {
   "cell_type": "code",
   "execution_count": 17,
   "metadata": {},
   "outputs": [
    {
     "name": "stdout",
     "output_type": "stream",
     "text": [
      "Score through AUPRC:  1.0\n",
      "Score:  0.9992415907867325\n",
      "Test Score through AUPRC:  0.5494360115063955\n",
      "Test score:  0.9991292379427544\n"
     ]
    }
   ],
   "source": [
    "# Unbalanced data\n",
    "rfc = RandomForestClassifier(n_estimators=200, max_depth=3, random_state=14)\n",
    "rfc.fit(X_train, Y_train)\n",
    "Y_pred = dtc.predict(X_train)\n",
    "print(\"Score through AUPRC: \", average_precision_score(Y_train, Y_pred))\n",
    "print(\"Score: \", rfc.score(X_train, Y_train))\n",
    "Y_pred_test = rfc.predict(X_test)\n",
    "print(\"Test Score through AUPRC: \", average_precision_score(Y_test, Y_pred_test))\n",
    "print(\"Test score: \", rfc.score(X_test, Y_test))"
   ]
  },
  {
   "cell_type": "code",
   "execution_count": 18,
   "metadata": {},
   "outputs": [
    {
     "name": "stdout",
     "output_type": "stream",
     "text": [
      "Score through AUPRC:  0.9447455610179677\n",
      "Score:  0.94579945799458\n",
      "Test Score through AUPRC:  0.9136744056271572\n",
      "Test score:  0.9227642276422764\n"
     ]
    }
   ],
   "source": [
    "# Balanced data\n",
    "rfc = RandomForestClassifier(n_estimators=200, max_depth=3, random_state=14)\n",
    "rfc.fit(X_new_train, Y_new_train)\n",
    "Y_pred = rfc.predict(X_new_train)\n",
    "print(\"Score through AUPRC: \", average_precision_score(Y_new_train, Y_pred))\n",
    "print(\"Score: \", rfc.score(X_new_train, Y_new_train))\n",
    "Y_pred_test = rfc.predict(X_new_test)\n",
    "print(\"Test Score through AUPRC: \", average_precision_score(Y_new_test, Y_pred_test))\n",
    "print(\"Test score: \", rfc.score(X_new_test, Y_new_test))"
   ]
  },
  {
   "cell_type": "markdown",
   "metadata": {},
   "source": [
    "### Gradient Boost"
   ]
  },
  {
   "cell_type": "code",
   "execution_count": 19,
   "metadata": {},
   "outputs": [
    {
     "name": "stdout",
     "output_type": "stream",
     "text": [
      "Score through AUPRC:  1.0\n",
      "Score:  1.0\n",
      "Test Score through AUPRC:  0.9105405456864872\n",
      "Test score:  0.926829268292683\n"
     ]
    }
   ],
   "source": [
    "# Balanced data\n",
    "gbc = GradientBoostingClassifier(n_estimators=200)\n",
    "gbc.fit(X_new_train, Y_new_train)\n",
    "Y_pred = gbc.predict(X_new_train)\n",
    "print(\"Score through AUPRC: \", average_precision_score(Y_new_train, Y_pred))\n",
    "print(\"Score: \", gbc.score(X_new_train, Y_new_train))\n",
    "Y_pred_test = gbc.predict(X_new_test)\n",
    "print(\"Test Score through AUPRC: \", average_precision_score(Y_new_test, Y_pred_test))\n",
    "print(\"Test score: \", gbc.score(X_new_test, Y_new_test))"
   ]
  },
  {
   "cell_type": "markdown",
   "metadata": {},
   "source": [
    "## Conclusion\n",
    "\n",
    "After testing every model, Random Forest tends to be most accurate for predicting even in test set. It's also accurate AUPRC score.\n",
    "\n",
    "If we give all models ranking based on AUPRC accuracy then it would be like:\n",
    "\n",
    "    1. Random Forest\n",
    "    2. Logistic Regression\n",
    "    3. Gradient Boost\n",
    "    4. Decision Tree\n",
    "    5. SVC\n",
    "    \n",
    "SVC performed very badly with this dataset and it's accuracy is half of Random Forest."
   ]
  },
  {
   "cell_type": "code",
   "execution_count": null,
   "metadata": {
    "collapsed": true
   },
   "outputs": [],
   "source": []
  }
 ],
 "metadata": {
  "kernelspec": {
   "display_name": "Python 3",
   "language": "python",
   "name": "python3"
  },
  "language_info": {
   "codemirror_mode": {
    "name": "ipython",
    "version": 3
   },
   "file_extension": ".py",
   "mimetype": "text/x-python",
   "name": "python",
   "nbconvert_exporter": "python",
   "pygments_lexer": "ipython3",
   "version": "3.6.8"
  }
 },
 "nbformat": 4,
 "nbformat_minor": 2
}
