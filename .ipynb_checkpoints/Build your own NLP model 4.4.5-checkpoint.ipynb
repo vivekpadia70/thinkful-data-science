{
 "cells": [
  {
   "cell_type": "markdown",
   "metadata": {},
   "source": [
    "# Twitter sentiment analysis\n",
    "\n",
    "I am using twitter comments with label from here(https://www.kaggle.com/paoloripamonti/twitter-sentiment-analysis/data). Next i will convert the text into vectors using Tf-Idf vectorizer and Count vectorizer.\n",
    "\n",
    "From the vectors i would try different models like Logistic regression, Random forest classifier, SVC and Gradient boosting classifier for the purpose of performing sentiment analysis. So after every method we will conclude which model is performing best for our given data with the best performing vectorizer."
   ]
  },
  {
   "cell_type": "code",
   "execution_count": 15,
   "metadata": {},
   "outputs": [],
   "source": [
    "import numpy as np\n",
    "import pandas as pd\n",
    "import matplotlib.pyplot as plt\n",
    "import re\n",
    "import seaborn as sns\n",
    "from sklearn.feature_extraction.text import TfidfVectorizer, CountVectorizer\n",
    "from sklearn.ensemble import GradientBoostingClassifier, RandomForestClassifier\n",
    "from sklearn.linear_model import LogisticRegression\n",
    "from sklearn.svm import SVC\n",
    "from sklearn.model_selection import train_test_split, GridSearchCV\n",
    "%matplotlib inline"
   ]
  },
  {
   "cell_type": "code",
   "execution_count": 2,
   "metadata": {},
   "outputs": [],
   "source": [
    "columns = ['target', 'id', 'date', 'flag', 'user', 'text']"
   ]
  },
  {
   "cell_type": "code",
   "execution_count": 3,
   "metadata": {},
   "outputs": [],
   "source": [
    "df = pd.read_csv('C:/Users/vivek/Downloads/sentiment140/training.1600000.processed.noemoticon.csv', encoding=\"ISO-8859-1\")\n",
    "df.columns = columns"
   ]
  },
  {
   "cell_type": "code",
   "execution_count": 4,
   "metadata": {},
   "outputs": [
    {
     "data": {
      "text/html": [
       "<div>\n",
       "<style scoped>\n",
       "    .dataframe tbody tr th:only-of-type {\n",
       "        vertical-align: middle;\n",
       "    }\n",
       "\n",
       "    .dataframe tbody tr th {\n",
       "        vertical-align: top;\n",
       "    }\n",
       "\n",
       "    .dataframe thead th {\n",
       "        text-align: right;\n",
       "    }\n",
       "</style>\n",
       "<table border=\"1\" class=\"dataframe\">\n",
       "  <thead>\n",
       "    <tr style=\"text-align: right;\">\n",
       "      <th></th>\n",
       "      <th>target</th>\n",
       "      <th>id</th>\n",
       "      <th>date</th>\n",
       "      <th>flag</th>\n",
       "      <th>user</th>\n",
       "      <th>text</th>\n",
       "    </tr>\n",
       "  </thead>\n",
       "  <tbody>\n",
       "    <tr>\n",
       "      <th>0</th>\n",
       "      <td>0</td>\n",
       "      <td>1467810672</td>\n",
       "      <td>Mon Apr 06 22:19:49 PDT 2009</td>\n",
       "      <td>NO_QUERY</td>\n",
       "      <td>scotthamilton</td>\n",
       "      <td>is upset that he can't update his Facebook by ...</td>\n",
       "    </tr>\n",
       "    <tr>\n",
       "      <th>1</th>\n",
       "      <td>0</td>\n",
       "      <td>1467810917</td>\n",
       "      <td>Mon Apr 06 22:19:53 PDT 2009</td>\n",
       "      <td>NO_QUERY</td>\n",
       "      <td>mattycus</td>\n",
       "      <td>@Kenichan I dived many times for the ball. Man...</td>\n",
       "    </tr>\n",
       "    <tr>\n",
       "      <th>2</th>\n",
       "      <td>0</td>\n",
       "      <td>1467811184</td>\n",
       "      <td>Mon Apr 06 22:19:57 PDT 2009</td>\n",
       "      <td>NO_QUERY</td>\n",
       "      <td>ElleCTF</td>\n",
       "      <td>my whole body feels itchy and like its on fire</td>\n",
       "    </tr>\n",
       "    <tr>\n",
       "      <th>3</th>\n",
       "      <td>0</td>\n",
       "      <td>1467811193</td>\n",
       "      <td>Mon Apr 06 22:19:57 PDT 2009</td>\n",
       "      <td>NO_QUERY</td>\n",
       "      <td>Karoli</td>\n",
       "      <td>@nationwideclass no, it's not behaving at all....</td>\n",
       "    </tr>\n",
       "    <tr>\n",
       "      <th>4</th>\n",
       "      <td>0</td>\n",
       "      <td>1467811372</td>\n",
       "      <td>Mon Apr 06 22:20:00 PDT 2009</td>\n",
       "      <td>NO_QUERY</td>\n",
       "      <td>joy_wolf</td>\n",
       "      <td>@Kwesidei not the whole crew</td>\n",
       "    </tr>\n",
       "  </tbody>\n",
       "</table>\n",
       "</div>"
      ],
      "text/plain": [
       "   target          id                          date      flag           user  \\\n",
       "0       0  1467810672  Mon Apr 06 22:19:49 PDT 2009  NO_QUERY  scotthamilton   \n",
       "1       0  1467810917  Mon Apr 06 22:19:53 PDT 2009  NO_QUERY       mattycus   \n",
       "2       0  1467811184  Mon Apr 06 22:19:57 PDT 2009  NO_QUERY        ElleCTF   \n",
       "3       0  1467811193  Mon Apr 06 22:19:57 PDT 2009  NO_QUERY         Karoli   \n",
       "4       0  1467811372  Mon Apr 06 22:20:00 PDT 2009  NO_QUERY       joy_wolf   \n",
       "\n",
       "                                                text  \n",
       "0  is upset that he can't update his Facebook by ...  \n",
       "1  @Kenichan I dived many times for the ball. Man...  \n",
       "2    my whole body feels itchy and like its on fire   \n",
       "3  @nationwideclass no, it's not behaving at all....  \n",
       "4                      @Kwesidei not the whole crew   "
      ]
     },
     "execution_count": 4,
     "metadata": {},
     "output_type": "execute_result"
    }
   ],
   "source": [
    "df.head()"
   ]
  },
  {
   "cell_type": "code",
   "execution_count": 5,
   "metadata": {},
   "outputs": [],
   "source": [
    "df = df.drop(['id', 'date', 'flag', 'user'], 1)"
   ]
  },
  {
   "cell_type": "code",
   "execution_count": 6,
   "metadata": {},
   "outputs": [
    {
     "data": {
      "text/html": [
       "<div>\n",
       "<style scoped>\n",
       "    .dataframe tbody tr th:only-of-type {\n",
       "        vertical-align: middle;\n",
       "    }\n",
       "\n",
       "    .dataframe tbody tr th {\n",
       "        vertical-align: top;\n",
       "    }\n",
       "\n",
       "    .dataframe thead th {\n",
       "        text-align: right;\n",
       "    }\n",
       "</style>\n",
       "<table border=\"1\" class=\"dataframe\">\n",
       "  <thead>\n",
       "    <tr style=\"text-align: right;\">\n",
       "      <th></th>\n",
       "      <th>target</th>\n",
       "      <th>text</th>\n",
       "    </tr>\n",
       "  </thead>\n",
       "  <tbody>\n",
       "    <tr>\n",
       "      <th>0</th>\n",
       "      <td>0</td>\n",
       "      <td>is upset that he can't update his Facebook by ...</td>\n",
       "    </tr>\n",
       "    <tr>\n",
       "      <th>1</th>\n",
       "      <td>0</td>\n",
       "      <td>@Kenichan I dived many times for the ball. Man...</td>\n",
       "    </tr>\n",
       "    <tr>\n",
       "      <th>2</th>\n",
       "      <td>0</td>\n",
       "      <td>my whole body feels itchy and like its on fire</td>\n",
       "    </tr>\n",
       "    <tr>\n",
       "      <th>3</th>\n",
       "      <td>0</td>\n",
       "      <td>@nationwideclass no, it's not behaving at all....</td>\n",
       "    </tr>\n",
       "    <tr>\n",
       "      <th>4</th>\n",
       "      <td>0</td>\n",
       "      <td>@Kwesidei not the whole crew</td>\n",
       "    </tr>\n",
       "  </tbody>\n",
       "</table>\n",
       "</div>"
      ],
      "text/plain": [
       "   target                                               text\n",
       "0       0  is upset that he can't update his Facebook by ...\n",
       "1       0  @Kenichan I dived many times for the ball. Man...\n",
       "2       0    my whole body feels itchy and like its on fire \n",
       "3       0  @nationwideclass no, it's not behaving at all....\n",
       "4       0                      @Kwesidei not the whole crew "
      ]
     },
     "execution_count": 6,
     "metadata": {},
     "output_type": "execute_result"
    }
   ],
   "source": [
    "df.head()"
   ]
  },
  {
   "cell_type": "code",
   "execution_count": 7,
   "metadata": {},
   "outputs": [],
   "source": [
    "df = df.dropna()"
   ]
  },
  {
   "cell_type": "markdown",
   "metadata": {},
   "source": [
    "### Splitting data into train-test"
   ]
  },
  {
   "cell_type": "code",
   "execution_count": 8,
   "metadata": {},
   "outputs": [],
   "source": [
    "X_train, X_test, Y_train, Y_test = train_test_split(df['text'], df['target'])"
   ]
  },
  {
   "cell_type": "markdown",
   "metadata": {},
   "source": [
    "## Feature Extraction\n",
    "\n",
    "From our text data we need to extract features in order to pass them through model. So, we will use tfidf and count vectorizer to convert text into vectors."
   ]
  },
  {
   "cell_type": "markdown",
   "metadata": {},
   "source": [
    "### TfidfVectorizer\n",
    "\n",
    "It counts number of occurances of a word in each document and devides it by number of occurances of that word in whole corpus."
   ]
  },
  {
   "cell_type": "code",
   "execution_count": 9,
   "metadata": {},
   "outputs": [],
   "source": [
    "tfidf_vectorizer = TfidfVectorizer(min_df=2)\n",
    "tfidf_vectorizer.fit(X_train)\n",
    "X_train_tfidf = tfidf_vectorizer.transform(X_train)\n",
    "X_test_tfidf = tfidf_vectorizer.transform(X_test)"
   ]
  },
  {
   "cell_type": "markdown",
   "metadata": {},
   "source": [
    "### CountVectorizer\n",
    "\n",
    "Unlike TfidfVectorizer, it simply counts the occurances of each word and gives that number to it's column."
   ]
  },
  {
   "cell_type": "code",
   "execution_count": 10,
   "metadata": {},
   "outputs": [],
   "source": [
    "count_vectorizer = CountVectorizer()\n",
    "count_vectorizer.fit(X_train)\n",
    "X_train_count = count_vectorizer.transform(X_train)\n",
    "X_test_count = count_vectorizer.transform(X_test)"
   ]
  },
  {
   "cell_type": "markdown",
   "metadata": {},
   "source": [
    "## Model generation\n",
    "\n",
    "Now after features are ready, we'll start generating models and compare them with each other."
   ]
  },
  {
   "cell_type": "markdown",
   "metadata": {},
   "source": [
    "### RandomForestClassifier"
   ]
  },
  {
   "cell_type": "code",
   "execution_count": 11,
   "metadata": {},
   "outputs": [
    {
     "name": "stdout",
     "output_type": "stream",
     "text": [
      "Printing scores for TfidfVectorizer:- \n",
      "\n",
      "Train data score:  0.9873508227923523\n",
      "Test data score:  0.7557175\n",
      "Printing scores for CountVectorizer:- \n",
      "\n",
      "Train data score:  0.9884608237173531\n",
      "Test data score:  0.752745\n"
     ]
    }
   ],
   "source": [
    "rfc_tfidf = RandomForestClassifier(n_estimators=10)\n",
    "rfc_tfidf.fit(X_train_tfidf, Y_train)\n",
    "print(\"Printing scores for TfidfVectorizer:- \\n\")\n",
    "print(\"Train data score: \", rfc_tfidf.score(X_train_tfidf, Y_train))\n",
    "print(\"Test data score: \", rfc_tfidf.score(X_test_tfidf, Y_test))\n",
    "\n",
    "rfc_count = RandomForestClassifier(n_estimators=10)\n",
    "rfc_count.fit(X_train_count, Y_train)\n",
    "print(\"Printing scores for CountVectorizer:- \\n\")\n",
    "print(\"Train data score: \", rfc_count.score(X_train_count, Y_train))\n",
    "print(\"Test data score: \", rfc_count.score(X_test_count, Y_test))"
   ]
  },
  {
   "cell_type": "markdown",
   "metadata": {},
   "source": [
    "### GradientBoostingClassifier"
   ]
  },
  {
   "cell_type": "code",
   "execution_count": 12,
   "metadata": {},
   "outputs": [
    {
     "name": "stdout",
     "output_type": "stream",
     "text": [
      "Printing scores for TfidfVectorizer:- \n",
      "\n",
      "Train data score:  0.7009239174365979\n",
      "Test data score:  0.701105\n",
      "Printing scores for CountVectorizer:- \n",
      "\n",
      "Train data score:  0.6994572495477079\n",
      "Test data score:  0.6997075\n"
     ]
    }
   ],
   "source": [
    "gbc_tfidf = GradientBoostingClassifier(loss='exponential')\n",
    "gbc_tfidf.fit(X_train_tfidf, Y_train)\n",
    "print(\"Printing scores for TfidfVectorizer:- \\n\")\n",
    "print(\"Train data score: \", gbc_tfidf.score(X_train_tfidf, Y_train))\n",
    "print(\"Test data score: \", gbc_tfidf.score(X_test_tfidf, Y_test))\n",
    "\n",
    "gbc_count = GradientBoostingClassifier(loss='exponential')\n",
    "gbc_count.fit(X_train_count, Y_train)\n",
    "print(\"Printing scores for CountVectorizer:- \\n\")\n",
    "print(\"Train data score: \", gbc_count.score(X_train_count, Y_train))\n",
    "print(\"Test data score: \", gbc_count.score(X_test_count, Y_test))"
   ]
  },
  {
   "cell_type": "markdown",
   "metadata": {},
   "source": [
    "### LogisticRegression"
   ]
  },
  {
   "cell_type": "code",
   "execution_count": 13,
   "metadata": {},
   "outputs": [
    {
     "name": "stderr",
     "output_type": "stream",
     "text": [
      "C:\\Users\\vivek\\Anaconda3\\lib\\site-packages\\sklearn\\linear_model\\logistic.py:433: FutureWarning: Default solver will be changed to 'lbfgs' in 0.22. Specify a solver to silence this warning.\n",
      "  FutureWarning)\n"
     ]
    },
    {
     "name": "stdout",
     "output_type": "stream",
     "text": [
      "Printing scores for TfidfVectorizer:- \n",
      "\n",
      "Train data score:  0.8224781853984878\n",
      "Test data score:  0.803285\n",
      "Printing scores for CountVectorizer:- \n",
      "\n",
      "Train data score:  0.8574990479158733\n",
      "Test data score:  0.8006675\n"
     ]
    }
   ],
   "source": [
    "lr_tfidf = LogisticRegression()\n",
    "lr_tfidf.fit(X_train_tfidf, Y_train)\n",
    "print(\"Printing scores for TfidfVectorizer:- \\n\")\n",
    "print(\"Train data score: \", lr_tfidf.score(X_train_tfidf, Y_train))\n",
    "print(\"Test data score: \", lr_tfidf.score(X_test_tfidf, Y_test))\n",
    "\n",
    "lr_count = LogisticRegression()\n",
    "lr_count.fit(X_train_count, Y_train)\n",
    "print(\"Printing scores for CountVectorizer:- \\n\")\n",
    "print(\"Train data score: \", lr_count.score(X_train_count, Y_train))\n",
    "print(\"Test data score: \", lr_count.score(X_test_count, Y_test))"
   ]
  },
  {
   "cell_type": "markdown",
   "metadata": {},
   "source": [
    "### SVC"
   ]
  },
  {
   "cell_type": "code",
   "execution_count": null,
   "metadata": {},
   "outputs": [
    {
     "name": "stderr",
     "output_type": "stream",
     "text": [
      "C:\\Users\\vivek\\Anaconda3\\lib\\site-packages\\sklearn\\svm\\base.py:196: FutureWarning: The default value of gamma will change from 'auto' to 'scale' in version 0.22 to account better for unscaled features. Set gamma explicitly to 'auto' or 'scale' to avoid this warning.\n",
      "  \"avoid this warning.\", FutureWarning)\n"
     ]
    }
   ],
   "source": [
    "svc_tfidf = SVC()\n",
    "svc_tfidf.fit(X_train_tfidf, Y_train)\n",
    "print(\"Printing scores for TfidfVectorizer:- \\n\")\n",
    "print(\"Train data score: \", svc_tfidf.score(X_train_tfidf, Y_train))\n",
    "print(\"Test data score: \", svc_tfidf.score(X_test_tfidf, Y_test))\n",
    "\n",
    "svc_count = SVC()\n",
    "svc_count.fit(X_train_count, Y_train)\n",
    "print(\"Printing scores for CountVectorizer:- \\n\")\n",
    "print(\"Train data score: \", svc_count.score(X_train_count, Y_train))\n",
    "print(\"Test data score: \", svc_count.score(X_test_count, Y_test))"
   ]
  },
  {
   "cell_type": "markdown",
   "metadata": {},
   "source": [
    "### GridSearchCV for best hyperparameters in LogisticRegression"
   ]
  },
  {
   "cell_type": "code",
   "execution_count": 19,
   "metadata": {},
   "outputs": [
    {
     "name": "stdout",
     "output_type": "stream",
     "text": [
      "Best parameters:  {'C': 1.0, 'penalty': 'l2', 'random_state': 0, 'solver': 'saga'}\n",
      "Train data score:  0.8224723520602933\n",
      "Test data score:  0.803285\n"
     ]
    }
   ],
   "source": [
    "hyperparameters = {\n",
    "    'penalty': ['l2'],\n",
    "    'random_state': [0, 20, 50],\n",
    "    'C': [0.1, 0.5, 1.0],\n",
    "    'solver': ['newton-cg', 'liblinear', 'sag', 'saga']\n",
    "}\n",
    "lr = LogisticRegression()\n",
    "CV_lr = GridSearchCV(lr, hyperparameters, cv=3)\n",
    "CV_lr.fit(X_train_tfidf, Y_train)\n",
    "print(\"Best parameters: \", CV_lr.best_params_)\n",
    "print(\"Train data score: \", CV_lr.score(X_train_tfidf, Y_train))\n",
    "print(\"Test data score: \", CV_lr.score(X_test_tfidf, Y_test))"
   ]
  },
  {
   "cell_type": "code",
   "execution_count": 23,
   "metadata": {},
   "outputs": [
    {
     "name": "stderr",
     "output_type": "stream",
     "text": [
      "C:\\Users\\vivek\\Anaconda3\\lib\\site-packages\\sklearn\\linear_model\\sag.py:334: ConvergenceWarning: The max_iter was reached which means the coef_ did not converge\n",
      "  \"the coef_ did not converge\", ConvergenceWarning)\n"
     ]
    },
    {
     "name": "stdout",
     "output_type": "stream",
     "text": [
      "Printing scores for TfidfVectorizer:- \n",
      "\n",
      "Train data score:  0.8108965090804242\n",
      "Test data score:  0.80185\n"
     ]
    }
   ],
   "source": [
    "lr_tfidf = LogisticRegression(penalty= 'l1', random_state= 0, C=1.0, solver= 'saga')\n",
    "lr_tfidf.fit(X_train_tfidf, Y_train)\n",
    "print(\"Printing scores for TfidfVectorizer:- \\n\")\n",
    "print(\"Train data score: \", lr_tfidf.score(X_train_tfidf, Y_train))\n",
    "print(\"Test data score: \", lr_tfidf.score(X_test_tfidf, Y_test))"
   ]
  },
  {
   "cell_type": "markdown",
   "metadata": {},
   "source": [
    "# Conclusion\n",
    "\n",
    "In conclusion, LogisticRegression works best along with TfidfVectorizer for accuracy of 82% in training dataset and 80% in testing dataset. RandomForestClassifier seems to overfit the data for both the vectorizing methods.\n",
    "\n",
    "GradientBoostingClassifier was only able to get 70% in both the training and testing datasets. I tried to increase accuracy of LogisticRegression by trying different parameters using GridSearchCV but it was not able to."
   ]
  },
  {
   "cell_type": "code",
   "execution_count": null,
   "metadata": {},
   "outputs": [],
   "source": []
  }
 ],
 "metadata": {
  "kernelspec": {
   "display_name": "Python 3",
   "language": "python",
   "name": "python3"
  },
  "language_info": {
   "codemirror_mode": {
    "name": "ipython",
    "version": 3
   },
   "file_extension": ".py",
   "mimetype": "text/x-python",
   "name": "python",
   "nbconvert_exporter": "python",
   "pygments_lexer": "ipython3",
   "version": "3.7.3"
  }
 },
 "nbformat": 4,
 "nbformat_minor": 2
}
