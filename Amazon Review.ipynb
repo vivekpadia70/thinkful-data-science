{
 "cells": [
  {
   "cell_type": "markdown",
   "metadata": {},
   "source": [
    "## Amazon Review\n",
    "\n",
    "Sentiment analysis is a machine learning model used for understanding natural languages. It is used for identifying the feeling behind a particular text, i.e. whether the text means happy, sad, angry and so on.\n",
    "\n",
    "This could be used in multiple scenarios like a big brand don't need to go through every review to know how it's users are reacting. Whether they can run sentiment analysis to extract the feeling information for their brand.\n",
    "\n",
    "Here, we will be building such model from amazon's review dataset and we'll use Random Forest for this task."
   ]
  },
  {
   "cell_type": "code",
   "execution_count": 1,
   "metadata": {},
   "outputs": [],
   "source": [
    "import numpy as np\n",
    "import pandas as pd\n",
    "import matplotlib.pyplot as plt\n",
    "import seaborn as sns\n",
    "from sklearn.ensemble import RandomForestClassifier\n",
    "import nltk\n",
    "from sklearn.feature_extraction import text\n",
    "from sklearn.model_selection import cross_val_score, GridSearchCV\n",
    "from nltk.corpus import stopwords\n",
    "\n",
    "%matplotlib inline"
   ]
  },
  {
   "cell_type": "code",
   "execution_count": 2,
   "metadata": {},
   "outputs": [],
   "source": [
    "df = pd.read_json('~/Downloads/Tools_and_Home_Improvement_5.json', lines=True)"
   ]
  },
  {
   "cell_type": "code",
   "execution_count": 3,
   "metadata": {},
   "outputs": [],
   "source": [
    "df_test = pd.read_json('~/Downloads/Cell_Phones_and_Accessories_5.json', lines=True)"
   ]
  },
  {
   "cell_type": "code",
   "execution_count": 4,
   "metadata": {},
   "outputs": [
    {
     "data": {
      "text/html": [
       "<div>\n",
       "<style scoped>\n",
       "    .dataframe tbody tr th:only-of-type {\n",
       "        vertical-align: middle;\n",
       "    }\n",
       "\n",
       "    .dataframe tbody tr th {\n",
       "        vertical-align: top;\n",
       "    }\n",
       "\n",
       "    .dataframe thead th {\n",
       "        text-align: right;\n",
       "    }\n",
       "</style>\n",
       "<table border=\"1\" class=\"dataframe\">\n",
       "  <thead>\n",
       "    <tr style=\"text-align: right;\">\n",
       "      <th></th>\n",
       "      <th>asin</th>\n",
       "      <th>helpful</th>\n",
       "      <th>overall</th>\n",
       "      <th>reviewText</th>\n",
       "      <th>reviewTime</th>\n",
       "      <th>reviewerID</th>\n",
       "      <th>reviewerName</th>\n",
       "      <th>summary</th>\n",
       "      <th>unixReviewTime</th>\n",
       "    </tr>\n",
       "  </thead>\n",
       "  <tbody>\n",
       "    <tr>\n",
       "      <th>0</th>\n",
       "      <td>104800001X</td>\n",
       "      <td>[0, 1]</td>\n",
       "      <td>5</td>\n",
       "      <td>I hate it when my shirt collars, not otherwise...</td>\n",
       "      <td>01 29, 2014</td>\n",
       "      <td>A4IL0CLL27Q33</td>\n",
       "      <td>D. Brennan</td>\n",
       "      <td>Perfect for collar stay management</td>\n",
       "      <td>1390953600</td>\n",
       "    </tr>\n",
       "    <tr>\n",
       "      <th>1</th>\n",
       "      <td>104800001X</td>\n",
       "      <td>[0, 0]</td>\n",
       "      <td>5</td>\n",
       "      <td>These little magnets are really powerful for t...</td>\n",
       "      <td>05 31, 2013</td>\n",
       "      <td>A3Q5W5E7TDVLJF</td>\n",
       "      <td>funnyc130</td>\n",
       "      <td>Neat</td>\n",
       "      <td>1369958400</td>\n",
       "    </tr>\n",
       "    <tr>\n",
       "      <th>2</th>\n",
       "      <td>104800001X</td>\n",
       "      <td>[0, 0]</td>\n",
       "      <td>5</td>\n",
       "      <td>I wanted something this small to mount on the ...</td>\n",
       "      <td>03 13, 2013</td>\n",
       "      <td>A37KNOJXE2FU6</td>\n",
       "      <td>Joseph Yonke II</td>\n",
       "      <td>Very small and thin</td>\n",
       "      <td>1363132800</td>\n",
       "    </tr>\n",
       "    <tr>\n",
       "      <th>3</th>\n",
       "      <td>104800001X</td>\n",
       "      <td>[0, 0]</td>\n",
       "      <td>5</td>\n",
       "      <td>I use these to magnetize my Warhammer 40K mini...</td>\n",
       "      <td>06 16, 2013</td>\n",
       "      <td>A3U4AFML9SZPWK</td>\n",
       "      <td>Leith Tussing \"I like tacos.\"</td>\n",
       "      <td>Excellent hobby magnets</td>\n",
       "      <td>1371340800</td>\n",
       "    </tr>\n",
       "    <tr>\n",
       "      <th>4</th>\n",
       "      <td>104800001X</td>\n",
       "      <td>[23, 25]</td>\n",
       "      <td>5</td>\n",
       "      <td>They are soo freaking annoying!!  Why?! You sp...</td>\n",
       "      <td>08 9, 2013</td>\n",
       "      <td>A36Y7X194VWVKA</td>\n",
       "      <td>Mark D.</td>\n",
       "      <td>They're annoying... which is why they get five...</td>\n",
       "      <td>1376006400</td>\n",
       "    </tr>\n",
       "  </tbody>\n",
       "</table>\n",
       "</div>"
      ],
      "text/plain": [
       "         asin   helpful  overall  \\\n",
       "0  104800001X    [0, 1]        5   \n",
       "1  104800001X    [0, 0]        5   \n",
       "2  104800001X    [0, 0]        5   \n",
       "3  104800001X    [0, 0]        5   \n",
       "4  104800001X  [23, 25]        5   \n",
       "\n",
       "                                          reviewText   reviewTime  \\\n",
       "0  I hate it when my shirt collars, not otherwise...  01 29, 2014   \n",
       "1  These little magnets are really powerful for t...  05 31, 2013   \n",
       "2  I wanted something this small to mount on the ...  03 13, 2013   \n",
       "3  I use these to magnetize my Warhammer 40K mini...  06 16, 2013   \n",
       "4  They are soo freaking annoying!!  Why?! You sp...   08 9, 2013   \n",
       "\n",
       "       reviewerID                   reviewerName  \\\n",
       "0   A4IL0CLL27Q33                     D. Brennan   \n",
       "1  A3Q5W5E7TDVLJF                      funnyc130   \n",
       "2   A37KNOJXE2FU6                Joseph Yonke II   \n",
       "3  A3U4AFML9SZPWK  Leith Tussing \"I like tacos.\"   \n",
       "4  A36Y7X194VWVKA                        Mark D.   \n",
       "\n",
       "                                             summary  unixReviewTime  \n",
       "0                 Perfect for collar stay management      1390953600  \n",
       "1                                               Neat      1369958400  \n",
       "2                                Very small and thin      1363132800  \n",
       "3                            Excellent hobby magnets      1371340800  \n",
       "4  They're annoying... which is why they get five...      1376006400  "
      ]
     },
     "execution_count": 4,
     "metadata": {},
     "output_type": "execute_result"
    }
   ],
   "source": [
    "df.head()"
   ]
  },
  {
   "cell_type": "code",
   "execution_count": 5,
   "metadata": {},
   "outputs": [
    {
     "data": {
      "text/plain": [
       "<matplotlib.axes._subplots.AxesSubplot at 0x1f2bd319390>"
      ]
     },
     "execution_count": 5,
     "metadata": {},
     "output_type": "execute_result"
    },
    {
     "data": {
      "image/png": "[encoded data removed]",
      "text/plain": [
       "<Figure size 432x288 with 1 Axes>"
      ]
     },
     "metadata": {
      "needs_background": "light"
     },
     "output_type": "display_data"
    }
   ],
   "source": [
    "sns.distplot(df['overall'])"
   ]
  },
  {
   "cell_type": "markdown",
   "metadata": {},
   "source": [
    "### Converting text to features\n",
    "\n",
    "First we need to convert our text to features and then pass it to model. We need to use Vectorization, which will convert text to features using different algorithms. We will compare 3 different Vectorization techniques here:\n",
    "\n",
    "    1. tf-idf vectorization\n",
    "    2. count vectorization"
   ]
  },
  {
   "cell_type": "markdown",
   "metadata": {},
   "source": [
    "### TFIDF Vectorizer"
   ]
  },
  {
   "cell_type": "markdown",
   "metadata": {},
   "source": [
    "TFIDF vectorizer converts text to vectors such that count of words per sentence is divided by count of word in the document. Which gives more information about important words and less information for repeating words."
   ]
  },
  {
   "cell_type": "code",
   "execution_count": 6,
   "metadata": {},
   "outputs": [],
   "source": [
    "tfidf_vectorizer = text.TfidfVectorizer(max_features=1500, min_df=5, max_df=0.7, stop_words=stopwords.words('english'))\n",
    "tfidf_vectorizer.fit(df['reviewText'])\n",
    "X = tfidf_vectorizer.transform(df['reviewText']).toarray()"
   ]
  },
  {
   "cell_type": "code",
   "execution_count": 7,
   "metadata": {},
   "outputs": [],
   "source": [
    "Y = df['overall']"
   ]
  },
  {
   "cell_type": "code",
   "execution_count": 8,
   "metadata": {},
   "outputs": [
    {
     "name": "stdout",
     "output_type": "stream",
     "text": [
      "(100000, 1500)\n",
      "(34476,)\n"
     ]
    }
   ],
   "source": [
    "print(X[:100000].shape)\n",
    "print(Y[100000:].shape)"
   ]
  },
  {
   "cell_type": "code",
   "execution_count": 9,
   "metadata": {},
   "outputs": [],
   "source": [
    "X_test = tfidf_vectorizer.transform(df_test['reviewText']).toarray()\n",
    "Y_test = df_test['overall']"
   ]
  },
  {
   "cell_type": "code",
   "execution_count": 10,
   "metadata": {},
   "outputs": [
    {
     "name": "stdout",
     "output_type": "stream",
     "text": [
      "Best Parameters:  {'max_features': 'auto', 'n_estimators': 20}\n",
      "Model score on tfidf vectorizer:  0.6340610964038192\n",
      "Cross validation:  [0.63402483 0.6340348  0.63405838 0.63408195 0.63410553]\n",
      "Model score on test data after tfidf vectorizer:  0.5588590766255741\n"
     ]
    }
   ],
   "source": [
    "rfc = RandomForestClassifier(n_estimators=20, max_depth=3)\n",
    "param_grid = {\n",
    "    'n_estimators': [20, 30, 40, 50, 60],\n",
    "    'max_features': ['auto', 'sqrt', 'log2']\n",
    "}\n",
    "CV_rfc_tfidf = GridSearchCV(rfc, param_grid=param_grid, cv=5)\n",
    "CV_rfc_tfidf.fit(X, Y)\n",
    "print(\"Best Parameters: \", CV_rfc_tfidf.best_params_)\n",
    "print(\"Model score on tfidf vectorizer: \", CV_rfc_tfidf.score(X, Y))\n",
    "print(\"Cross validation: \", cross_val_score(CV_rfc_tfidf, X, Y, cv=5))\n",
    "print(\"Model score on test data after tfidf vectorizer: \", CV_rfc_tfidf.score(X_test, Y_test))"
   ]
  },
  {
   "cell_type": "markdown",
   "metadata": {},
   "source": [
    "### Count Vectorizer"
   ]
  },
  {
   "cell_type": "markdown",
   "metadata": {},
   "source": [
    "It gives count matrix for each word in dataset. Count vectorizer uses alot of memory to parse this much data. So, we will fit our model using first 100000 entries."
   ]
  },
  {
   "cell_type": "code",
   "execution_count": 11,
   "metadata": {},
   "outputs": [],
   "source": [
    "count_vectorizer = text.CountVectorizer(ngram_range=(1, 3))\n",
    "count_vectorizer.fit(df['reviewText'][:100000])\n",
    "X = count_vectorizer.transform(df['reviewText'][:100000])\n",
    "Y = df['overall'][:100000]"
   ]
  },
  {
   "cell_type": "code",
   "execution_count": 12,
   "metadata": {},
   "outputs": [],
   "source": [
    "X_test = count_vectorizer.transform(df_test['reviewText'][:100000])\n",
    "Y_test = df_test['overall'][:100000]"
   ]
  },
  {
   "cell_type": "code",
   "execution_count": 16,
   "metadata": {},
   "outputs": [
    {
     "name": "stdout",
     "output_type": "stream",
     "text": [
      "Best Parameters:  {'max_features': 'auto', 'n_estimators': 20}\n",
      "Model score on count vectorizer:  0.64002\n",
      "Cross validation:  [0.63995401 0.640018   0.640032   0.640032   0.64006401]\n",
      "Model score on test data after count vectorizer:  0.53665\n"
     ]
    }
   ],
   "source": [
    "rfc = RandomForestClassifier(n_estimators=20, max_depth=3)\n",
    "param_grid = {\n",
    "    'n_estimators': [20, 30, 40],\n",
    "    'max_features': ['auto', 'sqrt', 'log2']\n",
    "}\n",
    "CV_rfc_count = GridSearchCV(rfc, param_grid=param_grid, cv=5)\n",
    "CV_rfc_count.fit(X, Y)\n",
    "print(\"Best Parameters: \", CV_rfc_count.best_params_)\n",
    "print(\"Model score on count vectorizer: \", CV_rfc_count.score(X, Y))\n",
    "print(\"Cross validation: \", cross_val_score(CV_rfc_count, X, Y, cv=5))\n",
    "print(\"Model score on test data after count vectorizer: \", CV_rfc_count.score(X_test, Y_test))"
   ]
  },
  {
   "cell_type": "markdown",
   "metadata": {},
   "source": [
    "## Conclusion"
   ]
  },
  {
   "cell_type": "markdown",
   "metadata": {},
   "source": [
    "We have used same type of model for our vectorizers. So, we can say that accuracy is not affected by model but mainly by the method of vectorization used. Both the methods perform almost similar to each other.\n",
    "\n",
    "But something interesting is happening here. Tfidf vectorizer gives less score for training dataset but it's score on test dataset is higher than count vectorizer."
   ]
  },
  {
   "cell_type": "code",
   "execution_count": null,
   "metadata": {},
   "outputs": [],
   "source": []
  }
 ],
 "metadata": {
  "kernelspec": {
   "display_name": "Python 3",
   "language": "python",
   "name": "python3"
  },
  "language_info": {
   "codemirror_mode": {
    "name": "ipython",
    "version": 3
   },
   "file_extension": ".py",
   "mimetype": "text/x-python",
   "name": "python",
   "nbconvert_exporter": "python",
   "pygments_lexer": "ipython3",
   "version": "3.7.3"
  }
 },
 "nbformat": 4,
 "nbformat_minor": 2
}
