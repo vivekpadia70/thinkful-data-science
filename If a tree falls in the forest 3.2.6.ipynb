{
 "cells": [
  {
   "cell_type": "code",
   "execution_count": 1,
   "metadata": {
    "collapsed": true
   },
   "outputs": [],
   "source": [
    "import pandas as pd\n",
    "import numpy as np\n",
    "import matplotlib.pyplot as plt\n",
    "from sklearn import tree\n",
    "from sklearn import ensemble\n",
    "from sklearn.model_selection import cross_val_score, GridSearchCV, train_test_split\n",
    "from sklearn.preprocessing import StandardScaler\n",
    "from sklearn.decomposition import PCA\n",
    "from sklearn.metrics import classification_report, confusion_matrix\n",
    "from sklearn.feature_selection import SelectKBest\n",
    "import seaborn as sns\n",
    "import time\n",
    "%matplotlib inline"
   ]
  },
  {
   "cell_type": "markdown",
   "metadata": {},
   "source": [
    "we will be using Churn modelling dataset for comparing two models."
   ]
  },
  {
   "cell_type": "code",
   "execution_count": 2,
   "metadata": {
    "collapsed": true
   },
   "outputs": [],
   "source": [
    "df = pd.read_csv('~/Downloads/Churn_Modelling.csv')"
   ]
  },
  {
   "cell_type": "markdown",
   "metadata": {},
   "source": [
    "IsActiveMember column has both the values set up equally in dataset, so we'll be using it as label."
   ]
  },
  {
   "cell_type": "code",
   "execution_count": 3,
   "metadata": {},
   "outputs": [
    {
     "name": "stderr",
     "output_type": "stream",
     "text": [
      "/home/vivek/.local/lib/python3.6/site-packages/matplotlib/axes/_axes.py:6462: UserWarning: The 'normed' kwarg is deprecated, and has been replaced by the 'density' kwarg.\n",
      "  warnings.warn(\"The 'normed' kwarg is deprecated, and has been \"\n"
     ]
    },
    {
     "data": {
      "text/plain": [
       "<matplotlib.axes._subplots.AxesSubplot at 0x7f19bf6df748>"
      ]
     },
     "execution_count": 3,
     "metadata": {},
     "output_type": "execute_result"
    },
    {
     "data": {
      "image/png": "[encoded data removed]",
      "text/plain": [
       "<Figure size 432x288 with 1 Axes>"
      ]
     },
     "metadata": {},
     "output_type": "display_data"
    }
   ],
   "source": [
    "sns.distplot(df['IsActiveMember'])"
   ]
  },
  {
   "cell_type": "markdown",
   "metadata": {},
   "source": [
    "## Data Preprocessing"
   ]
  },
  {
   "cell_type": "code",
   "execution_count": 4,
   "metadata": {},
   "outputs": [],
   "source": [
    "df = df.drop(['RowNumber', 'Surname'], 1)"
   ]
  },
  {
   "cell_type": "code",
   "execution_count": 5,
   "metadata": {
    "collapsed": true
   },
   "outputs": [],
   "source": [
    "df['Gender'] = df['Gender'].replace('Male', 1)\n",
    "df['Gender'] = df['Gender'].replace('Female', 0)"
   ]
  },
  {
   "cell_type": "code",
   "execution_count": 6,
   "metadata": {},
   "outputs": [
    {
     "data": {
      "text/plain": [
       "France     5014\n",
       "Germany    2509\n",
       "Spain      2477\n",
       "Name: Geography, dtype: int64"
      ]
     },
     "execution_count": 6,
     "metadata": {},
     "output_type": "execute_result"
    }
   ],
   "source": [
    "df['Geography'].value_counts()"
   ]
  },
  {
   "cell_type": "code",
   "execution_count": 7,
   "metadata": {},
   "outputs": [],
   "source": [
    "df['France'] = df['Geography'] == 'France'\n",
    "df['Germany'] = df['Geography'] == 'Germany'\n",
    "df['Spain'] = df['Geography'] == 'Spain'"
   ]
  },
  {
   "cell_type": "code",
   "execution_count": 8,
   "metadata": {
    "collapsed": true
   },
   "outputs": [],
   "source": [
    "df['France'] = df['France'].replace(True, 1)\n",
    "df['Germany'] = df['Germany'].replace(True, 1)\n",
    "df['Spain'] = df['Spain'].replace(True, 1)"
   ]
  },
  {
   "cell_type": "markdown",
   "metadata": {},
   "source": [
    "## PCA"
   ]
  },
  {
   "cell_type": "code",
   "execution_count": 9,
   "metadata": {},
   "outputs": [
    {
     "data": {
      "text/plain": [
       "PCA(copy=True, iterated_power='auto', n_components=0.95, random_state=None,\n",
       "  svd_solver='auto', tol=0.0, whiten=False)"
      ]
     },
     "execution_count": 9,
     "metadata": {},
     "output_type": "execute_result"
    }
   ],
   "source": [
    "pca = PCA(.95)\n",
    "df = df.drop('Geography',1)\n",
    "X = df.drop('IsActiveMember', 1)\n",
    "Y = df['IsActiveMember']\n",
    "X_train, X_test, Y_train, Y_test = train_test_split(X,Y, random_state = 55)\n",
    "pca.fit(X_train)"
   ]
  },
  {
   "cell_type": "code",
   "execution_count": 10,
   "metadata": {},
   "outputs": [
    {
     "name": "stdout",
     "output_type": "stream",
     "text": [
      "(7500, 3)\n",
      "(2500, 3)\n"
     ]
    }
   ],
   "source": [
    "df_train_pca = pca.transform(X_train)\n",
    "df_test_pca = pca.transform(X_test)\n",
    "print(df_train_pca.shape)\n",
    "print(df_test_pca.shape)"
   ]
  },
  {
   "cell_type": "markdown",
   "metadata": {},
   "source": [
    "Here, we used PCA with 95% of variance and it reduced feature size from 13 to 3. It means 3 features contains 95% knowledge of 13 features."
   ]
  },
  {
   "cell_type": "markdown",
   "metadata": {},
   "source": [
    "## SelectKBest"
   ]
  },
  {
   "cell_type": "code",
   "execution_count": 11,
   "metadata": {
    "collapsed": true
   },
   "outputs": [],
   "source": [
    "X_new_test = SelectKBest(k=10).fit_transform(X_test, Y_test)"
   ]
  },
  {
   "cell_type": "code",
   "execution_count": 12,
   "metadata": {
    "collapsed": true
   },
   "outputs": [],
   "source": [
    "X_new = SelectKBest(k=10).fit_transform(X_train, Y_train)"
   ]
  },
  {
   "cell_type": "code",
   "execution_count": 13,
   "metadata": {
    "scrolled": true
   },
   "outputs": [
    {
     "data": {
      "text/plain": [
       "array([[521.,   0.,  39., ...,   1.,   0.,   0.],\n",
       "       [630.,   0.,  26., ...,   1.,   0.,   0.],\n",
       "       [555.,   1.,  42., ...,   0.,   1.,   0.],\n",
       "       ...,\n",
       "       [668.,   1.,  72., ...,   1.,   0.,   0.],\n",
       "       [544.,   1.,  37., ...,   1.,   0.,   0.],\n",
       "       [756.,   1.,  34., ...,   1.,   0.,   0.]])"
      ]
     },
     "execution_count": 13,
     "metadata": {},
     "output_type": "execute_result"
    }
   ],
   "source": [
    "X_new"
   ]
  },
  {
   "cell_type": "markdown",
   "metadata": {},
   "source": [
    "## Decision Tree"
   ]
  },
  {
   "cell_type": "code",
   "execution_count": 14,
   "metadata": {
    "collapsed": true
   },
   "outputs": [],
   "source": [
    "decision_tree = tree.DecisionTreeClassifier(criterion='entropy')"
   ]
  },
  {
   "cell_type": "code",
   "execution_count": 15,
   "metadata": {
    "scrolled": false
   },
   "outputs": [
    {
     "name": "stdout",
     "output_type": "stream",
     "text": [
      "--- 0.1862637996673584 seconds ---\n",
      "Classification report: \n",
      "             precision    recall  f1-score   support\n",
      "\n",
      "          0       1.00      1.00      1.00      3614\n",
      "          1       1.00      1.00      1.00      3886\n",
      "\n",
      "avg / total       1.00      1.00      1.00      7500\n",
      "\n",
      "Cross Validation: \n",
      "[0.5286285  0.47669774 0.50732357 0.49001332 0.49733333 0.51066667\n",
      " 0.52736983 0.52336449 0.49799733 0.51668892]\n",
      "Confusion Matrix: \n",
      "[[3614    0]\n",
      " [   0 3886]]\n"
     ]
    }
   ],
   "source": [
    "start = time.time()\n",
    "decision_tree.fit(X_new, Y_train)\n",
    "Y_pred = decision_tree.predict(X_new)\n",
    "print(\"--- %s seconds ---\" % (time.time() - start))\n",
    "print(\"Classification report: \")\n",
    "print(classification_report(Y_train, Y_pred))\n",
    "print(\"Cross Validation: \")\n",
    "print(cross_val_score(decision_tree, df_train_pca, Y_train, cv=10))\n",
    "print(\"Confusion Matrix: \")\n",
    "print(confusion_matrix(Y_train, Y_pred))"
   ]
  },
  {
   "cell_type": "code",
   "execution_count": 16,
   "metadata": {},
   "outputs": [
    {
     "name": "stdout",
     "output_type": "stream",
     "text": [
      "[[ 168 1067]\n",
      " [ 208 1057]]\n",
      "test data score:  0.49\n"
     ]
    }
   ],
   "source": [
    "Y_test_pred = decision_tree.predict(X_new_test)\n",
    "\n",
    "#print confusion matrix for test set\n",
    "print(confusion_matrix(Y_test, Y_test_pred))\n",
    "print(\"test data score: \", decision_tree.score(X_new_test, Y_test))"
   ]
  },
  {
   "cell_type": "markdown",
   "metadata": {},
   "source": [
    "## Random Forest with PCA"
   ]
  },
  {
   "cell_type": "code",
   "execution_count": 17,
   "metadata": {},
   "outputs": [
    {
     "name": "stdout",
     "output_type": "stream",
     "text": [
      "{'max_features': 'log2', 'n_estimators': 40}\n",
      "--- 67.3730685710907 seconds ---\n",
      "Classification report: \n",
      "             precision    recall  f1-score   support\n",
      "\n",
      "          0       1.00      1.00      1.00      3614\n",
      "          1       1.00      1.00      1.00      3886\n",
      "\n",
      "avg / total       1.00      1.00      1.00      7500\n",
      "\n",
      "Cross Validation: \n",
      "[0.50998668 0.50466045 0.49001332 0.49533955 0.516      0.48133333\n",
      " 0.5046729  0.50066756 0.51535381 0.4953271 ]\n",
      "Confusion Matrix: \n",
      "[[3613    1]\n",
      " [   2 3884]]\n"
     ]
    }
   ],
   "source": [
    "start = time.time()\n",
    "rfc = ensemble.RandomForestClassifier(n_estimators=1)\n",
    "\n",
    "# params for GridSearchCV\n",
    "param_grid = {\n",
    "    'n_estimators': [20, 30, 40, 50, 60],\n",
    "    'max_features': ['auto', 'sqrt', 'log2']\n",
    "}\n",
    "\n",
    "# using GridSearchCV to select best suited params\n",
    "CV_rfc = GridSearchCV(estimator=rfc, param_grid=param_grid, cv= 5)\n",
    "CV_rfc.fit(df_train_pca, Y_train)\n",
    "Y_pred = CV_rfc.predict(df_train_pca)\n",
    "\n",
    "#printing best parameters\n",
    "print(CV_rfc.best_params_)\n",
    "\n",
    "#printing time taken to complete iteration\n",
    "print(\"--- %s seconds ---\" % (time.time() - start))\n",
    "print(\"Classification report: \")\n",
    "print(classification_report(Y_train, Y_pred))\n",
    "print(\"Cross Validation: \")\n",
    "print(cross_val_score(rfc, df_train_pca, Y_train, cv=10))\n",
    "print(\"Confusion Matrix: \")\n",
    "print(confusion_matrix(Y_train, Y_pred))"
   ]
  },
  {
   "cell_type": "code",
   "execution_count": 18,
   "metadata": {},
   "outputs": [
    {
     "name": "stdout",
     "output_type": "stream",
     "text": [
      "[[616 619]\n",
      " [656 609]]\n",
      "test data score:  0.49\n"
     ]
    }
   ],
   "source": [
    "Y_test_pred = CV_rfc.predict(df_test_pca)\n",
    "print(confusion_matrix(Y_test, Y_test_pred))\n",
    "\n",
    "print(\"test data score: \", CV_rfc.score(df_test_pca, Y_test))"
   ]
  },
  {
   "cell_type": "markdown",
   "metadata": {},
   "source": [
    "## Random Forest with SelectKBest"
   ]
  },
  {
   "cell_type": "code",
   "execution_count": 19,
   "metadata": {},
   "outputs": [
    {
     "name": "stdout",
     "output_type": "stream",
     "text": [
      "{'max_features': 'auto', 'n_estimators': 30}\n",
      "--- 66.44174551963806 seconds ---\n",
      "Classification report: \n",
      "             precision    recall  f1-score   support\n",
      "\n",
      "          0       1.00      1.00      1.00      3614\n",
      "          1       1.00      1.00      1.00      3886\n",
      "\n",
      "avg / total       1.00      1.00      1.00      7500\n",
      "\n",
      "Cross Validation: \n",
      "[0.53661784 0.51664447 0.51797603 0.563249   0.52133333 0.56666667\n",
      " 0.55006676 0.53805073 0.52202937 0.56875834]\n",
      "Confusion Matrix: \n",
      "[[3614    0]\n",
      " [   0 3886]]\n"
     ]
    }
   ],
   "source": [
    "start = time.time()\n",
    "rfc = ensemble.RandomForestClassifier(n_estimators=1)\n",
    "\n",
    "# params for GridSearchCV\n",
    "param_grid = {\n",
    "    'n_estimators': [20, 30, 40, 50, 60],\n",
    "    'max_features': ['auto', 'sqrt', 'log2']\n",
    "}\n",
    "\n",
    "# using GridSearchCV to select best suited params\n",
    "CV_rfc = GridSearchCV(estimator=rfc, param_grid=param_grid, cv= 5)\n",
    "CV_rfc.fit(X_new, Y_train)\n",
    "Y_pred = CV_rfc.predict(X_new)\n",
    "\n",
    "#printing best parameters\n",
    "print(CV_rfc.best_params_)\n",
    "\n",
    "#printing time taken to complete iteration\n",
    "print(\"--- %s seconds ---\" % (time.time() - start))\n",
    "print(\"Classification report: \")\n",
    "print(classification_report(Y_train, Y_pred))\n",
    "print(\"Cross Validation: \")\n",
    "print(cross_val_score(rfc, X_new, Y_train, cv=10))\n",
    "print(\"Confusion Matrix: \")\n",
    "print(confusion_matrix(Y_train, Y_pred))"
   ]
  },
  {
   "cell_type": "code",
   "execution_count": 21,
   "metadata": {},
   "outputs": [
    {
     "name": "stdout",
     "output_type": "stream",
     "text": [
      "[[1128  107]\n",
      " [1163  102]]\n",
      "test data score:  0.492\n"
     ]
    }
   ],
   "source": [
    "Y_test_pred = CV_rfc.predict(X_new_test)\n",
    "print(confusion_matrix(Y_test, Y_test_pred))\n",
    "\n",
    "print(\"test data score: \", CV_rfc.score(X_new_test, Y_test))"
   ]
  },
  {
   "cell_type": "markdown",
   "metadata": {},
   "source": [
    "Decision tree and Random Forest worked similarly on test score. And PCA and SelectKBest models also worked similarly here."
   ]
  },
  {
   "cell_type": "markdown",
   "metadata": {},
   "source": [
    "More number of estimators makes the random forest model more accurate than decision tree. But it might also cause overfitting."
   ]
  },
  {
   "cell_type": "markdown",
   "metadata": {},
   "source": [
    "In conclusion we can say that random forest is faster than decision tree and it is more accurate."
   ]
  }
 ],
 "metadata": {
  "kernelspec": {
   "display_name": "Python 3",
   "language": "python",
   "name": "python3"
  },
  "language_info": {
   "codemirror_mode": {
    "name": "ipython",
    "version": 3
   },
   "file_extension": ".py",
   "mimetype": "text/x-python",
   "name": "python",
   "nbconvert_exporter": "python",
   "pygments_lexer": "ipython3",
   "version": "3.6.8"
  }
 },
 "nbformat": 4,
 "nbformat_minor": 2
}
