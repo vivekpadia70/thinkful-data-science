{
 "cells": [
  {
   "cell_type": "markdown",
   "metadata": {},
   "source": [
    "# Introduction\n",
    "\n",
    "This notebook is about Natural Language Processing. Here, we will be using data from kaggle which contains comments from Reddit(https://www.kaggle.com/sherinclaudia/sarcastic-comments-on-reddit). Model needs to classify whether the comment is sarcastic or not. Data contains following features:\n",
    "    \n",
    "    Label:- sarcastic or not\n",
    "    comment:- Reply to a Parent Reddit comment\n",
    "    Author:- Person who commented\n",
    "    Subreddit:- Commented under which subreddit\n",
    "    Score:- Number of upvotes -(minus) Number of downvotes.\n",
    "    Ups:- Number of upvotes\n",
    "    Downs:- Number of downvotes\n",
    "    Date:- Commented date\n",
    "    Created_utc:- Commented time in the UTC Timezone\n",
    "    Parent_comment:- The Parent Reddit comment to which sarcastic replies are made\n",
    "\n",
    "Different models will be used to check which is best fit for this particular data. Deep learning will also be used for comparing LSTM model scores with other models."
   ]
  },
  {
   "cell_type": "code",
   "execution_count": 1,
   "metadata": {},
   "outputs": [
    {
     "name": "stderr",
     "output_type": "stream",
     "text": [
      "Using TensorFlow backend.\n"
     ]
    }
   ],
   "source": [
    "import pandas as pd\n",
    "import numpy as np\n",
    "import matplotlib.pyplot as plt\n",
    "import seaborn as sns\n",
    "import scipy.stats as stats\n",
    "import nltk\n",
    "from keras.models import Sequential\n",
    "from keras.preprocessing.text import Tokenizer\n",
    "from keras.preprocessing.sequence import pad_sequences\n",
    "from keras.layers import Dense, Embedding, LSTM, Dropout, Flatten\n",
    "from keras.utils import to_categorical\n",
    "from collections import Counter\n",
    "from sklearn.decomposition import PCA\n",
    "from sklearn.feature_extraction.text import TfidfVectorizer, CountVectorizer\n",
    "from sklearn.ensemble import RandomForestClassifier, GradientBoostingClassifier\n",
    "from sklearn.linear_model import LogisticRegression\n",
    "from sklearn.model_selection import train_test_split\n",
    "from sklearn.decomposition import LatentDirichletAllocation\n",
    "\n",
    "%matplotlib inline"
   ]
  },
  {
   "cell_type": "code",
   "execution_count": 2,
   "metadata": {},
   "outputs": [],
   "source": [
    "df = pd.read_csv(\"C:/Users/vivek/Downloads/train-balanced-sarcasm.csv\")"
   ]
  },
  {
   "cell_type": "markdown",
   "metadata": {},
   "source": [
    "Data contains around 1.3 million rows so with limited computation power we will be deviding this dataset by half."
   ]
  },
  {
   "cell_type": "code",
   "execution_count": 3,
   "metadata": {},
   "outputs": [],
   "source": [
    "df = df.sample(frac=0.3, random_state=42)"
   ]
  },
  {
   "cell_type": "code",
   "execution_count": 4,
   "metadata": {},
   "outputs": [
    {
     "data": {
      "text/html": [
       "<div>\n",
       "<style scoped>\n",
       "    .dataframe tbody tr th:only-of-type {\n",
       "        vertical-align: middle;\n",
       "    }\n",
       "\n",
       "    .dataframe tbody tr th {\n",
       "        vertical-align: top;\n",
       "    }\n",
       "\n",
       "    .dataframe thead th {\n",
       "        text-align: right;\n",
       "    }\n",
       "</style>\n",
       "<table border=\"1\" class=\"dataframe\">\n",
       "  <thead>\n",
       "    <tr style=\"text-align: right;\">\n",
       "      <th></th>\n",
       "      <th>label</th>\n",
       "      <th>score</th>\n",
       "      <th>ups</th>\n",
       "      <th>downs</th>\n",
       "    </tr>\n",
       "  </thead>\n",
       "  <tbody>\n",
       "    <tr>\n",
       "      <th>count</th>\n",
       "      <td>303248.000000</td>\n",
       "      <td>303248.000000</td>\n",
       "      <td>303248.000000</td>\n",
       "      <td>303248.000000</td>\n",
       "    </tr>\n",
       "    <tr>\n",
       "      <th>mean</th>\n",
       "      <td>0.500326</td>\n",
       "      <td>6.978335</td>\n",
       "      <td>5.574467</td>\n",
       "      <td>-0.145765</td>\n",
       "    </tr>\n",
       "    <tr>\n",
       "      <th>std</th>\n",
       "      <td>0.500001</td>\n",
       "      <td>53.339449</td>\n",
       "      <td>44.689326</td>\n",
       "      <td>0.352871</td>\n",
       "    </tr>\n",
       "    <tr>\n",
       "      <th>min</th>\n",
       "      <td>0.000000</td>\n",
       "      <td>-507.000000</td>\n",
       "      <td>-507.000000</td>\n",
       "      <td>-1.000000</td>\n",
       "    </tr>\n",
       "    <tr>\n",
       "      <th>25%</th>\n",
       "      <td>0.000000</td>\n",
       "      <td>1.000000</td>\n",
       "      <td>0.000000</td>\n",
       "      <td>0.000000</td>\n",
       "    </tr>\n",
       "    <tr>\n",
       "      <th>50%</th>\n",
       "      <td>1.000000</td>\n",
       "      <td>2.000000</td>\n",
       "      <td>1.000000</td>\n",
       "      <td>0.000000</td>\n",
       "    </tr>\n",
       "    <tr>\n",
       "      <th>75%</th>\n",
       "      <td>1.000000</td>\n",
       "      <td>4.000000</td>\n",
       "      <td>3.000000</td>\n",
       "      <td>0.000000</td>\n",
       "    </tr>\n",
       "    <tr>\n",
       "      <th>max</th>\n",
       "      <td>1.000000</td>\n",
       "      <td>9070.000000</td>\n",
       "      <td>5163.000000</td>\n",
       "      <td>0.000000</td>\n",
       "    </tr>\n",
       "  </tbody>\n",
       "</table>\n",
       "</div>"
      ],
      "text/plain": [
       "               label          score            ups          downs\n",
       "count  303248.000000  303248.000000  303248.000000  303248.000000\n",
       "mean        0.500326       6.978335       5.574467      -0.145765\n",
       "std         0.500001      53.339449      44.689326       0.352871\n",
       "min         0.000000    -507.000000    -507.000000      -1.000000\n",
       "25%         0.000000       1.000000       0.000000       0.000000\n",
       "50%         1.000000       2.000000       1.000000       0.000000\n",
       "75%         1.000000       4.000000       3.000000       0.000000\n",
       "max         1.000000    9070.000000    5163.000000       0.000000"
      ]
     },
     "execution_count": 4,
     "metadata": {},
     "output_type": "execute_result"
    }
   ],
   "source": [
    "df.describe()"
   ]
  },
  {
   "cell_type": "code",
   "execution_count": 5,
   "metadata": {},
   "outputs": [
    {
     "data": {
      "text/html": [
       "<div>\n",
       "<style scoped>\n",
       "    .dataframe tbody tr th:only-of-type {\n",
       "        vertical-align: middle;\n",
       "    }\n",
       "\n",
       "    .dataframe tbody tr th {\n",
       "        vertical-align: top;\n",
       "    }\n",
       "\n",
       "    .dataframe thead th {\n",
       "        text-align: right;\n",
       "    }\n",
       "</style>\n",
       "<table border=\"1\" class=\"dataframe\">\n",
       "  <thead>\n",
       "    <tr style=\"text-align: right;\">\n",
       "      <th></th>\n",
       "      <th>label</th>\n",
       "      <th>comment</th>\n",
       "      <th>author</th>\n",
       "      <th>subreddit</th>\n",
       "      <th>score</th>\n",
       "      <th>ups</th>\n",
       "      <th>downs</th>\n",
       "      <th>date</th>\n",
       "      <th>created_utc</th>\n",
       "      <th>parent_comment</th>\n",
       "    </tr>\n",
       "  </thead>\n",
       "  <tbody>\n",
       "    <tr>\n",
       "      <th>608627</th>\n",
       "      <td>1</td>\n",
       "      <td>And he sure as hell is successful!</td>\n",
       "      <td>armiechedon</td>\n",
       "      <td>quityourbullshit</td>\n",
       "      <td>1</td>\n",
       "      <td>1</td>\n",
       "      <td>0</td>\n",
       "      <td>2015-12</td>\n",
       "      <td>2015-12-09 23:41:48</td>\n",
       "      <td>Obama's smoked before? Or at least admitted it?</td>\n",
       "    </tr>\n",
       "    <tr>\n",
       "      <th>456977</th>\n",
       "      <td>1</td>\n",
       "      <td>wait, you have to win the candidates to challe...</td>\n",
       "      <td>killingfeels</td>\n",
       "      <td>chess</td>\n",
       "      <td>1</td>\n",
       "      <td>1</td>\n",
       "      <td>0</td>\n",
       "      <td>2016-02</td>\n",
       "      <td>2016-02-13 00:04:43</td>\n",
       "      <td>You can say the same thing about any chess pla...</td>\n",
       "    </tr>\n",
       "    <tr>\n",
       "      <th>803801</th>\n",
       "      <td>1</td>\n",
       "      <td>I mean how could anyone not see that it is ant...</td>\n",
       "      <td>Gnofar</td>\n",
       "      <td>katawashoujo</td>\n",
       "      <td>5</td>\n",
       "      <td>5</td>\n",
       "      <td>0</td>\n",
       "      <td>2014-12</td>\n",
       "      <td>2014-12-25 21:59:49</td>\n",
       "      <td>That isn't Hanako?</td>\n",
       "    </tr>\n",
       "    <tr>\n",
       "      <th>926708</th>\n",
       "      <td>0</td>\n",
       "      <td>Funny thing, most of the girl pants I've bough...</td>\n",
       "      <td>smischmal</td>\n",
       "      <td>transgender</td>\n",
       "      <td>2</td>\n",
       "      <td>2</td>\n",
       "      <td>0</td>\n",
       "      <td>2012-03</td>\n",
       "      <td>2012-03-05 02:03:43</td>\n",
       "      <td>Girl Pants (X/post from TwoXChromosomes)</td>\n",
       "    </tr>\n",
       "    <tr>\n",
       "      <th>129279</th>\n",
       "      <td>0</td>\n",
       "      <td>Also Ranch dressing, because LBJ was Texan, an...</td>\n",
       "      <td>ElScreecho</td>\n",
       "      <td>AskReddit</td>\n",
       "      <td>28</td>\n",
       "      <td>28</td>\n",
       "      <td>0</td>\n",
       "      <td>2016-09</td>\n",
       "      <td>2016-09-19 19:20:53</td>\n",
       "      <td>Lyndon Johnson salad: A carrot and 2 beetroots...</td>\n",
       "    </tr>\n",
       "  </tbody>\n",
       "</table>\n",
       "</div>"
      ],
      "text/plain": [
       "        label                                            comment  \\\n",
       "608627      1                 And he sure as hell is successful!   \n",
       "456977      1  wait, you have to win the candidates to challe...   \n",
       "803801      1  I mean how could anyone not see that it is ant...   \n",
       "926708      0  Funny thing, most of the girl pants I've bough...   \n",
       "129279      0  Also Ranch dressing, because LBJ was Texan, an...   \n",
       "\n",
       "              author         subreddit  score  ups  downs     date  \\\n",
       "608627   armiechedon  quityourbullshit      1    1      0  2015-12   \n",
       "456977  killingfeels             chess      1    1      0  2016-02   \n",
       "803801        Gnofar      katawashoujo      5    5      0  2014-12   \n",
       "926708     smischmal       transgender      2    2      0  2012-03   \n",
       "129279    ElScreecho         AskReddit     28   28      0  2016-09   \n",
       "\n",
       "                created_utc                                     parent_comment  \n",
       "608627  2015-12-09 23:41:48    Obama's smoked before? Or at least admitted it?  \n",
       "456977  2016-02-13 00:04:43  You can say the same thing about any chess pla...  \n",
       "803801  2014-12-25 21:59:49                                 That isn't Hanako?  \n",
       "926708  2012-03-05 02:03:43           Girl Pants (X/post from TwoXChromosomes)  \n",
       "129279  2016-09-19 19:20:53  Lyndon Johnson salad: A carrot and 2 beetroots...  "
      ]
     },
     "execution_count": 5,
     "metadata": {},
     "output_type": "execute_result"
    }
   ],
   "source": [
    "df.head()"
   ]
  },
  {
   "cell_type": "code",
   "execution_count": 6,
   "metadata": {},
   "outputs": [
    {
     "name": "stdout",
     "output_type": "stream",
     "text": [
      "<class 'pandas.core.frame.DataFrame'>\n",
      "Int64Index: 303248 entries, 608627 to 809346\n",
      "Data columns (total 10 columns):\n",
      "label             303248 non-null int64\n",
      "comment           303234 non-null object\n",
      "author            303248 non-null object\n",
      "subreddit         303248 non-null object\n",
      "score             303248 non-null int64\n",
      "ups               303248 non-null int64\n",
      "downs             303248 non-null int64\n",
      "date              303248 non-null object\n",
      "created_utc       303248 non-null object\n",
      "parent_comment    303248 non-null object\n",
      "dtypes: int64(4), object(6)\n",
      "memory usage: 25.4+ MB\n"
     ]
    }
   ],
   "source": [
    "df.info()"
   ]
  },
  {
   "cell_type": "code",
   "execution_count": 8,
   "metadata": {},
   "outputs": [
    {
     "data": {
      "text/plain": [
       "<seaborn.axisgrid.PairGrid at 0x12ac153d748>"
      ]
     },
     "execution_count": 8,
     "metadata": {},
     "output_type": "execute_result"
    },
    {
     "data": {
      "image/png": "[encoded data removed]",
      "text/plain": [
       "<Figure size 540x540 with 12 Axes>"
      ]
     },
     "metadata": {
      "needs_background": "light"
     },
     "output_type": "display_data"
    }
   ],
   "source": [
    "sns.pairplot(df[['score', 'ups', 'downs']])"
   ]
  },
  {
   "cell_type": "code",
   "execution_count": 7,
   "metadata": {},
   "outputs": [
    {
     "data": {
      "text/plain": [
       "(303248, 10)"
      ]
     },
     "execution_count": 7,
     "metadata": {},
     "output_type": "execute_result"
    }
   ],
   "source": [
    "df.shape"
   ]
  },
  {
   "cell_type": "markdown",
   "metadata": {},
   "source": [
    "Removing all the null values"
   ]
  },
  {
   "cell_type": "code",
   "execution_count": 8,
   "metadata": {},
   "outputs": [],
   "source": [
    "df=df.dropna()"
   ]
  },
  {
   "cell_type": "code",
   "execution_count": 9,
   "metadata": {},
   "outputs": [
    {
     "data": {
      "text/plain": [
       "(303234, 10)"
      ]
     },
     "execution_count": 9,
     "metadata": {},
     "output_type": "execute_result"
    }
   ],
   "source": [
    "df.shape"
   ]
  },
  {
   "cell_type": "markdown",
   "metadata": {},
   "source": [
    "### Creating Part Of Speech dataframe"
   ]
  },
  {
   "cell_type": "code",
   "execution_count": 15,
   "metadata": {},
   "outputs": [],
   "source": [
    "pos_df = pd.DataFrame()"
   ]
  },
  {
   "cell_type": "markdown",
   "metadata": {},
   "source": [
    "Taking Part Of Speech from every sentence and storing it into different dataframe pos_df"
   ]
  },
  {
   "cell_type": "code",
   "execution_count": 16,
   "metadata": {},
   "outputs": [],
   "source": [
    "rw=0\n",
    "for sent in df['comment']:\n",
    "    tokens=nltk.word_tokenize(sent)\n",
    "    text = nltk.Text(tokens)\n",
    "    tagged = nltk.pos_tag(text)\n",
    "    counts = Counter(tag for word,tag in tagged)\n",
    "    for i in counts.most_common():\n",
    "        pos_df.loc[rw, i[0]] = i[1]\n",
    "    rw=rw+1"
   ]
  },
  {
   "cell_type": "markdown",
   "metadata": {},
   "source": [
    "Remove columns with punctuations"
   ]
  },
  {
   "cell_type": "code",
   "execution_count": 17,
   "metadata": {},
   "outputs": [
    {
     "data": {
      "text/plain": [
       "Index(['CC', 'PRP', 'RB', 'IN', 'NN', 'VBZ', 'JJ', '.', 'TO', 'VB', 'DT', ',',\n",
       "       'VBP', 'NNS', 'WRB', 'MD', 'VBN', 'VBD', 'JJS', '(', 'PRP$', ')', 'JJR',\n",
       "       'VBG', 'NNP', 'RBR', ':', 'POS', 'CD', 'UH', 'WP', 'WDT', 'PDT', '``',\n",
       "       '''', 'NNPS', 'EX', 'RP', '$', '#', 'FW', 'RBS', 'WP$', 'SYM', 'LS'],\n",
       "      dtype='object')"
      ]
     },
     "execution_count": 17,
     "metadata": {},
     "output_type": "execute_result"
    }
   ],
   "source": [
    "pos_df.columns"
   ]
  },
  {
   "cell_type": "code",
   "execution_count": 18,
   "metadata": {},
   "outputs": [],
   "source": [
    "pos_df=pos_df.drop(['.', ',', '``', \"''\", '(', ')', ':', '$', '#'],1)"
   ]
  },
  {
   "cell_type": "code",
   "execution_count": 19,
   "metadata": {},
   "outputs": [
    {
     "data": {
      "text/plain": [
       "Index(['CC', 'PRP', 'RB', 'IN', 'NN', 'VBZ', 'JJ', 'TO', 'VB', 'DT', 'VBP',\n",
       "       'NNS', 'WRB', 'MD', 'VBN', 'VBD', 'JJS', 'PRP$', 'JJR', 'VBG', 'NNP',\n",
       "       'RBR', 'POS', 'CD', 'UH', 'WP', 'WDT', 'PDT', 'NNPS', 'EX', 'RP', 'FW',\n",
       "       'RBS', 'WP$', 'SYM', 'LS'],\n",
       "      dtype='object')"
      ]
     },
     "execution_count": 19,
     "metadata": {},
     "output_type": "execute_result"
    }
   ],
   "source": [
    "pos_df.columns"
   ]
  },
  {
   "cell_type": "code",
   "execution_count": 10,
   "metadata": {
    "collapsed": true
   },
   "outputs": [
    {
     "ename": "NameError",
     "evalue": "name 'pos_df' is not defined",
     "output_type": "error",
     "traceback": [
      "\u001b[1;31m---------------------------------------------------------------------------\u001b[0m",
      "\u001b[1;31mNameError\u001b[0m                                 Traceback (most recent call last)",
      "\u001b[1;32m<ipython-input-10-3065cbc20dcb>\u001b[0m in \u001b[0;36m<module>\u001b[1;34m\u001b[0m\n\u001b[1;32m----> 1\u001b[1;33m \u001b[0mpos_df\u001b[0m\u001b[1;33m.\u001b[0m\u001b[0mto_csv\u001b[0m\u001b[1;33m(\u001b[0m\u001b[1;34m'C:/Users/vivek/Downloads/pos.csv'\u001b[0m\u001b[1;33m)\u001b[0m\u001b[1;33m\u001b[0m\u001b[1;33m\u001b[0m\u001b[0m\n\u001b[0m",
      "\u001b[1;31mNameError\u001b[0m: name 'pos_df' is not defined"
     ]
    }
   ],
   "source": [
    "pos_df.to_csv('C:/Users/vivek/Downloads/pos.csv')"
   ]
  },
  {
   "cell_type": "code",
   "execution_count": 20,
   "metadata": {},
   "outputs": [],
   "source": [
    "pos_df.to_csv('C:/Users/vivek/Downloads/pos3.csv')"
   ]
  },
  {
   "cell_type": "markdown",
   "metadata": {},
   "source": [
    "### Loading Part Of Speech dataframe"
   ]
  },
  {
   "cell_type": "code",
   "execution_count": 10,
   "metadata": {},
   "outputs": [],
   "source": [
    "pos_loaded_df = pd.read_csv('C:/Users/vivek/Downloads/pos.csv')"
   ]
  },
  {
   "cell_type": "code",
   "execution_count": 10,
   "metadata": {},
   "outputs": [],
   "source": [
    "pos_loaded_df = pd.read_csv('C:/Users/vivek/Downloads/pos3.csv')"
   ]
  },
  {
   "cell_type": "code",
   "execution_count": 11,
   "metadata": {},
   "outputs": [],
   "source": [
    "pos_loaded_df = pos_loaded_df.fillna(0)"
   ]
  },
  {
   "cell_type": "markdown",
   "metadata": {},
   "source": [
    "Running PCA on part of speech dataframe"
   ]
  },
  {
   "cell_type": "code",
   "execution_count": 12,
   "metadata": {},
   "outputs": [
    {
     "name": "stdout",
     "output_type": "stream",
     "text": [
      "[[ 1.51616500e+05 -7.61128641e-01 -6.30917925e-01 ... -2.83759564e-01\n",
      "  -1.46024311e-01 -8.53088521e-01]\n",
      " [ 1.51615500e+05 -7.54616647e-01  1.39582071e+00 ...  4.03121835e-01\n",
      "   5.61367165e-01  2.08414678e+00]\n",
      " [ 1.51614500e+05 -7.61457838e-01  3.73037101e-01 ... -4.67806418e-01\n",
      "   3.39799847e-01 -2.37069569e-01]\n",
      " ...\n",
      " [-1.51614500e+05  2.13975086e-01 -1.72083725e+00 ...  6.02587368e-01\n",
      "  -2.64435169e-01  3.47499754e-01]\n",
      " [-1.51615500e+05  2.09673211e-01 -1.73476540e+00 ... -7.65998291e-01\n",
      "   8.56710978e-01 -5.84222022e-01]\n",
      " [-1.51616500e+05  1.21511792e+00 -1.54435909e+00 ...  7.35560740e-02\n",
      "  -1.11498839e+00 -6.68333527e-01]]\n"
     ]
    }
   ],
   "source": [
    "pca = PCA(10)\n",
    "pos_pca = pca.fit_transform(pos_loaded_df)\n",
    "print(pos_pca)"
   ]
  },
  {
   "cell_type": "code",
   "execution_count": 13,
   "metadata": {},
   "outputs": [],
   "source": [
    "pos_pca_df = pd.DataFrame(pos_pca)"
   ]
  },
  {
   "cell_type": "code",
   "execution_count": 14,
   "metadata": {},
   "outputs": [],
   "source": [
    "pos_pca_df.index = df.index"
   ]
  },
  {
   "cell_type": "code",
   "execution_count": 15,
   "metadata": {},
   "outputs": [
    {
     "data": {
      "text/html": [
       "<div>\n",
       "<style scoped>\n",
       "    .dataframe tbody tr th:only-of-type {\n",
       "        vertical-align: middle;\n",
       "    }\n",
       "\n",
       "    .dataframe tbody tr th {\n",
       "        vertical-align: top;\n",
       "    }\n",
       "\n",
       "    .dataframe thead th {\n",
       "        text-align: right;\n",
       "    }\n",
       "</style>\n",
       "<table border=\"1\" class=\"dataframe\">\n",
       "  <thead>\n",
       "    <tr style=\"text-align: right;\">\n",
       "      <th></th>\n",
       "      <th>0</th>\n",
       "      <th>1</th>\n",
       "      <th>2</th>\n",
       "      <th>3</th>\n",
       "      <th>4</th>\n",
       "      <th>5</th>\n",
       "      <th>6</th>\n",
       "      <th>7</th>\n",
       "      <th>8</th>\n",
       "      <th>9</th>\n",
       "    </tr>\n",
       "  </thead>\n",
       "  <tbody>\n",
       "    <tr>\n",
       "      <th>608627</th>\n",
       "      <td>151616.500000</td>\n",
       "      <td>-0.761129</td>\n",
       "      <td>-0.630918</td>\n",
       "      <td>0.222937</td>\n",
       "      <td>0.353453</td>\n",
       "      <td>0.235506</td>\n",
       "      <td>0.409966</td>\n",
       "      <td>-0.283760</td>\n",
       "      <td>-0.146024</td>\n",
       "      <td>-0.853089</td>\n",
       "    </tr>\n",
       "    <tr>\n",
       "      <th>456977</th>\n",
       "      <td>151615.500000</td>\n",
       "      <td>-0.754617</td>\n",
       "      <td>1.395821</td>\n",
       "      <td>-0.642808</td>\n",
       "      <td>-0.163310</td>\n",
       "      <td>0.093165</td>\n",
       "      <td>-0.907310</td>\n",
       "      <td>0.403122</td>\n",
       "      <td>0.561367</td>\n",
       "      <td>2.084147</td>\n",
       "    </tr>\n",
       "    <tr>\n",
       "      <th>803801</th>\n",
       "      <td>151614.500000</td>\n",
       "      <td>-0.761458</td>\n",
       "      <td>0.373037</td>\n",
       "      <td>-0.265671</td>\n",
       "      <td>-0.178419</td>\n",
       "      <td>1.454643</td>\n",
       "      <td>-0.034722</td>\n",
       "      <td>-0.467806</td>\n",
       "      <td>0.339800</td>\n",
       "      <td>-0.237070</td>\n",
       "    </tr>\n",
       "    <tr>\n",
       "      <th>926708</th>\n",
       "      <td>151613.500000</td>\n",
       "      <td>-0.745755</td>\n",
       "      <td>3.584052</td>\n",
       "      <td>-5.154209</td>\n",
       "      <td>-10.490454</td>\n",
       "      <td>0.197821</td>\n",
       "      <td>3.029288</td>\n",
       "      <td>-4.868345</td>\n",
       "      <td>-0.784534</td>\n",
       "      <td>-0.435530</td>\n",
       "    </tr>\n",
       "    <tr>\n",
       "      <th>129279</th>\n",
       "      <td>151612.500000</td>\n",
       "      <td>2.239032</td>\n",
       "      <td>0.402433</td>\n",
       "      <td>-0.554391</td>\n",
       "      <td>-0.533961</td>\n",
       "      <td>1.170063</td>\n",
       "      <td>1.715427</td>\n",
       "      <td>2.285715</td>\n",
       "      <td>-1.691838</td>\n",
       "      <td>0.163976</td>\n",
       "    </tr>\n",
       "    <tr>\n",
       "      <th>951335</th>\n",
       "      <td>151611.500000</td>\n",
       "      <td>-0.768255</td>\n",
       "      <td>-1.725251</td>\n",
       "      <td>0.965991</td>\n",
       "      <td>1.450976</td>\n",
       "      <td>-0.356156</td>\n",
       "      <td>0.370146</td>\n",
       "      <td>-0.447146</td>\n",
       "      <td>0.257011</td>\n",
       "      <td>-0.097945</td>\n",
       "    </tr>\n",
       "    <tr>\n",
       "      <th>655372</th>\n",
       "      <td>151610.500000</td>\n",
       "      <td>-0.759314</td>\n",
       "      <td>-0.618679</td>\n",
       "      <td>0.230855</td>\n",
       "      <td>0.381738</td>\n",
       "      <td>-1.254518</td>\n",
       "      <td>0.040778</td>\n",
       "      <td>-1.644422</td>\n",
       "      <td>-1.196126</td>\n",
       "      <td>0.427023</td>\n",
       "    </tr>\n",
       "    <tr>\n",
       "      <th>632636</th>\n",
       "      <td>151609.500000</td>\n",
       "      <td>4.246648</td>\n",
       "      <td>1.405318</td>\n",
       "      <td>-1.053863</td>\n",
       "      <td>-0.671149</td>\n",
       "      <td>0.104609</td>\n",
       "      <td>-0.757198</td>\n",
       "      <td>1.325002</td>\n",
       "      <td>-0.197542</td>\n",
       "      <td>1.464792</td>\n",
       "    </tr>\n",
       "    <tr>\n",
       "      <th>397220</th>\n",
       "      <td>151608.500000</td>\n",
       "      <td>-0.768397</td>\n",
       "      <td>-1.544883</td>\n",
       "      <td>0.318015</td>\n",
       "      <td>-0.141907</td>\n",
       "      <td>0.034999</td>\n",
       "      <td>0.031413</td>\n",
       "      <td>-0.140492</td>\n",
       "      <td>0.182264</td>\n",
       "      <td>-0.678116</td>\n",
       "    </tr>\n",
       "    <tr>\n",
       "      <th>412260</th>\n",
       "      <td>151607.500000</td>\n",
       "      <td>-0.765090</td>\n",
       "      <td>-0.558702</td>\n",
       "      <td>-0.053799</td>\n",
       "      <td>-0.344552</td>\n",
       "      <td>0.624238</td>\n",
       "      <td>-0.158678</td>\n",
       "      <td>0.635095</td>\n",
       "      <td>-0.405566</td>\n",
       "      <td>1.765206</td>\n",
       "    </tr>\n",
       "    <tr>\n",
       "      <th>913023</th>\n",
       "      <td>151606.500000</td>\n",
       "      <td>-0.772793</td>\n",
       "      <td>-1.669649</td>\n",
       "      <td>0.659140</td>\n",
       "      <td>0.543560</td>\n",
       "      <td>1.719701</td>\n",
       "      <td>-0.789493</td>\n",
       "      <td>0.115725</td>\n",
       "      <td>0.608903</td>\n",
       "      <td>1.226819</td>\n",
       "    </tr>\n",
       "    <tr>\n",
       "      <th>193954</th>\n",
       "      <td>151605.500000</td>\n",
       "      <td>-0.765158</td>\n",
       "      <td>-0.745903</td>\n",
       "      <td>0.606154</td>\n",
       "      <td>1.269889</td>\n",
       "      <td>0.898340</td>\n",
       "      <td>-0.577053</td>\n",
       "      <td>-0.003965</td>\n",
       "      <td>0.225207</td>\n",
       "      <td>0.359389</td>\n",
       "    </tr>\n",
       "    <tr>\n",
       "      <th>770346</th>\n",
       "      <td>151604.500000</td>\n",
       "      <td>-0.762011</td>\n",
       "      <td>-0.642187</td>\n",
       "      <td>0.259326</td>\n",
       "      <td>0.373597</td>\n",
       "      <td>-0.172966</td>\n",
       "      <td>0.487587</td>\n",
       "      <td>-1.138741</td>\n",
       "      <td>-1.488607</td>\n",
       "      <td>0.435765</td>\n",
       "    </tr>\n",
       "    <tr>\n",
       "      <th>249317</th>\n",
       "      <td>151603.500000</td>\n",
       "      <td>-0.761822</td>\n",
       "      <td>-0.731718</td>\n",
       "      <td>0.562843</td>\n",
       "      <td>1.156863</td>\n",
       "      <td>0.227858</td>\n",
       "      <td>-0.879937</td>\n",
       "      <td>-0.383277</td>\n",
       "      <td>-0.385425</td>\n",
       "      <td>-0.262710</td>\n",
       "    </tr>\n",
       "    <tr>\n",
       "      <th>831748</th>\n",
       "      <td>151602.500000</td>\n",
       "      <td>1.237262</td>\n",
       "      <td>-0.603106</td>\n",
       "      <td>0.018118</td>\n",
       "      <td>0.118185</td>\n",
       "      <td>-0.577831</td>\n",
       "      <td>0.566951</td>\n",
       "      <td>0.149347</td>\n",
       "      <td>-0.380070</td>\n",
       "      <td>0.424152</td>\n",
       "    </tr>\n",
       "    <tr>\n",
       "      <th>20132</th>\n",
       "      <td>151601.500000</td>\n",
       "      <td>-0.713410</td>\n",
       "      <td>2.836417</td>\n",
       "      <td>-0.698091</td>\n",
       "      <td>-2.056818</td>\n",
       "      <td>0.612323</td>\n",
       "      <td>-0.470952</td>\n",
       "      <td>-0.171968</td>\n",
       "      <td>1.310980</td>\n",
       "      <td>-0.597332</td>\n",
       "    </tr>\n",
       "    <tr>\n",
       "      <th>161090</th>\n",
       "      <td>151600.500000</td>\n",
       "      <td>1.231263</td>\n",
       "      <td>-1.743601</td>\n",
       "      <td>0.883458</td>\n",
       "      <td>1.468917</td>\n",
       "      <td>-0.551554</td>\n",
       "      <td>-0.322843</td>\n",
       "      <td>0.498577</td>\n",
       "      <td>0.213903</td>\n",
       "      <td>0.086023</td>\n",
       "    </tr>\n",
       "    <tr>\n",
       "      <th>223589</th>\n",
       "      <td>151599.500000</td>\n",
       "      <td>0.251957</td>\n",
       "      <td>1.372716</td>\n",
       "      <td>-0.597216</td>\n",
       "      <td>0.045064</td>\n",
       "      <td>-0.448647</td>\n",
       "      <td>-0.589841</td>\n",
       "      <td>-0.463280</td>\n",
       "      <td>-1.005880</td>\n",
       "      <td>1.531233</td>\n",
       "    </tr>\n",
       "    <tr>\n",
       "      <th>274120</th>\n",
       "      <td>151598.500000</td>\n",
       "      <td>-0.770480</td>\n",
       "      <td>-1.247992</td>\n",
       "      <td>-0.755466</td>\n",
       "      <td>-2.812329</td>\n",
       "      <td>0.624095</td>\n",
       "      <td>1.881680</td>\n",
       "      <td>1.765627</td>\n",
       "      <td>-1.418838</td>\n",
       "      <td>-2.108036</td>\n",
       "    </tr>\n",
       "    <tr>\n",
       "      <th>537152</th>\n",
       "      <td>151597.500000</td>\n",
       "      <td>2.273106</td>\n",
       "      <td>-1.318857</td>\n",
       "      <td>1.281615</td>\n",
       "      <td>0.077540</td>\n",
       "      <td>-1.126230</td>\n",
       "      <td>-1.182061</td>\n",
       "      <td>0.218810</td>\n",
       "      <td>-0.771305</td>\n",
       "      <td>-0.326997</td>\n",
       "    </tr>\n",
       "    <tr>\n",
       "      <th>255424</th>\n",
       "      <td>151596.500000</td>\n",
       "      <td>0.231687</td>\n",
       "      <td>-1.789585</td>\n",
       "      <td>1.091684</td>\n",
       "      <td>1.805935</td>\n",
       "      <td>-0.094400</td>\n",
       "      <td>-0.155949</td>\n",
       "      <td>-0.028959</td>\n",
       "      <td>-0.160553</td>\n",
       "      <td>0.055702</td>\n",
       "    </tr>\n",
       "    <tr>\n",
       "      <th>407177</th>\n",
       "      <td>151595.500000</td>\n",
       "      <td>0.257929</td>\n",
       "      <td>-0.245059</td>\n",
       "      <td>0.469980</td>\n",
       "      <td>-1.791548</td>\n",
       "      <td>3.660837</td>\n",
       "      <td>-0.464384</td>\n",
       "      <td>-0.747177</td>\n",
       "      <td>0.469649</td>\n",
       "      <td>2.631290</td>\n",
       "    </tr>\n",
       "    <tr>\n",
       "      <th>635566</th>\n",
       "      <td>151594.500000</td>\n",
       "      <td>1.240688</td>\n",
       "      <td>-0.629810</td>\n",
       "      <td>0.176580</td>\n",
       "      <td>0.648646</td>\n",
       "      <td>-1.313935</td>\n",
       "      <td>-0.890055</td>\n",
       "      <td>1.022710</td>\n",
       "      <td>0.219160</td>\n",
       "      <td>-0.435480</td>\n",
       "    </tr>\n",
       "    <tr>\n",
       "      <th>175276</th>\n",
       "      <td>151593.500000</td>\n",
       "      <td>-0.762925</td>\n",
       "      <td>-0.677710</td>\n",
       "      <td>0.403730</td>\n",
       "      <td>0.767311</td>\n",
       "      <td>-0.497075</td>\n",
       "      <td>-0.164711</td>\n",
       "      <td>-1.548435</td>\n",
       "      <td>-1.176447</td>\n",
       "      <td>0.684305</td>\n",
       "    </tr>\n",
       "    <tr>\n",
       "      <th>972149</th>\n",
       "      <td>151592.500000</td>\n",
       "      <td>0.227774</td>\n",
       "      <td>-1.442876</td>\n",
       "      <td>-0.122363</td>\n",
       "      <td>-1.137036</td>\n",
       "      <td>-0.277447</td>\n",
       "      <td>1.896789</td>\n",
       "      <td>-0.936053</td>\n",
       "      <td>0.479527</td>\n",
       "      <td>-0.863034</td>\n",
       "    </tr>\n",
       "    <tr>\n",
       "      <th>902815</th>\n",
       "      <td>151591.500000</td>\n",
       "      <td>7.226628</td>\n",
       "      <td>-1.891970</td>\n",
       "      <td>0.866898</td>\n",
       "      <td>1.871904</td>\n",
       "      <td>-0.073099</td>\n",
       "      <td>-0.151835</td>\n",
       "      <td>-0.033584</td>\n",
       "      <td>-0.145856</td>\n",
       "      <td>0.061340</td>\n",
       "    </tr>\n",
       "    <tr>\n",
       "      <th>159302</th>\n",
       "      <td>151590.499999</td>\n",
       "      <td>6.261066</td>\n",
       "      <td>4.371595</td>\n",
       "      <td>-2.245032</td>\n",
       "      <td>-1.029118</td>\n",
       "      <td>-0.532951</td>\n",
       "      <td>0.335744</td>\n",
       "      <td>1.415269</td>\n",
       "      <td>0.401453</td>\n",
       "      <td>-0.651812</td>\n",
       "    </tr>\n",
       "    <tr>\n",
       "      <th>884232</th>\n",
       "      <td>151589.500000</td>\n",
       "      <td>-0.764378</td>\n",
       "      <td>-0.594592</td>\n",
       "      <td>0.055654</td>\n",
       "      <td>-0.085799</td>\n",
       "      <td>0.787430</td>\n",
       "      <td>-0.499171</td>\n",
       "      <td>0.106137</td>\n",
       "      <td>-0.092474</td>\n",
       "      <td>0.110419</td>\n",
       "    </tr>\n",
       "    <tr>\n",
       "      <th>590961</th>\n",
       "      <td>151588.499999</td>\n",
       "      <td>1.323475</td>\n",
       "      <td>2.689883</td>\n",
       "      <td>1.581539</td>\n",
       "      <td>1.144264</td>\n",
       "      <td>-0.562398</td>\n",
       "      <td>0.016901</td>\n",
       "      <td>-0.652484</td>\n",
       "      <td>-0.267644</td>\n",
       "      <td>-0.192309</td>\n",
       "    </tr>\n",
       "    <tr>\n",
       "      <th>419507</th>\n",
       "      <td>151587.500000</td>\n",
       "      <td>1.276677</td>\n",
       "      <td>0.625502</td>\n",
       "      <td>0.659385</td>\n",
       "      <td>-0.136859</td>\n",
       "      <td>0.263195</td>\n",
       "      <td>0.294985</td>\n",
       "      <td>1.186195</td>\n",
       "      <td>-0.580291</td>\n",
       "      <td>-1.240975</td>\n",
       "    </tr>\n",
       "    <tr>\n",
       "      <th>...</th>\n",
       "      <td>...</td>\n",
       "      <td>...</td>\n",
       "      <td>...</td>\n",
       "      <td>...</td>\n",
       "      <td>...</td>\n",
       "      <td>...</td>\n",
       "      <td>...</td>\n",
       "      <td>...</td>\n",
       "      <td>...</td>\n",
       "      <td>...</td>\n",
       "    </tr>\n",
       "    <tr>\n",
       "      <th>461807</th>\n",
       "      <td>-151587.500000</td>\n",
       "      <td>-0.785799</td>\n",
       "      <td>-0.787622</td>\n",
       "      <td>0.576151</td>\n",
       "      <td>1.181732</td>\n",
       "      <td>0.448431</td>\n",
       "      <td>0.670157</td>\n",
       "      <td>0.193377</td>\n",
       "      <td>-0.735155</td>\n",
       "      <td>1.071392</td>\n",
       "    </tr>\n",
       "    <tr>\n",
       "      <th>91981</th>\n",
       "      <td>-151588.500000</td>\n",
       "      <td>-0.782933</td>\n",
       "      <td>-0.862242</td>\n",
       "      <td>0.877456</td>\n",
       "      <td>1.997242</td>\n",
       "      <td>-0.070232</td>\n",
       "      <td>-0.146313</td>\n",
       "      <td>-0.044264</td>\n",
       "      <td>-0.177487</td>\n",
       "      <td>0.058741</td>\n",
       "    </tr>\n",
       "    <tr>\n",
       "      <th>136611</th>\n",
       "      <td>-151589.500000</td>\n",
       "      <td>-0.766660</td>\n",
       "      <td>1.956188</td>\n",
       "      <td>-2.790299</td>\n",
       "      <td>-5.496217</td>\n",
       "      <td>0.989003</td>\n",
       "      <td>-0.249420</td>\n",
       "      <td>-0.664982</td>\n",
       "      <td>-2.662893</td>\n",
       "      <td>-1.830859</td>\n",
       "    </tr>\n",
       "    <tr>\n",
       "      <th>106304</th>\n",
       "      <td>-151590.500000</td>\n",
       "      <td>-0.790238</td>\n",
       "      <td>-1.744246</td>\n",
       "      <td>0.805144</td>\n",
       "      <td>0.983304</td>\n",
       "      <td>1.150944</td>\n",
       "      <td>-0.992764</td>\n",
       "      <td>-0.283215</td>\n",
       "      <td>0.458435</td>\n",
       "      <td>-0.577061</td>\n",
       "    </tr>\n",
       "    <tr>\n",
       "      <th>117505</th>\n",
       "      <td>-151591.500000</td>\n",
       "      <td>-0.784105</td>\n",
       "      <td>0.302882</td>\n",
       "      <td>-0.152170</td>\n",
       "      <td>0.177197</td>\n",
       "      <td>0.587226</td>\n",
       "      <td>1.184168</td>\n",
       "      <td>-0.024100</td>\n",
       "      <td>0.009304</td>\n",
       "      <td>-0.485224</td>\n",
       "    </tr>\n",
       "    <tr>\n",
       "      <th>9929</th>\n",
       "      <td>-151592.500000</td>\n",
       "      <td>-0.771148</td>\n",
       "      <td>1.725285</td>\n",
       "      <td>-1.927398</td>\n",
       "      <td>-3.209993</td>\n",
       "      <td>-0.035505</td>\n",
       "      <td>-0.780541</td>\n",
       "      <td>-1.210002</td>\n",
       "      <td>0.886492</td>\n",
       "      <td>-1.003403</td>\n",
       "    </tr>\n",
       "    <tr>\n",
       "      <th>632255</th>\n",
       "      <td>-151593.500000</td>\n",
       "      <td>-0.782064</td>\n",
       "      <td>0.206495</td>\n",
       "      <td>0.206344</td>\n",
       "      <td>1.052590</td>\n",
       "      <td>0.198479</td>\n",
       "      <td>1.751807</td>\n",
       "      <td>-0.114565</td>\n",
       "      <td>-0.829638</td>\n",
       "      <td>-0.264403</td>\n",
       "    </tr>\n",
       "    <tr>\n",
       "      <th>33405</th>\n",
       "      <td>-151594.500000</td>\n",
       "      <td>-0.703878</td>\n",
       "      <td>0.899470</td>\n",
       "      <td>1.601197</td>\n",
       "      <td>-0.544303</td>\n",
       "      <td>0.496267</td>\n",
       "      <td>-0.539588</td>\n",
       "      <td>0.243947</td>\n",
       "      <td>-1.086173</td>\n",
       "      <td>0.054148</td>\n",
       "    </tr>\n",
       "    <tr>\n",
       "      <th>776609</th>\n",
       "      <td>-151595.500000</td>\n",
       "      <td>3.239240</td>\n",
       "      <td>3.473755</td>\n",
       "      <td>-2.114798</td>\n",
       "      <td>-1.754274</td>\n",
       "      <td>-0.491062</td>\n",
       "      <td>-0.152539</td>\n",
       "      <td>0.423525</td>\n",
       "      <td>-0.587051</td>\n",
       "      <td>-1.769686</td>\n",
       "    </tr>\n",
       "    <tr>\n",
       "      <th>713866</th>\n",
       "      <td>-151596.500000</td>\n",
       "      <td>1.211741</td>\n",
       "      <td>-1.741780</td>\n",
       "      <td>0.699565</td>\n",
       "      <td>1.007343</td>\n",
       "      <td>-0.092238</td>\n",
       "      <td>1.141921</td>\n",
       "      <td>0.067459</td>\n",
       "      <td>0.073417</td>\n",
       "      <td>-0.532442</td>\n",
       "    </tr>\n",
       "    <tr>\n",
       "      <th>463475</th>\n",
       "      <td>-151597.500000</td>\n",
       "      <td>-0.792210</td>\n",
       "      <td>-0.636680</td>\n",
       "      <td>-0.037479</td>\n",
       "      <td>-0.433705</td>\n",
       "      <td>1.762671</td>\n",
       "      <td>0.792877</td>\n",
       "      <td>-0.555206</td>\n",
       "      <td>0.263182</td>\n",
       "      <td>2.225364</td>\n",
       "    </tr>\n",
       "    <tr>\n",
       "      <th>386062</th>\n",
       "      <td>-151598.500000</td>\n",
       "      <td>-0.782933</td>\n",
       "      <td>-0.862243</td>\n",
       "      <td>0.877456</td>\n",
       "      <td>1.997242</td>\n",
       "      <td>-0.070232</td>\n",
       "      <td>-0.146313</td>\n",
       "      <td>-0.044264</td>\n",
       "      <td>-0.177487</td>\n",
       "      <td>0.058741</td>\n",
       "    </tr>\n",
       "    <tr>\n",
       "      <th>347723</th>\n",
       "      <td>-151599.500000</td>\n",
       "      <td>-0.773665</td>\n",
       "      <td>1.038912</td>\n",
       "      <td>0.429060</td>\n",
       "      <td>2.416958</td>\n",
       "      <td>0.002479</td>\n",
       "      <td>-0.136245</td>\n",
       "      <td>-0.071049</td>\n",
       "      <td>-0.196596</td>\n",
       "      <td>0.062943</td>\n",
       "    </tr>\n",
       "    <tr>\n",
       "      <th>194778</th>\n",
       "      <td>-151600.500000</td>\n",
       "      <td>-0.784332</td>\n",
       "      <td>-0.649339</td>\n",
       "      <td>0.080283</td>\n",
       "      <td>-0.009882</td>\n",
       "      <td>1.243045</td>\n",
       "      <td>-0.418405</td>\n",
       "      <td>0.238419</td>\n",
       "      <td>-0.218422</td>\n",
       "      <td>-0.499431</td>\n",
       "    </tr>\n",
       "    <tr>\n",
       "      <th>609579</th>\n",
       "      <td>-151601.500000</td>\n",
       "      <td>-0.778631</td>\n",
       "      <td>0.567986</td>\n",
       "      <td>-1.059528</td>\n",
       "      <td>-2.002742</td>\n",
       "      <td>1.256694</td>\n",
       "      <td>0.088484</td>\n",
       "      <td>-0.830130</td>\n",
       "      <td>0.625044</td>\n",
       "      <td>-2.047431</td>\n",
       "    </tr>\n",
       "    <tr>\n",
       "      <th>911738</th>\n",
       "      <td>-151602.500000</td>\n",
       "      <td>0.223475</td>\n",
       "      <td>0.200134</td>\n",
       "      <td>0.194489</td>\n",
       "      <td>1.194594</td>\n",
       "      <td>-0.107544</td>\n",
       "      <td>0.140372</td>\n",
       "      <td>0.252408</td>\n",
       "      <td>-1.041268</td>\n",
       "      <td>-0.539521</td>\n",
       "    </tr>\n",
       "    <tr>\n",
       "      <th>934770</th>\n",
       "      <td>-151603.500000</td>\n",
       "      <td>-0.711446</td>\n",
       "      <td>-0.925958</td>\n",
       "      <td>1.872879</td>\n",
       "      <td>-1.299852</td>\n",
       "      <td>-1.476245</td>\n",
       "      <td>0.529730</td>\n",
       "      <td>-0.721258</td>\n",
       "      <td>-1.153296</td>\n",
       "      <td>0.241319</td>\n",
       "    </tr>\n",
       "    <tr>\n",
       "      <th>306800</th>\n",
       "      <td>-151604.500000</td>\n",
       "      <td>-0.782762</td>\n",
       "      <td>-0.679379</td>\n",
       "      <td>0.238002</td>\n",
       "      <td>0.433216</td>\n",
       "      <td>-0.204323</td>\n",
       "      <td>-0.889248</td>\n",
       "      <td>-0.605933</td>\n",
       "      <td>-0.127502</td>\n",
       "      <td>0.080675</td>\n",
       "    </tr>\n",
       "    <tr>\n",
       "      <th>528245</th>\n",
       "      <td>-151605.500000</td>\n",
       "      <td>1.221815</td>\n",
       "      <td>0.571166</td>\n",
       "      <td>-1.110884</td>\n",
       "      <td>-1.677211</td>\n",
       "      <td>-0.507303</td>\n",
       "      <td>-1.107901</td>\n",
       "      <td>1.008565</td>\n",
       "      <td>0.992734</td>\n",
       "      <td>2.114540</td>\n",
       "    </tr>\n",
       "    <tr>\n",
       "      <th>895092</th>\n",
       "      <td>-151606.500000</td>\n",
       "      <td>2.227219</td>\n",
       "      <td>1.420789</td>\n",
       "      <td>-1.106141</td>\n",
       "      <td>-0.978890</td>\n",
       "      <td>-0.234169</td>\n",
       "      <td>-1.311546</td>\n",
       "      <td>-1.130731</td>\n",
       "      <td>0.729482</td>\n",
       "      <td>-0.538110</td>\n",
       "    </tr>\n",
       "    <tr>\n",
       "      <th>772584</th>\n",
       "      <td>-151607.500000</td>\n",
       "      <td>-0.770044</td>\n",
       "      <td>1.283467</td>\n",
       "      <td>-0.306681</td>\n",
       "      <td>0.862796</td>\n",
       "      <td>-1.553221</td>\n",
       "      <td>-0.216516</td>\n",
       "      <td>0.550003</td>\n",
       "      <td>0.635174</td>\n",
       "      <td>-0.357289</td>\n",
       "    </tr>\n",
       "    <tr>\n",
       "      <th>618410</th>\n",
       "      <td>-151608.500000</td>\n",
       "      <td>-0.791118</td>\n",
       "      <td>-1.352236</td>\n",
       "      <td>-0.437018</td>\n",
       "      <td>-1.888479</td>\n",
       "      <td>-2.388696</td>\n",
       "      <td>1.538568</td>\n",
       "      <td>-1.784208</td>\n",
       "      <td>0.050878</td>\n",
       "      <td>1.194985</td>\n",
       "    </tr>\n",
       "    <tr>\n",
       "      <th>703155</th>\n",
       "      <td>-151609.500000</td>\n",
       "      <td>-0.784336</td>\n",
       "      <td>-1.697148</td>\n",
       "      <td>0.735592</td>\n",
       "      <td>0.909698</td>\n",
       "      <td>-0.568188</td>\n",
       "      <td>-0.242972</td>\n",
       "      <td>-0.738227</td>\n",
       "      <td>-0.901686</td>\n",
       "      <td>0.402095</td>\n",
       "    </tr>\n",
       "    <tr>\n",
       "      <th>506761</th>\n",
       "      <td>-151610.500000</td>\n",
       "      <td>0.222422</td>\n",
       "      <td>0.298844</td>\n",
       "      <td>-0.122274</td>\n",
       "      <td>0.460425</td>\n",
       "      <td>-0.239951</td>\n",
       "      <td>0.057389</td>\n",
       "      <td>0.572913</td>\n",
       "      <td>-0.781630</td>\n",
       "      <td>0.855844</td>\n",
       "    </tr>\n",
       "    <tr>\n",
       "      <th>336440</th>\n",
       "      <td>-151611.500000</td>\n",
       "      <td>-0.782884</td>\n",
       "      <td>-0.799613</td>\n",
       "      <td>0.693169</td>\n",
       "      <td>1.632718</td>\n",
       "      <td>-0.532893</td>\n",
       "      <td>-0.322549</td>\n",
       "      <td>0.483400</td>\n",
       "      <td>0.203862</td>\n",
       "      <td>0.089517</td>\n",
       "    </tr>\n",
       "    <tr>\n",
       "      <th>308261</th>\n",
       "      <td>-151612.500000</td>\n",
       "      <td>0.211154</td>\n",
       "      <td>-1.790529</td>\n",
       "      <td>0.954432</td>\n",
       "      <td>1.546197</td>\n",
       "      <td>-0.340676</td>\n",
       "      <td>0.392113</td>\n",
       "      <td>-0.411337</td>\n",
       "      <td>0.305176</td>\n",
       "      <td>-0.080899</td>\n",
       "    </tr>\n",
       "    <tr>\n",
       "      <th>129263</th>\n",
       "      <td>-151613.500000</td>\n",
       "      <td>-0.779831</td>\n",
       "      <td>0.329673</td>\n",
       "      <td>-0.117612</td>\n",
       "      <td>0.531989</td>\n",
       "      <td>-0.732081</td>\n",
       "      <td>-0.018465</td>\n",
       "      <td>2.194188</td>\n",
       "      <td>0.608687</td>\n",
       "      <td>0.808133</td>\n",
       "    </tr>\n",
       "    <tr>\n",
       "      <th>361111</th>\n",
       "      <td>-151614.500000</td>\n",
       "      <td>0.213975</td>\n",
       "      <td>-1.720837</td>\n",
       "      <td>0.697943</td>\n",
       "      <td>0.888751</td>\n",
       "      <td>0.416139</td>\n",
       "      <td>0.725291</td>\n",
       "      <td>0.602587</td>\n",
       "      <td>-0.264435</td>\n",
       "      <td>0.347500</td>\n",
       "    </tr>\n",
       "    <tr>\n",
       "      <th>369605</th>\n",
       "      <td>-151615.500000</td>\n",
       "      <td>0.209673</td>\n",
       "      <td>-1.734765</td>\n",
       "      <td>0.714444</td>\n",
       "      <td>0.905580</td>\n",
       "      <td>0.371573</td>\n",
       "      <td>0.076229</td>\n",
       "      <td>-0.765998</td>\n",
       "      <td>0.856711</td>\n",
       "      <td>-0.584222</td>\n",
       "    </tr>\n",
       "    <tr>\n",
       "      <th>809346</th>\n",
       "      <td>-151616.500000</td>\n",
       "      <td>1.215118</td>\n",
       "      <td>-1.544359</td>\n",
       "      <td>0.053696</td>\n",
       "      <td>-0.543328</td>\n",
       "      <td>-0.308654</td>\n",
       "      <td>-0.866576</td>\n",
       "      <td>0.073556</td>\n",
       "      <td>-1.114988</td>\n",
       "      <td>-0.668334</td>\n",
       "    </tr>\n",
       "  </tbody>\n",
       "</table>\n",
       "<p>303234 rows × 10 columns</p>\n",
       "</div>"
      ],
      "text/plain": [
       "                    0         1         2         3          4         5  \\\n",
       "608627  151616.500000 -0.761129 -0.630918  0.222937   0.353453  0.235506   \n",
       "456977  151615.500000 -0.754617  1.395821 -0.642808  -0.163310  0.093165   \n",
       "803801  151614.500000 -0.761458  0.373037 -0.265671  -0.178419  1.454643   \n",
       "926708  151613.500000 -0.745755  3.584052 -5.154209 -10.490454  0.197821   \n",
       "129279  151612.500000  2.239032  0.402433 -0.554391  -0.533961  1.170063   \n",
       "951335  151611.500000 -0.768255 -1.725251  0.965991   1.450976 -0.356156   \n",
       "655372  151610.500000 -0.759314 -0.618679  0.230855   0.381738 -1.254518   \n",
       "632636  151609.500000  4.246648  1.405318 -1.053863  -0.671149  0.104609   \n",
       "397220  151608.500000 -0.768397 -1.544883  0.318015  -0.141907  0.034999   \n",
       "412260  151607.500000 -0.765090 -0.558702 -0.053799  -0.344552  0.624238   \n",
       "913023  151606.500000 -0.772793 -1.669649  0.659140   0.543560  1.719701   \n",
       "193954  151605.500000 -0.765158 -0.745903  0.606154   1.269889  0.898340   \n",
       "770346  151604.500000 -0.762011 -0.642187  0.259326   0.373597 -0.172966   \n",
       "249317  151603.500000 -0.761822 -0.731718  0.562843   1.156863  0.227858   \n",
       "831748  151602.500000  1.237262 -0.603106  0.018118   0.118185 -0.577831   \n",
       "20132   151601.500000 -0.713410  2.836417 -0.698091  -2.056818  0.612323   \n",
       "161090  151600.500000  1.231263 -1.743601  0.883458   1.468917 -0.551554   \n",
       "223589  151599.500000  0.251957  1.372716 -0.597216   0.045064 -0.448647   \n",
       "274120  151598.500000 -0.770480 -1.247992 -0.755466  -2.812329  0.624095   \n",
       "537152  151597.500000  2.273106 -1.318857  1.281615   0.077540 -1.126230   \n",
       "255424  151596.500000  0.231687 -1.789585  1.091684   1.805935 -0.094400   \n",
       "407177  151595.500000  0.257929 -0.245059  0.469980  -1.791548  3.660837   \n",
       "635566  151594.500000  1.240688 -0.629810  0.176580   0.648646 -1.313935   \n",
       "175276  151593.500000 -0.762925 -0.677710  0.403730   0.767311 -0.497075   \n",
       "972149  151592.500000  0.227774 -1.442876 -0.122363  -1.137036 -0.277447   \n",
       "902815  151591.500000  7.226628 -1.891970  0.866898   1.871904 -0.073099   \n",
       "159302  151590.499999  6.261066  4.371595 -2.245032  -1.029118 -0.532951   \n",
       "884232  151589.500000 -0.764378 -0.594592  0.055654  -0.085799  0.787430   \n",
       "590961  151588.499999  1.323475  2.689883  1.581539   1.144264 -0.562398   \n",
       "419507  151587.500000  1.276677  0.625502  0.659385  -0.136859  0.263195   \n",
       "...               ...       ...       ...       ...        ...       ...   \n",
       "461807 -151587.500000 -0.785799 -0.787622  0.576151   1.181732  0.448431   \n",
       "91981  -151588.500000 -0.782933 -0.862242  0.877456   1.997242 -0.070232   \n",
       "136611 -151589.500000 -0.766660  1.956188 -2.790299  -5.496217  0.989003   \n",
       "106304 -151590.500000 -0.790238 -1.744246  0.805144   0.983304  1.150944   \n",
       "117505 -151591.500000 -0.784105  0.302882 -0.152170   0.177197  0.587226   \n",
       "9929   -151592.500000 -0.771148  1.725285 -1.927398  -3.209993 -0.035505   \n",
       "632255 -151593.500000 -0.782064  0.206495  0.206344   1.052590  0.198479   \n",
       "33405  -151594.500000 -0.703878  0.899470  1.601197  -0.544303  0.496267   \n",
       "776609 -151595.500000  3.239240  3.473755 -2.114798  -1.754274 -0.491062   \n",
       "713866 -151596.500000  1.211741 -1.741780  0.699565   1.007343 -0.092238   \n",
       "463475 -151597.500000 -0.792210 -0.636680 -0.037479  -0.433705  1.762671   \n",
       "386062 -151598.500000 -0.782933 -0.862243  0.877456   1.997242 -0.070232   \n",
       "347723 -151599.500000 -0.773665  1.038912  0.429060   2.416958  0.002479   \n",
       "194778 -151600.500000 -0.784332 -0.649339  0.080283  -0.009882  1.243045   \n",
       "609579 -151601.500000 -0.778631  0.567986 -1.059528  -2.002742  1.256694   \n",
       "911738 -151602.500000  0.223475  0.200134  0.194489   1.194594 -0.107544   \n",
       "934770 -151603.500000 -0.711446 -0.925958  1.872879  -1.299852 -1.476245   \n",
       "306800 -151604.500000 -0.782762 -0.679379  0.238002   0.433216 -0.204323   \n",
       "528245 -151605.500000  1.221815  0.571166 -1.110884  -1.677211 -0.507303   \n",
       "895092 -151606.500000  2.227219  1.420789 -1.106141  -0.978890 -0.234169   \n",
       "772584 -151607.500000 -0.770044  1.283467 -0.306681   0.862796 -1.553221   \n",
       "618410 -151608.500000 -0.791118 -1.352236 -0.437018  -1.888479 -2.388696   \n",
       "703155 -151609.500000 -0.784336 -1.697148  0.735592   0.909698 -0.568188   \n",
       "506761 -151610.500000  0.222422  0.298844 -0.122274   0.460425 -0.239951   \n",
       "336440 -151611.500000 -0.782884 -0.799613  0.693169   1.632718 -0.532893   \n",
       "308261 -151612.500000  0.211154 -1.790529  0.954432   1.546197 -0.340676   \n",
       "129263 -151613.500000 -0.779831  0.329673 -0.117612   0.531989 -0.732081   \n",
       "361111 -151614.500000  0.213975 -1.720837  0.697943   0.888751  0.416139   \n",
       "369605 -151615.500000  0.209673 -1.734765  0.714444   0.905580  0.371573   \n",
       "809346 -151616.500000  1.215118 -1.544359  0.053696  -0.543328 -0.308654   \n",
       "\n",
       "               6         7         8         9  \n",
       "608627  0.409966 -0.283760 -0.146024 -0.853089  \n",
       "456977 -0.907310  0.403122  0.561367  2.084147  \n",
       "803801 -0.034722 -0.467806  0.339800 -0.237070  \n",
       "926708  3.029288 -4.868345 -0.784534 -0.435530  \n",
       "129279  1.715427  2.285715 -1.691838  0.163976  \n",
       "951335  0.370146 -0.447146  0.257011 -0.097945  \n",
       "655372  0.040778 -1.644422 -1.196126  0.427023  \n",
       "632636 -0.757198  1.325002 -0.197542  1.464792  \n",
       "397220  0.031413 -0.140492  0.182264 -0.678116  \n",
       "412260 -0.158678  0.635095 -0.405566  1.765206  \n",
       "913023 -0.789493  0.115725  0.608903  1.226819  \n",
       "193954 -0.577053 -0.003965  0.225207  0.359389  \n",
       "770346  0.487587 -1.138741 -1.488607  0.435765  \n",
       "249317 -0.879937 -0.383277 -0.385425 -0.262710  \n",
       "831748  0.566951  0.149347 -0.380070  0.424152  \n",
       "20132  -0.470952 -0.171968  1.310980 -0.597332  \n",
       "161090 -0.322843  0.498577  0.213903  0.086023  \n",
       "223589 -0.589841 -0.463280 -1.005880  1.531233  \n",
       "274120  1.881680  1.765627 -1.418838 -2.108036  \n",
       "537152 -1.182061  0.218810 -0.771305 -0.326997  \n",
       "255424 -0.155949 -0.028959 -0.160553  0.055702  \n",
       "407177 -0.464384 -0.747177  0.469649  2.631290  \n",
       "635566 -0.890055  1.022710  0.219160 -0.435480  \n",
       "175276 -0.164711 -1.548435 -1.176447  0.684305  \n",
       "972149  1.896789 -0.936053  0.479527 -0.863034  \n",
       "902815 -0.151835 -0.033584 -0.145856  0.061340  \n",
       "159302  0.335744  1.415269  0.401453 -0.651812  \n",
       "884232 -0.499171  0.106137 -0.092474  0.110419  \n",
       "590961  0.016901 -0.652484 -0.267644 -0.192309  \n",
       "419507  0.294985  1.186195 -0.580291 -1.240975  \n",
       "...          ...       ...       ...       ...  \n",
       "461807  0.670157  0.193377 -0.735155  1.071392  \n",
       "91981  -0.146313 -0.044264 -0.177487  0.058741  \n",
       "136611 -0.249420 -0.664982 -2.662893 -1.830859  \n",
       "106304 -0.992764 -0.283215  0.458435 -0.577061  \n",
       "117505  1.184168 -0.024100  0.009304 -0.485224  \n",
       "9929   -0.780541 -1.210002  0.886492 -1.003403  \n",
       "632255  1.751807 -0.114565 -0.829638 -0.264403  \n",
       "33405  -0.539588  0.243947 -1.086173  0.054148  \n",
       "776609 -0.152539  0.423525 -0.587051 -1.769686  \n",
       "713866  1.141921  0.067459  0.073417 -0.532442  \n",
       "463475  0.792877 -0.555206  0.263182  2.225364  \n",
       "386062 -0.146313 -0.044264 -0.177487  0.058741  \n",
       "347723 -0.136245 -0.071049 -0.196596  0.062943  \n",
       "194778 -0.418405  0.238419 -0.218422 -0.499431  \n",
       "609579  0.088484 -0.830130  0.625044 -2.047431  \n",
       "911738  0.140372  0.252408 -1.041268 -0.539521  \n",
       "934770  0.529730 -0.721258 -1.153296  0.241319  \n",
       "306800 -0.889248 -0.605933 -0.127502  0.080675  \n",
       "528245 -1.107901  1.008565  0.992734  2.114540  \n",
       "895092 -1.311546 -1.130731  0.729482 -0.538110  \n",
       "772584 -0.216516  0.550003  0.635174 -0.357289  \n",
       "618410  1.538568 -1.784208  0.050878  1.194985  \n",
       "703155 -0.242972 -0.738227 -0.901686  0.402095  \n",
       "506761  0.057389  0.572913 -0.781630  0.855844  \n",
       "336440 -0.322549  0.483400  0.203862  0.089517  \n",
       "308261  0.392113 -0.411337  0.305176 -0.080899  \n",
       "129263 -0.018465  2.194188  0.608687  0.808133  \n",
       "361111  0.725291  0.602587 -0.264435  0.347500  \n",
       "369605  0.076229 -0.765998  0.856711 -0.584222  \n",
       "809346 -0.866576  0.073556 -1.114988 -0.668334  \n",
       "\n",
       "[303234 rows x 10 columns]"
      ]
     },
     "execution_count": 15,
     "metadata": {},
     "output_type": "execute_result"
    }
   ],
   "source": [
    "pos_pca_df"
   ]
  },
  {
   "cell_type": "markdown",
   "metadata": {},
   "source": [
    "### Adding other features to POS dataframe"
   ]
  },
  {
   "cell_type": "code",
   "execution_count": 44,
   "metadata": {},
   "outputs": [],
   "source": [
    "pos_pca_df['score'] = df['score']\n",
    "pos_pca_df['ups'] = df['ups']\n",
    "pos_pca_df['downs'] = df['downs']\n",
    "pos_pca_df['count'] = df['comment'].apply(lambda x: len(x) )"
   ]
  },
  {
   "cell_type": "code",
   "execution_count": 17,
   "metadata": {},
   "outputs": [],
   "source": [
    "pca_added_df = pd.concat([df, pos_pca_df], axis=1)"
   ]
  },
  {
   "cell_type": "code",
   "execution_count": 21,
   "metadata": {},
   "outputs": [
    {
     "data": {
      "text/plain": [
       "10000"
      ]
     },
     "execution_count": 21,
     "metadata": {},
     "output_type": "execute_result"
    }
   ],
   "source": [
    "max(pca_added_df['count'])"
   ]
  },
  {
   "cell_type": "code",
   "execution_count": 22,
   "metadata": {},
   "outputs": [
    {
     "data": {
      "text/plain": [
       "<matplotlib.axes._subplots.AxesSubplot at 0x1ff41f0cc18>"
      ]
     },
     "execution_count": 22,
     "metadata": {},
     "output_type": "execute_result"
    },
    {
     "data": {
      "image/png": "[encoded data removed]",
      "text/plain": [
       "<Figure size 432x288 with 1 Axes>"
      ]
     },
     "metadata": {
      "needs_background": "light"
     },
     "output_type": "display_data"
    }
   ],
   "source": [
    "sns.scatterplot(pca_added_df['count'], pca_added_df['count'])\n",
    "# So we have around 8 outliers in counts"
   ]
  },
  {
   "cell_type": "code",
   "execution_count": 24,
   "metadata": {},
   "outputs": [],
   "source": [
    "# Removing those outliers\n",
    "pca_added_df = pca_added_df[pca_added_df['count']<3000]"
   ]
  },
  {
   "cell_type": "code",
   "execution_count": 38,
   "metadata": {},
   "outputs": [
    {
     "data": {
      "text/plain": [
       "<matplotlib.axes._subplots.AxesSubplot at 0x1ff3937bef0>"
      ]
     },
     "execution_count": 38,
     "metadata": {},
     "output_type": "execute_result"
    },
    {
     "data": {
      "image/png": "[encoded data removed]",
      "text/plain": [
       "<Figure size 432x288 with 1 Axes>"
      ]
     },
     "metadata": {
      "needs_background": "light"
     },
     "output_type": "display_data"
    }
   ],
   "source": [
    "sns.scatterplot(pca_added_df['count'], pca_added_df['count'])"
   ]
  },
  {
   "cell_type": "code",
   "execution_count": 27,
   "metadata": {},
   "outputs": [
    {
     "data": {
      "text/plain": [
       "(array([3.01761e+05, 1.38500e+03, 5.10000e+01, 1.00000e+01, 5.00000e+00,\n",
       "        4.00000e+00, 1.00000e+00, 1.00000e+00, 0.00000e+00, 4.00000e+00]),\n",
       " array([1.000e+00, 2.480e+02, 4.950e+02, 7.420e+02, 9.890e+02, 1.236e+03,\n",
       "        1.483e+03, 1.730e+03, 1.977e+03, 2.224e+03, 2.471e+03]),\n",
       " <a list of 10 Patch objects>)"
      ]
     },
     "execution_count": 27,
     "metadata": {},
     "output_type": "execute_result"
    },
    {
     "data": {
      "image/png": "[encoded data removed]",
      "text/plain": [
       "<Figure size 432x288 with 1 Axes>"
      ]
     },
     "metadata": {
      "needs_background": "light"
     },
     "output_type": "display_data"
    }
   ],
   "source": [
    "plt.hist(pca_added_df['count'])"
   ]
  },
  {
   "cell_type": "code",
   "execution_count": 28,
   "metadata": {},
   "outputs": [
    {
     "data": {
      "text/plain": [
       "count    160473.000000\n",
       "mean          1.889552\n",
       "std           2.317549\n",
       "min           1.000000\n",
       "25%           1.000000\n",
       "50%           1.000000\n",
       "75%           2.000000\n",
       "max         281.000000\n",
       "Name: author, dtype: float64"
      ]
     },
     "execution_count": 28,
     "metadata": {},
     "output_type": "execute_result"
    }
   ],
   "source": [
    "author_sentences = pca_added_df.groupby('author')['author'].count()\n",
    "author_sentences.describe()"
   ]
  },
  {
   "cell_type": "code",
   "execution_count": 43,
   "metadata": {
    "scrolled": false
   },
   "outputs": [
    {
     "data": {
      "image/png": "[encoded data removed]",
      "text/plain": [
       "<Figure size 1440x720 with 1 Axes>"
      ]
     },
     "metadata": {
      "needs_background": "light"
     },
     "output_type": "display_data"
    }
   ],
   "source": [
    "fig, ax = plt.subplots(1,1, figsize=(20,10))\n",
    "fig=sns.countplot(author_sentences, ax=ax)\n",
    "plt.title(\"Count of number of comments for authors\")\n",
    "for item in fig.get_xticklabels():\n",
    "    item.set_rotation(90)"
   ]
  },
  {
   "cell_type": "markdown",
   "metadata": {},
   "source": [
    "Most authors have 1 comment in the dataset so we can expect to have difference in the way of sarcasm."
   ]
  },
  {
   "cell_type": "markdown",
   "metadata": {},
   "source": [
    "Converting text data into Tfidf Vector."
   ]
  },
  {
   "cell_type": "code",
   "execution_count": 15,
   "metadata": {},
   "outputs": [],
   "source": [
    "tfidf_vectorizer = TfidfVectorizer(lowercase=True, stop_words='english', min_df=0.0, max_df=1.0)\n",
    "tfidf_text_vector = tfidf_vectorizer.fit_transform(df['comment'])"
   ]
  },
  {
   "cell_type": "markdown",
   "metadata": {},
   "source": [
    "Using Latent Dirichlet Allocation to reduce dimensionality of tfidf vector."
   ]
  },
  {
   "cell_type": "code",
   "execution_count": 16,
   "metadata": {},
   "outputs": [
    {
     "name": "stderr",
     "output_type": "stream",
     "text": [
      "C:\\Users\\vivek\\Anaconda3\\lib\\site-packages\\sklearn\\decomposition\\online_lda.py:796: RuntimeWarning: overflow encountered in exp\n",
      "  return np.exp(-1.0 * perword_bound)\n"
     ]
    }
   ],
   "source": [
    "lda = LatentDirichletAllocation(n_components=500)\n",
    "tfidf_lda = lda.fit_transform(tfidf_text_vector)"
   ]
  },
  {
   "cell_type": "code",
   "execution_count": 46,
   "metadata": {},
   "outputs": [],
   "source": [
    "Y=df['label']"
   ]
  },
  {
   "cell_type": "markdown",
   "metadata": {},
   "source": [
    "Doing train-test split for validation"
   ]
  },
  {
   "cell_type": "code",
   "execution_count": 18,
   "metadata": {},
   "outputs": [],
   "source": [
    "X_train, X_test, Y_train, Y_test = train_test_split(tfidf_lda, Y)"
   ]
  },
  {
   "cell_type": "code",
   "execution_count": 47,
   "metadata": {},
   "outputs": [],
   "source": [
    "X_train_pos, X_test_pos, Y_train_pos, Y_test_pos = train_test_split(pos_pca_df, Y)"
   ]
  },
  {
   "cell_type": "markdown",
   "metadata": {},
   "source": [
    "## Supervised Learning"
   ]
  },
  {
   "cell_type": "markdown",
   "metadata": {},
   "source": [
    "### RandomForestClassifier with tfidf vector"
   ]
  },
  {
   "cell_type": "code",
   "execution_count": 20,
   "metadata": {},
   "outputs": [
    {
     "name": "stdout",
     "output_type": "stream",
     "text": [
      "Train data score:  0.5008508299439376\n",
      "Test data score:  0.5009959239668114\n"
     ]
    }
   ],
   "source": [
    "rfc = RandomForestClassifier(n_estimators=100, max_depth=3, random_state=30)\n",
    "rfc.fit(X_train, Y_train)\n",
    "print(\"Train data score: \", rfc.score(X_train, Y_train))\n",
    "print(\"Test data score: \", rfc.score(X_test, Y_test))"
   ]
  },
  {
   "cell_type": "markdown",
   "metadata": {},
   "source": [
    "### RandomForestClassifier with POS dataframe"
   ]
  },
  {
   "cell_type": "code",
   "execution_count": 48,
   "metadata": {},
   "outputs": [
    {
     "name": "stdout",
     "output_type": "stream",
     "text": [
      "Train data score:  0.5774607013301088\n",
      "Test data score:  0.5757891543220462\n"
     ]
    }
   ],
   "source": [
    "rfc = RandomForestClassifier(n_estimators=100, max_depth=3, random_state=30)\n",
    "rfc.fit(X_train_pos, Y_train_pos)\n",
    "print(\"Train data score: \", rfc.score(X_train_pos, Y_train_pos))\n",
    "print(\"Test data score: \", rfc.score(X_test_pos, Y_test_pos))"
   ]
  },
  {
   "cell_type": "markdown",
   "metadata": {},
   "source": [
    "### GradientBoostingClassifier with tfidf vector"
   ]
  },
  {
   "cell_type": "code",
   "execution_count": 23,
   "metadata": {},
   "outputs": [
    {
     "name": "stdout",
     "output_type": "stream",
     "text": [
      "Train data score:  0.5017742112784435\n",
      "Test data score:  0.500850822461713\n"
     ]
    }
   ],
   "source": [
    "gbc = GradientBoostingClassifier(learning_rate=0.3)\n",
    "gbc.fit(X_train, Y_train)\n",
    "print(\"Train data score: \", gbc.score(X_train, Y_train))\n",
    "print(\"Test data score: \", gbc.score(X_test, Y_test))"
   ]
  },
  {
   "cell_type": "markdown",
   "metadata": {},
   "source": [
    "### GradientBoostingClassifier with POS dataframe"
   ]
  },
  {
   "cell_type": "code",
   "execution_count": 49,
   "metadata": {},
   "outputs": [
    {
     "name": "stdout",
     "output_type": "stream",
     "text": [
      "Train data score:  0.6020490271518083\n",
      "Test data score:  0.593267290163437\n"
     ]
    }
   ],
   "source": [
    "gbc = GradientBoostingClassifier(learning_rate=0.3)\n",
    "gbc.fit(X_train_pos, Y_train_pos)\n",
    "print(\"Train data score: \", gbc.score(X_train_pos, Y_train_pos))\n",
    "print(\"Test data score: \", gbc.score(X_test_pos, Y_test_pos))"
   ]
  },
  {
   "cell_type": "markdown",
   "metadata": {},
   "source": [
    "### LogisticRegression with tfidf vector"
   ]
  },
  {
   "cell_type": "code",
   "execution_count": 25,
   "metadata": {},
   "outputs": [
    {
     "name": "stderr",
     "output_type": "stream",
     "text": [
      "C:\\Users\\vivek\\Anaconda3\\lib\\site-packages\\sklearn\\linear_model\\logistic.py:433: FutureWarning: Default solver will be changed to 'lbfgs' in 0.22. Specify a solver to silence this warning.\n",
      "  FutureWarning)\n"
     ]
    },
    {
     "name": "stdout",
     "output_type": "stream",
     "text": [
      "Train data score:  0.5004419039243707\n",
      "Test data score:  0.5009827329208933\n"
     ]
    }
   ],
   "source": [
    "lrc = LogisticRegression(penalty='l1')\n",
    "lrc.fit(X_train, Y_train)\n",
    "print(\"Train data score: \", lrc.score(X_train, Y_train))\n",
    "print(\"Test data score: \", lrc.score(X_test, Y_test))"
   ]
  },
  {
   "cell_type": "markdown",
   "metadata": {},
   "source": [
    "### LogisticRegression with POS dataframe"
   ]
  },
  {
   "cell_type": "code",
   "execution_count": 50,
   "metadata": {},
   "outputs": [
    {
     "name": "stderr",
     "output_type": "stream",
     "text": [
      "C:\\Users\\vivek\\Anaconda3\\lib\\site-packages\\sklearn\\linear_model\\logistic.py:433: FutureWarning: Default solver will be changed to 'lbfgs' in 0.22. Specify a solver to silence this warning.\n",
      "  FutureWarning)\n"
     ]
    },
    {
     "name": "stdout",
     "output_type": "stream",
     "text": [
      "Train data score:  0.5322457953171376\n",
      "Test data score:  0.5330765476394623\n"
     ]
    }
   ],
   "source": [
    "lrc = LogisticRegression(penalty='l2')\n",
    "lrc.fit(X_train_pos, Y_train_pos)\n",
    "print(\"Train data score: \", lrc.score(X_train_pos, Y_train_pos))\n",
    "print(\"Test data score: \", lrc.score(X_test_pos, Y_test_pos))"
   ]
  },
  {
   "cell_type": "markdown",
   "metadata": {},
   "source": [
    "## Deep Learning"
   ]
  },
  {
   "cell_type": "code",
   "execution_count": 27,
   "metadata": {},
   "outputs": [],
   "source": [
    "deep_df = pca_added_df.sample(frac=0.2, random_state=42)"
   ]
  },
  {
   "cell_type": "markdown",
   "metadata": {},
   "source": [
    "### LSTM with comment"
   ]
  },
  {
   "cell_type": "code",
   "execution_count": 28,
   "metadata": {},
   "outputs": [],
   "source": [
    "text = deep_df['comment']\n",
    "text = text.apply(lambda x: x.lower() if type(x)=='str' else str(x))"
   ]
  },
  {
   "cell_type": "code",
   "execution_count": 29,
   "metadata": {},
   "outputs": [
    {
     "name": "stdout",
     "output_type": "stream",
     "text": [
      "145147     I'm sorry but at this point if you're being ca...\n",
      "796203              Sure I'm so worried about them right now\n",
      "44502      Just wait until your hormones kick in and you'...\n",
      "349806     Dry cigars are acceptable in a survival situat...\n",
      "832598                  she *IS* the younger one, after all.\n",
      "960035                     Yes, that is totally what I said.\n",
      "912863     Yes it was the Palestinians who crossed contin...\n",
      "700344                        OH yeah stigmata is sooo sexy!\n",
      "622606     Wow.. Americans really take care of their vete...\n",
      "288830        Saving this to repost on valentine's day 2017.\n",
      "598778     its really too bad Bryant screwed up, the way ...\n",
      "77109      If they get amnesty for running over pedestria...\n",
      "403977                                     We did it Reddit!\n",
      "740713                               Kettle Corn Master Race\n",
      "746133           You mustn't ever forget the Muller Corners!\n",
      "937517     I gave an easy one to remember not long in the...\n",
      "40664               Well except that guy who hit freddy rip.\n",
      "884069     Not easy to do what he's about to *cough*Tendu...\n",
      "412367                          Ron Swanson was never a baby\n",
      "776093     Perhaps education could be considered a natura...\n",
      "636519     That's 104 straight days, without time to eat,...\n",
      "150118     YOU SJWS DONT UNDERSTAND, IT'S NECESSARY BECAU...\n",
      "789882                          STEM Master race, represent!\n",
      "293271                                     **JohnsonRising**\n",
      "748412                                  The spice must flow.\n",
      "721921     Detonate, so if you throw it down and die, you...\n",
      "750248     I would definitely like to see them playing so...\n",
      "251091     She tried getting his patreon shut down, that'...\n",
      "943820                                         \"swag\" \"yolo\"\n",
      "312866          NPR was the absolute fucking worst for this.\n",
      "                                 ...                        \n",
      "401506     Now that the primaries are getting less white,...\n",
      "30319                        Fuck yeah love a good civil war\n",
      "828701     I don't think that might be a good idea, since...\n",
      "618246     I'm your peer, and I just reviewed your scienc...\n",
      "616442     Don't ya know, competitve match making is gonn...\n",
      "980652     Except the part where Presto doesn't use NFC, ...\n",
      "153529                                                 Knox.\n",
      "846700                                     That's Portuguese\n",
      "2684                                           Awesome photo\n",
      "1009035    Unless she's had any alcohol to drink and then...\n",
      "139210     i saw a guy jump off a bridge and found $100 t...\n",
      "277224             If only huma would've blown something....\n",
      "521540     You can get them for almost 100$ cheaper after...\n",
      "368774     If you can't hit the phones and you're interes...\n",
      "168395     Does this really need to be posted every time ...\n",
      "225599                           Niente vidi, niente sacciu.\n",
      "142836     Since there's only about 2 days a month when t...\n",
      "540478                             God is a Pakistani agent.\n",
      "281055                                         Cheezwozzers.\n",
      "361353           True fans would have made this bet in June!\n",
      "675315             No, that'd give the infil too much power.\n",
      "352786     It's because, like food, military tactics are ...\n",
      "248939        minigolf has more depth than league of legends\n",
      "634790                       hahahahahahahahah It's so funny\n",
      "679676                                          Nasa quenya.\n",
      "170087     I have a masters degree in physics, but I have...\n",
      "579249     I can see this working great for pizza vans on...\n",
      "310504                 Isn't it fun to pull useless R units?\n",
      "260580                             I need to watch more porn\n",
      "580266                               Me getting on the fp :(\n",
      "Name: comment, Length: 60647, dtype: object\n"
     ]
    }
   ],
   "source": [
    "print(text)"
   ]
  },
  {
   "cell_type": "markdown",
   "metadata": {},
   "source": [
    "Tokenizing the words with 40000 most common words. It's basically the vocabulary of our model."
   ]
  },
  {
   "cell_type": "code",
   "execution_count": 30,
   "metadata": {},
   "outputs": [],
   "source": [
    "batch_size = 40000\n",
    "tokenizer = Tokenizer(num_words=batch_size, split='(?u)\\b\\w\\w+\\b')\n",
    "tokenizer.fit_on_texts(text.values)\n",
    "X = tokenizer.texts_to_sequences(text.values)"
   ]
  },
  {
   "cell_type": "code",
   "execution_count": 31,
   "metadata": {},
   "outputs": [],
   "source": [
    "X = pad_sequences(X)"
   ]
  },
  {
   "cell_type": "code",
   "execution_count": 32,
   "metadata": {},
   "outputs": [
    {
     "data": {
      "text/plain": [
       "array([   0,    0,    0,    0,    0,    0,    0,    0,    0,    0,    0,\n",
       "          0,    0,    0,    0,    0,    0,    0,    0,    0,    0,    0,\n",
       "          0,    0,    0,    0,    0,    0,    0,    0,    0,    0,    0,\n",
       "          0,    0,    0,    0,    0,    0,    0,    0,    0,    0,    0,\n",
       "          0,    0,    0,    0,    0,    0,    0,    0,    0,    0,    0,\n",
       "          0,    0,    0,    0,    0,    0,    0,    0,    0,    0,    0,\n",
       "          0,    0,    0,    0,    0,    0,    0,    0,    0,    0,    0,\n",
       "          0,    0,    0,    0,    0,    0,    0,    0,    0,    0,    0,\n",
       "          0,    0,    0,    0,    0,    0,    0,    0,    0,    0,    0,\n",
       "          0,    0,    0,    0,    0,    0,    0,    0,    0,    0,    0,\n",
       "          0,    0,    0,    0,    0,    0,    0,    0,    0,    0,    0,\n",
       "          0,    0,    0,    0,    0,    0,    0,    0,    0,    0,    0,\n",
       "          0,    0,    0,    0,    0,    0,    0,    0,    0,    0,    0,\n",
       "          0,    0,    0,    0,    0,    0,    0,    0,    0,    0,    0,\n",
       "          0,    0,    0,    0,    0,    0,    0,    0,    0,    0,    0,\n",
       "          0,    0,    0,    0,    0,    0,    0,    0,    0,    0,    0,\n",
       "          0,    0,    0,    0,    0,    0,    0,    0,    0,    0,    0,\n",
       "          0,    0,    0,    0,    0,    0,    0,    0,    0,    0,    0,\n",
       "          0,    0,    0,    0,    0,    0,    0,    0,    0,    0,    0,\n",
       "          0,    0,    0,    0,    0,    0,    0,    0,    0,    0,    0,\n",
       "          0,    0,    0,    0,    0,    0,    0,    0,    0,    0,    0,\n",
       "          0,    0,    0,    0,    0,    0,    0,    0,    0,    0,    0,\n",
       "          0,    0,    0,    0,    0,    0,    0,    0,    0,    0,    0,\n",
       "          0,    0,    0,    0,    0,    0,    0,    0,    0,    0,    0,\n",
       "          0,    0,    0,    0,    0,    0,    0,    0,    0,    0,    0,\n",
       "          0,    0,    0,    0,    0,    0,    0,    0,    0,    0,    0,\n",
       "          0,    0,    0,    0,    0,    0, 2752])"
      ]
     },
     "execution_count": 32,
     "metadata": {},
     "output_type": "execute_result"
    }
   ],
   "source": [
    "X[0]"
   ]
  },
  {
   "cell_type": "code",
   "execution_count": 63,
   "metadata": {},
   "outputs": [
    {
     "ename": "AttributeError",
     "evalue": "'numpy.ndarray' object has no attribute 'to_numpy'",
     "output_type": "error",
     "traceback": [
      "\u001b[1;31m---------------------------------------------------------------------------\u001b[0m",
      "\u001b[1;31mAttributeError\u001b[0m                            Traceback (most recent call last)",
      "\u001b[1;32m<ipython-input-63-6e68cddca3ef>\u001b[0m in \u001b[0;36m<module>\u001b[1;34m\u001b[0m\n\u001b[0;32m      1\u001b[0m \u001b[1;31m# converting pos dataframe to numpy array\u001b[0m\u001b[1;33m\u001b[0m\u001b[1;33m\u001b[0m\u001b[1;33m\u001b[0m\u001b[0m\n\u001b[1;32m----> 2\u001b[1;33m \u001b[0mX_train_pos\u001b[0m\u001b[1;33m=\u001b[0m\u001b[0mX_train_pos\u001b[0m\u001b[1;33m.\u001b[0m\u001b[0mto_numpy\u001b[0m\u001b[1;33m(\u001b[0m\u001b[1;33m)\u001b[0m\u001b[1;33m\u001b[0m\u001b[1;33m\u001b[0m\u001b[0m\n\u001b[0m",
      "\u001b[1;31mAttributeError\u001b[0m: 'numpy.ndarray' object has no attribute 'to_numpy'"
     ]
    }
   ],
   "source": [
    "# converting pos dataframe to numpy array\n",
    "X_train_pos=X_train_pos.to_numpy()"
   ]
  },
  {
   "cell_type": "code",
   "execution_count": 34,
   "metadata": {},
   "outputs": [],
   "source": [
    "Y = deep_df['label']\n",
    "Y = to_categorical(Y)"
   ]
  },
  {
   "cell_type": "code",
   "execution_count": 35,
   "metadata": {},
   "outputs": [],
   "source": [
    "X_train, X_test, Y_train, Y_test = train_test_split(X, Y, random_state=87)"
   ]
  },
  {
   "cell_type": "code",
   "execution_count": 36,
   "metadata": {},
   "outputs": [
    {
     "name": "stderr",
     "output_type": "stream",
     "text": [
      "WARNING: Logging before flag parsing goes to stderr.\n",
      "W0723 21:58:33.918729 27252 deprecation_wrapper.py:119] From C:\\Users\\vivek\\Anaconda3\\lib\\site-packages\\keras\\backend\\tensorflow_backend.py:74: The name tf.get_default_graph is deprecated. Please use tf.compat.v1.get_default_graph instead.\n",
      "\n",
      "C:\\Users\\vivek\\Anaconda3\\lib\\site-packages\\ipykernel_launcher.py:4: UserWarning: The `dropout` argument is no longer support in `Embedding`. You can apply a `keras.layers.SpatialDropout1D` layer right after the `Embedding` layer to get the same behavior.\n",
      "  after removing the cwd from sys.path.\n",
      "W0723 21:58:34.040745 27252 deprecation_wrapper.py:119] From C:\\Users\\vivek\\Anaconda3\\lib\\site-packages\\keras\\backend\\tensorflow_backend.py:517: The name tf.placeholder is deprecated. Please use tf.compat.v1.placeholder instead.\n",
      "\n",
      "W0723 21:58:34.065050 27252 deprecation_wrapper.py:119] From C:\\Users\\vivek\\Anaconda3\\lib\\site-packages\\keras\\backend\\tensorflow_backend.py:4138: The name tf.random_uniform is deprecated. Please use tf.random.uniform instead.\n",
      "\n",
      "W0723 21:58:34.322837 27252 deprecation_wrapper.py:119] From C:\\Users\\vivek\\Anaconda3\\lib\\site-packages\\keras\\backend\\tensorflow_backend.py:133: The name tf.placeholder_with_default is deprecated. Please use tf.compat.v1.placeholder_with_default instead.\n",
      "\n",
      "W0723 21:58:34.328788 27252 deprecation.py:506] From C:\\Users\\vivek\\Anaconda3\\lib\\site-packages\\keras\\backend\\tensorflow_backend.py:3445: calling dropout (from tensorflow.python.ops.nn_ops) with keep_prob is deprecated and will be removed in a future version.\n",
      "Instructions for updating:\n",
      "Please use `rate` instead of `keep_prob`. Rate should be set to `rate = 1 - keep_prob`.\n"
     ]
    }
   ],
   "source": [
    "embed_dim=128\n",
    "lstm_out=256\n",
    "model = Sequential()\n",
    "model.add(Embedding(batch_size, embed_dim, input_length=X.shape[1], dropout=0.2))\n",
    "model.add(LSTM(lstm_out, dropout=0.2))\n",
    "model.add(Dense(2, activation='softmax'))"
   ]
  },
  {
   "cell_type": "code",
   "execution_count": 37,
   "metadata": {},
   "outputs": [
    {
     "name": "stdout",
     "output_type": "stream",
     "text": [
      "_________________________________________________________________\n",
      "Layer (type)                 Output Shape              Param #   \n",
      "=================================================================\n",
      "embedding_1 (Embedding)      (None, 293, 128)          5120000   \n",
      "_________________________________________________________________\n",
      "lstm_1 (LSTM)                (None, 256)               394240    \n",
      "_________________________________________________________________\n",
      "dense_1 (Dense)              (None, 2)                 514       \n",
      "=================================================================\n",
      "Total params: 5,514,754\n",
      "Trainable params: 5,514,754\n",
      "Non-trainable params: 0\n",
      "_________________________________________________________________\n"
     ]
    }
   ],
   "source": [
    "model.summary()"
   ]
  },
  {
   "cell_type": "code",
   "execution_count": 38,
   "metadata": {},
   "outputs": [
    {
     "name": "stderr",
     "output_type": "stream",
     "text": [
      "W0723 21:58:34.488517 27252 deprecation_wrapper.py:119] From C:\\Users\\vivek\\Anaconda3\\lib\\site-packages\\keras\\optimizers.py:790: The name tf.train.Optimizer is deprecated. Please use tf.compat.v1.train.Optimizer instead.\n",
      "\n",
      "W0723 21:58:34.512325 27252 deprecation_wrapper.py:119] From C:\\Users\\vivek\\Anaconda3\\lib\\site-packages\\keras\\backend\\tensorflow_backend.py:3295: The name tf.log is deprecated. Please use tf.math.log instead.\n",
      "\n"
     ]
    }
   ],
   "source": [
    "model.compile(loss='categorical_crossentropy', optimizer='adam', metrics=['accuracy'])"
   ]
  },
  {
   "cell_type": "code",
   "execution_count": 39,
   "metadata": {},
   "outputs": [
    {
     "name": "stderr",
     "output_type": "stream",
     "text": [
      "W0723 21:58:34.621148 27252 deprecation.py:323] From C:\\Users\\vivek\\AppData\\Roaming\\Python\\Python37\\site-packages\\tensorflow\\python\\ops\\math_grad.py:1250: add_dispatch_support.<locals>.wrapper (from tensorflow.python.ops.array_ops) is deprecated and will be removed in a future version.\n",
      "Instructions for updating:\n",
      "Use tf.where in 2.0, which has the same broadcast rule as np.where\n"
     ]
    },
    {
     "name": "stdout",
     "output_type": "stream",
     "text": [
      "Train on 45485 samples, validate on 15162 samples\n",
      "Epoch 1/10\n",
      "45485/45485 [==============================] - 586s 13ms/step - loss: 0.6911 - acc: 0.5186 - val_loss: 0.6862 - val_acc: 0.5354\n",
      "Epoch 2/10\n",
      "45485/45485 [==============================] - 695s 15ms/step - loss: 0.6592 - acc: 0.6775 - val_loss: 0.6835 - val_acc: 0.5505\n",
      "Epoch 3/10\n",
      "45485/45485 [==============================] - 1040s 23ms/step - loss: 0.5126 - acc: 0.7389 - val_loss: 0.6927 - val_acc: 0.5365\n",
      "Epoch 4/10\n",
      "45485/45485 [==============================] - 1232s 27ms/step - loss: 0.4182 - acc: 0.7533 - val_loss: 0.7124 - val_acc: 0.5483\n",
      "Epoch 5/10\n",
      "45485/45485 [==============================] - 1318s 29ms/step - loss: 0.3796 - acc: 0.7579 - val_loss: 0.7303 - val_acc: 0.5481\n",
      "Epoch 6/10\n",
      "45485/45485 [==============================] - 1376s 30ms/step - loss: 0.3688 - acc: 0.7579 - val_loss: 0.7444 - val_acc: 0.5464\n",
      "Epoch 7/10\n",
      "45485/45485 [==============================] - 1413s 31ms/step - loss: 0.3641 - acc: 0.7583 - val_loss: 0.7523 - val_acc: 0.5468\n",
      "Epoch 8/10\n",
      "45485/45485 [==============================] - 1437s 32ms/step - loss: 0.3625 - acc: 0.7557 - val_loss: 0.7589 - val_acc: 0.5485\n",
      "Epoch 9/10\n",
      "45485/45485 [==============================] - 1579s 35ms/step - loss: 0.3612 - acc: 0.7585 - val_loss: 0.7635 - val_acc: 0.5468\n",
      "Epoch 10/10\n",
      "45485/45485 [==============================] - 1591s 35ms/step - loss: 0.3597 - acc: 0.7612 - val_loss: 0.7695 - val_acc: 0.5469\n"
     ]
    },
    {
     "data": {
      "text/plain": [
       "<keras.callbacks.History at 0x27a28b90710>"
      ]
     },
     "execution_count": 39,
     "metadata": {},
     "output_type": "execute_result"
    }
   ],
   "source": [
    "model.fit(X_train, Y_train, epochs=10, batch_size=1000, validation_data=(X_test, Y_test))"
   ]
  },
  {
   "cell_type": "markdown",
   "metadata": {},
   "source": [
    "### Neural network with POS dataframe"
   ]
  },
  {
   "cell_type": "code",
   "execution_count": null,
   "metadata": {},
   "outputs": [],
   "source": [
    "embed_dim=128\n",
    "lstm_out=256\n",
    "model2 = Sequential()\n",
    "model2.add(Dense(200, batch_input_shape=(412, X_train_pos.shape[1], )))\n",
    "model2.add(Dropout(rate=0.2))\n",
    "model2.add(Dense(100, activation='relu'))\n",
    "model2.add(Dropout(rate=0.2))\n",
    "model2.add(Dense(50, activation='relu'))\n",
    "model2.add(Dense(1, activation='softmax'))\n",
    "model2.summary()"
   ]
  },
  {
   "cell_type": "code",
   "execution_count": 93,
   "metadata": {},
   "outputs": [],
   "source": [
    "model2.compile(loss='binary_crossentropy', optimizer='adam', metrics=['accuracy'])"
   ]
  },
  {
   "cell_type": "code",
   "execution_count": 94,
   "metadata": {},
   "outputs": [
    {
     "name": "stdout",
     "output_type": "stream",
     "text": [
      "Train on 303232 samples, validate on 75808 samples\n",
      "Epoch 1/5\n",
      "303232/303232 [==============================] - 3s 10us/step - loss: 7.9597 - acc: 0.5007 - val_loss: 7.9792 - val_acc: 0.4995\n",
      "Epoch 2/5\n",
      "303232/303232 [==============================] - 3s 9us/step - loss: 7.9597 - acc: 0.5007 - val_loss: 7.9792 - val_acc: 0.4995\n",
      "Epoch 3/5\n",
      "303232/303232 [==============================] - 3s 9us/step - loss: 7.9597 - acc: 0.5007 - val_loss: 7.9792 - val_acc: 0.4995\n",
      "Epoch 4/5\n",
      "303232/303232 [==============================] - 3s 9us/step - loss: 7.9597 - acc: 0.5007 - val_loss: 7.9792 - val_acc: 0.4995\n",
      "Epoch 5/5\n",
      "303232/303232 [==============================] - 3s 9us/step - loss: 7.9597 - acc: 0.5007 - val_loss: 7.9792 - val_acc: 0.4995\n"
     ]
    },
    {
     "data": {
      "text/plain": [
       "<keras.callbacks.History at 0x26898221e80>"
      ]
     },
     "execution_count": 94,
     "metadata": {},
     "output_type": "execute_result"
    }
   ],
   "source": [
    "model2.fit(X_train_pos, Y_train_pos, epochs=5, batch_size=412, validation_split=0.2)"
   ]
  },
  {
   "cell_type": "markdown",
   "metadata": {},
   "source": [
    "### LSTM with parent_comment and comment combined"
   ]
  },
  {
   "cell_type": "markdown",
   "metadata": {},
   "source": [
    "Previously we only used the column comment to get our features but we should also consider parent_comment as it has the context of next sentence. So new data will contain both the sentences seperated by a space. It will go through the same process but with bigger sentences."
   ]
  },
  {
   "cell_type": "code",
   "execution_count": 53,
   "metadata": {},
   "outputs": [],
   "source": [
    "all_text = deep_df['parent_comment'] + ' ' + deep_df['comment']\n",
    "all_text = all_text.apply(lambda x: x.lower() if type(x)=='str' else str(x))"
   ]
  },
  {
   "cell_type": "code",
   "execution_count": 54,
   "metadata": {},
   "outputs": [],
   "source": [
    "batch_size = 50000\n",
    "tokenizer = Tokenizer(num_words=batch_size, split='(?u)\\b\\w\\w+\\b')\n",
    "tokenizer.fit_on_texts(all_text.values)\n",
    "X = tokenizer.texts_to_sequences(all_text.values)"
   ]
  },
  {
   "cell_type": "code",
   "execution_count": 55,
   "metadata": {},
   "outputs": [],
   "source": [
    "X = pad_sequences(X)"
   ]
  },
  {
   "cell_type": "code",
   "execution_count": 57,
   "metadata": {},
   "outputs": [],
   "source": [
    "X_train, X_test, Y_train, Y_test = train_test_split(X, Y, random_state=87)"
   ]
  },
  {
   "cell_type": "code",
   "execution_count": 59,
   "metadata": {},
   "outputs": [
    {
     "name": "stderr",
     "output_type": "stream",
     "text": [
      "C:\\Users\\vivek\\Anaconda3\\lib\\site-packages\\ipykernel_launcher.py:4: UserWarning: The `dropout` argument is no longer support in `Embedding`. You can apply a `keras.layers.SpatialDropout1D` layer right after the `Embedding` layer to get the same behavior.\n",
      "  after removing the cwd from sys.path.\n"
     ]
    }
   ],
   "source": [
    "embed_dim=128\n",
    "lstm_out=256\n",
    "model = Sequential()\n",
    "model.add(Embedding(batch_size, embed_dim, input_length=X_train.shape[1], dropout=0.2))\n",
    "model.add(LSTM(lstm_out, dropout=0.2))\n",
    "model.add(Dense(2, activation='softmax'))"
   ]
  },
  {
   "cell_type": "code",
   "execution_count": 60,
   "metadata": {},
   "outputs": [],
   "source": [
    "model.compile(loss='categorical_crossentropy', optimizer='adam', metrics=['accuracy'])"
   ]
  },
  {
   "cell_type": "code",
   "execution_count": 62,
   "metadata": {},
   "outputs": [
    {
     "name": "stdout",
     "output_type": "stream",
     "text": [
      "Train on 45485 samples, validate on 15162 samples\n",
      "Epoch 1/10\n",
      "45485/45485 [==============================] - 4494s 99ms/step - loss: 0.6869 - acc: 0.5330 - val_loss: 0.6808 - val_acc: 0.5469\n",
      "Epoch 2/10\n",
      "45485/45485 [==============================] - 5595s 123ms/step - loss: 1.0866 - acc: 0.5311 - val_loss: 0.6894 - val_acc: 0.5069\n",
      "Epoch 3/10\n",
      "45485/45485 [==============================] - 5597s 123ms/step - loss: 0.6623 - acc: 0.6453 - val_loss: 0.6825 - val_acc: 0.5354\n",
      "Epoch 4/10\n",
      "45485/45485 [==============================] - 5628s 124ms/step - loss: 0.6183 - acc: 0.6620 - val_loss: 0.6982 - val_acc: 0.5382\n",
      "Epoch 5/10\n",
      "45485/45485 [==============================] - 5644s 124ms/step - loss: 0.5614 - acc: 0.6706 - val_loss: 0.7323 - val_acc: 0.5386\n",
      "Epoch 6/10\n",
      "45485/45485 [==============================] - 5639s 124ms/step - loss: 0.5249 - acc: 0.6748 - val_loss: 0.7792 - val_acc: 0.5313\n",
      "Epoch 7/10\n",
      "45485/45485 [==============================] - 5690s 125ms/step - loss: 0.5117 - acc: 0.6753 - val_loss: 0.7779 - val_acc: 0.5394\n",
      "Epoch 8/10\n",
      "45485/45485 [==============================] - 12009s 264ms/step - loss: 0.5006 - acc: 0.6787 - val_loss: 0.7995 - val_acc: 0.5262\n",
      "Epoch 9/10\n",
      "45485/45485 [==============================] - 6769s 149ms/step - loss: 0.4939 - acc: 0.6790 - val_loss: 0.8035 - val_acc: 0.5379\n",
      "Epoch 10/10\n",
      "45485/45485 [==============================] - 5689s 125ms/step - loss: 0.4903 - acc: 0.6816 - val_loss: 0.8230 - val_acc: 0.5305\n"
     ]
    },
    {
     "data": {
      "text/plain": [
       "<keras.callbacks.History at 0x27a1f76ccf8>"
      ]
     },
     "execution_count": 62,
     "metadata": {},
     "output_type": "execute_result"
    }
   ],
   "source": [
    "model.fit(X_train, Y_train, epochs=10, batch_size=500, validation_data=(X_test, Y_test))"
   ]
  },
  {
   "cell_type": "markdown",
   "metadata": {},
   "source": [
    "# Conclusion \n",
    "\n",
    "In conclusion, deep learning is best performer with comments data which has accuracy of around 75% in training data and 56% in testing data. We can increase accuracy by adding more vocabulary to the tokenizer but it takes more computational power to create and run such data."
   ]
  },
  {
   "cell_type": "code",
   "execution_count": null,
   "metadata": {},
   "outputs": [],
   "source": []
  }
 ],
 "metadata": {
  "kernelspec": {
   "display_name": "Python 3",
   "language": "python",
   "name": "python3"
  },
  "language_info": {
   "codemirror_mode": {
    "name": "ipython",
    "version": 3
   },
   "file_extension": ".py",
   "mimetype": "text/x-python",
   "name": "python",
   "nbconvert_exporter": "python",
   "pygments_lexer": "ipython3",
   "version": "3.7.3"
  }
 },
 "nbformat": 4,
 "nbformat_minor": 2
}
