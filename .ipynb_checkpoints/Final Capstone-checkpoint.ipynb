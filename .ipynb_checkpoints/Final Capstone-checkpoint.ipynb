{
 "cells": [
  {
   "cell_type": "markdown",
   "metadata": {},
   "source": [
    "# Introduction\n",
    "\n",
    "This notebook is about Natural Language Processing. Here, we will be using data from kaggle which contains comments from Reddit(https://www.kaggle.com/sherinclaudia/sarcastic-comments-on-reddit). Model needs to classify whether the comment is sarcastic or not. Data contains following features:\n",
    "    \n",
    "    Label:- sarcastic or not\n",
    "    comment:- Reply to a Parent Reddit comment\n",
    "    Author:- Person who commented\n",
    "    Subreddit:- Commented under which subreddit\n",
    "    Score:- Number of upvotes -(minus) Number of downvotes.\n",
    "    Ups:- Number of upvotes\n",
    "    Downs:- Number of downvotes\n",
    "    Date:- Commented date\n",
    "    Created_utc:- Commented time in the UTC Timezone\n",
    "    Parent_comment:- The Parent Reddit comment to which sarcastic replies are made\n",
    "\n",
    "Different models will be used to check which is best fit for this particular data. Deep learning will also be used for comparing LSTM model scores with other models."
   ]
  },
  {
   "cell_type": "code",
   "execution_count": 1,
   "metadata": {},
   "outputs": [
    {
     "name": "stderr",
     "output_type": "stream",
     "text": [
      "Using TensorFlow backend.\n"
     ]
    }
   ],
   "source": [
    "import pandas as pd\n",
    "import numpy as np\n",
    "import matplotlib.pyplot as plt\n",
    "import seaborn as sns\n",
    "import scipy.stats as stats\n",
    "import nltk\n",
    "from keras.models import Sequential\n",
    "from keras.preprocessing.text import Tokenizer\n",
    "from keras.preprocessing.sequence import pad_sequences\n",
    "from keras.layers import Dense, Embedding, LSTM, Dropout, Flatten\n",
    "from keras.utils import to_categorical\n",
    "from collections import Counter\n",
    "from sklearn.decomposition import PCA\n",
    "from sklearn.feature_extraction.text import TfidfVectorizer, CountVectorizer\n",
    "from sklearn.ensemble import RandomForestClassifier, GradientBoostingClassifier\n",
    "from sklearn.linear_model import LogisticRegression\n",
    "from sklearn.model_selection import train_test_split\n",
    "from sklearn.decomposition import LatentDirichletAllocation\n",
    "from sklearn.metrics import mean_squared_error\n",
    "\n",
    "%matplotlib inline"
   ]
  },
  {
   "cell_type": "code",
   "execution_count": 2,
   "metadata": {},
   "outputs": [],
   "source": [
    "df = pd.read_csv(\"C:/Users/vivek/Downloads/train-balanced-sarcasm.csv\")"
   ]
  },
  {
   "cell_type": "markdown",
   "metadata": {},
   "source": [
    "Data contains around 1.3 million rows so with limited computation power we will be deviding this dataset by half."
   ]
  },
  {
   "cell_type": "code",
   "execution_count": 3,
   "metadata": {},
   "outputs": [],
   "source": [
    "df = df.sample(frac=0.3, random_state=42)"
   ]
  },
  {
   "cell_type": "code",
   "execution_count": 4,
   "metadata": {},
   "outputs": [
    {
     "data": {
      "text/html": [
       "<div>\n",
       "<style scoped>\n",
       "    .dataframe tbody tr th:only-of-type {\n",
       "        vertical-align: middle;\n",
       "    }\n",
       "\n",
       "    .dataframe tbody tr th {\n",
       "        vertical-align: top;\n",
       "    }\n",
       "\n",
       "    .dataframe thead th {\n",
       "        text-align: right;\n",
       "    }\n",
       "</style>\n",
       "<table border=\"1\" class=\"dataframe\">\n",
       "  <thead>\n",
       "    <tr style=\"text-align: right;\">\n",
       "      <th></th>\n",
       "      <th>label</th>\n",
       "      <th>score</th>\n",
       "      <th>ups</th>\n",
       "      <th>downs</th>\n",
       "    </tr>\n",
       "  </thead>\n",
       "  <tbody>\n",
       "    <tr>\n",
       "      <th>count</th>\n",
       "      <td>303248.000000</td>\n",
       "      <td>303248.000000</td>\n",
       "      <td>303248.000000</td>\n",
       "      <td>303248.000000</td>\n",
       "    </tr>\n",
       "    <tr>\n",
       "      <th>mean</th>\n",
       "      <td>0.500326</td>\n",
       "      <td>6.978335</td>\n",
       "      <td>5.574467</td>\n",
       "      <td>-0.145765</td>\n",
       "    </tr>\n",
       "    <tr>\n",
       "      <th>std</th>\n",
       "      <td>0.500001</td>\n",
       "      <td>53.339449</td>\n",
       "      <td>44.689326</td>\n",
       "      <td>0.352871</td>\n",
       "    </tr>\n",
       "    <tr>\n",
       "      <th>min</th>\n",
       "      <td>0.000000</td>\n",
       "      <td>-507.000000</td>\n",
       "      <td>-507.000000</td>\n",
       "      <td>-1.000000</td>\n",
       "    </tr>\n",
       "    <tr>\n",
       "      <th>25%</th>\n",
       "      <td>0.000000</td>\n",
       "      <td>1.000000</td>\n",
       "      <td>0.000000</td>\n",
       "      <td>0.000000</td>\n",
       "    </tr>\n",
       "    <tr>\n",
       "      <th>50%</th>\n",
       "      <td>1.000000</td>\n",
       "      <td>2.000000</td>\n",
       "      <td>1.000000</td>\n",
       "      <td>0.000000</td>\n",
       "    </tr>\n",
       "    <tr>\n",
       "      <th>75%</th>\n",
       "      <td>1.000000</td>\n",
       "      <td>4.000000</td>\n",
       "      <td>3.000000</td>\n",
       "      <td>0.000000</td>\n",
       "    </tr>\n",
       "    <tr>\n",
       "      <th>max</th>\n",
       "      <td>1.000000</td>\n",
       "      <td>9070.000000</td>\n",
       "      <td>5163.000000</td>\n",
       "      <td>0.000000</td>\n",
       "    </tr>\n",
       "  </tbody>\n",
       "</table>\n",
       "</div>"
      ],
      "text/plain": [
       "               label          score            ups          downs\n",
       "count  303248.000000  303248.000000  303248.000000  303248.000000\n",
       "mean        0.500326       6.978335       5.574467      -0.145765\n",
       "std         0.500001      53.339449      44.689326       0.352871\n",
       "min         0.000000    -507.000000    -507.000000      -1.000000\n",
       "25%         0.000000       1.000000       0.000000       0.000000\n",
       "50%         1.000000       2.000000       1.000000       0.000000\n",
       "75%         1.000000       4.000000       3.000000       0.000000\n",
       "max         1.000000    9070.000000    5163.000000       0.000000"
      ]
     },
     "execution_count": 4,
     "metadata": {},
     "output_type": "execute_result"
    }
   ],
   "source": [
    "df.describe()"
   ]
  },
  {
   "cell_type": "code",
   "execution_count": 5,
   "metadata": {},
   "outputs": [
    {
     "data": {
      "text/html": [
       "<div>\n",
       "<style scoped>\n",
       "    .dataframe tbody tr th:only-of-type {\n",
       "        vertical-align: middle;\n",
       "    }\n",
       "\n",
       "    .dataframe tbody tr th {\n",
       "        vertical-align: top;\n",
       "    }\n",
       "\n",
       "    .dataframe thead th {\n",
       "        text-align: right;\n",
       "    }\n",
       "</style>\n",
       "<table border=\"1\" class=\"dataframe\">\n",
       "  <thead>\n",
       "    <tr style=\"text-align: right;\">\n",
       "      <th></th>\n",
       "      <th>label</th>\n",
       "      <th>comment</th>\n",
       "      <th>author</th>\n",
       "      <th>subreddit</th>\n",
       "      <th>score</th>\n",
       "      <th>ups</th>\n",
       "      <th>downs</th>\n",
       "      <th>date</th>\n",
       "      <th>created_utc</th>\n",
       "      <th>parent_comment</th>\n",
       "    </tr>\n",
       "  </thead>\n",
       "  <tbody>\n",
       "    <tr>\n",
       "      <th>608627</th>\n",
       "      <td>1</td>\n",
       "      <td>And he sure as hell is successful!</td>\n",
       "      <td>armiechedon</td>\n",
       "      <td>quityourbullshit</td>\n",
       "      <td>1</td>\n",
       "      <td>1</td>\n",
       "      <td>0</td>\n",
       "      <td>2015-12</td>\n",
       "      <td>2015-12-09 23:41:48</td>\n",
       "      <td>Obama's smoked before? Or at least admitted it?</td>\n",
       "    </tr>\n",
       "    <tr>\n",
       "      <th>456977</th>\n",
       "      <td>1</td>\n",
       "      <td>wait, you have to win the candidates to challe...</td>\n",
       "      <td>killingfeels</td>\n",
       "      <td>chess</td>\n",
       "      <td>1</td>\n",
       "      <td>1</td>\n",
       "      <td>0</td>\n",
       "      <td>2016-02</td>\n",
       "      <td>2016-02-13 00:04:43</td>\n",
       "      <td>You can say the same thing about any chess pla...</td>\n",
       "    </tr>\n",
       "    <tr>\n",
       "      <th>803801</th>\n",
       "      <td>1</td>\n",
       "      <td>I mean how could anyone not see that it is ant...</td>\n",
       "      <td>Gnofar</td>\n",
       "      <td>katawashoujo</td>\n",
       "      <td>5</td>\n",
       "      <td>5</td>\n",
       "      <td>0</td>\n",
       "      <td>2014-12</td>\n",
       "      <td>2014-12-25 21:59:49</td>\n",
       "      <td>That isn't Hanako?</td>\n",
       "    </tr>\n",
       "    <tr>\n",
       "      <th>926708</th>\n",
       "      <td>0</td>\n",
       "      <td>Funny thing, most of the girl pants I've bough...</td>\n",
       "      <td>smischmal</td>\n",
       "      <td>transgender</td>\n",
       "      <td>2</td>\n",
       "      <td>2</td>\n",
       "      <td>0</td>\n",
       "      <td>2012-03</td>\n",
       "      <td>2012-03-05 02:03:43</td>\n",
       "      <td>Girl Pants (X/post from TwoXChromosomes)</td>\n",
       "    </tr>\n",
       "    <tr>\n",
       "      <th>129279</th>\n",
       "      <td>0</td>\n",
       "      <td>Also Ranch dressing, because LBJ was Texan, an...</td>\n",
       "      <td>ElScreecho</td>\n",
       "      <td>AskReddit</td>\n",
       "      <td>28</td>\n",
       "      <td>28</td>\n",
       "      <td>0</td>\n",
       "      <td>2016-09</td>\n",
       "      <td>2016-09-19 19:20:53</td>\n",
       "      <td>Lyndon Johnson salad: A carrot and 2 beetroots...</td>\n",
       "    </tr>\n",
       "  </tbody>\n",
       "</table>\n",
       "</div>"
      ],
      "text/plain": [
       "        label                                            comment  \\\n",
       "608627      1                 And he sure as hell is successful!   \n",
       "456977      1  wait, you have to win the candidates to challe...   \n",
       "803801      1  I mean how could anyone not see that it is ant...   \n",
       "926708      0  Funny thing, most of the girl pants I've bough...   \n",
       "129279      0  Also Ranch dressing, because LBJ was Texan, an...   \n",
       "\n",
       "              author         subreddit  score  ups  downs     date  \\\n",
       "608627   armiechedon  quityourbullshit      1    1      0  2015-12   \n",
       "456977  killingfeels             chess      1    1      0  2016-02   \n",
       "803801        Gnofar      katawashoujo      5    5      0  2014-12   \n",
       "926708     smischmal       transgender      2    2      0  2012-03   \n",
       "129279    ElScreecho         AskReddit     28   28      0  2016-09   \n",
       "\n",
       "                created_utc                                     parent_comment  \n",
       "608627  2015-12-09 23:41:48    Obama's smoked before? Or at least admitted it?  \n",
       "456977  2016-02-13 00:04:43  You can say the same thing about any chess pla...  \n",
       "803801  2014-12-25 21:59:49                                 That isn't Hanako?  \n",
       "926708  2012-03-05 02:03:43           Girl Pants (X/post from TwoXChromosomes)  \n",
       "129279  2016-09-19 19:20:53  Lyndon Johnson salad: A carrot and 2 beetroots...  "
      ]
     },
     "execution_count": 5,
     "metadata": {},
     "output_type": "execute_result"
    }
   ],
   "source": [
    "df.head()"
   ]
  },
  {
   "cell_type": "code",
   "execution_count": 6,
   "metadata": {},
   "outputs": [
    {
     "name": "stdout",
     "output_type": "stream",
     "text": [
      "<class 'pandas.core.frame.DataFrame'>\n",
      "Int64Index: 303248 entries, 608627 to 809346\n",
      "Data columns (total 10 columns):\n",
      "label             303248 non-null int64\n",
      "comment           303234 non-null object\n",
      "author            303248 non-null object\n",
      "subreddit         303248 non-null object\n",
      "score             303248 non-null int64\n",
      "ups               303248 non-null int64\n",
      "downs             303248 non-null int64\n",
      "date              303248 non-null object\n",
      "created_utc       303248 non-null object\n",
      "parent_comment    303248 non-null object\n",
      "dtypes: int64(4), object(6)\n",
      "memory usage: 25.4+ MB\n"
     ]
    }
   ],
   "source": [
    "df.info()"
   ]
  },
  {
   "cell_type": "code",
   "execution_count": 7,
   "metadata": {},
   "outputs": [
    {
     "data": {
      "text/plain": [
       "<seaborn.axisgrid.PairGrid at 0x2499e591128>"
      ]
     },
     "execution_count": 7,
     "metadata": {},
     "output_type": "execute_result"
    },
    {
     "data": {
      "image/png": "[encoded data removed]",
      "text/plain": [
       "<Figure size 540x540 with 12 Axes>"
      ]
     },
     "metadata": {
      "needs_background": "light"
     },
     "output_type": "display_data"
    }
   ],
   "source": [
    "sns.pairplot(df[['score', 'ups', 'downs']])"
   ]
  },
  {
   "cell_type": "code",
   "execution_count": 8,
   "metadata": {},
   "outputs": [
    {
     "data": {
      "text/plain": [
       "(303248, 10)"
      ]
     },
     "execution_count": 8,
     "metadata": {},
     "output_type": "execute_result"
    }
   ],
   "source": [
    "df.shape"
   ]
  },
  {
   "cell_type": "markdown",
   "metadata": {},
   "source": [
    "Removing all the null values"
   ]
  },
  {
   "cell_type": "code",
   "execution_count": 9,
   "metadata": {},
   "outputs": [],
   "source": [
    "df=df.dropna()"
   ]
  },
  {
   "cell_type": "code",
   "execution_count": 10,
   "metadata": {},
   "outputs": [
    {
     "data": {
      "text/plain": [
       "(303234, 10)"
      ]
     },
     "execution_count": 10,
     "metadata": {},
     "output_type": "execute_result"
    }
   ],
   "source": [
    "df.shape"
   ]
  },
  {
   "cell_type": "markdown",
   "metadata": {},
   "source": [
    "### Creating Part Of Speech dataframe"
   ]
  },
  {
   "cell_type": "code",
   "execution_count": 15,
   "metadata": {},
   "outputs": [],
   "source": [
    "pos_df = pd.DataFrame()"
   ]
  },
  {
   "cell_type": "markdown",
   "metadata": {},
   "source": [
    "Taking Part Of Speech from every sentence and storing it into different dataframe pos_df"
   ]
  },
  {
   "cell_type": "code",
   "execution_count": 16,
   "metadata": {},
   "outputs": [],
   "source": [
    "rw=0\n",
    "for sent in df['comment']:\n",
    "    tokens=nltk.word_tokenize(sent)\n",
    "    text = nltk.Text(tokens)\n",
    "    tagged = nltk.pos_tag(text)\n",
    "    counts = Counter(tag for word,tag in tagged)\n",
    "    for i in counts.most_common():\n",
    "        pos_df.loc[rw, i[0]] = i[1]\n",
    "    rw=rw+1"
   ]
  },
  {
   "cell_type": "markdown",
   "metadata": {},
   "source": [
    "Remove columns with punctuations"
   ]
  },
  {
   "cell_type": "code",
   "execution_count": 17,
   "metadata": {},
   "outputs": [
    {
     "data": {
      "text/plain": [
       "Index(['CC', 'PRP', 'RB', 'IN', 'NN', 'VBZ', 'JJ', '.', 'TO', 'VB', 'DT', ',',\n",
       "       'VBP', 'NNS', 'WRB', 'MD', 'VBN', 'VBD', 'JJS', '(', 'PRP$', ')', 'JJR',\n",
       "       'VBG', 'NNP', 'RBR', ':', 'POS', 'CD', 'UH', 'WP', 'WDT', 'PDT', '``',\n",
       "       '''', 'NNPS', 'EX', 'RP', '$', '#', 'FW', 'RBS', 'WP$', 'SYM', 'LS'],\n",
       "      dtype='object')"
      ]
     },
     "execution_count": 17,
     "metadata": {},
     "output_type": "execute_result"
    }
   ],
   "source": [
    "pos_df.columns"
   ]
  },
  {
   "cell_type": "code",
   "execution_count": 18,
   "metadata": {},
   "outputs": [],
   "source": [
    "pos_df=pos_df.drop(['.', ',', '``', \"''\", '(', ')', ':', '$', '#'],1)"
   ]
  },
  {
   "cell_type": "code",
   "execution_count": 19,
   "metadata": {},
   "outputs": [
    {
     "data": {
      "text/plain": [
       "Index(['CC', 'PRP', 'RB', 'IN', 'NN', 'VBZ', 'JJ', 'TO', 'VB', 'DT', 'VBP',\n",
       "       'NNS', 'WRB', 'MD', 'VBN', 'VBD', 'JJS', 'PRP$', 'JJR', 'VBG', 'NNP',\n",
       "       'RBR', 'POS', 'CD', 'UH', 'WP', 'WDT', 'PDT', 'NNPS', 'EX', 'RP', 'FW',\n",
       "       'RBS', 'WP$', 'SYM', 'LS'],\n",
       "      dtype='object')"
      ]
     },
     "execution_count": 19,
     "metadata": {},
     "output_type": "execute_result"
    }
   ],
   "source": [
    "pos_df.columns"
   ]
  },
  {
   "cell_type": "code",
   "execution_count": 10,
   "metadata": {
    "collapsed": true
   },
   "outputs": [
    {
     "ename": "NameError",
     "evalue": "name 'pos_df' is not defined",
     "output_type": "error",
     "traceback": [
      "\u001b[1;31m---------------------------------------------------------------------------\u001b[0m",
      "\u001b[1;31mNameError\u001b[0m                                 Traceback (most recent call last)",
      "\u001b[1;32m<ipython-input-10-3065cbc20dcb>\u001b[0m in \u001b[0;36m<module>\u001b[1;34m\u001b[0m\n\u001b[1;32m----> 1\u001b[1;33m \u001b[0mpos_df\u001b[0m\u001b[1;33m.\u001b[0m\u001b[0mto_csv\u001b[0m\u001b[1;33m(\u001b[0m\u001b[1;34m'C:/Users/vivek/Downloads/pos.csv'\u001b[0m\u001b[1;33m)\u001b[0m\u001b[1;33m\u001b[0m\u001b[1;33m\u001b[0m\u001b[0m\n\u001b[0m",
      "\u001b[1;31mNameError\u001b[0m: name 'pos_df' is not defined"
     ]
    }
   ],
   "source": [
    "pos_df.to_csv('C:/Users/vivek/Downloads/pos.csv')"
   ]
  },
  {
   "cell_type": "code",
   "execution_count": 20,
   "metadata": {},
   "outputs": [],
   "source": [
    "pos_df.to_csv('C:/Users/vivek/Downloads/pos3.csv')"
   ]
  },
  {
   "cell_type": "markdown",
   "metadata": {},
   "source": [
    "### Loading Part Of Speech dataframe"
   ]
  },
  {
   "cell_type": "code",
   "execution_count": 10,
   "metadata": {},
   "outputs": [],
   "source": [
    "pos_loaded_df = pd.read_csv('C:/Users/vivek/Downloads/pos.csv')"
   ]
  },
  {
   "cell_type": "code",
   "execution_count": 11,
   "metadata": {},
   "outputs": [],
   "source": [
    "pos_loaded_df = pd.read_csv('C:/Users/vivek/Downloads/pos3.csv')"
   ]
  },
  {
   "cell_type": "code",
   "execution_count": 12,
   "metadata": {},
   "outputs": [],
   "source": [
    "pos_loaded_df = pos_loaded_df.fillna(0)"
   ]
  },
  {
   "cell_type": "markdown",
   "metadata": {},
   "source": [
    "Running PCA on part of speech dataframe"
   ]
  },
  {
   "cell_type": "code",
   "execution_count": 13,
   "metadata": {},
   "outputs": [
    {
     "name": "stdout",
     "output_type": "stream",
     "text": [
      "[[ 1.51616500e+05 -7.61128641e-01 -6.30917925e-01 ... -2.83732034e-01\n",
      "  -1.45990041e-01 -8.53002954e-01]\n",
      " [ 1.51615500e+05 -7.54616647e-01  1.39582071e+00 ...  4.03184876e-01\n",
      "   5.61467943e-01  2.08437743e+00]\n",
      " [ 1.51614500e+05 -7.61457838e-01  3.73037102e-01 ... -4.67619288e-01\n",
      "   3.40279686e-01 -2.36514805e-01]\n",
      " ...\n",
      " [-1.51614500e+05  2.13975086e-01 -1.72083725e+00 ...  6.02556576e-01\n",
      "  -2.64600732e-01  3.47420567e-01]\n",
      " [-1.51615500e+05  2.09673211e-01 -1.73476540e+00 ... -7.66126166e-01\n",
      "   8.56609859e-01 -5.84605846e-01]\n",
      " [-1.51616500e+05  1.21511792e+00 -1.54435909e+00 ...  7.34983520e-02\n",
      "  -1.11502513e+00 -6.68513544e-01]]\n"
     ]
    }
   ],
   "source": [
    "pca = PCA(10)\n",
    "pos_pca = pca.fit_transform(pos_loaded_df)\n",
    "print(pos_pca)"
   ]
  },
  {
   "cell_type": "code",
   "execution_count": 14,
   "metadata": {},
   "outputs": [],
   "source": [
    "pos_pca_df = pd.DataFrame(pos_pca)"
   ]
  },
  {
   "cell_type": "code",
   "execution_count": 15,
   "metadata": {},
   "outputs": [],
   "source": [
    "pos_pca_df.index = df.index"
   ]
  },
  {
   "cell_type": "code",
   "execution_count": 16,
   "metadata": {},
   "outputs": [
    {
     "data": {
      "text/html": [
       "<div>\n",
       "<style scoped>\n",
       "    .dataframe tbody tr th:only-of-type {\n",
       "        vertical-align: middle;\n",
       "    }\n",
       "\n",
       "    .dataframe tbody tr th {\n",
       "        vertical-align: top;\n",
       "    }\n",
       "\n",
       "    .dataframe thead th {\n",
       "        text-align: right;\n",
       "    }\n",
       "</style>\n",
       "<table border=\"1\" class=\"dataframe\">\n",
       "  <thead>\n",
       "    <tr style=\"text-align: right;\">\n",
       "      <th></th>\n",
       "      <th>0</th>\n",
       "      <th>1</th>\n",
       "      <th>2</th>\n",
       "      <th>3</th>\n",
       "      <th>4</th>\n",
       "      <th>5</th>\n",
       "      <th>6</th>\n",
       "      <th>7</th>\n",
       "      <th>8</th>\n",
       "      <th>9</th>\n",
       "    </tr>\n",
       "  </thead>\n",
       "  <tbody>\n",
       "    <tr>\n",
       "      <th>608627</th>\n",
       "      <td>151616.500000</td>\n",
       "      <td>-0.761129</td>\n",
       "      <td>-0.630918</td>\n",
       "      <td>0.222937</td>\n",
       "      <td>0.353453</td>\n",
       "      <td>0.235507</td>\n",
       "      <td>0.409963</td>\n",
       "      <td>-0.283732</td>\n",
       "      <td>-0.145990</td>\n",
       "      <td>-0.853003</td>\n",
       "    </tr>\n",
       "    <tr>\n",
       "      <th>456977</th>\n",
       "      <td>151615.500000</td>\n",
       "      <td>-0.754617</td>\n",
       "      <td>1.395821</td>\n",
       "      <td>-0.642808</td>\n",
       "      <td>-0.163310</td>\n",
       "      <td>0.093168</td>\n",
       "      <td>-0.907316</td>\n",
       "      <td>0.403185</td>\n",
       "      <td>0.561468</td>\n",
       "      <td>2.084377</td>\n",
       "    </tr>\n",
       "    <tr>\n",
       "      <th>803801</th>\n",
       "      <td>151614.500000</td>\n",
       "      <td>-0.761458</td>\n",
       "      <td>0.373037</td>\n",
       "      <td>-0.265671</td>\n",
       "      <td>-0.178419</td>\n",
       "      <td>1.454629</td>\n",
       "      <td>-0.034730</td>\n",
       "      <td>-0.467619</td>\n",
       "      <td>0.340280</td>\n",
       "      <td>-0.236515</td>\n",
       "    </tr>\n",
       "    <tr>\n",
       "      <th>926708</th>\n",
       "      <td>151613.500000</td>\n",
       "      <td>-0.745755</td>\n",
       "      <td>3.584052</td>\n",
       "      <td>-5.154210</td>\n",
       "      <td>-10.490454</td>\n",
       "      <td>0.197868</td>\n",
       "      <td>3.029185</td>\n",
       "      <td>-4.867664</td>\n",
       "      <td>-0.784345</td>\n",
       "      <td>-0.433363</td>\n",
       "    </tr>\n",
       "    <tr>\n",
       "      <th>129279</th>\n",
       "      <td>151612.500000</td>\n",
       "      <td>2.239032</td>\n",
       "      <td>0.402433</td>\n",
       "      <td>-0.554391</td>\n",
       "      <td>-0.533962</td>\n",
       "      <td>1.170083</td>\n",
       "      <td>1.715365</td>\n",
       "      <td>2.286157</td>\n",
       "      <td>-1.691611</td>\n",
       "      <td>0.165336</td>\n",
       "    </tr>\n",
       "    <tr>\n",
       "      <th>951335</th>\n",
       "      <td>151611.500000</td>\n",
       "      <td>-0.768255</td>\n",
       "      <td>-1.725251</td>\n",
       "      <td>0.965991</td>\n",
       "      <td>1.450976</td>\n",
       "      <td>-0.356154</td>\n",
       "      <td>0.370145</td>\n",
       "      <td>-0.447158</td>\n",
       "      <td>0.256960</td>\n",
       "      <td>-0.097978</td>\n",
       "    </tr>\n",
       "    <tr>\n",
       "      <th>655372</th>\n",
       "      <td>151610.500000</td>\n",
       "      <td>-0.759314</td>\n",
       "      <td>-0.618679</td>\n",
       "      <td>0.230855</td>\n",
       "      <td>0.381738</td>\n",
       "      <td>-1.254514</td>\n",
       "      <td>0.040769</td>\n",
       "      <td>-1.644357</td>\n",
       "      <td>-1.196110</td>\n",
       "      <td>0.427220</td>\n",
       "    </tr>\n",
       "    <tr>\n",
       "      <th>632636</th>\n",
       "      <td>151609.500000</td>\n",
       "      <td>4.246648</td>\n",
       "      <td>1.405318</td>\n",
       "      <td>-1.053863</td>\n",
       "      <td>-0.671150</td>\n",
       "      <td>0.104613</td>\n",
       "      <td>-0.757219</td>\n",
       "      <td>1.325200</td>\n",
       "      <td>-0.197307</td>\n",
       "      <td>1.465430</td>\n",
       "    </tr>\n",
       "    <tr>\n",
       "      <th>397220</th>\n",
       "      <td>151608.500000</td>\n",
       "      <td>-0.768397</td>\n",
       "      <td>-1.544883</td>\n",
       "      <td>0.318015</td>\n",
       "      <td>-0.141907</td>\n",
       "      <td>0.035001</td>\n",
       "      <td>0.031413</td>\n",
       "      <td>-0.140495</td>\n",
       "      <td>0.182254</td>\n",
       "      <td>-0.678122</td>\n",
       "    </tr>\n",
       "    <tr>\n",
       "      <th>412260</th>\n",
       "      <td>151607.500000</td>\n",
       "      <td>-0.765090</td>\n",
       "      <td>-0.558702</td>\n",
       "      <td>-0.053799</td>\n",
       "      <td>-0.344552</td>\n",
       "      <td>0.624231</td>\n",
       "      <td>-0.158668</td>\n",
       "      <td>0.635052</td>\n",
       "      <td>-0.405478</td>\n",
       "      <td>1.765080</td>\n",
       "    </tr>\n",
       "    <tr>\n",
       "      <th>913023</th>\n",
       "      <td>151606.500000</td>\n",
       "      <td>-0.772793</td>\n",
       "      <td>-1.669649</td>\n",
       "      <td>0.659140</td>\n",
       "      <td>0.543560</td>\n",
       "      <td>1.719710</td>\n",
       "      <td>-0.789495</td>\n",
       "      <td>0.115662</td>\n",
       "      <td>0.608697</td>\n",
       "      <td>1.226635</td>\n",
       "    </tr>\n",
       "    <tr>\n",
       "      <th>193954</th>\n",
       "      <td>151605.500000</td>\n",
       "      <td>-0.765158</td>\n",
       "      <td>-0.745903</td>\n",
       "      <td>0.606154</td>\n",
       "      <td>1.269889</td>\n",
       "      <td>0.898352</td>\n",
       "      <td>-0.577103</td>\n",
       "      <td>-0.003558</td>\n",
       "      <td>0.225530</td>\n",
       "      <td>0.360639</td>\n",
       "    </tr>\n",
       "    <tr>\n",
       "      <th>770346</th>\n",
       "      <td>151604.500000</td>\n",
       "      <td>-0.762011</td>\n",
       "      <td>-0.642187</td>\n",
       "      <td>0.259326</td>\n",
       "      <td>0.373597</td>\n",
       "      <td>-0.172967</td>\n",
       "      <td>0.487595</td>\n",
       "      <td>-1.138813</td>\n",
       "      <td>-1.488644</td>\n",
       "      <td>0.435542</td>\n",
       "    </tr>\n",
       "    <tr>\n",
       "      <th>249317</th>\n",
       "      <td>151603.500000</td>\n",
       "      <td>-0.761822</td>\n",
       "      <td>-0.731718</td>\n",
       "      <td>0.562843</td>\n",
       "      <td>1.156863</td>\n",
       "      <td>0.227862</td>\n",
       "      <td>-0.879947</td>\n",
       "      <td>-0.383199</td>\n",
       "      <td>-0.385382</td>\n",
       "      <td>-0.262470</td>\n",
       "    </tr>\n",
       "    <tr>\n",
       "      <th>831748</th>\n",
       "      <td>151602.500000</td>\n",
       "      <td>1.237262</td>\n",
       "      <td>-0.603106</td>\n",
       "      <td>0.018118</td>\n",
       "      <td>0.118185</td>\n",
       "      <td>-0.577819</td>\n",
       "      <td>0.566940</td>\n",
       "      <td>0.149342</td>\n",
       "      <td>-0.380287</td>\n",
       "      <td>0.424117</td>\n",
       "    </tr>\n",
       "    <tr>\n",
       "      <th>20132</th>\n",
       "      <td>151601.500000</td>\n",
       "      <td>-0.713410</td>\n",
       "      <td>2.836417</td>\n",
       "      <td>-0.698091</td>\n",
       "      <td>-2.056818</td>\n",
       "      <td>0.612326</td>\n",
       "      <td>-0.470951</td>\n",
       "      <td>-0.171997</td>\n",
       "      <td>1.310957</td>\n",
       "      <td>-0.597400</td>\n",
       "    </tr>\n",
       "    <tr>\n",
       "      <th>161090</th>\n",
       "      <td>151600.500000</td>\n",
       "      <td>1.231263</td>\n",
       "      <td>-1.743601</td>\n",
       "      <td>0.883458</td>\n",
       "      <td>1.468917</td>\n",
       "      <td>-0.551552</td>\n",
       "      <td>-0.322847</td>\n",
       "      <td>0.498604</td>\n",
       "      <td>0.213913</td>\n",
       "      <td>0.086114</td>\n",
       "    </tr>\n",
       "    <tr>\n",
       "      <th>223589</th>\n",
       "      <td>151599.500000</td>\n",
       "      <td>0.251957</td>\n",
       "      <td>1.372716</td>\n",
       "      <td>-0.597216</td>\n",
       "      <td>0.045065</td>\n",
       "      <td>-0.448655</td>\n",
       "      <td>-0.589830</td>\n",
       "      <td>-0.463385</td>\n",
       "      <td>-1.005745</td>\n",
       "      <td>1.530985</td>\n",
       "    </tr>\n",
       "    <tr>\n",
       "      <th>274120</th>\n",
       "      <td>151598.500000</td>\n",
       "      <td>-0.770480</td>\n",
       "      <td>-1.247992</td>\n",
       "      <td>-0.755466</td>\n",
       "      <td>-2.812329</td>\n",
       "      <td>0.624101</td>\n",
       "      <td>1.881669</td>\n",
       "      <td>1.765711</td>\n",
       "      <td>-1.418794</td>\n",
       "      <td>-2.107772</td>\n",
       "    </tr>\n",
       "    <tr>\n",
       "      <th>537152</th>\n",
       "      <td>151597.500000</td>\n",
       "      <td>2.273106</td>\n",
       "      <td>-1.318857</td>\n",
       "      <td>1.281615</td>\n",
       "      <td>0.077540</td>\n",
       "      <td>-1.126231</td>\n",
       "      <td>-1.182056</td>\n",
       "      <td>0.218755</td>\n",
       "      <td>-0.771344</td>\n",
       "      <td>-0.327161</td>\n",
       "    </tr>\n",
       "    <tr>\n",
       "      <th>255424</th>\n",
       "      <td>151596.500000</td>\n",
       "      <td>0.231687</td>\n",
       "      <td>-1.789585</td>\n",
       "      <td>1.091684</td>\n",
       "      <td>1.805935</td>\n",
       "      <td>-0.094399</td>\n",
       "      <td>-0.155950</td>\n",
       "      <td>-0.028947</td>\n",
       "      <td>-0.160539</td>\n",
       "      <td>0.055740</td>\n",
       "    </tr>\n",
       "    <tr>\n",
       "      <th>407177</th>\n",
       "      <td>151595.500000</td>\n",
       "      <td>0.257929</td>\n",
       "      <td>-0.245059</td>\n",
       "      <td>0.469980</td>\n",
       "      <td>-1.791548</td>\n",
       "      <td>3.660880</td>\n",
       "      <td>-0.464416</td>\n",
       "      <td>-0.747243</td>\n",
       "      <td>0.468929</td>\n",
       "      <td>2.631134</td>\n",
       "    </tr>\n",
       "    <tr>\n",
       "      <th>635566</th>\n",
       "      <td>151594.500000</td>\n",
       "      <td>1.240688</td>\n",
       "      <td>-0.629810</td>\n",
       "      <td>0.176580</td>\n",
       "      <td>0.648646</td>\n",
       "      <td>-1.313935</td>\n",
       "      <td>-0.890042</td>\n",
       "      <td>1.022585</td>\n",
       "      <td>0.219058</td>\n",
       "      <td>-0.435851</td>\n",
       "    </tr>\n",
       "    <tr>\n",
       "      <th>175276</th>\n",
       "      <td>151593.500000</td>\n",
       "      <td>-0.762925</td>\n",
       "      <td>-0.677710</td>\n",
       "      <td>0.403730</td>\n",
       "      <td>0.767311</td>\n",
       "      <td>-0.497075</td>\n",
       "      <td>-0.164701</td>\n",
       "      <td>-1.548541</td>\n",
       "      <td>-1.176548</td>\n",
       "      <td>0.683975</td>\n",
       "    </tr>\n",
       "    <tr>\n",
       "      <th>972149</th>\n",
       "      <td>151592.500000</td>\n",
       "      <td>0.227774</td>\n",
       "      <td>-1.442876</td>\n",
       "      <td>-0.122363</td>\n",
       "      <td>-1.137036</td>\n",
       "      <td>-0.277443</td>\n",
       "      <td>1.896782</td>\n",
       "      <td>-0.936009</td>\n",
       "      <td>0.479519</td>\n",
       "      <td>-0.862899</td>\n",
       "    </tr>\n",
       "    <tr>\n",
       "      <th>902815</th>\n",
       "      <td>151591.500000</td>\n",
       "      <td>7.226628</td>\n",
       "      <td>-1.891970</td>\n",
       "      <td>0.866898</td>\n",
       "      <td>1.871903</td>\n",
       "      <td>-0.073134</td>\n",
       "      <td>-0.151812</td>\n",
       "      <td>-0.033762</td>\n",
       "      <td>-0.146013</td>\n",
       "      <td>0.060659</td>\n",
       "    </tr>\n",
       "    <tr>\n",
       "      <th>159302</th>\n",
       "      <td>151590.499999</td>\n",
       "      <td>6.261066</td>\n",
       "      <td>4.371595</td>\n",
       "      <td>-2.245032</td>\n",
       "      <td>-1.029118</td>\n",
       "      <td>-0.532937</td>\n",
       "      <td>0.335751</td>\n",
       "      <td>1.415143</td>\n",
       "      <td>0.401199</td>\n",
       "      <td>-0.652184</td>\n",
       "    </tr>\n",
       "    <tr>\n",
       "      <th>884232</th>\n",
       "      <td>151589.500000</td>\n",
       "      <td>-0.764378</td>\n",
       "      <td>-0.594592</td>\n",
       "      <td>0.055654</td>\n",
       "      <td>-0.085798</td>\n",
       "      <td>0.787442</td>\n",
       "      <td>-0.499167</td>\n",
       "      <td>0.106009</td>\n",
       "      <td>-0.092759</td>\n",
       "      <td>0.110042</td>\n",
       "    </tr>\n",
       "    <tr>\n",
       "      <th>590961</th>\n",
       "      <td>151588.499999</td>\n",
       "      <td>1.323475</td>\n",
       "      <td>2.689883</td>\n",
       "      <td>1.581539</td>\n",
       "      <td>1.144264</td>\n",
       "      <td>-0.562395</td>\n",
       "      <td>0.016899</td>\n",
       "      <td>-0.652494</td>\n",
       "      <td>-0.267697</td>\n",
       "      <td>-0.192337</td>\n",
       "    </tr>\n",
       "    <tr>\n",
       "      <th>419507</th>\n",
       "      <td>151587.500000</td>\n",
       "      <td>1.276677</td>\n",
       "      <td>0.625502</td>\n",
       "      <td>0.659385</td>\n",
       "      <td>-0.136859</td>\n",
       "      <td>0.263197</td>\n",
       "      <td>0.294991</td>\n",
       "      <td>1.186133</td>\n",
       "      <td>-0.580337</td>\n",
       "      <td>-1.241158</td>\n",
       "    </tr>\n",
       "    <tr>\n",
       "      <th>...</th>\n",
       "      <td>...</td>\n",
       "      <td>...</td>\n",
       "      <td>...</td>\n",
       "      <td>...</td>\n",
       "      <td>...</td>\n",
       "      <td>...</td>\n",
       "      <td>...</td>\n",
       "      <td>...</td>\n",
       "      <td>...</td>\n",
       "      <td>...</td>\n",
       "    </tr>\n",
       "    <tr>\n",
       "      <th>461807</th>\n",
       "      <td>-151587.500000</td>\n",
       "      <td>-0.785799</td>\n",
       "      <td>-0.787622</td>\n",
       "      <td>0.576151</td>\n",
       "      <td>1.181732</td>\n",
       "      <td>0.448420</td>\n",
       "      <td>0.670180</td>\n",
       "      <td>0.193230</td>\n",
       "      <td>-0.735151</td>\n",
       "      <td>1.070928</td>\n",
       "    </tr>\n",
       "    <tr>\n",
       "      <th>91981</th>\n",
       "      <td>-151588.500000</td>\n",
       "      <td>-0.782933</td>\n",
       "      <td>-0.862242</td>\n",
       "      <td>0.877456</td>\n",
       "      <td>1.997242</td>\n",
       "      <td>-0.070231</td>\n",
       "      <td>-0.146314</td>\n",
       "      <td>-0.044249</td>\n",
       "      <td>-0.177469</td>\n",
       "      <td>0.058787</td>\n",
       "    </tr>\n",
       "    <tr>\n",
       "      <th>136611</th>\n",
       "      <td>-151589.500000</td>\n",
       "      <td>-0.766660</td>\n",
       "      <td>1.956188</td>\n",
       "      <td>-2.790299</td>\n",
       "      <td>-5.496217</td>\n",
       "      <td>0.989011</td>\n",
       "      <td>-0.249413</td>\n",
       "      <td>-0.665092</td>\n",
       "      <td>-2.662997</td>\n",
       "      <td>-1.831177</td>\n",
       "    </tr>\n",
       "    <tr>\n",
       "      <th>106304</th>\n",
       "      <td>-151590.500000</td>\n",
       "      <td>-0.790238</td>\n",
       "      <td>-1.744246</td>\n",
       "      <td>0.805144</td>\n",
       "      <td>0.983304</td>\n",
       "      <td>1.150951</td>\n",
       "      <td>-0.992760</td>\n",
       "      <td>-0.283126</td>\n",
       "      <td>0.458336</td>\n",
       "      <td>-0.576821</td>\n",
       "    </tr>\n",
       "    <tr>\n",
       "      <th>117505</th>\n",
       "      <td>-151591.500000</td>\n",
       "      <td>-0.784105</td>\n",
       "      <td>0.302882</td>\n",
       "      <td>-0.152170</td>\n",
       "      <td>0.177196</td>\n",
       "      <td>0.587231</td>\n",
       "      <td>1.184112</td>\n",
       "      <td>-0.023560</td>\n",
       "      <td>0.009892</td>\n",
       "      <td>-0.483560</td>\n",
       "    </tr>\n",
       "    <tr>\n",
       "      <th>9929</th>\n",
       "      <td>-151592.500000</td>\n",
       "      <td>-0.771148</td>\n",
       "      <td>1.725285</td>\n",
       "      <td>-1.927398</td>\n",
       "      <td>-3.209993</td>\n",
       "      <td>-0.035516</td>\n",
       "      <td>-0.780554</td>\n",
       "      <td>-1.209815</td>\n",
       "      <td>0.887021</td>\n",
       "      <td>-1.002740</td>\n",
       "    </tr>\n",
       "    <tr>\n",
       "      <th>632255</th>\n",
       "      <td>-151593.500000</td>\n",
       "      <td>-0.782064</td>\n",
       "      <td>0.206495</td>\n",
       "      <td>0.206344</td>\n",
       "      <td>1.052590</td>\n",
       "      <td>0.198482</td>\n",
       "      <td>1.751801</td>\n",
       "      <td>-0.114529</td>\n",
       "      <td>-0.829637</td>\n",
       "      <td>-0.264295</td>\n",
       "    </tr>\n",
       "    <tr>\n",
       "      <th>33405</th>\n",
       "      <td>-151594.500000</td>\n",
       "      <td>-0.703878</td>\n",
       "      <td>0.899470</td>\n",
       "      <td>1.601197</td>\n",
       "      <td>-0.544302</td>\n",
       "      <td>0.496256</td>\n",
       "      <td>-0.539562</td>\n",
       "      <td>0.243753</td>\n",
       "      <td>-1.086211</td>\n",
       "      <td>0.053544</td>\n",
       "    </tr>\n",
       "    <tr>\n",
       "      <th>776609</th>\n",
       "      <td>-151595.500000</td>\n",
       "      <td>3.239240</td>\n",
       "      <td>3.473755</td>\n",
       "      <td>-2.114798</td>\n",
       "      <td>-1.754274</td>\n",
       "      <td>-0.491055</td>\n",
       "      <td>-0.152575</td>\n",
       "      <td>0.423897</td>\n",
       "      <td>-0.586571</td>\n",
       "      <td>-1.768543</td>\n",
       "    </tr>\n",
       "    <tr>\n",
       "      <th>713866</th>\n",
       "      <td>-151596.500000</td>\n",
       "      <td>1.211741</td>\n",
       "      <td>-1.741780</td>\n",
       "      <td>0.699565</td>\n",
       "      <td>1.007343</td>\n",
       "      <td>-0.092240</td>\n",
       "      <td>1.141927</td>\n",
       "      <td>0.067420</td>\n",
       "      <td>0.073424</td>\n",
       "      <td>-0.532558</td>\n",
       "    </tr>\n",
       "    <tr>\n",
       "      <th>463475</th>\n",
       "      <td>-151597.500000</td>\n",
       "      <td>-0.792210</td>\n",
       "      <td>-0.636680</td>\n",
       "      <td>-0.037479</td>\n",
       "      <td>-0.433705</td>\n",
       "      <td>1.762697</td>\n",
       "      <td>0.792856</td>\n",
       "      <td>-0.555218</td>\n",
       "      <td>0.262771</td>\n",
       "      <td>2.225354</td>\n",
       "    </tr>\n",
       "    <tr>\n",
       "      <th>386062</th>\n",
       "      <td>-151598.500000</td>\n",
       "      <td>-0.782933</td>\n",
       "      <td>-0.862243</td>\n",
       "      <td>0.877456</td>\n",
       "      <td>1.997242</td>\n",
       "      <td>-0.070232</td>\n",
       "      <td>-0.146314</td>\n",
       "      <td>-0.044249</td>\n",
       "      <td>-0.177469</td>\n",
       "      <td>0.058787</td>\n",
       "    </tr>\n",
       "    <tr>\n",
       "      <th>347723</th>\n",
       "      <td>-151599.500000</td>\n",
       "      <td>-0.773665</td>\n",
       "      <td>1.038912</td>\n",
       "      <td>0.429060</td>\n",
       "      <td>2.416957</td>\n",
       "      <td>0.002480</td>\n",
       "      <td>-0.136246</td>\n",
       "      <td>-0.071030</td>\n",
       "      <td>-0.196574</td>\n",
       "      <td>0.063000</td>\n",
       "    </tr>\n",
       "    <tr>\n",
       "      <th>194778</th>\n",
       "      <td>-151600.500000</td>\n",
       "      <td>-0.784332</td>\n",
       "      <td>-0.649339</td>\n",
       "      <td>0.080283</td>\n",
       "      <td>-0.009882</td>\n",
       "      <td>1.243063</td>\n",
       "      <td>-0.418415</td>\n",
       "      <td>0.238385</td>\n",
       "      <td>-0.218683</td>\n",
       "      <td>-0.499519</td>\n",
       "    </tr>\n",
       "    <tr>\n",
       "      <th>609579</th>\n",
       "      <td>-151601.500000</td>\n",
       "      <td>-0.778631</td>\n",
       "      <td>0.567986</td>\n",
       "      <td>-1.059528</td>\n",
       "      <td>-2.002742</td>\n",
       "      <td>1.256689</td>\n",
       "      <td>0.088508</td>\n",
       "      <td>-0.830288</td>\n",
       "      <td>0.624973</td>\n",
       "      <td>-2.047887</td>\n",
       "    </tr>\n",
       "    <tr>\n",
       "      <th>911738</th>\n",
       "      <td>-151602.500000</td>\n",
       "      <td>0.223475</td>\n",
       "      <td>0.200134</td>\n",
       "      <td>0.194489</td>\n",
       "      <td>1.194594</td>\n",
       "      <td>-0.107541</td>\n",
       "      <td>0.140392</td>\n",
       "      <td>0.252366</td>\n",
       "      <td>-1.041436</td>\n",
       "      <td>-0.539692</td>\n",
       "    </tr>\n",
       "    <tr>\n",
       "      <th>934770</th>\n",
       "      <td>-151603.500000</td>\n",
       "      <td>-0.711446</td>\n",
       "      <td>-0.925958</td>\n",
       "      <td>1.872879</td>\n",
       "      <td>-1.299852</td>\n",
       "      <td>-1.476241</td>\n",
       "      <td>0.529717</td>\n",
       "      <td>-0.721160</td>\n",
       "      <td>-1.153233</td>\n",
       "      <td>0.241627</td>\n",
       "    </tr>\n",
       "    <tr>\n",
       "      <th>306800</th>\n",
       "      <td>-151604.500000</td>\n",
       "      <td>-0.782762</td>\n",
       "      <td>-0.679379</td>\n",
       "      <td>0.238002</td>\n",
       "      <td>0.433216</td>\n",
       "      <td>-0.204320</td>\n",
       "      <td>-0.889248</td>\n",
       "      <td>-0.605940</td>\n",
       "      <td>-0.127525</td>\n",
       "      <td>0.080661</td>\n",
       "    </tr>\n",
       "    <tr>\n",
       "      <th>528245</th>\n",
       "      <td>-151605.500000</td>\n",
       "      <td>1.221815</td>\n",
       "      <td>0.571166</td>\n",
       "      <td>-1.110884</td>\n",
       "      <td>-1.677211</td>\n",
       "      <td>-0.507280</td>\n",
       "      <td>-1.107920</td>\n",
       "      <td>1.008567</td>\n",
       "      <td>0.992479</td>\n",
       "      <td>2.114606</td>\n",
       "    </tr>\n",
       "    <tr>\n",
       "      <th>895092</th>\n",
       "      <td>-151606.500000</td>\n",
       "      <td>2.227219</td>\n",
       "      <td>1.420789</td>\n",
       "      <td>-1.106141</td>\n",
       "      <td>-0.978890</td>\n",
       "      <td>-0.234172</td>\n",
       "      <td>-1.311574</td>\n",
       "      <td>-1.130412</td>\n",
       "      <td>0.729966</td>\n",
       "      <td>-0.537126</td>\n",
       "    </tr>\n",
       "    <tr>\n",
       "      <th>772584</th>\n",
       "      <td>-151607.500000</td>\n",
       "      <td>-0.770044</td>\n",
       "      <td>1.283467</td>\n",
       "      <td>-0.306681</td>\n",
       "      <td>0.862796</td>\n",
       "      <td>-1.553218</td>\n",
       "      <td>-0.216515</td>\n",
       "      <td>0.549979</td>\n",
       "      <td>0.635126</td>\n",
       "      <td>-0.357355</td>\n",
       "    </tr>\n",
       "    <tr>\n",
       "      <th>618410</th>\n",
       "      <td>-151608.500000</td>\n",
       "      <td>-0.791118</td>\n",
       "      <td>-1.352236</td>\n",
       "      <td>-0.437018</td>\n",
       "      <td>-1.888479</td>\n",
       "      <td>-2.388690</td>\n",
       "      <td>1.538571</td>\n",
       "      <td>-1.784268</td>\n",
       "      <td>0.050766</td>\n",
       "      <td>1.194826</td>\n",
       "    </tr>\n",
       "    <tr>\n",
       "      <th>703155</th>\n",
       "      <td>-151609.500000</td>\n",
       "      <td>-0.784336</td>\n",
       "      <td>-1.697148</td>\n",
       "      <td>0.735592</td>\n",
       "      <td>0.909698</td>\n",
       "      <td>-0.568224</td>\n",
       "      <td>-0.242952</td>\n",
       "      <td>-0.738367</td>\n",
       "      <td>-0.901789</td>\n",
       "      <td>0.401521</td>\n",
       "    </tr>\n",
       "    <tr>\n",
       "      <th>506761</th>\n",
       "      <td>-151610.500000</td>\n",
       "      <td>0.222422</td>\n",
       "      <td>0.298844</td>\n",
       "      <td>-0.122274</td>\n",
       "      <td>0.460425</td>\n",
       "      <td>-0.239951</td>\n",
       "      <td>0.057390</td>\n",
       "      <td>0.572920</td>\n",
       "      <td>-0.781575</td>\n",
       "      <td>0.855876</td>\n",
       "    </tr>\n",
       "    <tr>\n",
       "      <th>336440</th>\n",
       "      <td>-151611.500000</td>\n",
       "      <td>-0.782884</td>\n",
       "      <td>-0.799613</td>\n",
       "      <td>0.693169</td>\n",
       "      <td>1.632717</td>\n",
       "      <td>-0.532928</td>\n",
       "      <td>-0.322528</td>\n",
       "      <td>0.483244</td>\n",
       "      <td>0.203714</td>\n",
       "      <td>0.088904</td>\n",
       "    </tr>\n",
       "    <tr>\n",
       "      <th>308261</th>\n",
       "      <td>-151612.500000</td>\n",
       "      <td>0.211154</td>\n",
       "      <td>-1.790529</td>\n",
       "      <td>0.954432</td>\n",
       "      <td>1.546197</td>\n",
       "      <td>-0.340675</td>\n",
       "      <td>0.392111</td>\n",
       "      <td>-0.411316</td>\n",
       "      <td>0.305183</td>\n",
       "      <td>-0.080834</td>\n",
       "    </tr>\n",
       "    <tr>\n",
       "      <th>129263</th>\n",
       "      <td>-151613.500000</td>\n",
       "      <td>-0.779831</td>\n",
       "      <td>0.329673</td>\n",
       "      <td>-0.117612</td>\n",
       "      <td>0.531989</td>\n",
       "      <td>-0.732087</td>\n",
       "      <td>-0.018458</td>\n",
       "      <td>2.194095</td>\n",
       "      <td>0.608765</td>\n",
       "      <td>0.807932</td>\n",
       "    </tr>\n",
       "    <tr>\n",
       "      <th>361111</th>\n",
       "      <td>-151614.500000</td>\n",
       "      <td>0.213975</td>\n",
       "      <td>-1.720837</td>\n",
       "      <td>0.697943</td>\n",
       "      <td>0.888751</td>\n",
       "      <td>0.416150</td>\n",
       "      <td>0.725286</td>\n",
       "      <td>0.602557</td>\n",
       "      <td>-0.264601</td>\n",
       "      <td>0.347421</td>\n",
       "    </tr>\n",
       "    <tr>\n",
       "      <th>369605</th>\n",
       "      <td>-151615.500000</td>\n",
       "      <td>0.209673</td>\n",
       "      <td>-1.734765</td>\n",
       "      <td>0.714444</td>\n",
       "      <td>0.905581</td>\n",
       "      <td>0.371573</td>\n",
       "      <td>0.076243</td>\n",
       "      <td>-0.766126</td>\n",
       "      <td>0.856610</td>\n",
       "      <td>-0.584606</td>\n",
       "    </tr>\n",
       "    <tr>\n",
       "      <th>809346</th>\n",
       "      <td>-151616.500000</td>\n",
       "      <td>1.215118</td>\n",
       "      <td>-1.544359</td>\n",
       "      <td>0.053696</td>\n",
       "      <td>-0.543328</td>\n",
       "      <td>-0.308653</td>\n",
       "      <td>-0.866569</td>\n",
       "      <td>0.073498</td>\n",
       "      <td>-1.115025</td>\n",
       "      <td>-0.668514</td>\n",
       "    </tr>\n",
       "  </tbody>\n",
       "</table>\n",
       "<p>303234 rows × 10 columns</p>\n",
       "</div>"
      ],
      "text/plain": [
       "                    0         1         2         3          4         5  \\\n",
       "608627  151616.500000 -0.761129 -0.630918  0.222937   0.353453  0.235507   \n",
       "456977  151615.500000 -0.754617  1.395821 -0.642808  -0.163310  0.093168   \n",
       "803801  151614.500000 -0.761458  0.373037 -0.265671  -0.178419  1.454629   \n",
       "926708  151613.500000 -0.745755  3.584052 -5.154210 -10.490454  0.197868   \n",
       "129279  151612.500000  2.239032  0.402433 -0.554391  -0.533962  1.170083   \n",
       "951335  151611.500000 -0.768255 -1.725251  0.965991   1.450976 -0.356154   \n",
       "655372  151610.500000 -0.759314 -0.618679  0.230855   0.381738 -1.254514   \n",
       "632636  151609.500000  4.246648  1.405318 -1.053863  -0.671150  0.104613   \n",
       "397220  151608.500000 -0.768397 -1.544883  0.318015  -0.141907  0.035001   \n",
       "412260  151607.500000 -0.765090 -0.558702 -0.053799  -0.344552  0.624231   \n",
       "913023  151606.500000 -0.772793 -1.669649  0.659140   0.543560  1.719710   \n",
       "193954  151605.500000 -0.765158 -0.745903  0.606154   1.269889  0.898352   \n",
       "770346  151604.500000 -0.762011 -0.642187  0.259326   0.373597 -0.172967   \n",
       "249317  151603.500000 -0.761822 -0.731718  0.562843   1.156863  0.227862   \n",
       "831748  151602.500000  1.237262 -0.603106  0.018118   0.118185 -0.577819   \n",
       "20132   151601.500000 -0.713410  2.836417 -0.698091  -2.056818  0.612326   \n",
       "161090  151600.500000  1.231263 -1.743601  0.883458   1.468917 -0.551552   \n",
       "223589  151599.500000  0.251957  1.372716 -0.597216   0.045065 -0.448655   \n",
       "274120  151598.500000 -0.770480 -1.247992 -0.755466  -2.812329  0.624101   \n",
       "537152  151597.500000  2.273106 -1.318857  1.281615   0.077540 -1.126231   \n",
       "255424  151596.500000  0.231687 -1.789585  1.091684   1.805935 -0.094399   \n",
       "407177  151595.500000  0.257929 -0.245059  0.469980  -1.791548  3.660880   \n",
       "635566  151594.500000  1.240688 -0.629810  0.176580   0.648646 -1.313935   \n",
       "175276  151593.500000 -0.762925 -0.677710  0.403730   0.767311 -0.497075   \n",
       "972149  151592.500000  0.227774 -1.442876 -0.122363  -1.137036 -0.277443   \n",
       "902815  151591.500000  7.226628 -1.891970  0.866898   1.871903 -0.073134   \n",
       "159302  151590.499999  6.261066  4.371595 -2.245032  -1.029118 -0.532937   \n",
       "884232  151589.500000 -0.764378 -0.594592  0.055654  -0.085798  0.787442   \n",
       "590961  151588.499999  1.323475  2.689883  1.581539   1.144264 -0.562395   \n",
       "419507  151587.500000  1.276677  0.625502  0.659385  -0.136859  0.263197   \n",
       "...               ...       ...       ...       ...        ...       ...   \n",
       "461807 -151587.500000 -0.785799 -0.787622  0.576151   1.181732  0.448420   \n",
       "91981  -151588.500000 -0.782933 -0.862242  0.877456   1.997242 -0.070231   \n",
       "136611 -151589.500000 -0.766660  1.956188 -2.790299  -5.496217  0.989011   \n",
       "106304 -151590.500000 -0.790238 -1.744246  0.805144   0.983304  1.150951   \n",
       "117505 -151591.500000 -0.784105  0.302882 -0.152170   0.177196  0.587231   \n",
       "9929   -151592.500000 -0.771148  1.725285 -1.927398  -3.209993 -0.035516   \n",
       "632255 -151593.500000 -0.782064  0.206495  0.206344   1.052590  0.198482   \n",
       "33405  -151594.500000 -0.703878  0.899470  1.601197  -0.544302  0.496256   \n",
       "776609 -151595.500000  3.239240  3.473755 -2.114798  -1.754274 -0.491055   \n",
       "713866 -151596.500000  1.211741 -1.741780  0.699565   1.007343 -0.092240   \n",
       "463475 -151597.500000 -0.792210 -0.636680 -0.037479  -0.433705  1.762697   \n",
       "386062 -151598.500000 -0.782933 -0.862243  0.877456   1.997242 -0.070232   \n",
       "347723 -151599.500000 -0.773665  1.038912  0.429060   2.416957  0.002480   \n",
       "194778 -151600.500000 -0.784332 -0.649339  0.080283  -0.009882  1.243063   \n",
       "609579 -151601.500000 -0.778631  0.567986 -1.059528  -2.002742  1.256689   \n",
       "911738 -151602.500000  0.223475  0.200134  0.194489   1.194594 -0.107541   \n",
       "934770 -151603.500000 -0.711446 -0.925958  1.872879  -1.299852 -1.476241   \n",
       "306800 -151604.500000 -0.782762 -0.679379  0.238002   0.433216 -0.204320   \n",
       "528245 -151605.500000  1.221815  0.571166 -1.110884  -1.677211 -0.507280   \n",
       "895092 -151606.500000  2.227219  1.420789 -1.106141  -0.978890 -0.234172   \n",
       "772584 -151607.500000 -0.770044  1.283467 -0.306681   0.862796 -1.553218   \n",
       "618410 -151608.500000 -0.791118 -1.352236 -0.437018  -1.888479 -2.388690   \n",
       "703155 -151609.500000 -0.784336 -1.697148  0.735592   0.909698 -0.568224   \n",
       "506761 -151610.500000  0.222422  0.298844 -0.122274   0.460425 -0.239951   \n",
       "336440 -151611.500000 -0.782884 -0.799613  0.693169   1.632717 -0.532928   \n",
       "308261 -151612.500000  0.211154 -1.790529  0.954432   1.546197 -0.340675   \n",
       "129263 -151613.500000 -0.779831  0.329673 -0.117612   0.531989 -0.732087   \n",
       "361111 -151614.500000  0.213975 -1.720837  0.697943   0.888751  0.416150   \n",
       "369605 -151615.500000  0.209673 -1.734765  0.714444   0.905581  0.371573   \n",
       "809346 -151616.500000  1.215118 -1.544359  0.053696  -0.543328 -0.308653   \n",
       "\n",
       "               6         7         8         9  \n",
       "608627  0.409963 -0.283732 -0.145990 -0.853003  \n",
       "456977 -0.907316  0.403185  0.561468  2.084377  \n",
       "803801 -0.034730 -0.467619  0.340280 -0.236515  \n",
       "926708  3.029185 -4.867664 -0.784345 -0.433363  \n",
       "129279  1.715365  2.286157 -1.691611  0.165336  \n",
       "951335  0.370145 -0.447158  0.256960 -0.097978  \n",
       "655372  0.040769 -1.644357 -1.196110  0.427220  \n",
       "632636 -0.757219  1.325200 -0.197307  1.465430  \n",
       "397220  0.031413 -0.140495  0.182254 -0.678122  \n",
       "412260 -0.158668  0.635052 -0.405478  1.765080  \n",
       "913023 -0.789495  0.115662  0.608697  1.226635  \n",
       "193954 -0.577103 -0.003558  0.225530  0.360639  \n",
       "770346  0.487595 -1.138813 -1.488644  0.435542  \n",
       "249317 -0.879947 -0.383199 -0.385382 -0.262470  \n",
       "831748  0.566940  0.149342 -0.380287  0.424117  \n",
       "20132  -0.470951 -0.171997  1.310957 -0.597400  \n",
       "161090 -0.322847  0.498604  0.213913  0.086114  \n",
       "223589 -0.589830 -0.463385 -1.005745  1.530985  \n",
       "274120  1.881669  1.765711 -1.418794 -2.107772  \n",
       "537152 -1.182056  0.218755 -0.771344 -0.327161  \n",
       "255424 -0.155950 -0.028947 -0.160539  0.055740  \n",
       "407177 -0.464416 -0.747243  0.468929  2.631134  \n",
       "635566 -0.890042  1.022585  0.219058 -0.435851  \n",
       "175276 -0.164701 -1.548541 -1.176548  0.683975  \n",
       "972149  1.896782 -0.936009  0.479519 -0.862899  \n",
       "902815 -0.151812 -0.033762 -0.146013  0.060659  \n",
       "159302  0.335751  1.415143  0.401199 -0.652184  \n",
       "884232 -0.499167  0.106009 -0.092759  0.110042  \n",
       "590961  0.016899 -0.652494 -0.267697 -0.192337  \n",
       "419507  0.294991  1.186133 -0.580337 -1.241158  \n",
       "...          ...       ...       ...       ...  \n",
       "461807  0.670180  0.193230 -0.735151  1.070928  \n",
       "91981  -0.146314 -0.044249 -0.177469  0.058787  \n",
       "136611 -0.249413 -0.665092 -2.662997 -1.831177  \n",
       "106304 -0.992760 -0.283126  0.458336 -0.576821  \n",
       "117505  1.184112 -0.023560  0.009892 -0.483560  \n",
       "9929   -0.780554 -1.209815  0.887021 -1.002740  \n",
       "632255  1.751801 -0.114529 -0.829637 -0.264295  \n",
       "33405  -0.539562  0.243753 -1.086211  0.053544  \n",
       "776609 -0.152575  0.423897 -0.586571 -1.768543  \n",
       "713866  1.141927  0.067420  0.073424 -0.532558  \n",
       "463475  0.792856 -0.555218  0.262771  2.225354  \n",
       "386062 -0.146314 -0.044249 -0.177469  0.058787  \n",
       "347723 -0.136246 -0.071030 -0.196574  0.063000  \n",
       "194778 -0.418415  0.238385 -0.218683 -0.499519  \n",
       "609579  0.088508 -0.830288  0.624973 -2.047887  \n",
       "911738  0.140392  0.252366 -1.041436 -0.539692  \n",
       "934770  0.529717 -0.721160 -1.153233  0.241627  \n",
       "306800 -0.889248 -0.605940 -0.127525  0.080661  \n",
       "528245 -1.107920  1.008567  0.992479  2.114606  \n",
       "895092 -1.311574 -1.130412  0.729966 -0.537126  \n",
       "772584 -0.216515  0.549979  0.635126 -0.357355  \n",
       "618410  1.538571 -1.784268  0.050766  1.194826  \n",
       "703155 -0.242952 -0.738367 -0.901789  0.401521  \n",
       "506761  0.057390  0.572920 -0.781575  0.855876  \n",
       "336440 -0.322528  0.483244  0.203714  0.088904  \n",
       "308261  0.392111 -0.411316  0.305183 -0.080834  \n",
       "129263 -0.018458  2.194095  0.608765  0.807932  \n",
       "361111  0.725286  0.602557 -0.264601  0.347421  \n",
       "369605  0.076243 -0.766126  0.856610 -0.584606  \n",
       "809346 -0.866569  0.073498 -1.115025 -0.668514  \n",
       "\n",
       "[303234 rows x 10 columns]"
      ]
     },
     "execution_count": 16,
     "metadata": {},
     "output_type": "execute_result"
    }
   ],
   "source": [
    "pos_pca_df"
   ]
  },
  {
   "cell_type": "markdown",
   "metadata": {},
   "source": [
    "### Adding other features to POS dataframe"
   ]
  },
  {
   "cell_type": "code",
   "execution_count": 17,
   "metadata": {},
   "outputs": [],
   "source": [
    "pos_pca_df['score'] = df['score']\n",
    "pos_pca_df['ups'] = df['ups']\n",
    "pos_pca_df['downs'] = df['downs']\n",
    "pos_pca_df['count'] = df['comment'].apply(lambda x: len(x) )"
   ]
  },
  {
   "cell_type": "code",
   "execution_count": 18,
   "metadata": {},
   "outputs": [],
   "source": [
    "pca_added_df = pd.concat([df, pos_pca_df], axis=1)"
   ]
  },
  {
   "cell_type": "code",
   "execution_count": 14,
   "metadata": {},
   "outputs": [
    {
     "data": {
      "text/plain": [
       "10000"
      ]
     },
     "execution_count": 14,
     "metadata": {},
     "output_type": "execute_result"
    }
   ],
   "source": [
    "max(pca_added_df['count'])"
   ]
  },
  {
   "cell_type": "markdown",
   "metadata": {},
   "source": [
    "## EDA with text data"
   ]
  },
  {
   "cell_type": "code",
   "execution_count": 54,
   "metadata": {},
   "outputs": [],
   "source": [
    "pos_counts = [pos_loaded_df[x].sum() for x in pos_loaded_df.columns]"
   ]
  },
  {
   "cell_type": "code",
   "execution_count": 62,
   "metadata": {},
   "outputs": [
    {
     "name": "stdout",
     "output_type": "stream",
     "text": [
      "[45975277761, 87837.0, 267430.0, 244766.0, 307931.0, 480769.0, 128384.0, 221833.0, 72377.0, 172089.0, 290342.0, 141495.0, 145744.0, 26876.0, 62526.0, 48582.0, 79531.0, 7810.0, 49035.0, 12470.0, 71617.0, 231968.0, 5979.0, 11375.0, 46558.0, 15968.0, 20896.0, 12535.0, 4357.0, 2966.0, 6927.0, 16781.0, 1247.0, 1394.0, 96.0, 134.0, 54.0]\n",
      "Index(['Unnamed: 0', 'CC', 'PRP', 'RB', 'IN', 'NN', 'VBZ', 'JJ', 'TO', 'VB',\n",
      "       'DT', 'VBP', 'NNS', 'WRB', 'MD', 'VBN', 'VBD', 'JJS', 'PRP$', 'JJR',\n",
      "       'VBG', 'NNP', 'RBR', 'POS', 'CD', 'UH', 'WP', 'WDT', 'PDT', 'NNPS',\n",
      "       'EX', 'RP', 'FW', 'RBS', 'WP$', 'SYM', 'LS'],\n",
      "      dtype='object')\n"
     ]
    }
   ],
   "source": [
    "print(pos_counts)\n",
    "print(pos_loaded_df.columns)"
   ]
  },
  {
   "cell_type": "code",
   "execution_count": 22,
   "metadata": {},
   "outputs": [
    {
     "data": {
      "text/plain": [
       "<matplotlib.axes._subplots.AxesSubplot at 0x1ff41f0cc18>"
      ]
     },
     "execution_count": 22,
     "metadata": {},
     "output_type": "execute_result"
    },
    {
     "data": {
      "image/png": "[encoded data removed]",
      "text/plain": [
       "<Figure size 432x288 with 1 Axes>"
      ]
     },
     "metadata": {
      "needs_background": "light"
     },
     "output_type": "display_data"
    }
   ],
   "source": [
    "sns.scatterplot(pca_added_df['count'], pca_added_df['count'])\n",
    "# So we have around 8 outliers in counts"
   ]
  },
  {
   "cell_type": "code",
   "execution_count": 24,
   "metadata": {},
   "outputs": [],
   "source": [
    "# Removing those outliers\n",
    "pca_added_df = pca_added_df[pca_added_df['count']<3000]"
   ]
  },
  {
   "cell_type": "code",
   "execution_count": 38,
   "metadata": {},
   "outputs": [
    {
     "data": {
      "text/plain": [
       "<matplotlib.axes._subplots.AxesSubplot at 0x1ff3937bef0>"
      ]
     },
     "execution_count": 38,
     "metadata": {},
     "output_type": "execute_result"
    },
    {
     "data": {
      "image/png": "[encoded data removed]",
      "text/plain": [
       "<Figure size 432x288 with 1 Axes>"
      ]
     },
     "metadata": {
      "needs_background": "light"
     },
     "output_type": "display_data"
    }
   ],
   "source": [
    "sns.scatterplot(pca_added_df['count'], pca_added_df['count'])"
   ]
  },
  {
   "cell_type": "code",
   "execution_count": 27,
   "metadata": {},
   "outputs": [
    {
     "data": {
      "text/plain": [
       "(array([3.01761e+05, 1.38500e+03, 5.10000e+01, 1.00000e+01, 5.00000e+00,\n",
       "        4.00000e+00, 1.00000e+00, 1.00000e+00, 0.00000e+00, 4.00000e+00]),\n",
       " array([1.000e+00, 2.480e+02, 4.950e+02, 7.420e+02, 9.890e+02, 1.236e+03,\n",
       "        1.483e+03, 1.730e+03, 1.977e+03, 2.224e+03, 2.471e+03]),\n",
       " <a list of 10 Patch objects>)"
      ]
     },
     "execution_count": 27,
     "metadata": {},
     "output_type": "execute_result"
    },
    {
     "data": {
      "image/png": "[encoded data removed]",
      "text/plain": [
       "<Figure size 432x288 with 1 Axes>"
      ]
     },
     "metadata": {
      "needs_background": "light"
     },
     "output_type": "display_data"
    }
   ],
   "source": [
    "plt.hist(pca_added_df['count'])"
   ]
  },
  {
   "cell_type": "code",
   "execution_count": 28,
   "metadata": {},
   "outputs": [
    {
     "data": {
      "text/plain": [
       "count    160473.000000\n",
       "mean          1.889552\n",
       "std           2.317549\n",
       "min           1.000000\n",
       "25%           1.000000\n",
       "50%           1.000000\n",
       "75%           2.000000\n",
       "max         281.000000\n",
       "Name: author, dtype: float64"
      ]
     },
     "execution_count": 28,
     "metadata": {},
     "output_type": "execute_result"
    }
   ],
   "source": [
    "author_sentences = pca_added_df.groupby('author')['author'].count()\n",
    "author_sentences.describe()"
   ]
  },
  {
   "cell_type": "code",
   "execution_count": 43,
   "metadata": {
    "scrolled": false
   },
   "outputs": [
    {
     "data": {
      "image/png": "[encoded data removed]",
      "text/plain": [
       "<Figure size 1440x720 with 1 Axes>"
      ]
     },
     "metadata": {
      "needs_background": "light"
     },
     "output_type": "display_data"
    }
   ],
   "source": [
    "fig, ax = plt.subplots(1,1, figsize=(20,10))\n",
    "fig=sns.countplot(author_sentences, ax=ax)\n",
    "plt.title(\"Count of number of comments for authors\")\n",
    "for item in fig.get_xticklabels():\n",
    "    item.set_rotation(90)"
   ]
  },
  {
   "cell_type": "markdown",
   "metadata": {},
   "source": [
    "Most authors have 1 comment in the dataset so we can expect to have difference in the way of sarcasm."
   ]
  },
  {
   "cell_type": "markdown",
   "metadata": {},
   "source": [
    "Converting text data into Tfidf Vector."
   ]
  },
  {
   "cell_type": "code",
   "execution_count": 15,
   "metadata": {},
   "outputs": [],
   "source": [
    "tfidf_vectorizer = TfidfVectorizer(lowercase=True, stop_words='english', min_df=0.0, max_df=1.0, ngram_range=(1,4))\n",
    "tfidf_text_vector = tfidf_vectorizer.fit_transform(df['comment'])"
   ]
  },
  {
   "cell_type": "markdown",
   "metadata": {},
   "source": [
    "Using Latent Dirichlet Allocation to reduce dimensionality of tfidf vector."
   ]
  },
  {
   "cell_type": "code",
   "execution_count": 16,
   "metadata": {},
   "outputs": [
    {
     "name": "stderr",
     "output_type": "stream",
     "text": [
      "C:\\Users\\vivek\\Anaconda3\\lib\\site-packages\\sklearn\\decomposition\\online_lda.py:796: RuntimeWarning: overflow encountered in exp\n",
      "  return np.exp(-1.0 * perword_bound)\n"
     ]
    }
   ],
   "source": [
    "lda = LatentDirichletAllocation(n_components=500)\n",
    "tfidf_lda = lda.fit_transform(tfidf_text_vector)"
   ]
  },
  {
   "cell_type": "code",
   "execution_count": 46,
   "metadata": {},
   "outputs": [],
   "source": [
    "Y=df['label']"
   ]
  },
  {
   "cell_type": "markdown",
   "metadata": {},
   "source": [
    "Doing train-test split for validation"
   ]
  },
  {
   "cell_type": "code",
   "execution_count": 18,
   "metadata": {},
   "outputs": [],
   "source": [
    "X_train, X_test, Y_train, Y_test = train_test_split(tfidf_lda, Y)"
   ]
  },
  {
   "cell_type": "code",
   "execution_count": 47,
   "metadata": {},
   "outputs": [],
   "source": [
    "X_train_pos, X_test_pos, Y_train_pos, Y_test_pos = train_test_split(pos_pca_df, Y)"
   ]
  },
  {
   "cell_type": "markdown",
   "metadata": {},
   "source": [
    "## Supervised Learning"
   ]
  },
  {
   "cell_type": "markdown",
   "metadata": {},
   "source": [
    "### RandomForestClassifier with tfidf vector"
   ]
  },
  {
   "cell_type": "code",
   "execution_count": 20,
   "metadata": {},
   "outputs": [
    {
     "name": "stdout",
     "output_type": "stream",
     "text": [
      "Train data score:  0.5008508299439376\n",
      "Test data score:  0.5009959239668114\n"
     ]
    }
   ],
   "source": [
    "rfc = RandomForestClassifier(n_estimators=100, max_depth=3, random_state=30)\n",
    "rfc.fit(X_train, Y_train)\n",
    "print(\"Train data score: \", rfc.score(X_train, Y_train))\n",
    "print(\"Test data score: \", rfc.score(X_test, Y_test))"
   ]
  },
  {
   "cell_type": "markdown",
   "metadata": {},
   "source": [
    "### RandomForestClassifier with POS dataframe"
   ]
  },
  {
   "cell_type": "code",
   "execution_count": 48,
   "metadata": {},
   "outputs": [
    {
     "name": "stdout",
     "output_type": "stream",
     "text": [
      "Train data score:  0.5774607013301088\n",
      "Test data score:  0.5757891543220462\n"
     ]
    }
   ],
   "source": [
    "rfc = RandomForestClassifier(n_estimators=100, max_depth=3, random_state=30)\n",
    "rfc.fit(X_train_pos, Y_train_pos)\n",
    "print(\"Train data score: \", rfc.score(X_train_pos, Y_train_pos))\n",
    "print(\"Test data score: \", rfc.score(X_test_pos, Y_test_pos))"
   ]
  },
  {
   "cell_type": "markdown",
   "metadata": {},
   "source": [
    "### GradientBoostingClassifier with tfidf vector"
   ]
  },
  {
   "cell_type": "code",
   "execution_count": 23,
   "metadata": {},
   "outputs": [
    {
     "name": "stdout",
     "output_type": "stream",
     "text": [
      "Train data score:  0.5017742112784435\n",
      "Test data score:  0.500850822461713\n"
     ]
    }
   ],
   "source": [
    "gbc = GradientBoostingClassifier(learning_rate=0.3)\n",
    "gbc.fit(X_train, Y_train)\n",
    "print(\"Train data score: \", gbc.score(X_train, Y_train))\n",
    "print(\"Test data score: \", gbc.score(X_test, Y_test))"
   ]
  },
  {
   "cell_type": "markdown",
   "metadata": {},
   "source": [
    "### GradientBoostingClassifier with POS dataframe"
   ]
  },
  {
   "cell_type": "code",
   "execution_count": 49,
   "metadata": {},
   "outputs": [
    {
     "name": "stdout",
     "output_type": "stream",
     "text": [
      "Train data score:  0.6020490271518083\n",
      "Test data score:  0.593267290163437\n"
     ]
    }
   ],
   "source": [
    "gbc = GradientBoostingClassifier(learning_rate=0.3)\n",
    "gbc.fit(X_train_pos, Y_train_pos)\n",
    "print(\"Train data score: \", gbc.score(X_train_pos, Y_train_pos))\n",
    "print(\"Test data score: \", gbc.score(X_test_pos, Y_test_pos))"
   ]
  },
  {
   "cell_type": "markdown",
   "metadata": {},
   "source": [
    "### LogisticRegression with tfidf vector"
   ]
  },
  {
   "cell_type": "code",
   "execution_count": 25,
   "metadata": {},
   "outputs": [
    {
     "name": "stderr",
     "output_type": "stream",
     "text": [
      "C:\\Users\\vivek\\Anaconda3\\lib\\site-packages\\sklearn\\linear_model\\logistic.py:433: FutureWarning: Default solver will be changed to 'lbfgs' in 0.22. Specify a solver to silence this warning.\n",
      "  FutureWarning)\n"
     ]
    },
    {
     "name": "stdout",
     "output_type": "stream",
     "text": [
      "Train data score:  0.5004419039243707\n",
      "Test data score:  0.5009827329208933\n"
     ]
    }
   ],
   "source": [
    "lrc = LogisticRegression(penalty='l1')\n",
    "lrc.fit(X_train, Y_train)\n",
    "print(\"Train data score: \", lrc.score(X_train, Y_train))\n",
    "print(\"Test data score: \", lrc.score(X_test, Y_test))"
   ]
  },
  {
   "cell_type": "markdown",
   "metadata": {},
   "source": [
    "### LogisticRegression with POS dataframe"
   ]
  },
  {
   "cell_type": "code",
   "execution_count": 50,
   "metadata": {},
   "outputs": [
    {
     "name": "stderr",
     "output_type": "stream",
     "text": [
      "C:\\Users\\vivek\\Anaconda3\\lib\\site-packages\\sklearn\\linear_model\\logistic.py:433: FutureWarning: Default solver will be changed to 'lbfgs' in 0.22. Specify a solver to silence this warning.\n",
      "  FutureWarning)\n"
     ]
    },
    {
     "name": "stdout",
     "output_type": "stream",
     "text": [
      "Train data score:  0.5322457953171376\n",
      "Test data score:  0.5330765476394623\n"
     ]
    }
   ],
   "source": [
    "lrc = LogisticRegression(penalty='l2')\n",
    "lrc.fit(X_train_pos, Y_train_pos)\n",
    "print(\"Train data score: \", lrc.score(X_train_pos, Y_train_pos))\n",
    "print(\"Test data score: \", lrc.score(X_test_pos, Y_test_pos))"
   ]
  },
  {
   "cell_type": "code",
   "execution_count": 73,
   "metadata": {},
   "outputs": [],
   "source": [
    "features = [50, 100, 500, 1000, 5000, 10000, 50000]\n",
    "rfc_train_score = []\n",
    "rfc_test_score = []\n",
    "rfc_train_error = []\n",
    "rfc_test_error = []\n",
    "gbc_train_score = []\n",
    "gbc_test_score = []\n",
    "gbc_train_error = []\n",
    "gbc_test_error = []\n",
    "lrc_train_score = []\n",
    "lrc_test_score = []\n",
    "lrc_train_error = []\n",
    "lrc_test_error = []\n",
    "\n",
    "for x in features:\n",
    "    \n",
    "    tfidf_vectorizer = TfidfVectorizer(lowercase=True, stop_words='english', min_df=0.0, max_df=1.0, ngram_range=(1,4), max_features=x)\n",
    "    tfidf_text_vector = tfidf_vectorizer.fit_transform(df['comment'])\n",
    "    \n",
    "    X = tfidf_text_vector\n",
    "    Y = df['label']\n",
    "    X_train, X_test, Y_train, Y_test = train_test_split(X, Y)\n",
    "    \n",
    "    \n",
    "    rfc = RandomForestClassifier(n_estimators=100, max_depth=3, random_state=30)\n",
    "    rfc.fit(X_train, Y_train)\n",
    "    rfc_train_score.append(rfc.score(X_train, Y_train))\n",
    "    rfc_test_score.append(rfc.score(X_test, Y_test))\n",
    "    y_pred_train = rfc.predict(X_train)\n",
    "    y_pred_test = rfc.predict(X_test)\n",
    "    rfc_train_error.append(mean_squared_error(Y_train, y_pred_train))\n",
    "    rfc_test_error.append(mean_squared_error(Y_test, y_pred_test))\n",
    "    \n",
    "    \n",
    "    gbc = GradientBoostingClassifier(learning_rate=0.3)\n",
    "    gbc.fit(X_train, Y_train)\n",
    "    gbc_train_score.append(gbc.score(X_train, Y_train))\n",
    "    gbc_test_score.append(gbc.score(X_test, Y_test))\n",
    "    y_pred_train = gbc.predict(X_train)\n",
    "    y_pred_test = gbc.predict(X_test)\n",
    "    gbc_train_error.append(mean_squared_error(Y_train, y_pred_train))\n",
    "    gbc_test_error.append(mean_squared_error(Y_test, y_pred_test))\n",
    "    \n",
    "    \n",
    "    lrc = LogisticRegression(penalty='l1', solver='liblinear')\n",
    "    lrc.fit(X_train, Y_train)\n",
    "    lrc_train_score.append(lrc.score(X_train, Y_train))\n",
    "    lrc_test_score.append(lrc.score(X_test, Y_test))\n",
    "    y_pred_train = lrc.predict(X_train)\n",
    "    y_pred_test = lrc.predict(X_test)\n",
    "    lrc_train_error.append(mean_squared_error(Y_train, y_pred_train))\n",
    "    lrc_test_error.append(mean_squared_error(Y_test, y_pred_test))"
   ]
  },
  {
   "cell_type": "code",
   "execution_count": 74,
   "metadata": {},
   "outputs": [],
   "source": [
    "plt.style.use('ggplot')\n",
    "plt.style.use('seaborn')"
   ]
  },
  {
   "cell_type": "markdown",
   "metadata": {},
   "source": [
    "### Random Forest Accuracy Graphs"
   ]
  },
  {
   "cell_type": "code",
   "execution_count": 75,
   "metadata": {},
   "outputs": [
    {
     "data": {
      "text/plain": [
       "Text(0, 0.5, 'Feature size')"
      ]
     },
     "execution_count": 75,
     "metadata": {},
     "output_type": "execute_result"
    },
    {
     "data": {
      "image/png": "[encoded data removed]",
      "text/plain": [
       "<Figure size 936x864 with 4 Axes>"
      ]
     },
     "metadata": {},
     "output_type": "display_data"
    }
   ],
   "source": [
    "fig, axes = plt.subplots(2,2, figsize=(13, 12))\n",
    "axes[0,0].plot(rfc_train_score, features, alpha=0.5)\n",
    "axes[0,0].scatter(rfc_train_score, features)\n",
    "axes[0,0].set_title(\"Random Forest Accuracy To Feature Size\")\n",
    "axes[0,0].set_xlabel(\"Accuracy\")\n",
    "axes[0,0].set_ylabel(\"Feature size\")\n",
    "axes[0,1].plot(rfc_train_error, features, alpha=0.5)\n",
    "axes[0,1].scatter(rfc_train_error, features)\n",
    "axes[0,1].set_title(\"Random Forest Error To Feature Size\")\n",
    "axes[0,1].set_xlabel(\"Error\")\n",
    "axes[0,1].set_ylabel(\"Feature size\")\n",
    "axes[1,0].plot(rfc_test_score, features, alpha=0.5)\n",
    "axes[1,0].scatter(rfc_test_score, features)\n",
    "axes[1,0].set_title(\"Random Forest Accuracy To Feature Size For Test Data\")\n",
    "axes[1,0].set_xlabel(\"Error\")\n",
    "axes[1,0].set_ylabel(\"Feature size\")\n",
    "axes[1,1].plot(rfc_test_error, features, alpha=0.5)\n",
    "axes[1,1].scatter(rfc_test_error, features)\n",
    "axes[1,1].set_title(\"Random Forest Error To Feature Size For Test Data\")\n",
    "axes[1,1].set_xlabel(\"Error\")\n",
    "axes[1,1].set_ylabel(\"Feature size\")"
   ]
  },
  {
   "cell_type": "markdown",
   "metadata": {},
   "source": [
    "### Gradient Boosting Accuracy Graphs"
   ]
  },
  {
   "cell_type": "code",
   "execution_count": 76,
   "metadata": {},
   "outputs": [
    {
     "data": {
      "text/plain": [
       "Text(0, 0.5, 'Feature size')"
      ]
     },
     "execution_count": 76,
     "metadata": {},
     "output_type": "execute_result"
    },
    {
     "data": {
      "image/png": "[encoded data removed]",
      "text/plain": [
       "<Figure size 1008x864 with 4 Axes>"
      ]
     },
     "metadata": {},
     "output_type": "display_data"
    }
   ],
   "source": [
    "fig, axes = plt.subplots(2,2, figsize=(14, 12))\n",
    "axes[0,0].plot(gbc_train_score, features, alpha=0.5)\n",
    "axes[0,0].scatter(gbc_train_score, features)\n",
    "axes[0,0].set_title(\"Gradient Boosting Accuracy To Feature Size\")\n",
    "axes[0,0].set_xlabel(\"Accuracy\")\n",
    "axes[0,0].set_ylabel(\"Feature size\")\n",
    "axes[0,1].plot(gbc_train_error, features, alpha=0.5)\n",
    "axes[0,1].scatter(gbc_train_error, features)\n",
    "axes[0,1].set_title(\"Gradient Boosting Error To Feature Size\")\n",
    "axes[0,1].set_xlabel(\"Error\")\n",
    "axes[0,1].set_ylabel(\"Feature size\")\n",
    "axes[1,0].plot(gbc_test_score, features, alpha=0.5)\n",
    "axes[1,0].scatter(gbc_test_score, features)\n",
    "axes[1,0].set_title(\"Gradient Boosting Accuracy To Feature Size For Test Data\")\n",
    "axes[1,0].set_xlabel(\"Error\")\n",
    "axes[1,0].set_ylabel(\"Feature size\")\n",
    "axes[1,1].plot(gbc_test_error, features, alpha=0.5)\n",
    "axes[1,1].scatter(gbc_test_error, features)\n",
    "axes[1,1].set_title(\"Gradient Boosting Error To Feature Size For Test Data\")\n",
    "axes[1,1].set_xlabel(\"Error\")\n",
    "axes[1,1].set_ylabel(\"Feature size\")"
   ]
  },
  {
   "cell_type": "markdown",
   "metadata": {},
   "source": [
    "### Logistic Regression Accuracy Graphs"
   ]
  },
  {
   "cell_type": "code",
   "execution_count": 77,
   "metadata": {},
   "outputs": [
    {
     "data": {
      "text/plain": [
       "Text(0, 0.5, 'Feature size')"
      ]
     },
     "execution_count": 77,
     "metadata": {},
     "output_type": "execute_result"
    },
    {
     "data": {
      "image/png": "[encoded data removed]",
      "text/plain": [
       "<Figure size 1008x864 with 4 Axes>"
      ]
     },
     "metadata": {},
     "output_type": "display_data"
    }
   ],
   "source": [
    "fig, axes = plt.subplots(2,2, figsize=(14, 12))\n",
    "axes[0,0].plot(lrc_train_score, features, alpha=0.5)\n",
    "axes[0,0].scatter(lrc_train_score, features)\n",
    "axes[0,0].set_title(\"Logistic Regression Accuracy To Feature Size\")\n",
    "axes[0,0].set_xlabel(\"Accuracy\")\n",
    "axes[0,0].set_ylabel(\"Feature size\")\n",
    "axes[0,1].plot(lrc_train_error, features, alpha=0.5)\n",
    "axes[0,1].scatter(lrc_train_error, features)\n",
    "axes[0,1].set_title(\"Logistic Regression Error To Feature Size\")\n",
    "axes[0,1].set_xlabel(\"Error\")\n",
    "axes[0,1].set_ylabel(\"Feature size\")\n",
    "axes[1,0].plot(lrc_test_score, features, alpha=0.5)\n",
    "axes[1,0].scatter(lrc_test_score, features)\n",
    "axes[1,0].set_title(\"Logistic Regression Accuracy To Feature Size For Test Data\")\n",
    "axes[1,0].set_xlabel(\"Error\")\n",
    "axes[1,0].set_ylabel(\"Feature size\")\n",
    "axes[1,1].plot(lrc_test_error, features, alpha=0.5)\n",
    "axes[1,1].scatter(lrc_test_error, features)\n",
    "axes[1,1].set_title(\"Logistic Regression Error To Feature Size For Test Data\")\n",
    "axes[1,1].set_xlabel(\"Error\")\n",
    "axes[1,1].set_ylabel(\"Feature size\")"
   ]
  },
  {
   "cell_type": "markdown",
   "metadata": {},
   "source": [
    "## Deep Learning"
   ]
  },
  {
   "cell_type": "code",
   "execution_count": 19,
   "metadata": {},
   "outputs": [],
   "source": [
    "deep_df = pca_added_df.sample(frac=0.2, random_state=42)"
   ]
  },
  {
   "cell_type": "markdown",
   "metadata": {},
   "source": [
    "### LSTM with comment"
   ]
  },
  {
   "cell_type": "code",
   "execution_count": 20,
   "metadata": {},
   "outputs": [],
   "source": [
    "text = deep_df['comment']\n",
    "text = text.apply(lambda x: x.lower() if type(x)=='str' else str(x))"
   ]
  },
  {
   "cell_type": "code",
   "execution_count": 21,
   "metadata": {},
   "outputs": [
    {
     "name": "stdout",
     "output_type": "stream",
     "text": [
      "145147     I'm sorry but at this point if you're being ca...\n",
      "796203              Sure I'm so worried about them right now\n",
      "44502      Just wait until your hormones kick in and you'...\n",
      "349806     Dry cigars are acceptable in a survival situat...\n",
      "832598                  she *IS* the younger one, after all.\n",
      "960035                     Yes, that is totally what I said.\n",
      "912863     Yes it was the Palestinians who crossed contin...\n",
      "700344                        OH yeah stigmata is sooo sexy!\n",
      "622606     Wow.. Americans really take care of their vete...\n",
      "288830        Saving this to repost on valentine's day 2017.\n",
      "598778     its really too bad Bryant screwed up, the way ...\n",
      "77109      If they get amnesty for running over pedestria...\n",
      "403977                                     We did it Reddit!\n",
      "740713                               Kettle Corn Master Race\n",
      "746133           You mustn't ever forget the Muller Corners!\n",
      "937517     I gave an easy one to remember not long in the...\n",
      "40664               Well except that guy who hit freddy rip.\n",
      "884069     Not easy to do what he's about to *cough*Tendu...\n",
      "412367                          Ron Swanson was never a baby\n",
      "776093     Perhaps education could be considered a natura...\n",
      "636519     That's 104 straight days, without time to eat,...\n",
      "150118     YOU SJWS DONT UNDERSTAND, IT'S NECESSARY BECAU...\n",
      "789882                          STEM Master race, represent!\n",
      "293271                                     **JohnsonRising**\n",
      "748412                                  The spice must flow.\n",
      "721921     Detonate, so if you throw it down and die, you...\n",
      "750248     I would definitely like to see them playing so...\n",
      "251091     She tried getting his patreon shut down, that'...\n",
      "943820                                         \"swag\" \"yolo\"\n",
      "312866          NPR was the absolute fucking worst for this.\n",
      "                                 ...                        \n",
      "401506     Now that the primaries are getting less white,...\n",
      "30319                        Fuck yeah love a good civil war\n",
      "828701     I don't think that might be a good idea, since...\n",
      "618246     I'm your peer, and I just reviewed your scienc...\n",
      "616442     Don't ya know, competitve match making is gonn...\n",
      "980652     Except the part where Presto doesn't use NFC, ...\n",
      "153529                                                 Knox.\n",
      "846700                                     That's Portuguese\n",
      "2684                                           Awesome photo\n",
      "1009035    Unless she's had any alcohol to drink and then...\n",
      "139210     i saw a guy jump off a bridge and found $100 t...\n",
      "277224             If only huma would've blown something....\n",
      "521540     You can get them for almost 100$ cheaper after...\n",
      "368774     If you can't hit the phones and you're interes...\n",
      "168395     Does this really need to be posted every time ...\n",
      "225599                           Niente vidi, niente sacciu.\n",
      "142836     Since there's only about 2 days a month when t...\n",
      "540478                             God is a Pakistani agent.\n",
      "281055                                         Cheezwozzers.\n",
      "361353           True fans would have made this bet in June!\n",
      "675315             No, that'd give the infil too much power.\n",
      "352786     It's because, like food, military tactics are ...\n",
      "248939        minigolf has more depth than league of legends\n",
      "634790                       hahahahahahahahah It's so funny\n",
      "679676                                          Nasa quenya.\n",
      "170087     I have a masters degree in physics, but I have...\n",
      "579249     I can see this working great for pizza vans on...\n",
      "310504                 Isn't it fun to pull useless R units?\n",
      "260580                             I need to watch more porn\n",
      "580266                               Me getting on the fp :(\n",
      "Name: comment, Length: 60647, dtype: object\n"
     ]
    }
   ],
   "source": [
    "print(text)"
   ]
  },
  {
   "cell_type": "markdown",
   "metadata": {},
   "source": [
    "Tokenizing the words with 40000 most common words. It's basically the vocabulary of our model."
   ]
  },
  {
   "cell_type": "code",
   "execution_count": 30,
   "metadata": {},
   "outputs": [],
   "source": [
    "batch_size = 40000\n",
    "tokenizer = Tokenizer(num_words=batch_size, split='(?u)\\b\\w\\w+\\b')\n",
    "tokenizer.fit_on_texts(text.values)\n",
    "X = tokenizer.texts_to_sequences(text.values)"
   ]
  },
  {
   "cell_type": "code",
   "execution_count": 31,
   "metadata": {},
   "outputs": [],
   "source": [
    "X = pad_sequences(X)"
   ]
  },
  {
   "cell_type": "code",
   "execution_count": 32,
   "metadata": {},
   "outputs": [
    {
     "data": {
      "text/plain": [
       "array([   0,    0,    0,    0,    0,    0,    0,    0,    0,    0,    0,\n",
       "          0,    0,    0,    0,    0,    0,    0,    0,    0,    0,    0,\n",
       "          0,    0,    0,    0,    0,    0,    0,    0,    0,    0,    0,\n",
       "          0,    0,    0,    0,    0,    0,    0,    0,    0,    0,    0,\n",
       "          0,    0,    0,    0,    0,    0,    0,    0,    0,    0,    0,\n",
       "          0,    0,    0,    0,    0,    0,    0,    0,    0,    0,    0,\n",
       "          0,    0,    0,    0,    0,    0,    0,    0,    0,    0,    0,\n",
       "          0,    0,    0,    0,    0,    0,    0,    0,    0,    0,    0,\n",
       "          0,    0,    0,    0,    0,    0,    0,    0,    0,    0,    0,\n",
       "          0,    0,    0,    0,    0,    0,    0,    0,    0,    0,    0,\n",
       "          0,    0,    0,    0,    0,    0,    0,    0,    0,    0,    0,\n",
       "          0,    0,    0,    0,    0,    0,    0,    0,    0,    0,    0,\n",
       "          0,    0,    0,    0,    0,    0,    0,    0,    0,    0,    0,\n",
       "          0,    0,    0,    0,    0,    0,    0,    0,    0,    0,    0,\n",
       "          0,    0,    0,    0,    0,    0,    0,    0,    0,    0,    0,\n",
       "          0,    0,    0,    0,    0,    0,    0,    0,    0,    0,    0,\n",
       "          0,    0,    0,    0,    0,    0,    0,    0,    0,    0,    0,\n",
       "          0,    0,    0,    0,    0,    0,    0,    0,    0,    0,    0,\n",
       "          0,    0,    0,    0,    0,    0,    0,    0,    0,    0,    0,\n",
       "          0,    0,    0,    0,    0,    0,    0,    0,    0,    0,    0,\n",
       "          0,    0,    0,    0,    0,    0,    0,    0,    0,    0,    0,\n",
       "          0,    0,    0,    0,    0,    0,    0,    0,    0,    0,    0,\n",
       "          0,    0,    0,    0,    0,    0,    0,    0,    0,    0,    0,\n",
       "          0,    0,    0,    0,    0,    0,    0,    0,    0,    0,    0,\n",
       "          0,    0,    0,    0,    0,    0,    0,    0,    0,    0,    0,\n",
       "          0,    0,    0,    0,    0,    0,    0,    0,    0,    0,    0,\n",
       "          0,    0,    0,    0,    0,    0, 2752])"
      ]
     },
     "execution_count": 32,
     "metadata": {},
     "output_type": "execute_result"
    }
   ],
   "source": [
    "X[0]"
   ]
  },
  {
   "cell_type": "code",
   "execution_count": 63,
   "metadata": {},
   "outputs": [
    {
     "ename": "AttributeError",
     "evalue": "'numpy.ndarray' object has no attribute 'to_numpy'",
     "output_type": "error",
     "traceback": [
      "\u001b[1;31m---------------------------------------------------------------------------\u001b[0m",
      "\u001b[1;31mAttributeError\u001b[0m                            Traceback (most recent call last)",
      "\u001b[1;32m<ipython-input-63-6e68cddca3ef>\u001b[0m in \u001b[0;36m<module>\u001b[1;34m\u001b[0m\n\u001b[0;32m      1\u001b[0m \u001b[1;31m# converting pos dataframe to numpy array\u001b[0m\u001b[1;33m\u001b[0m\u001b[1;33m\u001b[0m\u001b[1;33m\u001b[0m\u001b[0m\n\u001b[1;32m----> 2\u001b[1;33m \u001b[0mX_train_pos\u001b[0m\u001b[1;33m=\u001b[0m\u001b[0mX_train_pos\u001b[0m\u001b[1;33m.\u001b[0m\u001b[0mto_numpy\u001b[0m\u001b[1;33m(\u001b[0m\u001b[1;33m)\u001b[0m\u001b[1;33m\u001b[0m\u001b[1;33m\u001b[0m\u001b[0m\n\u001b[0m",
      "\u001b[1;31mAttributeError\u001b[0m: 'numpy.ndarray' object has no attribute 'to_numpy'"
     ]
    }
   ],
   "source": [
    "# converting pos dataframe to numpy array\n",
    "X_train_pos=X_train_pos.to_numpy()"
   ]
  },
  {
   "cell_type": "code",
   "execution_count": 34,
   "metadata": {},
   "outputs": [],
   "source": [
    "Y = deep_df['label']\n",
    "Y = to_categorical(Y)"
   ]
  },
  {
   "cell_type": "code",
   "execution_count": 35,
   "metadata": {},
   "outputs": [],
   "source": [
    "X_train, X_test, Y_train, Y_test = train_test_split(X, Y, random_state=87)"
   ]
  },
  {
   "cell_type": "code",
   "execution_count": 36,
   "metadata": {},
   "outputs": [
    {
     "name": "stderr",
     "output_type": "stream",
     "text": [
      "WARNING: Logging before flag parsing goes to stderr.\n",
      "W0723 21:58:33.918729 27252 deprecation_wrapper.py:119] From C:\\Users\\vivek\\Anaconda3\\lib\\site-packages\\keras\\backend\\tensorflow_backend.py:74: The name tf.get_default_graph is deprecated. Please use tf.compat.v1.get_default_graph instead.\n",
      "\n",
      "C:\\Users\\vivek\\Anaconda3\\lib\\site-packages\\ipykernel_launcher.py:4: UserWarning: The `dropout` argument is no longer support in `Embedding`. You can apply a `keras.layers.SpatialDropout1D` layer right after the `Embedding` layer to get the same behavior.\n",
      "  after removing the cwd from sys.path.\n",
      "W0723 21:58:34.040745 27252 deprecation_wrapper.py:119] From C:\\Users\\vivek\\Anaconda3\\lib\\site-packages\\keras\\backend\\tensorflow_backend.py:517: The name tf.placeholder is deprecated. Please use tf.compat.v1.placeholder instead.\n",
      "\n",
      "W0723 21:58:34.065050 27252 deprecation_wrapper.py:119] From C:\\Users\\vivek\\Anaconda3\\lib\\site-packages\\keras\\backend\\tensorflow_backend.py:4138: The name tf.random_uniform is deprecated. Please use tf.random.uniform instead.\n",
      "\n",
      "W0723 21:58:34.322837 27252 deprecation_wrapper.py:119] From C:\\Users\\vivek\\Anaconda3\\lib\\site-packages\\keras\\backend\\tensorflow_backend.py:133: The name tf.placeholder_with_default is deprecated. Please use tf.compat.v1.placeholder_with_default instead.\n",
      "\n",
      "W0723 21:58:34.328788 27252 deprecation.py:506] From C:\\Users\\vivek\\Anaconda3\\lib\\site-packages\\keras\\backend\\tensorflow_backend.py:3445: calling dropout (from tensorflow.python.ops.nn_ops) with keep_prob is deprecated and will be removed in a future version.\n",
      "Instructions for updating:\n",
      "Please use `rate` instead of `keep_prob`. Rate should be set to `rate = 1 - keep_prob`.\n"
     ]
    }
   ],
   "source": [
    "embed_dim=128\n",
    "lstm_out=256\n",
    "model = Sequential()\n",
    "model.add(Embedding(batch_size, embed_dim, input_length=X.shape[1], dropout=0.2))\n",
    "model.add(LSTM(lstm_out, dropout=0.2))\n",
    "model.add(Dense(2, activation='softmax'))"
   ]
  },
  {
   "cell_type": "code",
   "execution_count": 37,
   "metadata": {},
   "outputs": [
    {
     "name": "stdout",
     "output_type": "stream",
     "text": [
      "_________________________________________________________________\n",
      "Layer (type)                 Output Shape              Param #   \n",
      "=================================================================\n",
      "embedding_1 (Embedding)      (None, 293, 128)          5120000   \n",
      "_________________________________________________________________\n",
      "lstm_1 (LSTM)                (None, 256)               394240    \n",
      "_________________________________________________________________\n",
      "dense_1 (Dense)              (None, 2)                 514       \n",
      "=================================================================\n",
      "Total params: 5,514,754\n",
      "Trainable params: 5,514,754\n",
      "Non-trainable params: 0\n",
      "_________________________________________________________________\n"
     ]
    }
   ],
   "source": [
    "model.summary()"
   ]
  },
  {
   "cell_type": "code",
   "execution_count": 38,
   "metadata": {},
   "outputs": [
    {
     "name": "stderr",
     "output_type": "stream",
     "text": [
      "W0723 21:58:34.488517 27252 deprecation_wrapper.py:119] From C:\\Users\\vivek\\Anaconda3\\lib\\site-packages\\keras\\optimizers.py:790: The name tf.train.Optimizer is deprecated. Please use tf.compat.v1.train.Optimizer instead.\n",
      "\n",
      "W0723 21:58:34.512325 27252 deprecation_wrapper.py:119] From C:\\Users\\vivek\\Anaconda3\\lib\\site-packages\\keras\\backend\\tensorflow_backend.py:3295: The name tf.log is deprecated. Please use tf.math.log instead.\n",
      "\n"
     ]
    }
   ],
   "source": [
    "model.compile(loss='categorical_crossentropy', optimizer='adam', metrics=['accuracy'])"
   ]
  },
  {
   "cell_type": "code",
   "execution_count": 39,
   "metadata": {},
   "outputs": [
    {
     "name": "stderr",
     "output_type": "stream",
     "text": [
      "W0723 21:58:34.621148 27252 deprecation.py:323] From C:\\Users\\vivek\\AppData\\Roaming\\Python\\Python37\\site-packages\\tensorflow\\python\\ops\\math_grad.py:1250: add_dispatch_support.<locals>.wrapper (from tensorflow.python.ops.array_ops) is deprecated and will be removed in a future version.\n",
      "Instructions for updating:\n",
      "Use tf.where in 2.0, which has the same broadcast rule as np.where\n"
     ]
    },
    {
     "name": "stdout",
     "output_type": "stream",
     "text": [
      "Train on 45485 samples, validate on 15162 samples\n",
      "Epoch 1/10\n",
      "45485/45485 [==============================] - 586s 13ms/step - loss: 0.6911 - acc: 0.5186 - val_loss: 0.6862 - val_acc: 0.5354\n",
      "Epoch 2/10\n",
      "45485/45485 [==============================] - 695s 15ms/step - loss: 0.6592 - acc: 0.6775 - val_loss: 0.6835 - val_acc: 0.5505\n",
      "Epoch 3/10\n",
      "45485/45485 [==============================] - 1040s 23ms/step - loss: 0.5126 - acc: 0.7389 - val_loss: 0.6927 - val_acc: 0.5365\n",
      "Epoch 4/10\n",
      "45485/45485 [==============================] - 1232s 27ms/step - loss: 0.4182 - acc: 0.7533 - val_loss: 0.7124 - val_acc: 0.5483\n",
      "Epoch 5/10\n",
      "45485/45485 [==============================] - 1318s 29ms/step - loss: 0.3796 - acc: 0.7579 - val_loss: 0.7303 - val_acc: 0.5481\n",
      "Epoch 6/10\n",
      "45485/45485 [==============================] - 1376s 30ms/step - loss: 0.3688 - acc: 0.7579 - val_loss: 0.7444 - val_acc: 0.5464\n",
      "Epoch 7/10\n",
      "45485/45485 [==============================] - 1413s 31ms/step - loss: 0.3641 - acc: 0.7583 - val_loss: 0.7523 - val_acc: 0.5468\n",
      "Epoch 8/10\n",
      "45485/45485 [==============================] - 1437s 32ms/step - loss: 0.3625 - acc: 0.7557 - val_loss: 0.7589 - val_acc: 0.5485\n",
      "Epoch 9/10\n",
      "45485/45485 [==============================] - 1579s 35ms/step - loss: 0.3612 - acc: 0.7585 - val_loss: 0.7635 - val_acc: 0.5468\n",
      "Epoch 10/10\n",
      "45485/45485 [==============================] - 1591s 35ms/step - loss: 0.3597 - acc: 0.7612 - val_loss: 0.7695 - val_acc: 0.5469\n"
     ]
    },
    {
     "data": {
      "text/plain": [
       "<keras.callbacks.History at 0x27a28b90710>"
      ]
     },
     "execution_count": 39,
     "metadata": {},
     "output_type": "execute_result"
    }
   ],
   "source": [
    "model.fit(X_train, Y_train, epochs=10, batch_size=1000, validation_data=(X_test, Y_test))"
   ]
  },
  {
   "cell_type": "markdown",
   "metadata": {},
   "source": [
    "### Neural network with POS dataframe"
   ]
  },
  {
   "cell_type": "code",
   "execution_count": null,
   "metadata": {},
   "outputs": [],
   "source": [
    "embed_dim=128\n",
    "lstm_out=256\n",
    "model2 = Sequential()\n",
    "model2.add(Dense(200, batch_input_shape=(412, X_train_pos.shape[1], )))\n",
    "model2.add(Dropout(rate=0.2))\n",
    "model2.add(Dense(100, activation='relu'))\n",
    "model2.add(Dropout(rate=0.2))\n",
    "model2.add(Dense(50, activation='relu'))\n",
    "model2.add(Dense(1, activation='softmax'))\n",
    "model2.summary()"
   ]
  },
  {
   "cell_type": "code",
   "execution_count": 93,
   "metadata": {},
   "outputs": [],
   "source": [
    "model2.compile(loss='binary_crossentropy', optimizer='adam', metrics=['accuracy'])"
   ]
  },
  {
   "cell_type": "code",
   "execution_count": 94,
   "metadata": {},
   "outputs": [
    {
     "name": "stdout",
     "output_type": "stream",
     "text": [
      "Train on 303232 samples, validate on 75808 samples\n",
      "Epoch 1/5\n",
      "303232/303232 [==============================] - 3s 10us/step - loss: 7.9597 - acc: 0.5007 - val_loss: 7.9792 - val_acc: 0.4995\n",
      "Epoch 2/5\n",
      "303232/303232 [==============================] - 3s 9us/step - loss: 7.9597 - acc: 0.5007 - val_loss: 7.9792 - val_acc: 0.4995\n",
      "Epoch 3/5\n",
      "303232/303232 [==============================] - 3s 9us/step - loss: 7.9597 - acc: 0.5007 - val_loss: 7.9792 - val_acc: 0.4995\n",
      "Epoch 4/5\n",
      "303232/303232 [==============================] - 3s 9us/step - loss: 7.9597 - acc: 0.5007 - val_loss: 7.9792 - val_acc: 0.4995\n",
      "Epoch 5/5\n",
      "303232/303232 [==============================] - 3s 9us/step - loss: 7.9597 - acc: 0.5007 - val_loss: 7.9792 - val_acc: 0.4995\n"
     ]
    },
    {
     "data": {
      "text/plain": [
       "<keras.callbacks.History at 0x26898221e80>"
      ]
     },
     "execution_count": 94,
     "metadata": {},
     "output_type": "execute_result"
    }
   ],
   "source": [
    "model2.fit(X_train_pos, Y_train_pos, epochs=5, batch_size=412, validation_split=0.2)"
   ]
  },
  {
   "cell_type": "markdown",
   "metadata": {},
   "source": [
    "### LSTM with parent_comment and comment combined"
   ]
  },
  {
   "cell_type": "markdown",
   "metadata": {},
   "source": [
    "Previously we only used the column comment to get our features but we should also consider parent_comment as it has the context of next sentence. So new data will contain both the sentences seperated by a space. It will go through the same process but with bigger sentences."
   ]
  },
  {
   "cell_type": "code",
   "execution_count": 53,
   "metadata": {},
   "outputs": [],
   "source": [
    "all_text = deep_df['parent_comment'] + ' ' + deep_df['comment']\n",
    "all_text = all_text.apply(lambda x: x.lower() if type(x)=='str' else str(x))"
   ]
  },
  {
   "cell_type": "code",
   "execution_count": 54,
   "metadata": {},
   "outputs": [],
   "source": [
    "batch_size = 50000\n",
    "tokenizer = Tokenizer(num_words=batch_size, split='(?u)\\b\\w\\w+\\b')\n",
    "tokenizer.fit_on_texts(all_text.values)\n",
    "X = tokenizer.texts_to_sequences(all_text.values)"
   ]
  },
  {
   "cell_type": "code",
   "execution_count": 55,
   "metadata": {},
   "outputs": [],
   "source": [
    "X = pad_sequences(X)"
   ]
  },
  {
   "cell_type": "code",
   "execution_count": 57,
   "metadata": {},
   "outputs": [],
   "source": [
    "X_train, X_test, Y_train, Y_test = train_test_split(X, Y, random_state=87)"
   ]
  },
  {
   "cell_type": "code",
   "execution_count": 59,
   "metadata": {},
   "outputs": [
    {
     "name": "stderr",
     "output_type": "stream",
     "text": [
      "C:\\Users\\vivek\\Anaconda3\\lib\\site-packages\\ipykernel_launcher.py:4: UserWarning: The `dropout` argument is no longer support in `Embedding`. You can apply a `keras.layers.SpatialDropout1D` layer right after the `Embedding` layer to get the same behavior.\n",
      "  after removing the cwd from sys.path.\n"
     ]
    }
   ],
   "source": [
    "embed_dim=128\n",
    "lstm_out=256\n",
    "model = Sequential()\n",
    "model.add(Embedding(batch_size, embed_dim, input_length=X_train.shape[1], dropout=0.2))\n",
    "model.add(LSTM(lstm_out, dropout=0.2))\n",
    "model.add(Dense(2, activation='softmax'))"
   ]
  },
  {
   "cell_type": "code",
   "execution_count": 60,
   "metadata": {},
   "outputs": [],
   "source": [
    "model.compile(loss='categorical_crossentropy', optimizer='adam', metrics=['accuracy'])"
   ]
  },
  {
   "cell_type": "code",
   "execution_count": 62,
   "metadata": {},
   "outputs": [
    {
     "name": "stdout",
     "output_type": "stream",
     "text": [
      "Train on 45485 samples, validate on 15162 samples\n",
      "Epoch 1/10\n",
      "45485/45485 [==============================] - 4494s 99ms/step - loss: 0.6869 - acc: 0.5330 - val_loss: 0.6808 - val_acc: 0.5469\n",
      "Epoch 2/10\n",
      "45485/45485 [==============================] - 5595s 123ms/step - loss: 1.0866 - acc: 0.5311 - val_loss: 0.6894 - val_acc: 0.5069\n",
      "Epoch 3/10\n",
      "45485/45485 [==============================] - 5597s 123ms/step - loss: 0.6623 - acc: 0.6453 - val_loss: 0.6825 - val_acc: 0.5354\n",
      "Epoch 4/10\n",
      "45485/45485 [==============================] - 5628s 124ms/step - loss: 0.6183 - acc: 0.6620 - val_loss: 0.6982 - val_acc: 0.5382\n",
      "Epoch 5/10\n",
      "45485/45485 [==============================] - 5644s 124ms/step - loss: 0.5614 - acc: 0.6706 - val_loss: 0.7323 - val_acc: 0.5386\n",
      "Epoch 6/10\n",
      "45485/45485 [==============================] - 5639s 124ms/step - loss: 0.5249 - acc: 0.6748 - val_loss: 0.7792 - val_acc: 0.5313\n",
      "Epoch 7/10\n",
      "45485/45485 [==============================] - 5690s 125ms/step - loss: 0.5117 - acc: 0.6753 - val_loss: 0.7779 - val_acc: 0.5394\n",
      "Epoch 8/10\n",
      "45485/45485 [==============================] - 12009s 264ms/step - loss: 0.5006 - acc: 0.6787 - val_loss: 0.7995 - val_acc: 0.5262\n",
      "Epoch 9/10\n",
      "45485/45485 [==============================] - 6769s 149ms/step - loss: 0.4939 - acc: 0.6790 - val_loss: 0.8035 - val_acc: 0.5379\n",
      "Epoch 10/10\n",
      "45485/45485 [==============================] - 5689s 125ms/step - loss: 0.4903 - acc: 0.6816 - val_loss: 0.8230 - val_acc: 0.5305\n"
     ]
    },
    {
     "data": {
      "text/plain": [
       "<keras.callbacks.History at 0x27a1f76ccf8>"
      ]
     },
     "execution_count": 62,
     "metadata": {},
     "output_type": "execute_result"
    }
   ],
   "source": [
    "model.fit(X_train, Y_train, epochs=10, batch_size=500, validation_data=(X_test, Y_test))"
   ]
  },
  {
   "cell_type": "code",
   "execution_count": 25,
   "metadata": {},
   "outputs": [
    {
     "name": "stderr",
     "output_type": "stream",
     "text": [
      "C:\\Users\\vivek\\Anaconda3\\lib\\site-packages\\ipykernel_launcher.py:21: UserWarning: The `dropout` argument is no longer support in `Embedding`. You can apply a `keras.layers.SpatialDropout1D` layer right after the `Embedding` layer to get the same behavior.\n"
     ]
    },
    {
     "name": "stdout",
     "output_type": "stream",
     "text": [
      "Train on 45485 samples, validate on 15162 samples\n",
      "Epoch 1/10\n",
      "45485/45485 [==============================] - 231s 5ms/step - loss: 0.6907 - acc: 0.5235 - val_loss: 0.6842 - val_acc: 0.5373\n",
      "Epoch 2/10\n",
      "45485/45485 [==============================] - 229s 5ms/step - loss: 0.6793 - acc: 0.5391 - val_loss: 0.6784 - val_acc: 0.5377\n",
      "Epoch 3/10\n",
      "45485/45485 [==============================] - 230s 5ms/step - loss: 0.6765 - acc: 0.5394 - val_loss: 0.6780 - val_acc: 0.5379\n",
      "Epoch 4/10\n",
      "45485/45485 [==============================] - 229s 5ms/step - loss: 0.6759 - acc: 0.5392 - val_loss: 0.6777 - val_acc: 0.5380\n",
      "Epoch 5/10\n",
      "45485/45485 [==============================] - 227s 5ms/step - loss: 0.6755 - acc: 0.5398 - val_loss: 0.6787 - val_acc: 0.5379\n",
      "Epoch 6/10\n",
      "45485/45485 [==============================] - 225s 5ms/step - loss: 0.6757 - acc: 0.5417 - val_loss: 0.6776 - val_acc: 0.5380\n",
      "Epoch 7/10\n",
      "45485/45485 [==============================] - 223s 5ms/step - loss: 0.6754 - acc: 0.5414 - val_loss: 0.6778 - val_acc: 0.5377\n",
      "Epoch 8/10\n",
      "45485/45485 [==============================] - 169s 4ms/step - loss: 0.6755 - acc: 0.5418 - val_loss: 0.6778 - val_acc: 0.5379\n",
      "Epoch 9/10\n",
      "45485/45485 [==============================] - 127s 3ms/step - loss: 0.6755 - acc: 0.5415 - val_loss: 0.6777 - val_acc: 0.5378\n",
      "Epoch 10/10\n",
      "45485/45485 [==============================] - 127s 3ms/step - loss: 0.6753 - acc: 0.5420 - val_loss: 0.6777 - val_acc: 0.5381\n"
     ]
    },
    {
     "name": "stderr",
     "output_type": "stream",
     "text": [
      "C:\\Users\\vivek\\Anaconda3\\lib\\site-packages\\ipykernel_launcher.py:21: UserWarning: The `dropout` argument is no longer support in `Embedding`. You can apply a `keras.layers.SpatialDropout1D` layer right after the `Embedding` layer to get the same behavior.\n"
     ]
    },
    {
     "name": "stdout",
     "output_type": "stream",
     "text": [
      "Train on 45485 samples, validate on 15162 samples\n",
      "Epoch 1/10\n",
      "45485/45485 [==============================] - 651s 14ms/step - loss: 0.6885 - acc: 0.5249 - val_loss: 0.6829 - val_acc: 0.5115\n",
      "Epoch 2/10\n",
      "45485/45485 [==============================] - 775s 17ms/step - loss: 0.6735 - acc: 0.5498 - val_loss: 0.6730 - val_acc: 0.5497\n",
      "Epoch 3/10\n",
      "45485/45485 [==============================] - 890s 20ms/step - loss: 0.6661 - acc: 0.5563 - val_loss: 0.6724 - val_acc: 0.5489\n",
      "Epoch 4/10\n",
      "45485/45485 [==============================] - 922s 20ms/step - loss: 0.6645 - acc: 0.5561 - val_loss: 0.6721 - val_acc: 0.5503\n",
      "Epoch 5/10\n",
      "45485/45485 [==============================] - 937s 21ms/step - loss: 0.6637 - acc: 0.5568 - val_loss: 0.6728 - val_acc: 0.5500\n",
      "Epoch 6/10\n",
      "45485/45485 [==============================] - 1051s 23ms/step - loss: 0.6635 - acc: 0.5557 - val_loss: 0.6728 - val_acc: 0.5491\n",
      "Epoch 7/10\n",
      "45485/45485 [==============================] - 1031s 23ms/step - loss: 0.6653 - acc: 0.5531 - val_loss: 0.6743 - val_acc: 0.5479\n",
      "Epoch 8/10\n",
      "45485/45485 [==============================] - 1062s 23ms/step - loss: 0.6638 - acc: 0.5561 - val_loss: 0.6738 - val_acc: 0.5483\n",
      "Epoch 9/10\n",
      "45485/45485 [==============================] - 1049s 23ms/step - loss: 0.6633 - acc: 0.5562 - val_loss: 0.6737 - val_acc: 0.5486\n",
      "Epoch 10/10\n",
      "45485/45485 [==============================] - 1007s 22ms/step - loss: 0.6629 - acc: 0.5573 - val_loss: 0.6737 - val_acc: 0.5489\n"
     ]
    },
    {
     "name": "stderr",
     "output_type": "stream",
     "text": [
      "C:\\Users\\vivek\\Anaconda3\\lib\\site-packages\\ipykernel_launcher.py:21: UserWarning: The `dropout` argument is no longer support in `Embedding`. You can apply a `keras.layers.SpatialDropout1D` layer right after the `Embedding` layer to get the same behavior.\n"
     ]
    },
    {
     "name": "stdout",
     "output_type": "stream",
     "text": [
      "Train on 45485 samples, validate on 15162 samples\n",
      "Epoch 1/10\n",
      "45485/45485 [==============================] - 1038s 23ms/step - loss: 0.6898 - acc: 0.5268 - val_loss: 0.6820 - val_acc: 0.5440\n",
      "Epoch 2/10\n",
      "45485/45485 [==============================] - 962s 21ms/step - loss: 0.6656 - acc: 0.5736 - val_loss: 0.6715 - val_acc: 0.5555\n",
      "Epoch 3/10\n",
      "45485/45485 [==============================] - 957s 21ms/step - loss: 0.6560 - acc: 0.5795 - val_loss: 0.6811 - val_acc: 0.5288\n",
      "Epoch 4/10\n",
      "45485/45485 [==============================] - 956s 21ms/step - loss: 0.6325 - acc: 0.5824 - val_loss: 0.6805 - val_acc: 0.5551\n",
      "Epoch 5/10\n",
      "45485/45485 [==============================] - 958s 21ms/step - loss: 0.6233 - acc: 0.5886 - val_loss: 0.6881 - val_acc: 0.5563\n",
      "Epoch 6/10\n",
      "45485/45485 [==============================] - 953s 21ms/step - loss: 0.6197 - acc: 0.5872 - val_loss: 0.6949 - val_acc: 0.5566\n",
      "Epoch 7/10\n",
      "45485/45485 [==============================] - 951s 21ms/step - loss: 0.6175 - acc: 0.5875 - val_loss: 0.6999 - val_acc: 0.5554\n",
      "Epoch 8/10\n",
      "45485/45485 [==============================] - 954s 21ms/step - loss: 0.6160 - acc: 0.5868 - val_loss: 0.7046 - val_acc: 0.5557\n",
      "Epoch 9/10\n",
      "45485/45485 [==============================] - 953s 21ms/step - loss: 0.6147 - acc: 0.5871 - val_loss: 0.7101 - val_acc: 0.5560\n",
      "Epoch 10/10\n",
      "45485/45485 [==============================] - 953s 21ms/step - loss: 0.6140 - acc: 0.5884 - val_loss: 0.7121 - val_acc: 0.5559\n"
     ]
    },
    {
     "name": "stderr",
     "output_type": "stream",
     "text": [
      "C:\\Users\\vivek\\Anaconda3\\lib\\site-packages\\ipykernel_launcher.py:21: UserWarning: The `dropout` argument is no longer support in `Embedding`. You can apply a `keras.layers.SpatialDropout1D` layer right after the `Embedding` layer to get the same behavior.\n"
     ]
    },
    {
     "name": "stdout",
     "output_type": "stream",
     "text": [
      "Train on 45485 samples, validate on 15162 samples\n",
      "Epoch 1/10\n",
      "45485/45485 [==============================] - 956s 21ms/step - loss: 0.6914 - acc: 0.5173 - val_loss: 0.6860 - val_acc: 0.5400\n",
      "Epoch 2/10\n",
      "45485/45485 [==============================] - 941s 21ms/step - loss: 0.6382 - acc: 0.6866 - val_loss: 0.6860 - val_acc: 0.5379\n",
      "Epoch 3/10\n",
      "45485/45485 [==============================] - 936s 21ms/step - loss: 0.4673 - acc: 0.7861 - val_loss: 0.7147 - val_acc: 0.5400\n",
      "Epoch 4/10\n",
      "45485/45485 [==============================] - 1062s 23ms/step - loss: 0.3200 - acc: 0.8046 - val_loss: 0.7662 - val_acc: 0.5419\n",
      "Epoch 5/10\n",
      "45485/45485 [==============================] - 1049s 23ms/step - loss: 0.2966 - acc: 0.8068 - val_loss: 0.7731 - val_acc: 0.5433\n",
      "Epoch 6/10\n",
      "45485/45485 [==============================] - 1045s 23ms/step - loss: 0.2920 - acc: 0.8087 - val_loss: 0.7821 - val_acc: 0.5461\n",
      "Epoch 7/10\n",
      "45485/45485 [==============================] - 1067s 23ms/step - loss: 0.2886 - acc: 0.8093 - val_loss: 0.7905 - val_acc: 0.5433\n",
      "Epoch 8/10\n",
      "45485/45485 [==============================] - 1063s 23ms/step - loss: 0.2869 - acc: 0.8102 - val_loss: 0.7898 - val_acc: 0.5433\n",
      "Epoch 9/10\n",
      "45485/45485 [==============================] - 1040s 23ms/step - loss: 0.2870 - acc: 0.8075 - val_loss: 0.7850 - val_acc: 0.5444\n",
      "Epoch 10/10\n",
      "45485/45485 [==============================] - 1079s 24ms/step - loss: 0.2853 - acc: 0.8063 - val_loss: 0.7898 - val_acc: 0.5455\n"
     ]
    }
   ],
   "source": [
    "batch_size = [100, 500, 5000, 50000]\n",
    "lstm_train_acc = []\n",
    "lstm_test_acc = []\n",
    "lstm_train_err = []\n",
    "lstm_test_err = []\n",
    "\n",
    "for x in batch_size:\n",
    "    \n",
    "    tokenizer = Tokenizer(num_words=x, split='(?u)\\b\\w\\w+\\b')\n",
    "    tokenizer.fit_on_texts(text.values)\n",
    "    \n",
    "    X = tokenizer.texts_to_sequences(text.values)\n",
    "    X = pad_sequences(X)\n",
    "    Y = deep_df['label']\n",
    "    Y = to_categorical(Y)\n",
    "    X_train, X_test, Y_train, Y_test = train_test_split(X, Y, random_state=87)\n",
    "    \n",
    "    embed_dim=128\n",
    "    lstm_out=256\n",
    "    model = Sequential()\n",
    "    model.add(Embedding(x, embed_dim, input_length=X.shape[1], dropout=0.2))\n",
    "    model.add(LSTM(lstm_out, dropout=0.2))\n",
    "    model.add(Dense(2, activation='softmax'))\n",
    "    model.compile(loss='categorical_crossentropy', optimizer='adam', metrics=['accuracy'])\n",
    "    history = model.fit(X_train, Y_train, epochs=10, batch_size=1000, validation_data=(X_test, Y_test))\n",
    "    \n",
    "    lstm_train_acc.append(history.history['acc'])\n",
    "    lstm_test_acc.append(history.history['val_acc'])\n",
    "    lstm_train_err.append(history.history['loss'])\n",
    "    lstm_test_err.append(history.history['val_loss'])"
   ]
  },
  {
   "cell_type": "code",
   "execution_count": 27,
   "metadata": {},
   "outputs": [
    {
     "data": {
      "text/plain": [
       "0.5420028600664444"
      ]
     },
     "execution_count": 27,
     "metadata": {},
     "output_type": "execute_result"
    }
   ],
   "source": [
    "a=[]\n",
    "for i in "
   ]
  },
  {
   "cell_type": "markdown",
   "metadata": {},
   "source": [
    "# Conclusion \n",
    "\n",
    "In conclusion, deep learning is best performer with comments data which has accuracy of around 75% in training data and 56% in testing data. We can increase accuracy by adding more vocabulary to the tokenizer but it takes more computational power to create and run such data."
   ]
  },
  {
   "cell_type": "code",
   "execution_count": null,
   "metadata": {},
   "outputs": [],
   "source": []
  }
 ],
 "metadata": {
  "kernelspec": {
   "display_name": "Python 3",
   "language": "python",
   "name": "python3"
  },
  "language_info": {
   "codemirror_mode": {
    "name": "ipython",
    "version": 3
   },
   "file_extension": ".py",
   "mimetype": "text/x-python",
   "name": "python",
   "nbconvert_exporter": "python",
   "pygments_lexer": "ipython3",
   "version": "3.7.3"
  }
 },
 "nbformat": 4,
 "nbformat_minor": 2
}
