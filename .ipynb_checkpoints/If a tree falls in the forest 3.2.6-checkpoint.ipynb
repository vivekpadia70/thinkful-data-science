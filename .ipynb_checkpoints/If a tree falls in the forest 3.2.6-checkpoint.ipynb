{
 "cells": [
  {
   "cell_type": "code",
   "execution_count": 1,
   "metadata": {},
   "outputs": [],
   "source": [
    "import pandas as pd\n",
    "import numpy as np\n",
    "import matplotlib.pyplot as plt\n",
    "from sklearn import tree\n",
    "from sklearn import ensemble\n",
    "from sklearn.model_selection import cross_val_score\n",
    "from sklearn.preprocessing import StandardScaler\n",
    "from sklearn.decomposition import PCA\n",
    "from sklearn.metrics import classification_report, confusion_matrix\n",
    "import seaborn as sns\n",
    "import time\n",
    "%matplotlib inline"
   ]
  },
  {
   "cell_type": "markdown",
   "metadata": {},
   "source": [
    "we will be using MNIST image dataset for comparing two models."
   ]
  },
  {
   "cell_type": "code",
   "execution_count": 2,
   "metadata": {},
   "outputs": [],
   "source": [
    "df_train = pd.read_csv('C:/Users/vivek/Downloads/train.csv')\n",
    "df_test = pd.read_csv('C:/Users/vivek/Downloads/test.csv')"
   ]
  },
  {
   "cell_type": "markdown",
   "metadata": {},
   "source": [
    "## PCA"
   ]
  },
  {
   "cell_type": "code",
   "execution_count": 3,
   "metadata": {},
   "outputs": [
    {
     "name": "stdout",
     "output_type": "stream",
     "text": [
      "(42000, 784)\n",
      "(42000,)\n"
     ]
    }
   ],
   "source": [
    "pca = PCA(.95)\n",
    "X = df_train.drop('label', 1)\n",
    "Y = df_train['label']\n",
    "pca.fit(X)\n",
    "print(X.shape)\n",
    "print(Y.shape)"
   ]
  },
  {
   "cell_type": "code",
   "execution_count": 4,
   "metadata": {},
   "outputs": [],
   "source": [
    "df_train_pca = pca.transform(X)\n",
    "df_test_pca = pca.transform(df_test)"
   ]
  },
  {
   "cell_type": "code",
   "execution_count": 5,
   "metadata": {},
   "outputs": [
    {
     "name": "stdout",
     "output_type": "stream",
     "text": [
      "(42000, 154)\n",
      "(28000, 154)\n"
     ]
    }
   ],
   "source": [
    "print(df_train_pca.shape)\n",
    "print(df_test_pca.shape)"
   ]
  },
  {
   "cell_type": "markdown",
   "metadata": {},
   "source": [
    "Here, we used PCA with 95% of variance and it reduced feature size from 784 to 154. It means 154 features contains 95% knowledge of 784 features."
   ]
  },
  {
   "cell_type": "code",
   "execution_count": 6,
   "metadata": {},
   "outputs": [],
   "source": [
    "decision_tree = tree.DecisionTreeClassifier(criterion='entropy')"
   ]
  },
  {
   "cell_type": "markdown",
   "metadata": {},
   "source": [
    "## Decision Tree"
   ]
  },
  {
   "cell_type": "code",
   "execution_count": 7,
   "metadata": {},
   "outputs": [
    {
     "name": "stdout",
     "output_type": "stream",
     "text": [
      "--- 60.99534726142883 seconds ---\n",
      "Classification report: \n",
      "              precision    recall  f1-score   support\n",
      "\n",
      "           0       1.00      1.00      1.00      4132\n",
      "           1       1.00      1.00      1.00      4684\n",
      "           2       1.00      1.00      1.00      4177\n",
      "           3       1.00      1.00      1.00      4351\n",
      "           4       1.00      1.00      1.00      4072\n",
      "           5       1.00      1.00      1.00      3795\n",
      "           6       1.00      1.00      1.00      4137\n",
      "           7       1.00      1.00      1.00      4401\n",
      "           8       1.00      1.00      1.00      4063\n",
      "           9       1.00      1.00      1.00      4188\n",
      "\n",
      "   micro avg       1.00      1.00      1.00     42000\n",
      "   macro avg       1.00      1.00      1.00     42000\n",
      "weighted avg       1.00      1.00      1.00     42000\n",
      "\n",
      "Cross Validation: \n",
      "[0.83238231 0.8320647  0.82746311 0.827184   0.81642857 0.82614908\n",
      " 0.82019528 0.8208244  0.82411821 0.83031459]\n",
      "Confusion Matrix: \n",
      "[[4132    0    0    0    0    0    0    0    0    0]\n",
      " [   0 4684    0    0    0    0    0    0    0    0]\n",
      " [   0    0 4177    0    0    0    0    0    0    0]\n",
      " [   0    0    0 4351    0    0    0    0    0    0]\n",
      " [   0    0    0    0 4072    0    0    0    0    0]\n",
      " [   0    0    0    0    0 3795    0    0    0    0]\n",
      " [   0    0    0    0    0    0 4137    0    0    0]\n",
      " [   0    0    0    0    0    0    0 4401    0    0]\n",
      " [   0    0    0    0    0    0    0    0 4063    0]\n",
      " [   0    0    0    0    0    0    0    0    0 4188]]\n"
     ]
    }
   ],
   "source": [
    "start = time.time()\n",
    "decision_tree.fit(df_train_pca, Y)\n",
    "Y_pred = decision_tree.predict(df_train_pca)\n",
    "print(\"--- %s seconds ---\" % (time.time() - start))\n",
    "print(\"Classification report: \")\n",
    "print(classification_report(Y, Y_pred))\n",
    "print(\"Cross Validation: \")\n",
    "print(cross_val_score(decision_tree, df_train_pca, Y, cv=10))\n",
    "print(\"Confusion Matrix: \")\n",
    "print(confusion_matrix(Y, Y_pred))"
   ]
  },
  {
   "cell_type": "markdown",
   "metadata": {},
   "source": [
    "## Random Forest"
   ]
  },
  {
   "cell_type": "code",
   "execution_count": 8,
   "metadata": {},
   "outputs": [
    {
     "name": "stdout",
     "output_type": "stream",
     "text": [
      "--- 1.598703145980835 seconds ---\n",
      "Classification report: \n",
      "              precision    recall  f1-score   support\n",
      "\n",
      "           0       0.88      0.88      0.88      4132\n",
      "           1       0.96      0.97      0.97      4684\n",
      "           2       0.85      0.84      0.84      4177\n",
      "           3       0.85      0.84      0.85      4351\n",
      "           4       0.84      0.84      0.84      4072\n",
      "           5       0.81      0.82      0.81      3795\n",
      "           6       0.88      0.89      0.89      4137\n",
      "           7       0.88      0.89      0.89      4401\n",
      "           8       0.83      0.83      0.83      4063\n",
      "           9       0.85      0.84      0.84      4188\n",
      "\n",
      "   micro avg       0.87      0.87      0.87     42000\n",
      "   macro avg       0.86      0.86      0.86     42000\n",
      "weighted avg       0.87      0.87      0.87     42000\n",
      "\n",
      "Cross Validation: \n",
      "[0.63623395 0.61988582 0.66039981 0.61318734 0.64261905 0.61205049\n",
      " 0.63276971 0.58494162 0.59961868 0.62583413]\n",
      "Confusion Matrix: \n",
      "[[3645   17   67   70   27   75   94   38   57   42]\n",
      " [   8 4553   18    9   16   26   10   20   18    6]\n",
      " [  81   28 3499  101   77   77   86   66  106   56]\n",
      " [  72   20  130 3676   48  139   45   44  107   70]\n",
      " [  28   21   75   58 3414   57   76   90   83  170]\n",
      " [  83   25   55  163   58 3097   85   35  130   64]\n",
      " [  59   13   79   43   61   81 3693   24   50   34]\n",
      " [  33   27   59   68   94   39   25 3907   37  112]\n",
      " [  75   28   85   79   65  159   53   47 3391   81]\n",
      " [  35   11   51   51  192   77   23  146   83 3519]]\n"
     ]
    }
   ],
   "source": [
    "start = time.time()\n",
    "rfc = ensemble.RandomForestClassifier(n_estimators=1)\n",
    "rfc.fit(df_train_pca, Y)\n",
    "Y_pred = rfc.predict(df_train_pca)\n",
    "print(\"--- %s seconds ---\" % (time.time() - start))\n",
    "print(\"Classification report: \")\n",
    "print(classification_report(Y, Y_pred))\n",
    "print(\"Cross Validation: \")\n",
    "print(cross_val_score(rfc, df_train_pca, Y, cv=10))\n",
    "print(\"Confusion Matrix: \")\n",
    "print(confusion_matrix(Y, Y_pred))"
   ]
  },
  {
   "cell_type": "markdown",
   "metadata": {},
   "source": [
    "Random forest with n_estimators=1 is not as accurate as decision tree but let's check by increasing the number of n_estimators."
   ]
  },
  {
   "cell_type": "code",
   "execution_count": 9,
   "metadata": {},
   "outputs": [
    {
     "name": "stdout",
     "output_type": "stream",
     "text": [
      "--- 13.518974304199219 seconds ---\n",
      "Classification report: \n",
      "              precision    recall  f1-score   support\n",
      "\n",
      "           0       1.00      1.00      1.00      4132\n",
      "           1       1.00      1.00      1.00      4684\n",
      "           2       1.00      1.00      1.00      4177\n",
      "           3       1.00      1.00      1.00      4351\n",
      "           4       1.00      1.00      1.00      4072\n",
      "           5       1.00      1.00      1.00      3795\n",
      "           6       1.00      1.00      1.00      4137\n",
      "           7       1.00      1.00      1.00      4401\n",
      "           8       1.00      1.00      1.00      4063\n",
      "           9       1.00      1.00      1.00      4188\n",
      "\n",
      "   micro avg       1.00      1.00      1.00     42000\n",
      "   macro avg       1.00      1.00      1.00     42000\n",
      "weighted avg       1.00      1.00      1.00     42000\n",
      "\n",
      "Cross Validation: \n",
      "[0.87779363 0.88510942 0.88505474 0.87360152 0.88309524 0.87878066\n",
      " 0.87854251 0.87705504 0.88250715 0.88036225]\n",
      "Confusion Matrix: \n",
      "[[4132    0    0    0    0    0    0    0    0    0]\n",
      " [   0 4683    1    0    0    0    0    0    0    0]\n",
      " [   0    0 4176    0    0    0    0    0    1    0]\n",
      " [   0    0    4 4347    0    0    0    0    0    0]\n",
      " [   0    0    2    0 4068    0    1    0    0    1]\n",
      " [   1    0    0    4    1 3789    0    0    0    0]\n",
      " [   1    0    0    0    1    3 4132    0    0    0]\n",
      " [   0    2    1    0    1    0    0 4394    0    3]\n",
      " [   0    0    1    2    1    0    0    0 4059    0]\n",
      " [   2    0    1    1    3    1    0    2    0 4178]]\n"
     ]
    }
   ],
   "source": [
    "start = time.time()\n",
    "rfc = ensemble.RandomForestClassifier(n_estimators=10)\n",
    "rfc.fit(df_train_pca, Y)\n",
    "Y_pred = rfc.predict(df_train_pca)\n",
    "print(\"--- %s seconds ---\" % (time.time() - start))\n",
    "print(\"Classification report: \")\n",
    "print(classification_report(Y, Y_pred))\n",
    "print(\"Cross Validation: \")\n",
    "print(cross_val_score(rfc, df_train_pca, Y, cv=10))\n",
    "print(\"Confusion Matrix: \")\n",
    "print(confusion_matrix(Y, Y_pred))"
   ]
  },
  {
   "cell_type": "markdown",
   "metadata": {},
   "source": [
    "We see major difference in accuracy with increase of estimators from 1 to 10."
   ]
  },
  {
   "cell_type": "code",
   "execution_count": 10,
   "metadata": {},
   "outputs": [
    {
     "name": "stdout",
     "output_type": "stream",
     "text": [
      "--- 10.456046104431152 seconds ---\n",
      "Classification report: \n",
      "              precision    recall  f1-score   support\n",
      "\n",
      "           0       1.00      1.00      1.00      4132\n",
      "           1       1.00      1.00      1.00      4684\n",
      "           2       1.00      1.00      1.00      4177\n",
      "           3       1.00      1.00      1.00      4351\n",
      "           4       1.00      1.00      1.00      4072\n",
      "           5       1.00      1.00      1.00      3795\n",
      "           6       1.00      1.00      1.00      4137\n",
      "           7       1.00      1.00      1.00      4401\n",
      "           8       1.00      1.00      1.00      4063\n",
      "           9       1.00      1.00      1.00      4188\n",
      "\n",
      "   micro avg       1.00      1.00      1.00     42000\n",
      "   macro avg       1.00      1.00      1.00     42000\n",
      "weighted avg       1.00      1.00      1.00     42000\n",
      "\n",
      "Cross Validation: \n",
      "[0.91464574 0.91222645 0.91932413 0.92073316 0.91404762 0.91259824\n",
      " 0.91021672 0.91398618 0.91825548 0.91301239]\n",
      "Confusion Matrix: \n",
      "[[4132    0    0    0    0    0    0    0    0    0]\n",
      " [   0 4683    1    0    0    0    0    0    0    0]\n",
      " [   0    0 4177    0    0    0    0    0    0    0]\n",
      " [   0    0    0 4351    0    0    0    0    0    0]\n",
      " [   0    0    0    0 4071    0    1    0    0    0]\n",
      " [   0    0    0    0    0 3795    0    0    0    0]\n",
      " [   0    0    0    0    0    0 4137    0    0    0]\n",
      " [   0    1    0    0    0    0    0 4400    0    0]\n",
      " [   0    0    0    0    0    0    0    0 4063    0]\n",
      " [   0    0    0    0    1    0    0    0    0 4187]]\n"
     ]
    }
   ],
   "source": [
    "start = time.time()\n",
    "rfc = ensemble.RandomForestClassifier(n_estimators=20)\n",
    "rfc.fit(df_train_pca, Y)\n",
    "Y_pred = rfc.predict(df_train_pca)\n",
    "print(\"--- %s seconds ---\" % (time.time() - start))\n",
    "print(\"Classification report: \")\n",
    "print(classification_report(Y, Y_pred))\n",
    "print(\"Cross Validation: \")\n",
    "print(cross_val_score(rfc, df_train_pca, Y, cv=10))\n",
    "print(\"Confusion Matrix: \")\n",
    "print(confusion_matrix(Y, Y_pred))"
   ]
  },
  {
   "cell_type": "code",
   "execution_count": 11,
   "metadata": {},
   "outputs": [
    {
     "name": "stdout",
     "output_type": "stream",
     "text": [
      "--- 15.481579303741455 seconds ---\n",
      "Classification report: \n",
      "              precision    recall  f1-score   support\n",
      "\n",
      "           0       1.00      1.00      1.00      4132\n",
      "           1       1.00      1.00      1.00      4684\n",
      "           2       1.00      1.00      1.00      4177\n",
      "           3       1.00      1.00      1.00      4351\n",
      "           4       1.00      1.00      1.00      4072\n",
      "           5       1.00      1.00      1.00      3795\n",
      "           6       1.00      1.00      1.00      4137\n",
      "           7       1.00      1.00      1.00      4401\n",
      "           8       1.00      1.00      1.00      4063\n",
      "           9       1.00      1.00      1.00      4188\n",
      "\n",
      "   micro avg       1.00      1.00      1.00     42000\n",
      "   macro avg       1.00      1.00      1.00     42000\n",
      "weighted avg       1.00      1.00      1.00     42000\n",
      "\n",
      "Cross Validation: \n",
      "[0.92724679 0.92602284 0.92717753 0.92549393 0.92738095 0.92283877\n",
      " 0.92783996 0.92041935 0.93231649 0.9292183 ]\n",
      "Confusion Matrix: \n",
      "[[4132    0    0    0    0    0    0    0    0    0]\n",
      " [   0 4684    0    0    0    0    0    0    0    0]\n",
      " [   0    0 4177    0    0    0    0    0    0    0]\n",
      " [   0    0    0 4351    0    0    0    0    0    0]\n",
      " [   0    0    0    0 4072    0    0    0    0    0]\n",
      " [   0    0    0    0    0 3795    0    0    0    0]\n",
      " [   0    0    0    0    0    0 4137    0    0    0]\n",
      " [   0    0    0    0    0    0    0 4401    0    0]\n",
      " [   0    0    0    0    0    0    0    0 4063    0]\n",
      " [   0    0    0    0    0    0    0    0    0 4188]]\n"
     ]
    }
   ],
   "source": [
    "start = time.time()\n",
    "rfc = ensemble.RandomForestClassifier(n_estimators=30)\n",
    "rfc.fit(df_train_pca, Y)\n",
    "Y_pred = rfc.predict(df_train_pca)\n",
    "print(\"--- %s seconds ---\" % (time.time() - start))\n",
    "print(\"Classification report: \")\n",
    "print(classification_report(Y, Y_pred))\n",
    "print(\"Cross Validation: \")\n",
    "print(cross_val_score(rfc, df_train_pca, Y, cv=10))\n",
    "print(\"Confusion Matrix: \")\n",
    "print(confusion_matrix(Y, Y_pred))"
   ]
  },
  {
   "cell_type": "code",
   "execution_count": 12,
   "metadata": {},
   "outputs": [
    {
     "name": "stdout",
     "output_type": "stream",
     "text": [
      "--- 30.78776717185974 seconds ---\n",
      "Classification report: \n",
      "              precision    recall  f1-score   support\n",
      "\n",
      "           0       1.00      1.00      1.00      4132\n",
      "           1       1.00      1.00      1.00      4684\n",
      "           2       1.00      1.00      1.00      4177\n",
      "           3       1.00      1.00      1.00      4351\n",
      "           4       1.00      1.00      1.00      4072\n",
      "           5       1.00      1.00      1.00      3795\n",
      "           6       1.00      1.00      1.00      4137\n",
      "           7       1.00      1.00      1.00      4401\n",
      "           8       1.00      1.00      1.00      4063\n",
      "           9       1.00      1.00      1.00      4188\n",
      "\n",
      "   micro avg       1.00      1.00      1.00     42000\n",
      "   macro avg       1.00      1.00      1.00     42000\n",
      "weighted avg       1.00      1.00      1.00     42000\n",
      "\n",
      "Cross Validation: \n",
      "[0.93794579 0.93101808 0.93955259 0.93834801 0.94428571 0.93188854\n",
      " 0.93117409 0.93614487 0.94518589 0.94327931]\n",
      "Confusion Matrix: \n",
      "[[4132    0    0    0    0    0    0    0    0    0]\n",
      " [   0 4684    0    0    0    0    0    0    0    0]\n",
      " [   0    0 4177    0    0    0    0    0    0    0]\n",
      " [   0    0    0 4351    0    0    0    0    0    0]\n",
      " [   0    0    0    0 4072    0    0    0    0    0]\n",
      " [   0    0    0    0    0 3795    0    0    0    0]\n",
      " [   0    0    0    0    0    0 4137    0    0    0]\n",
      " [   0    0    0    0    0    0    0 4401    0    0]\n",
      " [   0    0    0    0    0    0    0    0 4063    0]\n",
      " [   0    0    0    0    0    0    0    0    0 4188]]\n"
     ]
    }
   ],
   "source": [
    "start = time.time()\n",
    "rfc = ensemble.RandomForestClassifier(n_estimators=60)\n",
    "rfc.fit(df_train_pca, Y)\n",
    "Y_pred = rfc.predict(df_train_pca)\n",
    "print(\"--- %s seconds ---\" % (time.time() - start))\n",
    "print(\"Classification report: \")\n",
    "print(classification_report(Y, Y_pred))\n",
    "print(\"Cross Validation: \")\n",
    "print(cross_val_score(rfc, df_train_pca, Y, cv=10))\n",
    "print(\"Confusion Matrix: \")\n",
    "print(confusion_matrix(Y, Y_pred))"
   ]
  },
  {
   "cell_type": "markdown",
   "metadata": {},
   "source": [
    "More number of estimators makes the random forest model more accurate than decision tree."
   ]
  },
  {
   "cell_type": "markdown",
   "metadata": {},
   "source": [
    "In conclusion we can say that random forest is faster than decision tree and it is more accurate."
   ]
  },
  {
   "cell_type": "code",
   "execution_count": null,
   "metadata": {},
   "outputs": [],
   "source": []
  }
 ],
 "metadata": {
  "kernelspec": {
   "display_name": "Python 3",
   "language": "python",
   "name": "python3"
  },
  "language_info": {
   "codemirror_mode": {
    "name": "ipython",
    "version": 3
   },
   "file_extension": ".py",
   "mimetype": "text/x-python",
   "name": "python",
   "nbconvert_exporter": "python",
   "pygments_lexer": "ipython3",
   "version": "3.7.3"
  }
 },
 "nbformat": 4,
 "nbformat_minor": 2
}
